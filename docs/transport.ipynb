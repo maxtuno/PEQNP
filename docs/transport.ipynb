{
 "metadata": {
  "language_info": {
   "codemirror_mode": {
    "name": "ipython",
    "version": 3
   },
   "file_extension": ".py",
   "mimetype": "text/x-python",
   "name": "python",
   "nbconvert_exporter": "python",
   "pygments_lexer": "ipython3",
   "version": "3.9.2-final"
  },
  "orig_nbformat": 2,
  "kernelspec": {
   "name": "python3",
   "display_name": "Python 3.9.2 64-bit ('venv': venv)",
   "metadata": {
    "interpreter": {
     "hash": "9a50724fcd75842d5e84afe3743b9cbaf343ae213a5db5cb5671c89410b1c802"
    }
   }
  }
 },
 "nbformat": 4,
 "nbformat_minor": 2,
 "cells": [
  {
   "source": [
    "# A Transportation Problem\n",
    "\n",
    "This problem finds a least cost shipping schedule that meets\n",
    "requirements at markets and supplies at factories.\n",
    "\n",
    "Dantzig, G B, Chapter 3.3. In Linear Programming and Extensions.\n",
    "Princeton University Press, Princeton, New Jersey, 1963."
   ],
   "cell_type": "markdown",
   "metadata": {}
  },
  {
   "cell_type": "code",
   "execution_count": 2,
   "metadata": {},
   "outputs": [
    {
     "output_type": "stream",
     "name": "stdout",
     "text": [
      "153.675\n[[50 300 0]\n [275 0 275]]\n"
     ]
    }
   ],
   "source": [
    "import numpy as np\n",
    "import peqnp as pn\n",
    "\n",
    "m, n = 2, 3\n",
    "\n",
    "# capacity of plant i in cases: seattle, san-diego\n",
    "a = np.asarray([350, 600])\n",
    "# demand at market j in cases: new-york, chicago, topeka\n",
    "b = np.asarray([325, 300, 275])\n",
    "# distance in thousands of miles\n",
    "d = np.asarray([[2.5, 1.7, 1.8], \n",
    "                [2.5, 1.8, 1.4]])\n",
    "# freight in dollars per case per thousand miles\n",
    "f = 90\n",
    "# transport cost in thousands of dollars per cas\n",
    "c = f * d / 1000\n",
    "\n",
    "pn.engine()\n",
    "\n",
    "x = np.asarray(pn.matrix(dimensions=(2, 3), is_mip=True))\n",
    "\n",
    "for i in range(m):\n",
    "    assert sum(x[i]) <= a[i]\n",
    "\n",
    "for j in range(n):\n",
    "    assert sum(x.T[j]) >= b[j]\n",
    "\n",
    "# total transportation costs in thousands of dollars\n",
    "print(pn.minimize((c * x).sum()))\n",
    "\n",
    "print(x)"
   ]
  },
  {
   "cell_type": "code",
   "execution_count": null,
   "metadata": {},
   "outputs": [],
   "source": []
  }
 ]
}