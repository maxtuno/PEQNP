{
  "nbformat": 4,
  "nbformat_minor": 0,
  "metadata": {
    "language_info": {
      "codemirror_mode": {
        "name": "ipython",
        "version": 3
      },
      "file_extension": ".py",
      "mimetype": "text/x-python",
      "name": "python",
      "nbconvert_exporter": "python",
      "pygments_lexer": "ipython3",
      "version": "3.9.2-final"
    },
    "orig_nbformat": 2,
    "kernelspec": {
      "name": "python3",
      "display_name": "Python 3.9.2 64-bit ('venv': venv)",
      "metadata": {
        "interpreter": {
          "hash": "9a50724fcd75842d5e84afe3743b9cbaf343ae213a5db5cb5671c89410b1c802"
        }
      }
    },
    "colab": {
      "name": "transport.ipynb",
      "provenance": []
    }
  },
  "cells": [
    {
      "cell_type": "markdown",
      "metadata": {
        "id": "rWL9czqNIDpV"
      },
      "source": [
        "# A Transportation Problem\n",
        "\n",
        "This problem finds a least cost shipping schedule that meets\n",
        "requirements at markets and supplies at factories.\n",
        "\n",
        "Dantzig, G B, Chapter 3.3. In Linear Programming and Extensions.\n",
        "Princeton University Press, Princeton, New Jersey, 1963."
      ]
    },
    {
      "cell_type": "code",
      "metadata": {
        "id": "JKXgrQyCIDpc"
      },
      "source": [
        "!pip install peqnp\n",
        "!pip install numpy"
      ],
      "execution_count": null,
      "outputs": []
    },
    {
      "cell_type": "code",
      "metadata": {
        "id": "ZLxmQBrqIKE-",
        "outputId": "b2642ea5-1dc8-4665-920c-0d9baa23e36a",
        "colab": {
          "base_uri": "https://localhost:8080/"
        }
      },
      "source": [
        "%%time\n",
        "import numpy as np\n",
        "import peqnp as pn\n",
        "\n",
        "m, n = 2, 3\n",
        "\n",
        "# capacity of plant i in cases: seattle, san-diego\n",
        "a = [350, 600]\n",
        "# demand at market j in cases: new-york, chicago, topeka\n",
        "b = [325, 300, 275]\n",
        "# distance in thousands of miles\n",
        "d = [[2.5, 1.7, 1.8], \n",
        "     [2.5, 1.8, 1.4]]\n",
        "# freight in dollars per case per thousand miles\n",
        "f = 90\n",
        "# transport cost in thousands of dollars per cas\n",
        "c = f * np.asarray(d) / 1000\n",
        "\n",
        "pn.engine()\n",
        "\n",
        "x = np.asarray(pn.matrix(dimensions=(2, 3), is_mip=True))\n",
        "\n",
        "for i in range(m):\n",
        "    assert sum(x[i]) <= a[i]\n",
        "\n",
        "for j in range(n):\n",
        "    assert sum(x.T[j]) >= b[j]\n",
        "\n",
        "# total transportation costs in thousands of dollars\n",
        "print(pn.minimize((c * x).sum()))\n",
        "\n",
        "print(x)"
      ],
      "execution_count": 7,
      "outputs": [
        {
          "output_type": "stream",
          "text": [
            "153.675\n",
            "[[50 300 0]\n",
            " [275 0 275]]\n",
            "CPU times: user 1.03 ms, sys: 1 µs, total: 1.03 ms\n",
            "Wall time: 974 µs\n"
          ],
          "name": "stdout"
        }
      ]
    },
    {
      "cell_type": "code",
      "metadata": {
        "id": "t4xF2Bc1IDpe"
      },
      "source": [
        ""
      ],
      "execution_count": null,
      "outputs": []
    }
  ]
}