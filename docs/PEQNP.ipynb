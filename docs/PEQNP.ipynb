{
  "nbformat": 4,
  "nbformat_minor": 0,
  "metadata": {
    "kernelspec": {
      "name": "python3",
      "display_name": "Python 3"
    },
    "colab": {
      "name": "PEQNP.ipynb",
      "provenance": []
    }
  },
  "cells": [
    {
      "cell_type": "markdown",
      "metadata": {
        "id": "71mQEXWm964S",
        "colab_type": "text"
      },
      "source": [
        "# PEQNP II Mathematical Programming Solver\n",
        "\n",
        "The PEQNP System its an automatic CNF and MIP encoder multi SAT and MIP Solver for General Constrained Diophantine Equations and NP-Complete Problems, full integrated with Python and zero dependencies.\n",
        "\n",
        "For more info visit [www.peqnp.com](http://www.peqnp.com)"
      ]
    },
    {
      "cell_type": "markdown",
      "metadata": {
        "id": "JzM69hBn964T",
        "colab_type": "text"
      },
      "source": [
        "# Installation\n",
        "[![Downloads](https://pepy.tech/badge/peqnp)](https://pepy.tech/project/peqnp)\n",
        "```python\n",
        "pip install PEQNP --upgrade\n",
        "```"
      ]
    },
    {
      "cell_type": "code",
      "metadata": {
        "id": "GMnjfDhU_EEc",
        "colab_type": "code",
        "colab": {}
      },
      "source": [
        "!pip install PEQNP --upgrade"
      ],
      "execution_count": 0,
      "outputs": []
    },
    {
      "cell_type": "markdown",
      "metadata": {
        "id": "aiWphw2k964V",
        "colab_type": "text"
      },
      "source": [
        "# Integer factorization\n",
        "\n",
        "In number theory, integer factorization is the decomposition of a composite number into a product of smaller integers. If these factors are further restricted to prime numbers, the process is called prime factorization."
      ]
    },
    {
      "cell_type": "code",
      "metadata": {
        "id": "7S96pDBk964W",
        "colab_type": "code",
        "outputId": "c399c938-1ab6-4cb5-cc1e-ae4f1835e44f",
        "colab": {
          "base_uri": "https://localhost:8080/",
          "height": 131
        }
      },
      "source": [
        "import peqnp as pn\n",
        "\n",
        "rsa = 3007\n",
        "\n",
        "pn.engine(rsa.bit_length(), info=True)\n",
        "\n",
        "p = pn.integer()\n",
        "q = pn.integer()\n",
        "\n",
        "assert p * q == rsa\n",
        "\n",
        "while pn.satisfy():\n",
        "    print(p, q)"
      ],
      "execution_count": 2,
      "outputs": [
        {
          "output_type": "stream",
          "text": [
            "PEQNP II Mathematical Programming Solver from http://www.peqnp.com\n",
            "SAT : SLIME SAT Solver\n",
            "MIP : PIXIE MIP Solver\n",
            "3007 1\n",
            "31 97\n",
            "1 3007\n",
            "97 31\n"
          ],
          "name": "stdout"
        }
      ]
    },
    {
      "cell_type": "markdown",
      "metadata": {
        "id": "vQHzclBV964e",
        "colab_type": "text"
      },
      "source": [
        "# Native Operations\n",
        "\n",
        "On PEQNP all elements are integers and relations on this integers, this relations are at bit level or arithmetic level.\n",
        "\n",
        "# Supported Operations\n",
        "\n",
        "$+, -, *, /, **, powmod, \\%, & , | , ^ , == , = , < , <= , > , >= , << , >>$\n",
        "\n",
        "# Integers\n",
        "\n",
        "All integers live on $\\mathbb{N}_{2 ^ {bits} - 1}$ and always positives, i.e. for two integer \\(x, y\\) the operation, \\(x - y\\) take all possibilities such that $x - y >= 0$."
      ]
    },
    {
      "cell_type": "markdown",
      "metadata": {
        "id": "CST1z4H5964f",
        "colab_type": "text"
      },
      "source": [
        "# The Mantra"
      ]
    },
    {
      "cell_type": "markdown",
      "metadata": {
        "id": "UNfqCA70964g",
        "colab_type": "text"
      },
      "source": [
        "First is needed import all PEQNP system.\n",
        "\n",
        "```python\n",
        "import peqnp as pn\n",
        "```\n",
        "\n",
        "Define the data and constants.\n",
        "```python\n",
        "bits = 10\n",
        "```\n",
        "\n",
        "Next initialize the engine.\n",
        "```python\n",
        "pn.engine(bits=10)\n",
        "```\n",
        "\n",
        "Declare variables.\n",
        "```python\n",
        "x = pn.integer()\n",
        "```\n",
        "\n",
        "Add constrains.\n",
        "```python\n",
        "assert x < 10\n",
        "```\n",
        "\n",
        "Solve the problem.\n",
        "```python\n",
        "while pn.satisfy():\n",
        "    print(x)\n",
        "```"
      ]
    },
    {
      "cell_type": "markdown",
      "metadata": {
        "id": "lxKWdGrI964h",
        "colab_type": "text"
      },
      "source": [
        "# A Full Example - multiset reconstruction by differences\n",
        "\n",
        "Given a sorted multiset, their differences and one tip: an element and position for only one arbitrary element, is possible recovery the original multiset?"
      ]
    },
    {
      "cell_type": "code",
      "metadata": {
        "id": "sDtWaw6l964i",
        "colab_type": "code",
        "outputId": "17abe5fe-f23b-42ed-b56d-ae47a002fbe2",
        "colab": {
          "base_uri": "https://localhost:8080/",
          "height": 905
        }
      },
      "source": [
        "import time\n",
        "import random\n",
        "import peqnp as pn\n",
        "\n",
        "\n",
        "def generator(n, max_val):\n",
        "    return sorted([random.randint(1, max_val) for _ in range(n)])\n",
        "\n",
        "\n",
        "def differences(lst):\n",
        "    return [abs(lst[i] - lst[i - 1]) for i in range(1, len(lst))]\n",
        "\n",
        "\n",
        "# 100 tests\n",
        "for n in range(1, 10):\n",
        "\n",
        "    m = random.randint(1, n ** 2)\n",
        "\n",
        "    original = generator(n, m)\n",
        "    diffs = differences(original)\n",
        "\n",
        "    print('N, M         : {}, {}'.format(n, m))\n",
        "    print('DIFFERENCES  : {}'.format(diffs))\n",
        "    print('ORIGINAL     : {}'.format(original))\n",
        "\n",
        "    # only one tip\n",
        "    ith = random.choice(range(n))\n",
        "    tip = original[ith]\n",
        "\n",
        "    # init timer\n",
        "    ini = time.time()\n",
        "\n",
        "    # Empirical bits necessarily to solve the problem.\n",
        "    pn.engine(sum(diffs).bit_length() + 4)\n",
        "\n",
        "    # Declare a n-vector of integer variables to store the solution.\n",
        "    x = pn.vector(size=n)\n",
        "\n",
        "    # The tip is on x at index ith\n",
        "    assert tip == pn.index(ith, x)\n",
        "\n",
        "    # The i-th element of the instance is the absolute difference of two consecutive elements\n",
        "    for i in range(n - 1):\n",
        "        assert x[i] <= x[i + 1]\n",
        "        assert pn.index(i, diffs) == x[i + 1] - x[i]\n",
        "\n",
        "    # Solve the problem for only one solution.\n",
        "    if pn.satisfy():\n",
        "        o = [abs(x[i + 1] - x[i]) for i in range(n - 1)]\n",
        "        c = 100 * len(set(map(int, x)).intersection(set(original))) / len(set(original))\n",
        "        print('SOLVED       : {}'.format(x))\n",
        "        print('COINCIDENCES : {}%'.format(c))\n",
        "        if o == diffs:\n",
        "            print('OK! - {}s'.format(time.time() - ini))\n",
        "        else:\n",
        "            print('NOK! - {}s'.format(time.time() - ini))\n",
        "            raise Exception('ERROR!')\n",
        "        if c != 100:\n",
        "            raise Exception('Hypothesis Fail - 100%')"
      ],
      "execution_count": 3,
      "outputs": [
        {
          "output_type": "stream",
          "text": [
            "N, M         : 1, 1\n",
            "DIFFERENCES  : []\n",
            "ORIGINAL     : [1]\n",
            "SOLVED       : [1]\n",
            "COINCIDENCES : 100.0%\n",
            "OK! - 0.008882761001586914s\n",
            "N, M         : 2, 2\n",
            "DIFFERENCES  : [0]\n",
            "ORIGINAL     : [2, 2]\n",
            "SOLVED       : [2, 2]\n",
            "COINCIDENCES : 100.0%\n",
            "OK! - 0.01170969009399414s\n",
            "N, M         : 3, 1\n",
            "DIFFERENCES  : [0, 0]\n",
            "ORIGINAL     : [1, 1, 1]\n",
            "SOLVED       : [1, 1, 1]\n",
            "COINCIDENCES : 100.0%\n",
            "OK! - 0.025806188583374023s\n",
            "N, M         : 4, 15\n",
            "DIFFERENCES  : [2, 3, 8]\n",
            "ORIGINAL     : [1, 3, 6, 14]\n",
            "SOLVED       : [1, 3, 6, 14]\n",
            "COINCIDENCES : 100.0%\n",
            "OK! - 0.06255555152893066s\n",
            "N, M         : 5, 13\n",
            "DIFFERENCES  : [4, 1, 2, 0]\n",
            "ORIGINAL     : [5, 9, 10, 12, 12]\n",
            "SOLVED       : [5, 9, 10, 12, 12]\n",
            "COINCIDENCES : 100.0%\n",
            "OK! - 0.08794927597045898s\n",
            "N, M         : 6, 28\n",
            "DIFFERENCES  : [2, 1, 1, 4, 5]\n",
            "ORIGINAL     : [12, 14, 15, 16, 20, 25]\n",
            "SOLVED       : [12, 14, 15, 16, 20, 25]\n",
            "COINCIDENCES : 100.0%\n",
            "OK! - 0.13785362243652344s\n",
            "N, M         : 7, 35\n",
            "DIFFERENCES  : [1, 1, 7, 4, 5, 2]\n",
            "ORIGINAL     : [3, 4, 5, 12, 16, 21, 23]\n",
            "SOLVED       : [3, 4, 5, 12, 16, 21, 23]\n",
            "COINCIDENCES : 100.0%\n",
            "OK! - 0.30838656425476074s\n",
            "N, M         : 8, 17\n",
            "DIFFERENCES  : [4, 1, 1, 2, 1, 0, 3]\n",
            "ORIGINAL     : [3, 7, 8, 9, 11, 12, 12, 15]\n",
            "SOLVED       : [3, 7, 8, 9, 11, 12, 12, 15]\n",
            "COINCIDENCES : 100.0%\n",
            "OK! - 0.2369852066040039s\n",
            "N, M         : 9, 74\n",
            "DIFFERENCES  : [4, 7, 7, 21, 4, 2, 9, 6]\n",
            "ORIGINAL     : [14, 18, 25, 32, 53, 57, 59, 68, 74]\n",
            "SOLVED       : [14, 18, 25, 32, 53, 57, 59, 68, 74]\n",
            "COINCIDENCES : 100.0%\n",
            "OK! - 0.37798357009887695s\n"
          ],
          "name": "stdout"
        }
      ]
    },
    {
      "cell_type": "markdown",
      "metadata": {
        "id": "1QVj79ln964n",
        "colab_type": "text"
      },
      "source": [
        "# MIP\n",
        "\n",
        "A submodule dedicated to Mixed Integer Programming.\n",
        "\n",
        "https://en.wikipedia.org/wiki/Integer_programming"
      ]
    },
    {
      "cell_type": "code",
      "metadata": {
        "id": "Gnk1zZeJ964o",
        "colab_type": "code",
        "outputId": "c6189bc6-bcb4-432b-de57-cde4b8d8d996",
        "colab": {
          "base_uri": "https://localhost:8080/",
          "height": 197
        }
      },
      "source": [
        "import peqnp as pn\n",
        "\n",
        "pn.engine()\n",
        "\n",
        "x0 = pn.linear(is_real=True)\n",
        "x1 = pn.linear(is_real=True)\n",
        "x2 = pn.linear(is_real=True)\n",
        "x3 = pn.linear(is_real=True)\n",
        "x4 = pn.linear(is_real=True)\n",
        "x5 = pn.linear()\n",
        "x6 = pn.linear()\n",
        "x7 = pn.linear()\n",
        "x8 = pn.linear()\n",
        "x9 = pn.linear()\n",
        "assert +6.4160 * x0 + 20.3590 * x1 + 1.5981 * x2 - 1.2071 * x3 - 4.6026 * x4 - 5.7098 * x5 - 4.1160 * x6 + 1.2467 * x7 - 14.2028 * x8 + 6.0885 * x9 <= 51.0000\n",
        "assert -0.1930 * x0 + 1.1859 * x1 + 2.9537 * x2 - 2.3777 * x3 + 1.4154 * x4 + 9.2526 * x5 - 3.6259 * x6 + 3.4193 * x7 - 21.4218 * x8 - 0.7692 * x9 <= 41.0000\n",
        "assert -27.1712 * x0 - 21.2901 * x1 + 32.6104 * x2 + 1.4699 * x3 + 8.1651 * x4 - 12.8153 * x5 + 2.4100 * x6 - 57.0053 * x7 - 7.2989 * x8 + 7.0098 * x9 <= 79.0000\n",
        "assert -2.3318 * x0 + 0.8284 * x1 + 6.2896 * x2 + 0.6104 * x3 - 31.1931 * x4 + 4.1556 * x5 + 2.6317 * x6 - 48.5799 * x7 - 1.1840 * x8 + 28.7408 * x9 <= 93.0000\n",
        "assert +12.0876 * x0 + 1.2307 * x1 - 0.9757 * x2 - 4.2857 * x3 + 4.8579 * x4 + 19.5823 * x5 + 18.5408 * x6 - 3.0287 * x7 + 2.0617 * x8 - 3.5956 * x9 <= 25.0000\n",
        "assert -50.3777 * x0 + 6.9980 * x1 - 67.9637 * x2 - 2.0244 * x3 + 7.8885 * x4 - 2.5394 * x5 - 5.3325 * x6 + 0.3273 * x7 - 249.6093 * x8 + 3.7692 * x9 <= 41.0000\n",
        "assert +43.2031 * x0 - 2.0964 * x1 + 10.1320 * x2 - 13.9120 * x3 + 3.2838 * x4 + 10.6522 * x5 + 6.2647 * x6 + 2.8932 * x7 - 6.3529 * x8 + 20.0324 * x9 <= 78.0000\n",
        "assert -2.0752 * x0 - 7.4701 * x1 - 0.2348 * x2 - 2.0003 * x3 - 0.6376 * x4 + 1.7804 * x5 + 119.5958 * x6 - 6.2943 * x7 + 3.3538 * x8 - 2.6467 * x9 <= 27.0000\n",
        "assert +3.1615 * x0 + 6.0781 * x1 - 1.8893 * x2 - 3.2409 * x3 - 34.0146 * x4 + 23.8191 * x5 - 8.8890 * x6 - 6.8173 * x7 + 6.7114 * x8 - 8.1344 * x9 <= 21.0000\n",
        "assert +0.0000 * x0 + 13.1440 * x1 + 7.5737 * x2 + 2.8277 * x3 - 4.3930 * x4 + 0.0000 * x5 - 22.1786 * x6 + 2.8980 * x7 - 9.0440 * x8 - 60.4170 * x9 <= 93.0000\n",
        "assert x0 <= 92.0000\n",
        "assert x1 <= 46.0000\n",
        "assert x2 <= 74.0000\n",
        "assert x3 <= 78.0000\n",
        "assert x4 <= 41.0000\n",
        "assert x5 <= 47.0000\n",
        "assert x6 <= 33.0000\n",
        "assert x7 <= 35.0000\n",
        "assert x8 <= 23.0000\n",
        "assert x9 <= 63.0000\n",
        "print(pn.maximize(+0.0000 * x0 + 9.6856 * x1 + 0.0000 * x2 - 7.8267 * x3 - 3.4649 * x4 - 6.3391 * x5 - 3.6316 * x6 + 44.7655 * x7 + 3.7610 * x8 - 57.1083 * x9))\n",
        "print(x0)\n",
        "print(x1)\n",
        "print(x2)\n",
        "print(x3)\n",
        "print(x4)\n",
        "print(x5)\n",
        "print(x6)\n",
        "print(x7)\n",
        "print(x8)\n",
        "print(x9)"
      ],
      "execution_count": 4,
      "outputs": [
        {
          "output_type": "stream",
          "text": [
            "1810.5335855955589\n",
            "0.0\n",
            "16.609160567807837\n",
            "0.0\n",
            "0.0\n",
            "0.0\n",
            "0\n",
            "1\n",
            "35\n",
            "23\n",
            "0\n"
          ],
          "name": "stdout"
        }
      ]
    },
    {
      "cell_type": "markdown",
      "metadata": {
        "id": "c2MllZ2i964r",
        "colab_type": "text"
      },
      "source": [
        "# Diophantine Equations\n",
        "\n",
        "https://en.wikipedia.org/wiki/Diophantine_equation"
      ]
    },
    {
      "cell_type": "markdown",
      "metadata": {
        "id": "DK1DC7aE964s",
        "colab_type": "text"
      },
      "source": [
        "# Let be $x, y \\in \\mathbb{N} \\vert x^3 - x + 1 = y^2$"
      ]
    },
    {
      "cell_type": "code",
      "metadata": {
        "id": "7bgCxLRI964t",
        "colab_type": "code",
        "outputId": "5c640d04-5dcd-4c6f-b3be-72d217f8f32f",
        "colab": {
          "base_uri": "https://localhost:8080/",
          "height": 65
        }
      },
      "source": [
        "import peqnp as pn\n",
        "\n",
        "pn.engine(10)\n",
        "\n",
        "x = pn.integer()\n",
        "y = pn.integer()\n",
        "\n",
        "assert x ** 3 - x + 1 == y ** 2\n",
        "\n",
        "assert x != 0\n",
        "assert y != 0\n",
        "\n",
        "while pn.satisfy():\n",
        "    print('{0} ** 3 - {0} + 1, {1} ** 2'.format(x, y))\n"
      ],
      "execution_count": 5,
      "outputs": [
        {
          "output_type": "stream",
          "text": [
            "5 ** 3 - 5 + 1, 11 ** 2\n",
            "1 ** 3 - 1 + 1, 1 ** 2\n",
            "3 ** 3 - 3 + 1, 5 ** 2\n"
          ],
          "name": "stdout"
        }
      ]
    },
    {
      "cell_type": "markdown",
      "metadata": {
        "id": "tXkkLVGl964w",
        "colab_type": "text"
      },
      "source": [
        "# Let be $x, y \\in \\mathbb{Q} \\vert x^3 + xy = y^2$"
      ]
    },
    {
      "cell_type": "code",
      "metadata": {
        "id": "p84V_ORl964w",
        "colab_type": "code",
        "outputId": "a79d8ba8-a5cb-4ee5-e2df-abb39a6269ab",
        "colab": {
          "base_uri": "https://localhost:8080/",
          "height": 82
        }
      },
      "source": [
        "import peqnp as pn\n",
        "\n",
        "pn.engine(10)\n",
        "\n",
        "x = pn.rational()\n",
        "y = pn.rational()\n",
        "\n",
        "assert x ** 3 + x * y == y ** 2\n",
        "\n",
        "while pn.satisfy():\n",
        "    print('{0} ** 3 + {0} * {1} == {1} ** 2'.format(x, y))"
      ],
      "execution_count": 6,
      "outputs": [
        {
          "output_type": "stream",
          "text": [
            "(0 / 1) ** 3 + (0 / 1) * (0 / 1) == (0 / 1) ** 2\n",
            "(2 / 1) ** 3 + (2 / 1) * (4 / 1) == (4 / 1) ** 2\n",
            "(0 / 2) ** 3 + (0 / 2) * (0 / 16) == (0 / 16) ** 2\n",
            "(6 / 1) ** 3 + (6 / 1) * (18 / 1) == (18 / 1) ** 2\n"
          ],
          "name": "stdout"
        }
      ]
    },
    {
      "cell_type": "markdown",
      "metadata": {
        "id": "wEET41vb964z",
        "colab_type": "text"
      },
      "source": [
        "# Let be $x, y \\in \\mathbb{C} \\vert x^3 + x + 1 = y^2$"
      ]
    },
    {
      "cell_type": "code",
      "metadata": {
        "id": "WRx_236n9640",
        "colab_type": "code",
        "outputId": "360b5a12-3e4a-4101-802a-4fab766ea1b0",
        "colab": {
          "base_uri": "https://localhost:8080/",
          "height": 49
        }
      },
      "source": [
        "import peqnp as pn\n",
        "\n",
        "pn.engine(10)\n",
        "\n",
        "x = pn.gaussian()\n",
        "y = pn.gaussian()\n",
        "\n",
        "assert x ** 3 + x + 1 == y ** 2\n",
        "\n",
        "while pn.satisfy():\n",
        "    print('{0} ** 3 + {0} + 1 == {1} ** 2'.format(complex(x), complex(y)))"
      ],
      "execution_count": 7,
      "outputs": [
        {
          "output_type": "stream",
          "text": [
            "0j ** 3 + 0j + 1 == (1+0j) ** 2\n",
            "(2+1j) ** 3 + (2+1j) + 1 == (3+2j) ** 2\n"
          ],
          "name": "stdout"
        }
      ]
    },
    {
      "cell_type": "markdown",
      "metadata": {
        "id": "ijexlhdd9642",
        "colab_type": "text"
      },
      "source": [
        "# Vectors"
      ]
    },
    {
      "cell_type": "code",
      "metadata": {
        "id": "vpoHE1nX9642",
        "colab_type": "code",
        "outputId": "a764b74b-c149-49c5-9098-f132107481a2",
        "colab": {
          "base_uri": "https://localhost:8080/",
          "height": 49
        }
      },
      "source": [
        "import peqnp as pn\n",
        "\n",
        "pn.engine(10)\n",
        "\n",
        "x = pn.vector(size=2, is_gaussian=True)\n",
        "y = pn.gaussian()\n",
        "\n",
        "assert sum(x) ** 3 == y ** 5\n",
        "assert y != complex(0, 0)\n",
        "\n",
        "while pn.satisfy():\n",
        "    print('sum({0}) ** 3 == {1} ** 5'.format(x, y))"
      ],
      "execution_count": 8,
      "outputs": [
        {
          "output_type": "stream",
          "text": [
            "sum([(0+0j), (1+0j)]) ** 3 == (1+0j) ** 5\n",
            "sum([(1+0j), (0+0j)]) ** 3 == (1+0j) ** 5\n"
          ],
          "name": "stdout"
        }
      ]
    },
    {
      "cell_type": "code",
      "metadata": {
        "id": "QNWHLqHS9644",
        "colab_type": "code",
        "outputId": "1a62a18e-e454-44cf-d72a-d600acfb055e",
        "colab": {
          "base_uri": "https://localhost:8080/",
          "height": 263
        }
      },
      "source": [
        "import numpy as np\n",
        "import peqnp as pn\n",
        "import matplotlib.pyplot as plt\n",
        "\n",
        "dim = 2\n",
        "\n",
        "pn.engine(10)\n",
        "\n",
        "ps = pn.vector(size=dim, is_rational=True)\n",
        "\n",
        "assert sum([p ** dim for p in ps]) <= 1\n",
        "\n",
        "dots = []\n",
        "while pn.satisfy():\n",
        "    dots.append(np.vectorize(float)(ps))\n",
        "\n",
        "x, y = zip(*dots)\n",
        "plt.axis('equal')\n",
        "plt.plot(x, y, 'r.')\n",
        "plt.show()"
      ],
      "execution_count": 9,
      "outputs": [
        {
          "output_type": "display_data",
          "data": {
            "image/png": "[encoded data removed]",
            "text/plain": [
              "<Figure size 432x288 with 1 Axes>"
            ]
          },
          "metadata": {
            "tags": [],
            "needs_background": "light"
          }
        }
      ]
    },
    {
      "cell_type": "markdown",
      "metadata": {
        "id": "C0lkauin9646",
        "colab_type": "text"
      },
      "source": [
        "# NP-Complete\n",
        "\n",
        "NP - complete problem, any of a class of computational problems for which no efficient solution algorithm has been found. Many significant computer - science problems belong to this class—e.g., the traveling salesman problem, satisfiability problems, and graph - covering problems.\n",
        "\n",
        "https://en.wikipedia.org/wiki/NP-completeness"
      ]
    },
    {
      "cell_type": "markdown",
      "metadata": {
        "id": "hJQDg3rb9647",
        "colab_type": "text"
      },
      "source": [
        "# Satisfiability\n",
        "\n",
        "Study of boolean functions generally is concerned with the set of truth assignments(assignments of 0 or 1 to each of the variables) that make the function true.\n",
        "\n",
        "https://en.wikipedia.org/wiki/Boolean_satisfiability_problem"
      ]
    },
    {
      "cell_type": "code",
      "metadata": {
        "id": "GR62G6M99647",
        "colab_type": "code",
        "outputId": "7a864091-5882-4a53-e4d0-d11f68e3c8f8",
        "colab": {
          "base_uri": "https://localhost:8080/",
          "height": 49
        }
      },
      "source": [
        "import functools\n",
        "import operator\n",
        "\n",
        "import peqnp as pn\n",
        "\n",
        "n, m, cnf = 10, 24, [[9, -5, 10, -6, 3],\n",
        "                     [6, 8],\n",
        "                     [8, 4],\n",
        "                     [-10, 5],\n",
        "                     [-9, 8],\n",
        "                     [-9, -3],\n",
        "                     [-2, 5],\n",
        "                     [6, 4],\n",
        "                     [-2, -1],\n",
        "                     [7, -2],\n",
        "                     [-9, 4],\n",
        "                     [-1, -10],\n",
        "                     [-3, 4],\n",
        "                     [7, 5],\n",
        "                     [6, -3],\n",
        "                     [-10, 7],\n",
        "                     [-1, 7],\n",
        "                     [8, -3],\n",
        "                     [-2, -10],\n",
        "                     [-1, 5],\n",
        "                     [-7, 1, 9, -6, 3],\n",
        "                     [-9, 6],\n",
        "                     [-8, 10, -5, -4, 2],\n",
        "                     [-4, -7, 1, -8, 2]]\n",
        "\n",
        "# Initialize the engine with 2 bits\n",
        "pn.engine(bits=2)\n",
        "\n",
        "# Declare an integer of n-bits, each ith-bits is one ith-literal on the model.\n",
        "x = pn.integer(bits=n)\n",
        "\n",
        "# For each clause ensure that that one of the lierals are true.\n",
        "for cls in cnf:\n",
        "    assert functools.reduce(operator.or_, (pn.switch(x, abs(lit) - 1, neg=lit > 0) for lit in cls)) > 0\n",
        "\n",
        "if pn.satisfy():\n",
        "    print('SAT')\n",
        "    print(' '.join(map(str, [(i + 1) if b else -(i + 1) for i, b in enumerate(x.binary)])) + ' 0')\n",
        "else:\n",
        "    print('UNSAT')"
      ],
      "execution_count": 10,
      "outputs": [
        {
          "output_type": "stream",
          "text": [
            "SAT\n",
            "-1 2 3 4 5 6 7 8 -9 -10 0\n"
          ],
          "name": "stdout"
        }
      ]
    },
    {
      "cell_type": "markdown",
      "metadata": {
        "id": "-rrrwc0V9649",
        "colab_type": "text"
      },
      "source": [
        "# k-Clique\n",
        "\n",
        "Input: Graph $G$, positive integer $k$\n",
        "\n",
        "Property: $G$ has a set of mutually adjacent nodes.\n",
        "\n",
        "https://en.wikipedia.org/wiki/Clique_problem"
      ]
    },
    {
      "cell_type": "code",
      "metadata": {
        "id": "QQDWim1w9649",
        "colab_type": "code",
        "outputId": "a53c5db6-b365-4249-e845-986e65b4e922",
        "colab": {
          "base_uri": "https://localhost:8080/",
          "height": 49
        }
      },
      "source": [
        "import peqnp as pn\n",
        "\n",
        "# Ths bits of the clique to search\n",
        "k = 3\n",
        "\n",
        "# Get the graph and the dimension for the graph\n",
        "n, matrix = 5, [(1, 0), (0, 2), (1, 4), (2, 1), (4, 2), (3, 2)]\n",
        "\n",
        "# Ensure the problem can be represented\n",
        "pn.engine(bits=k.bit_length())\n",
        "\n",
        "# Declare an integer of n-bits\n",
        "bits = pn.integer(bits=n)\n",
        "\n",
        "# The bits integer have \"bits\"-active bits, i.e, the clique has \"bits\"-elements\n",
        "assert sum(pn.switch(bits, i) for i in range(n)) == k\n",
        "\n",
        "# This entangle all elements that are joined together\n",
        "for i in range(n - 1):\n",
        "    for j in range(i + 1, n):\n",
        "        if (i, j) not in matrix and (j, i) not in matrix:\n",
        "            assert pn.switch(bits, i) + pn.switch(bits, j) <= 1\n",
        "\n",
        "if pn.satisfy():\n",
        "    print(k)\n",
        "    print(' '.join([str(i) for i in range(n) if not bits.binary[i]]))\n",
        "else:\n",
        "    print('Infeasible ...')"
      ],
      "execution_count": 11,
      "outputs": [
        {
          "output_type": "stream",
          "text": [
            "3\n",
            "0 1 2\n"
          ],
          "name": "stdout"
        }
      ]
    },
    {
      "cell_type": "markdown",
      "metadata": {
        "id": "W9A_lLrn964_",
        "colab_type": "text"
      },
      "source": [
        "# Vertex Cover\n",
        "\n",
        "In the mathematical discipline of graph theory, a vertex cover (sometimes node cover) of a graph is a set of vertices that includes at least one endpoint of every edge of the graph. The problem of finding a minimum vertex cover is a classical optimization problem in computer science and is a typical example of an NP-hard optimization problem that has an approximation algorithm. Its decision version, the vertex cover problem, was one of Karp's 21 NP-complete problems and is therefore a classical NP-complete problem in computational complexity theory. Furthermore, the vertex cover problem is fixed-parameter tractable and a central problem in parameterized complexity theory.\n",
        "\n",
        "https://en.wikipedia.org/wiki/Vertex_cover"
      ]
    },
    {
      "cell_type": "code",
      "metadata": {
        "id": "qaxFZxFL965A",
        "colab_type": "code",
        "outputId": "8c1a56f3-9ab3-4636-c50b-20d9fcc404df",
        "colab": {
          "base_uri": "https://localhost:8080/",
          "height": 49
        }
      },
      "source": [
        "import peqnp as pn\n",
        "\n",
        "# Get the graph and dimension, and the bits of the cover.\n",
        "n, graph, vertex, k = 5, [(1, 0), (0, 2), (1, 4), (2, 1), (4, 2), (3, 2)], [0, 1, 2, 3, 4], 3\n",
        "\n",
        "# Ensure the problem can be represented\n",
        "pn.engine(bits=n.bit_length() + 1)\n",
        "\n",
        "# An integer with n-bits to store the indexes for the cover\n",
        "index = pn.integer(bits=n)\n",
        "\n",
        "# This entangled the all possible covers\n",
        "for i, j in graph:\n",
        "    assert pn.switch(index, vertex.index(i), neg=True) + pn.switch(index, vertex.index(j), neg=True) >= 1\n",
        "\n",
        "# Ensure the cover has bits k\n",
        "assert sum(pn.switch(index, vertex.index(i), neg=True) for i in vertex) == k\n",
        "\n",
        "if pn.satisfy():\n",
        "    opt = sum(index.binary)\n",
        "    print('p bits {}'.format(opt))\n",
        "    print(' '.join([str(vertex[i]) for i in range(n) if index.binary[i]]))\n",
        "else:\n",
        "    print('Infeasible ...')"
      ],
      "execution_count": 12,
      "outputs": [
        {
          "output_type": "stream",
          "text": [
            "p bits 3\n",
            "1 2 3\n"
          ],
          "name": "stdout"
        }
      ]
    },
    {
      "cell_type": "markdown",
      "metadata": {
        "id": "-Itdoe64965B",
        "colab_type": "text"
      },
      "source": [
        "# Multidimensional Latin Squares\n",
        "\n",
        "In combinatorics and in experimental design, a Latin square is an n × n array filled with n different symbols, each occurring exactly once in each row and exactly once in each column.\n",
        "\n",
        "https://en.wikipedia.org/wiki/Latin_square"
      ]
    },
    {
      "cell_type": "code",
      "metadata": {
        "id": "ZobMPYao965C",
        "colab_type": "code",
        "outputId": "3149361d-c1a2-4946-9f30-3f95dac0b99f",
        "colab": {
          "base_uri": "https://localhost:8080/",
          "height": 527
        }
      },
      "source": [
        "import numpy as np\n",
        "import peqnp as pn\n",
        "\n",
        "n = 5\n",
        "m = 3\n",
        "\n",
        "pn.engine(n.bit_length())\n",
        "\n",
        "Y = pn.vector(size=n ** m)\n",
        "\n",
        "pn.apply_single(Y, lambda k: k < n)\n",
        "\n",
        "Y = np.reshape(Y, newshape=(m * [n]))\n",
        "\n",
        "for i in range(n):\n",
        "    pn.all_different(Y[i])\n",
        "    pn.all_different(Y.T[i])\n",
        "    for j in range(n):\n",
        "        pn.all_different(Y[i][j])\n",
        "        pn.all_different(Y.T[i][j])\n",
        "\n",
        "for idx in pn.hyper_loop(m - 1, n):\n",
        "    s = Y\n",
        "    for i in idx:\n",
        "        s = s[i]\n",
        "        pn.all_different(s)\n",
        "        pn.all_different(s.T)\n",
        "\n",
        "if pn.satisfy():\n",
        "    y = np.vectorize(int)(Y).reshape(m * [n])\n",
        "    print(y)\n",
        "else:\n",
        "    print('Infeasible ...')"
      ],
      "execution_count": 13,
      "outputs": [
        {
          "output_type": "stream",
          "text": [
            "/usr/local/lib/python3.6/dist-packages/peqnp/stdlib.py:404: RuntimeWarning: invalid value encountered in not_equal\n",
            "  csp.apply(args, dual=lambda x, y: x != y)\n"
          ],
          "name": "stderr"
        },
        {
          "output_type": "stream",
          "text": [
            "[[[3 0 1 2 4]\n",
            "  [4 3 2 1 0]\n",
            "  [0 2 4 3 1]\n",
            "  [1 4 3 0 2]\n",
            "  [2 1 0 4 3]]\n",
            "\n",
            " [[4 3 2 0 1]\n",
            "  [0 2 1 4 3]\n",
            "  [2 4 3 1 0]\n",
            "  [3 1 0 2 4]\n",
            "  [1 0 4 3 2]]\n",
            "\n",
            " [[0 2 4 1 3]\n",
            "  [2 1 3 0 4]\n",
            "  [1 3 0 4 2]\n",
            "  [4 0 2 3 1]\n",
            "  [3 4 1 2 0]]\n",
            "\n",
            " [[1 4 0 3 2]\n",
            "  [3 0 4 2 1]\n",
            "  [4 1 2 0 3]\n",
            "  [2 3 1 4 0]\n",
            "  [0 2 3 1 4]]\n",
            "\n",
            " [[2 1 3 4 0]\n",
            "  [1 4 0 3 2]\n",
            "  [3 0 1 2 4]\n",
            "  [0 2 4 1 3]\n",
            "  [4 3 2 0 1]]]\n"
          ],
          "name": "stdout"
        }
      ]
    },
    {
      "cell_type": "markdown",
      "metadata": {
        "id": "bbdyVi1o965E",
        "colab_type": "text"
      },
      "source": [
        "# Travelling salesman problem\n",
        "\n",
        "The travelling salesman problem asks the following question: \"Given a list of cities and the distances between each pair of cities, what is the shortest possible route that visits each city and returns to the origin city?\" It is an NP-hard problem in combinatorial optimization, important in operations research and theoretical computer science.\n",
        "\n",
        "https://en.wikipedia.org/wiki/Travelling_salesman_problem"
      ]
    },
    {
      "cell_type": "code",
      "metadata": {
        "id": "3CHTjOaA965E",
        "colab_type": "code",
        "outputId": "b4d63bf1-8aba-47ca-fdd4-916a76a2fecb",
        "colab": {
          "base_uri": "https://localhost:8080/",
          "height": 263
        }
      },
      "source": [
        "n = 100\n",
        "data = np.random.logistic(size=(n, 2))\n",
        "seq = pn.hess_sequence(n, oracle=lambda seq: sum(np.linalg.norm(data[seq[i - 1]] - data[seq[i]]) for i in range(n)), fast=False)\n",
        "x, y = zip(*[data[i] for i in seq + [seq[0]]])\n",
        "plt.plot(x, y, 'k-')\n",
        "plt.plot(x, y, 'r.')\n",
        "plt.show()"
      ],
      "execution_count": 14,
      "outputs": [
        {
          "output_type": "display_data",
          "data": {
            "image/png": "[encoded data removed]",
            "text/plain": [
              "<Figure size 432x288 with 1 Axes>"
            ]
          },
          "metadata": {
            "tags": [],
            "needs_background": "light"
          }
        }
      ]
    },
    {
      "cell_type": "markdown",
      "metadata": {
        "id": "5VQLgU4Q965G",
        "colab_type": "text"
      },
      "source": [
        "# Knapsack problem\n",
        "\n",
        "The knapsack problem is a problem in combinatorial optimization: Given a set of items, each with a weight and a value, determine the number of each item to include in a collection so that the total weight is less than or equal to a given limit and the total value is as large as possible. It derives its name from the problem faced by someone who is constrained by a fixed-size knapsack and must fill it with the most valuable items.\n",
        "\n",
        "https://en.wikipedia.org/wiki/Knapsack_problem"
      ]
    },
    {
      "cell_type": "code",
      "metadata": {
        "id": "eC70oQ54965G",
        "colab_type": "code",
        "outputId": "bd6d438e-aa6e-4eb1-e5ce-846dba8cb6c9",
        "colab": {
          "base_uri": "https://localhost:8080/",
          "height": 65
        }
      },
      "source": [
        "n = 10\n",
        "values = np.random.logistic(size=n)\n",
        "profit = np.random.logistic(size=n)\n",
        "capacity = np.random.sample()\n",
        "pn.engine()\n",
        "selects = pn.vector(size=n, is_mip=True)\n",
        "pn.apply_single(selects, lambda x: x <= 1)\n",
        "assert np.dot(values, selects) <= capacity\n",
        "opt = pn.maximize(np.dot(profit, selects))\n",
        "slots = list(map(int, selects))\n",
        "print('PROFIT  : {} vs {}'.format(np.dot(profit, slots), opt))\n",
        "print('VALUES  : {} <= {}'.format(np.dot(values, slots), capacity))\n",
        "print('SELECT  : {}'.format(slots))"
      ],
      "execution_count": 15,
      "outputs": [
        {
          "output_type": "stream",
          "text": [
            "PROFIT  : 10.255826700405205 vs 10.255826700405205\n",
            "VALUES  : -0.6870701740273517 <= 0.004185139807779903\n",
            "SELECT  : [0, 1, 1, 1, 1, 1, 0, 0, 0, 1]\n"
          ],
          "name": "stdout"
        }
      ]
    },
    {
      "cell_type": "markdown",
      "metadata": {
        "id": "3CaSxvbE965I",
        "colab_type": "text"
      },
      "source": [
        "# Magic square\n",
        "\n",
        "\n",
        "In recreational mathematics and combinatorial design, a magic square is a $n\\times n$ square grid (where n is the number of cells on each side) filled with distinct positive integers in the range \n",
        "${1,2,...,n^{2}}$ such that each cell contains a different integer and the sum of the integers in each row, column and diagonal is equal.\n",
        "\n",
        "https://en.wikipedia.org/wiki/Magic_square"
      ]
    },
    {
      "cell_type": "code",
      "metadata": {
        "id": "AyWeR36j965I",
        "colab_type": "code",
        "outputId": "e47c72d0-5652-4609-8110-3333afcc3210",
        "colab": {
          "base_uri": "https://localhost:8080/",
          "height": 82
        }
      },
      "source": [
        "n = 3\n",
        "pn.engine(5)\n",
        "c = pn.integer()\n",
        "xs = pn.matrix(dimensions=(n, n))\n",
        "pn.apply_single(pn.flatten(xs), lambda x: x > 0)\n",
        "pn.all_different(pn.flatten(xs))\n",
        "for i in range(n):\n",
        "    assert sum(xs[i][j] for j in range(n)) == c\n",
        "for j in range(n):\n",
        "    assert sum(xs[i][j] for i in range(n)) == c\n",
        "assert sum(xs[i][i] for i in range(n)) == c\n",
        "assert sum(xs[i][n - 1 - i] for i in range(n)) == c\n",
        "if pn.satisfy():\n",
        "    print(c)\n",
        "    print(np.vectorize(int)(xs))\n",
        "else:\n",
        "    print('Infeasible ...')"
      ],
      "execution_count": 16,
      "outputs": [
        {
          "output_type": "stream",
          "text": [
            "15\n",
            "[[6 7 2]\n",
            " [1 5 9]\n",
            " [8 3 4]]\n"
          ],
          "name": "stdout"
        }
      ]
    },
    {
      "cell_type": "markdown",
      "metadata": {
        "id": "lEaH-Epz965K",
        "colab_type": "text"
      },
      "source": [
        "# Schur Triples problem:\n",
        "\n",
        "Input: list of 3N distinct positive integers\n",
        "\n",
        "Question: Is there a partition of the list into N triples $(a_i, b_i, c_i)$ such that $a_i+b_i=c_i$\n",
        "\n",
        "The condition that all numbers must be distinct makes the problem very interesting and McDiarmid calls it a surprisingly troublesome.\n",
        "\n",
        "https://cstheory.stackexchange.com/questions/16253/list-of-strongly-np-hard-problems-with-numerical-data"
      ]
    },
    {
      "cell_type": "code",
      "metadata": {
        "id": "Jd9xBJiE965K",
        "colab_type": "code",
        "outputId": "3254ab8f-894f-4ee7-d4d0-01fb96f17cf3",
        "colab": {
          "base_uri": "https://localhost:8080/",
          "height": 197
        }
      },
      "source": [
        "bits = 7\n",
        "size = 3 * 10\n",
        "triplets = []\n",
        "while len(triplets) < size:\n",
        "    a = np.random.randint(1, 2 ** bits)\n",
        "    b = np.random.randint(1, 2 ** bits)\n",
        "    if a != b and a not in triplets and b not in triplets and a + b not in triplets:\n",
        "        triplets += [a, b, a + b]\n",
        "triplets.sort()\n",
        "print(triplets)\n",
        "pn.engine(bits=max(triplets).bit_length())\n",
        "xs, ys = pn.permutations(triplets, size)\n",
        "for i in range(0, size, 3):\n",
        "    assert ys[i] + ys[i + 1] == ys[i + 2]\n",
        "if pn.satisfy():\n",
        "    for i in range(0, size, 3):\n",
        "        print('{} == {} + {}'.format(ys[i + 2], ys[i], ys[i + 1]))\n",
        "else:\n",
        "    print('Infeasible ...')"
      ],
      "execution_count": 17,
      "outputs": [
        {
          "output_type": "stream",
          "text": [
            "[22, 25, 37, 48, 50, 51, 52, 57, 58, 63, 65, 66, 70, 73, 77, 83, 95, 97, 112, 113, 116, 117, 120, 123, 131, 143, 149, 154, 181, 186]\n",
            "154 == 57 + 97\n",
            "77 == 25 + 52\n",
            "116 == 51 + 65\n",
            "113 == 63 + 50\n",
            "149 == 37 + 112\n",
            "186 == 120 + 66\n",
            "131 == 48 + 83\n",
            "143 == 73 + 70\n",
            "117 == 95 + 22\n",
            "181 == 123 + 58\n"
          ],
          "name": "stdout"
        }
      ]
    },
    {
      "cell_type": "markdown",
      "metadata": {
        "id": "ehRx6Mud965M",
        "colab_type": "text"
      },
      "source": [
        "# Subset sum problem\n",
        "\n",
        "In this problem, there is a given set with some integer elements. And another some value is also provided, we have to find a subset of the given set whose sum is the same as the given sum value.\n",
        "\n",
        "https://en.wikipedia.org/wiki/Subset_sum_problem"
      ]
    },
    {
      "cell_type": "code",
      "metadata": {
        "id": "l1u8ka7t965M",
        "colab_type": "code",
        "outputId": "6e78fa45-d046-4183-8d30-6d26ede9eb0f",
        "colab": {
          "base_uri": "https://localhost:8080/",
          "height": 65
        }
      },
      "source": [
        "universe = np.random.randint(1, 1000, size=32)\n",
        "t = np.random.randint(min(universe), sum(universe))\n",
        "print(t, universe)\n",
        "pn.engine(t.bit_length())\n",
        "bits, subset = pn.subsets(universe)\n",
        "assert sum(subset) == t\n",
        "if pn.satisfy():\n",
        "    solution = [universe[i] for i in range(len(universe)) if bits.binary[i]]\n",
        "    print(sum(solution), solution)\n",
        "else:\n",
        "    print('Infeasible ...')"
      ],
      "execution_count": 18,
      "outputs": [
        {
          "output_type": "stream",
          "text": [
            "2821 [464 157 269 406 932 621 590 684 515 400 373 245 401 225  11 382 789 154\n",
            " 176 211 968 273  41 761 598 496 686 643 486 249 890 921]\n",
            "2821 [269, 621, 590, 176, 273, 643, 249]\n"
          ],
          "name": "stdout"
        }
      ]
    },
    {
      "cell_type": "code",
      "metadata": {
        "id": "7fX3-cEd965O",
        "colab_type": "code",
        "outputId": "ea5d3fa0-0cea-4a9f-bac3-6ee9e0d145cf",
        "colab": {
          "base_uri": "https://localhost:8080/",
          "height": 65
        }
      },
      "source": [
        "universe = np.random.randint(1, 1000, size=32)\n",
        "t = np.random.randint(min(universe), sum(universe))\n",
        "print(t, universe)\n",
        "pn.engine(t.bit_length())\n",
        "T = pn.tensor(dimensions=(len(universe)))\n",
        "assert sum(T[[i]](0, universe[i]) for i in range(len(universe))) == t\n",
        "if pn.satisfy():\n",
        "    solution = [universe[i] for i in range(len(universe)) if T.binary[i]]\n",
        "    print(sum(solution), solution)\n",
        "else:\n",
        "    print('Infeasible ...')"
      ],
      "execution_count": 19,
      "outputs": [
        {
          "output_type": "stream",
          "text": [
            "12621 [527 901 908  68 659 355 226 461  57 628 176 124 222 958 727 629 534 841\n",
            " 806  71 933 278 420 958 175 863 254 720 754  40  77 987]\n",
            "12621 [527, 901, 908, 659, 355, 226, 461, 57, 628, 176, 124, 222, 958, 727, 629, 534, 841, 806, 278, 863, 754, 987]\n"
          ],
          "name": "stdout"
        }
      ]
    },
    {
      "cell_type": "markdown",
      "metadata": {
        "id": "daXn5SYi965Q",
        "colab_type": "text"
      },
      "source": [
        "# Permutation Reconstruction from Differences\n",
        "\n",
        "https://arxiv.org/pdf/1410.6396.pdf"
      ]
    },
    {
      "cell_type": "code",
      "metadata": {
        "id": "YMKxvACO965Q",
        "colab_type": "code",
        "outputId": "b127ffac-1395-4382-b4a0-77b8d8153c62",
        "colab": {
          "base_uri": "https://localhost:8080/",
          "height": 280
        }
      },
      "source": [
        "def gen_instance(n):\n",
        "    import random\n",
        "    y = list(range(1, n + 1))\n",
        "    random.shuffle(y)\n",
        "    return [abs(y[i + 1] - y[i]) for i in range(n - 1)]\n",
        "\n",
        "\n",
        "import time\n",
        "start = time.time()\n",
        "times = []\n",
        "sizes = []\n",
        "for n in range(1, 30):\n",
        "    diffs = gen_instance(n)\n",
        "    ini = time.time()\n",
        "    pn.engine(n.bit_length() + 1)\n",
        "    x = pn.vector(size=n)\n",
        "    pn.all_different(x)\n",
        "    pn.apply_single(x, lambda a: 1 <= a <= n)\n",
        "    for i in range(n - 1):\n",
        "        assert pn.index(i, diffs) == pn.one_of([x[i + 1] - x[i], x[i] - x[i + 1]])\n",
        "    if pn.satisfy():\n",
        "        end = time.time() - ini\n",
        "        xx = [abs(x[i + 1] - x[i]) for i in range(n - 1)]\n",
        "        if xx == diffs:\n",
        "            sizes.append(n)\n",
        "            times.append(end)\n",
        "        else:\n",
        "            raise Exception('Error!')\n",
        "    else:\n",
        "        raise Exception('Error!')\n",
        "end = time.time() - start\n",
        "plt.title('TIME {}(s)'.format(end))\n",
        "plt.plot(sizes, times, 'k-')\n",
        "plt.plot(sizes, times, 'r.')\n",
        "plt.show()\n",
        "plt.close()"
      ],
      "execution_count": 20,
      "outputs": [
        {
          "output_type": "display_data",
          "data": {
            "image/png": "[encoded data removed]",
            "text/plain": [
              "<Figure size 432x288 with 1 Axes>"
            ]
          },
          "metadata": {
            "tags": [],
            "needs_background": "light"
          }
        }
      ]
    },
    {
      "cell_type": "markdown",
      "metadata": {
        "id": "bJwHMwDc965S",
        "colab_type": "text"
      },
      "source": [
        "# Hamiltonian Cycle Problem\n",
        "\n",
        "In the mathematical field of graph theory, a Hamiltonian path (or traceable path) is a path in an undirected or directed graph that visits each vertex exactly once. A Hamiltonian cycle (or Hamiltonian circuit) is a Hamiltonian path that is a cycle. Determining whether such paths and cycles exist in graphs is the Hamiltonian path problem, which is NP-complete.\n",
        "\n",
        "https://en.wikipedia.org/wiki/Hamiltonian_path"
      ]
    },
    {
      "cell_type": "code",
      "metadata": {
        "id": "UbxWGgHu965S",
        "colab_type": "code",
        "outputId": "c04fef63-fdfd-42fe-bd8d-1b287061d3b3",
        "colab": {
          "base_uri": "https://localhost:8080/",
          "height": 362
        }
      },
      "source": [
        "import sys\n",
        "n = 10\n",
        "M = np.random.randint(0, 2, size=(n, n))\n",
        "print(M)\n",
        "pn.engine((n ** 2).bit_length())\n",
        "ids, elements = pn.matrix_permutation((1 - M).flatten(), n)\n",
        "assert sum(elements) == 0\n",
        "if pn.satisfy():\n",
        "    for i in ids:\n",
        "        for j in ids:\n",
        "            sys.stdout.write('{} '.format(M[i.value][j.value]))\n",
        "        sys.stdout.write('\\n') \n",
        "    sys.stdout.write('\\n')\n",
        "else:\n",
        "    print('Infeasible ...')"
      ],
      "execution_count": 21,
      "outputs": [
        {
          "output_type": "stream",
          "text": [
            "[[1 1 0 0 0 1 0 1 0 1]\n",
            " [1 1 1 0 1 0 1 0 0 0]\n",
            " [0 1 1 0 0 1 0 1 1 1]\n",
            " [0 1 1 0 1 1 1 0 1 0]\n",
            " [1 1 1 1 1 0 0 0 1 0]\n",
            " [1 1 1 0 1 0 1 1 0 1]\n",
            " [0 1 1 1 1 0 1 1 0 1]\n",
            " [0 1 1 1 0 0 0 1 0 1]\n",
            " [0 1 1 0 1 0 1 1 1 0]\n",
            " [0 0 0 0 1 0 1 0 0 1]]\n",
            "1 1 1 0 1 1 0 0 1 0 \n",
            "1 1 1 0 0 0 1 0 1 1 \n",
            "1 0 1 1 0 1 0 0 1 0 \n",
            "1 1 0 0 1 0 1 0 1 1 \n",
            "1 0 1 0 0 1 1 1 1 1 \n",
            "0 0 0 0 0 1 1 0 0 1 \n",
            "1 1 0 1 0 0 1 1 1 0 \n",
            "0 0 1 0 1 1 0 1 1 0 \n",
            "1 0 0 0 0 0 1 1 1 1 \n",
            "1 0 1 1 0 1 1 0 1 1 \n",
            "\n"
          ],
          "name": "stdout"
        }
      ]
    },
    {
      "cell_type": "markdown",
      "metadata": {
        "id": "4a2Y3ykM965U",
        "colab_type": "text"
      },
      "source": [
        "# Bin packing problem\n",
        "\n",
        "In the bin packing problem, items of different volumes must be packed into a finite number of bins or containers each of a fixed given volume in a way that minimizes the number of bins used. In computational complexity theory, it is a combinatorial NP-hard problem. The decision problem (deciding if items will fit into a specified number of bins) is NP-complete.\n",
        "\n",
        "https://en.wikipedia.org/wiki/Bin_packing_problem"
      ]
    },
    {
      "cell_type": "code",
      "metadata": {
        "id": "udwwcxlG965U",
        "colab_type": "code",
        "outputId": "2ae5be5a-d30b-47cd-d9d1-1b8c722a4f48",
        "colab": {
          "base_uri": "https://localhost:8080/",
          "height": 197
        }
      },
      "source": [
        "capacity = 50\n",
        "size = 20\n",
        "elements = sorted([np.random.randint(1, capacity // 2 - 1) for _ in range(size)], reverse=True)\n",
        "print(capacity)\n",
        "print(elements)\n",
        "bins = int(np.ceil(sum(elements) / capacity))\n",
        "while True:\n",
        "    pn.engine(bits=capacity.bit_length() + 1)\n",
        "    slots = pn.vector(bits=len(elements), size=bins)\n",
        "    for i in range(len(elements)):\n",
        "        assert sum(pn.switch(slot, i) for slot in slots) == 1\n",
        "    for slot in slots:\n",
        "        assert sum(pn.switch(slot, i) * elements[i] for i in range(len(elements))) <= capacity\n",
        "    if pn.satisfy():\n",
        "        print('Solution for {} bins...'.format(bins))\n",
        "        for slot in slots:\n",
        "            print(''.join(['_' if boolean else '#' for boolean in slot.binary]))\n",
        "        for slot in slots:\n",
        "            sub = [item for i, item in enumerate(elements) if not slot.binary[i]]\n",
        "            print(sum(sub), sub)\n",
        "        break\n",
        "    else:\n",
        "        print('No solution for {} bins...'.format(bins))\n",
        "        bins += 1"
      ],
      "execution_count": 22,
      "outputs": [
        {
          "output_type": "stream",
          "text": [
            "50\n",
            "[23, 22, 20, 20, 19, 15, 15, 9, 8, 7, 6, 6, 6, 5, 4, 3, 2, 2, 2, 1]\n",
            "Solution for 4 bins...\n",
            "_____###_#____#_____\n",
            "___##___#______#____\n",
            "_#________#_##__####\n",
            "#_#________#________\n",
            "50 [15, 15, 9, 7, 4]\n",
            "50 [20, 19, 8, 3]\n",
            "46 [22, 6, 6, 5, 2, 2, 2, 1]\n",
            "49 [23, 20, 6]\n"
          ],
          "name": "stdout"
        }
      ]
    },
    {
      "cell_type": "markdown",
      "metadata": {
        "id": "oI6JNjwq965W",
        "colab_type": "text"
      },
      "source": [
        "# Zero-One Integer Programming Definition\n",
        "\n",
        "Zero-one integer programming (which can also be written as 0-1 integer programming) is a mathematical method of using a series of binary, yes (1) and no (0) answers to arrive at a solution when there are two mutually exclusive options.\n",
        "\n",
        "https://en.wikipedia.org/wiki/Integer_programming"
      ]
    },
    {
      "cell_type": "code",
      "metadata": {
        "id": "UBSuy8E1965W",
        "colab_type": "code",
        "outputId": "eaa7049b-602a-472c-8ab3-41ea2f5af3e0",
        "colab": {
          "base_uri": "https://localhost:8080/",
          "height": 164
        }
      },
      "source": [
        "n, m = 5, 10\n",
        "cc = np.random.randint(0, 1000, size=(n, m))\n",
        "d = np.dot(cc, np.random.randint(0, 2, size=(m,)))\n",
        "print(cc)\n",
        "print(d)\n",
        "pn.engine(bits=int(np.sum(cc)).bit_length())\n",
        "xs = pn.vector(size=m)\n",
        "pn.all_binaries(xs)\n",
        "assert (np.dot(cc, xs) == d).all()\n",
        "if pn.satisfy():\n",
        "    print(xs)\n",
        "    print('Proof:')\n",
        "    print(np.dot(cc, xs))\n",
        "else:\n",
        "    print('Infeasible...')"
      ],
      "execution_count": 23,
      "outputs": [
        {
          "output_type": "stream",
          "text": [
            "[[450 471 705  14 986 389 655 902  82 276]\n",
            " [484 608 839 565 660 405 623 958 364 203]\n",
            " [513 813 128 257 553 754 457 666 815 248]\n",
            " [698 356 488 516 681 633 892 289 777 161]\n",
            " [265 459 767 276 478 202 592 172 134 892]]\n",
            "[3267 3375 3220 4169 2438]\n",
            "[1, 0, 1, 0, 1, 1, 1, 0, 1, 0]\n",
            "Proof:\n",
            "[3267 3375 3220 4169 2438]\n"
          ],
          "name": "stdout"
        }
      ]
    },
    {
      "cell_type": "markdown",
      "metadata": {
        "id": "Q2UGOuKW965Y",
        "colab_type": "text"
      },
      "source": [
        "# n-Queens Completion Problem\n",
        "\n",
        "The n- Queens Completion problem is a variant, dating to 1850, in which some queens are already placed and the solver is asked to place the rest, if possi- ble. ... The n-Queens problem is to place n chess queens on an n by n chessboard so that no two queens are on the same row, column or diagonal.\n",
        "\n",
        "https://www.ijcai.org/Proceedings/2018/0794.pdf"
      ]
    },
    {
      "cell_type": "code",
      "metadata": {
        "id": "rECfC3zy965Y",
        "colab_type": "code",
        "outputId": "1493f34f-8576-49cb-f664-88a4cd26885d",
        "colab": {
          "base_uri": "https://localhost:8080/",
          "height": 329
        }
      },
      "source": [
        "def completion(n, m, seed):\n",
        "    import random\n",
        "    \"\"\"\n",
        "    http://www.csplib.org/Problems/prob079/data/queens-gen-fast.py.html\n",
        "    \"\"\"\n",
        "    random.seed(seed)\n",
        "\n",
        "    d1 = [0 for _ in range(2 * n - 1)]\n",
        "    d2 = [0 for _ in range(2 * n - 1)]\n",
        "\n",
        "    valid_rows = [i for i in range(n)]\n",
        "    valid_cols = [j for j in range(n)]\n",
        "\n",
        "    def no_attack(r, c):\n",
        "        return d1[r + c] == 0 and d2[r - c + n - 1] == 0\n",
        "\n",
        "    pc = []\n",
        "    queens_left = n\n",
        "\n",
        "    for attempt in range(n * n):\n",
        "        i = random.randrange(queens_left)\n",
        "        j = random.randrange(queens_left)\n",
        "        r = valid_rows[i]\n",
        "        c = valid_cols[j]\n",
        "        if no_attack(r, c):\n",
        "            pc.append([r, c])\n",
        "            d1[r + c] = 1\n",
        "            d2[r - c + n - 1] = 1\n",
        "            valid_rows[i] = valid_rows[queens_left - 1]\n",
        "            valid_cols[j] = valid_cols[queens_left - 1]\n",
        "            queens_left -= 1\n",
        "            if len(pc) == m:\n",
        "                return [[x + 1, y + 1] for x, y in pc]\n",
        "\n",
        "def show(pc):\n",
        "    table = ''\n",
        "    for i in range(1, n + 1):\n",
        "        table += ''\n",
        "        for j in range(1, n + 1):\n",
        "            if [i, j] not in pc:\n",
        "                table += '. '\n",
        "            else:\n",
        "                table += 'Q '\n",
        "        table += '\\n'\n",
        "    print(table)\n",
        "    print('# seed = {}'.format(seed))\n",
        "    \n",
        "n, m, seed = 8, 3, 0\n",
        "placed_queens = completion(n, m, seed)\n",
        "show(placed_queens)\n",
        "pn.engine(bits=n.bit_length() + 1)\n",
        "qs = pn.vector(size=n)\n",
        "for (a, b) in placed_queens:\n",
        "    assert qs[a - 1] == b - 1\n",
        "pn.apply_single(qs, lambda x: x < n)\n",
        "pn.apply_dual(qs, lambda x, y: x != y)\n",
        "pn.apply_dual([qs[i] + i for i in range(n)], lambda x, y: x != y)\n",
        "pn.apply_dual([qs[i] - i for i in range(n)], lambda x, y: x != y)\n",
        "if pn.satisfy():\n",
        "    for i in range(n):\n",
        "        print(''.join(['Q ' if qs[i] == j else '. ' for j in range(n)]))\n",
        "    print('')\n",
        "else:\n",
        "    print('Infeasible ...')"
      ],
      "execution_count": 24,
      "outputs": [
        {
          "output_type": "stream",
          "text": [
            ". . Q . . . . . \n",
            ". . . . . . . . \n",
            ". . . . . . . . \n",
            ". . . . . . . . \n",
            ". . . Q . . . . \n",
            ". . . . . . . . \n",
            ". . . . . . Q . \n",
            ". . . . . . . . \n",
            "\n",
            "# seed = 0\n",
            ". . Q . . . . . \n",
            ". . . . . Q . . \n",
            ". . . . . . . Q \n",
            ". Q . . . . . . \n",
            ". . . Q . . . . \n",
            "Q . . . . . . . \n",
            ". . . . . . Q . \n",
            ". . . . Q . . . \n",
            "\n"
          ],
          "name": "stdout"
        }
      ]
    },
    {
      "cell_type": "markdown",
      "metadata": {
        "id": "DalnuooVDIeY",
        "colab_type": "text"
      },
      "source": [
        "# Multidimensional knapsack problem\n",
        "\n",
        "https://link.springer.com/chapter/10.1007/978-3-540-24777-7_9"
      ]
    },
    {
      "cell_type": "code",
      "metadata": {
        "id": "cIvMJpSXDGw5",
        "colab_type": "code",
        "colab": {
          "base_uri": "https://localhost:8080/",
          "height": 82
        },
        "outputId": "f129d941-e696-455a-a378-45d4b5301b58"
      },
      "source": [
        "import numpy as np\n",
        "import peqnp as pn\n",
        "\n",
        "n = 90\n",
        "m = 5\n",
        "\n",
        "z = 11191\n",
        "c = [360, 83, 59, 130, 431, 67, 230, 52, 93, 125, 670, 892, 600, 38, 48, 147, 78, 256, 63, 17, 120, 164, 432, 35, 92, 110, 22, 42, 50, 323, 514, 28, 87, 73, 78, 15, 26, 78, 210, 36, 85, 189, 274, 43, 33, 10, 19, 389, 276, 312, 94, 68, 73, 192, 41, 163, 16, 40, 195, 138, 73, 152, 400, 26, 14, 170, 205, 57, 369, 435, 123, 25, 94, 88, 90, 146, 55, 29, 82, 74, 100, 72, 31, 29, 316, 244, 70, 82, 90, 52]\n",
        "\n",
        "b = [2100, 1100, 3300, 3700, 3600]\n",
        "a = [[7, 0, 30, 22, 80, 94, 11, 81, 70, 64, 59, 18, 0, 36, 3, 8, 15, 42, 9, 0, 42, 47, 52, 32, 26, 48, 55, 6, 29, 84, 2, 4, 18, 56, 7, 29, 93, 44, 71, 3, 86, 66, 31, 65, 0, 79, 20, 65, 52, 13, 48, 14, 5, 72, 14, 39, 46, 27, 11, 91, 15, 25, 0, 94, 53, 48, 27, 99, 6, 17, 69, 43, 0, 57, 7, 21, 78, 10, 37, 26, 20, 8, 4, 43, 17, 25, 36, 60, 84, 40],\n",
        "     [8, 66, 98, 50, 0, 30, 0, 88, 15, 37, 26, 72, 61, 57, 17, 27, 83, 3, 9, 66, 97, 42, 2, 44, 71, 11, 25, 74, 90, 20, 0, 38, 33, 14, 9, 23, 12, 58, 6, 14, 78, 0, 12, 99, 84, 31, 16, 7, 33, 20, 5, 18, 96, 63, 31, 0, 70, 4, 66, 9, 15, 25, 2, 0, 48, 1, 40, 31, 82, 79, 56, 34, 3, 19, 52, 36, 95, 6, 35, 34, 74, 26, 10, 85, 63, 31, 22, 9, 92, 18],\n",
        "     [3, 74, 88, 50, 55, 19, 0, 6, 30, 62, 17, 81, 25, 46, 67, 28, 36, 8, 1, 52, 19, 37, 27, 62, 39, 84, 16, 14, 21, 5, 60, 82, 72, 89, 16, 5, 29, 7, 80, 97, 41, 46, 15, 92, 51, 76, 57, 90, 10, 37, 25, 93, 5, 39, 0, 97, 6, 96, 2, 81, 69, 4, 32, 78, 65, 83, 62, 89, 45, 53, 52, 76, 72, 23, 89, 48, 41, 1, 27, 19, 3, 32, 82, 20, 2, 51, 18, 42, 4, 26],\n",
        "     [21, 40, 0, 6, 82, 91, 43, 30, 62, 91, 10, 41, 12, 4, 80, 77, 98, 50, 78, 35, 7, 1, 96, 67, 85, 4, 23, 38, 2, 57, 4, 53, 0, 33, 2, 25, 14, 97, 87, 42, 15, 65, 19, 83, 67, 70, 80, 39, 9, 5, 41, 31, 36, 15, 30, 87, 28, 13, 40, 0, 51, 79, 75, 43, 91, 60, 24, 18, 85, 83, 3, 85, 2, 5, 51, 63, 52, 85, 17, 62, 7, 86, 48, 2, 1, 15, 74, 80, 57, 16],\n",
        "     [94, 86, 80, 92, 31, 17, 65, 51, 46, 66, 44, 3, 26, 0, 39, 20, 11, 6, 55, 70, 11, 75, 82, 35, 47, 99, 5, 14, 23, 38, 94, 66, 64, 27, 77, 50, 28, 25, 61, 10, 30, 15, 12, 24, 90, 25, 39, 47, 98, 83, 56, 36, 6, 66, 89, 45, 38, 1, 18, 88, 19, 39, 20, 1, 7, 34, 68, 32, 31, 58, 41, 99, 92, 67, 33, 26, 25, 68, 37, 6, 11, 17, 48, 79, 63, 77, 17, 29, 18, 60]]\n",
        "\n",
        "\n",
        "pn.engine()\n",
        "xs = np.asarray(pn.vector(size=n, is_mip=True))\n",
        "pn.apply_single(xs, lambda x: x <= 1)\n",
        "for i in range(m):\n",
        "    assert np.dot(a[i], xs) <= b[i]\n",
        "assert np.dot(c, xs) <= z\n",
        "print(pn.maximize(np.dot(c, xs)))\n",
        "print(xs)"
      ],
      "execution_count": 25,
      "outputs": [
        {
          "output_type": "stream",
          "text": [
            "11190.999999999995\n",
            "[1 0 0 0 1 0 1 0 1 1 1 1 1 0 0 1 0 1 1 0 0 1 1 0 0 1 0 0 0 1 1 0 0 1 1 0 0\n",
            " 0 1 1 0 1 1 0 0 0 0 1 1 1 1 1 0 1 0 1 0 1 1 1 1 1 1 1 0 1 1 0 1 1 0 0 1 1\n",
            " 0 1 0 1 0 0 0 1 1 0 1 1 1 1 0 1]\n"
          ],
          "name": "stdout"
        }
      ]
    },
    {
      "cell_type": "markdown",
      "metadata": {
        "id": "QJiSiXi_DyFL",
        "colab_type": "text"
      },
      "source": [
        "# Partition Problem\n",
        "\n",
        "n number theory and computer science, the partition problem, or number partitioning, is the task of deciding whether a given multiset $S$ of positive integers can be partitioned into two subsets $S_1$ and $S_2$ such that the sum of the numbers in $S_1$ equals the sum of the numbers in $S_2$.\n",
        "\n",
        "https://en.wikipedia.org/wiki/Partition_problem\n",
        "\n"
      ]
    },
    {
      "cell_type": "code",
      "metadata": {
        "id": "yZlJB_TdDwyc",
        "colab_type": "code",
        "colab": {
          "base_uri": "https://localhost:8080/",
          "height": 82
        },
        "outputId": "4c76ff14-9959-4872-8cf6-be3d76aefe7e"
      },
      "source": [
        "import numpy as np\n",
        "import peqnp as pn\n",
        "\n",
        "size = 20\n",
        "\n",
        "data = np.random.randint(1000, size=size)\n",
        "\n",
        "print(data)\n",
        "\n",
        "pn.engine(int(sum(data)).bit_length())\n",
        "\n",
        "T, sub, com = pn.subsets(data, complement=True)\n",
        "\n",
        "assert sum(sub) == sum(com)\n",
        "\n",
        "if pn.satisfy():\n",
        "    sub_ = [data[i] for i in range(size) if T.binary[i]]\n",
        "    com_ = [data[i] for i in range(size) if not T.binary[i]]\n",
        "    print(sum(sub_), sub_)\n",
        "    print(sum(com_), com_)\n",
        "else:\n",
        "    print('Infeasible ...')"
      ],
      "execution_count": 26,
      "outputs": [
        {
          "output_type": "stream",
          "text": [
            "[ 69 476  61  99 576 445 340 166 833 626 733 584 740  62 144 236 444 769\n",
            " 496 395]\n",
            "4147 [69, 476, 61, 99, 445, 166, 626, 733, 740, 236, 496]\n",
            "4147 [576, 340, 833, 584, 62, 144, 444, 769, 395]\n"
          ],
          "name": "stdout"
        }
      ]
    },
    {
      "cell_type": "markdown",
      "metadata": {
        "id": "vAyAnEGqFN-L",
        "colab_type": "text"
      },
      "source": [
        "# Optimal Facility Selection & Location Problem\n",
        "\n",
        "Giben a set of facilities, select a number of them such that be optimal in terms of distance to demands."
      ]
    },
    {
      "cell_type": "code",
      "metadata": {
        "id": "JGuXCUMbEvao",
        "colab_type": "code",
        "colab": {
          "base_uri": "https://localhost:8080/",
          "height": 1000
        },
        "outputId": "0904ee43-5ae3-44cc-d393-eef38a923c28"
      },
      "source": [
        "import numpy as np\n",
        "import peqnp as pn\n",
        "import matplotlib.pyplot as plt\n",
        "\n",
        "\n",
        "def plot(I, J=None, X=None, title='Original', obj=0):\n",
        "    plt.figure(figsize=(10, 10))\n",
        "    plt.title('{} : {}'.format(title, obj))\n",
        "    a, b = zip(*I)\n",
        "    plt.scatter(a, b, c='blue', s=50, alpha=0.6)\n",
        "    if J is not None:\n",
        "        if X is not None:\n",
        "            for i in range(m):\n",
        "                for j in range(n):\n",
        "                    if X[i][j]:\n",
        "                        plt.plot([I[i][0], J[j][0]], [I[i][1], J[j][1]], 'g-',alpha=0.2)\n",
        "        a, b = zip(*J)\n",
        "        plt.scatter(a, b, c='red', s=300, alpha=0.8)\n",
        "    else:\n",
        "        a, b = zip(*J)\n",
        "        plt.scatter(a, b, c='red', s=300, alpha=0.8)\n",
        "    plt.show()\n",
        "    plt.close()\n",
        "\n",
        "\n",
        "def oracle(seq):\n",
        "    global O, glb, n\n",
        "    M = np.zeros(shape=(m, n))\n",
        "    for i in range(m):\n",
        "        for j in range(n):\n",
        "            M[i][j] = np.linalg.norm(I[i] - J[seq[j]])\n",
        "    pn.engine()\n",
        "    X = np.asarray(pn.matrix(dimensions=(m, n), is_mip=True))\n",
        "    pn.all_binaries(X.flatten())\n",
        "    assert sum(X.flatten()) == m\n",
        "    assert (X.sum(axis=1) == 1).all()\n",
        "    obj = pn.minimize(sum(X[i][j] * M[i][j] for i in range(m) for j in range(n)))\n",
        "    O = np.vectorize(int)(X)\n",
        "    return obj\n",
        "\n",
        "m = 50\n",
        "k = 15\n",
        "n = 3\n",
        "I = np.random.sample(size=(m, 2))    \n",
        "J = np.random.sample(size=(k, 2))\n",
        "plot(I, J)\n",
        "seq = pn.hess_sequence(k, oracle=oracle, fast=False)\n",
        "plot(I, J[seq][:n], O, 'www.peqnp.com', oracle(seq))"
      ],
      "execution_count": 32,
      "outputs": [
        {
          "output_type": "display_data",
          "data": {
            "image/png": "[encoded data removed]",
            "text/plain": [
              "<Figure size 720x720 with 1 Axes>"
            ]
          },
          "metadata": {
            "tags": [],
            "needs_background": "light"
          }
        },
        {
          "output_type": "display_data",
          "data": {
            "image/png": "[encoded data removed]",
            "text/plain": [
              "<Figure size 720x720 with 1 Axes>"
            ]
          },
          "metadata": {
            "tags": [],
            "needs_background": "light"
          }
        }
      ]
    },
    {
      "cell_type": "markdown",
      "metadata": {
        "id": "Eihja_R2Goa8",
        "colab_type": "text"
      },
      "source": [
        "# TSP MIP formulation vs HESS Algorithm (O. Riveros)"
      ]
    },
    {
      "cell_type": "code",
      "metadata": {
        "id": "y4r0uSRZGnZx",
        "colab_type": "code",
        "colab": {
          "base_uri": "https://localhost:8080/",
          "height": 592
        },
        "outputId": "08866730-9a01-403b-98df-bf04abb4ad21"
      },
      "source": [
        "import numpy as np\n",
        "import peqnp as pn\n",
        "import matplotlib.pyplot as plt\n",
        "\n",
        "\n",
        "def plot(tour, title):\n",
        "    x, y = zip(*[data[tour[i]] for i in range(n)] + [data[tour[0]]])\n",
        "    plt.title(title + ' : {}'.format(oracle(tour)))\n",
        "    plt.plot(x, y, 'r-')\n",
        "    plt.plot(x, y, 'ko')\n",
        "    plt.show()\n",
        "    plt.close()\n",
        "\n",
        "\n",
        "def oracle(seq):\n",
        "    return sum(D[seq[i - 1]][seq[i]] for i in range(n))\n",
        "\n",
        "n = 10\n",
        "data = np.random.logistic(size=(n, 2))\n",
        "D = np.zeros(shape=(n, n))\n",
        "for i in range(n):\n",
        "    for j in range(n):\n",
        "        D[i][j] = int(np.linalg.norm(data[i] - data[j]))\n",
        "\n",
        "seq = pn.hess_sequence(n, oracle=oracle, fast=False)\n",
        "print(oracle(seq))\n",
        "plot(seq, 'HESS')\n",
        "\n",
        "pn.engine()\n",
        "\n",
        "M = np.asarray(pn.matrix(dimensions=(n, n), is_mip=True))\n",
        "u = pn.vector(size=n, is_mip=True)\n",
        "\n",
        "for k in range(n):\n",
        "    assert M[k][k] == 0\n",
        "\n",
        "assert sum(M.flatten()) == n\n",
        "\n",
        "for i in range(n):\n",
        "    for j in range(n):\n",
        "        assert M[i][j] <= 1\n",
        "\n",
        "for a, b in zip(M, M.T):\n",
        "    assert sum(a) == 1\n",
        "    assert sum(b) == 1\n",
        "\n",
        "for i in range(1, n):\n",
        "    for j in range(1, n):\n",
        "        if i != j:\n",
        "            assert u[i] - u[j] + (n - 1) * M[i][j] <= n - 2\n",
        "\n",
        "optimal = pn.minimize(sum(D[i][j] * M[i][j] for i in range(n) for j in range(n)))\n",
        "print(optimal)\n",
        "\n",
        "path = {}\n",
        "for i in range(n):\n",
        "    for j in range(n):\n",
        "        if M[i][j].value:\n",
        "            path[j] = i\n",
        "\n",
        "tour = [0, path[0]]\n",
        "while len(tour) < n:\n",
        "    tour.append(path[tour[-1]])\n",
        "plot(tour, 'MIP')\n",
        "\n",
        "print('ratio HESS / MIP = {}'.format(oracle(seq) / optimal))"
      ],
      "execution_count": 31,
      "outputs": [
        {
          "output_type": "stream",
          "text": [
            "17.0\n"
          ],
          "name": "stdout"
        },
        {
          "output_type": "display_data",
          "data": {
            "image/png": "[encoded data removed]",
            "text/plain": [
              "<Figure size 432x288 with 1 Axes>"
            ]
          },
          "metadata": {
            "tags": [],
            "needs_background": "light"
          }
        },
        {
          "output_type": "stream",
          "text": [
            "16.999999999999982\n"
          ],
          "name": "stdout"
        },
        {
          "output_type": "display_data",
          "data": {
            "image/png": "[encoded data removed]",
            "text/plain": [
              "<Figure size 432x288 with 1 Axes>"
            ]
          },
          "metadata": {
            "tags": [],
            "needs_background": "light"
          }
        },
        {
          "output_type": "stream",
          "text": [
            "ratio HESS / MIP = 1.000000000000001\n"
          ],
          "name": "stdout"
        }
      ]
    },
    {
      "cell_type": "markdown",
      "metadata": {
        "id": "kfTsO3kq965a",
        "colab_type": "text"
      },
      "source": [
        "# The PEQNP Standard Library\n",
        "\n",
        "```python\n",
        "def version():\n",
        "    \"\"\"\n",
        "    Print the current version of the system.\n",
        "    :return:\n",
        "    \"\"\"\n",
        "\n",
        "\n",
        "def engine(bits=None, sat_solver_path=None, mip_solver_path=None, info=False):\n",
        "    \"\"\"\n",
        "    Initialize and reset the internal state of solver engine.\n",
        "    :param bits: The bits 2 ** bits - 1 of solving space.\n",
        "    :param sat_solver_path: Path of the PEQNP compatible SAT Solver to use.\n",
        "    :param mip_solver_path: Path of the PEQNP compatible MIP Solver to use.\n",
        "    :param info: Return the info of the current system.\n",
        "    :return:\n",
        "    \"\"\"\n",
        "\n",
        "\n",
        "def integer(bits=None):\n",
        "    \"\"\"\n",
        "    Correspond to an integer.\n",
        "    :param bits: The bits of the integer.\n",
        "    :return: An instance of Integer.\n",
        "    \"\"\"\n",
        "\n",
        "\n",
        "def constant(value, bits=None):\n",
        "    \"\"\"\n",
        "    Correspond to an constant of value with bits bits.\n",
        "    :param bits: The bits bits of the constant.\n",
        "    :param value: The value that represent the constant.\n",
        "    :return: An instance of Constant.\n",
        "    \"\"\"\n",
        "\n",
        "\n",
        "def satisfy():\n",
        "    \"\"\"\n",
        "    Find a model for the current problem.\n",
        "    :return: True if SATISFIABLE else False\n",
        "    \"\"\"\n",
        "\n",
        "\n",
        "def subsets(lst, k=None, complement=False):\n",
        "    \"\"\"\n",
        "    Generate all subsets for an specific universe of data.\n",
        "    :param lst: The universe of data.\n",
        "    :param k: The cardinality of the subsets.\n",
        "    :param complement: True if include in return the complement.\n",
        "    :return: (binary representation of subsets, the generic subset representation, the complement of subset if complement=True)\n",
        "    \"\"\"\n",
        "\n",
        "\n",
        "def subset(data, k, empty=None, complement=False):\n",
        "    \"\"\"\n",
        "    An operative structure (like integer ot constant) that represent a subset of at most k elements.\n",
        "    :param data: The data for the subsets.\n",
        "    :param k: The maximal bits for subsets.\n",
        "    :param empty: The empty element, 0, by default.\n",
        "    :param complement: True if include in return the complement.\n",
        "    :return: An instance of subset or (subset, complement) if complement=True.\n",
        "    \"\"\"\n",
        "\n",
        "\n",
        "def vector(bits=None, size=None, is_rational=False, is_gaussian=False, is_mip=False, is_real=False):\n",
        "    \"\"\"\n",
        "    A vector of integers.\n",
        "    :param bits: The bit bits for each integer.\n",
        "    :param size: The bits of the vector.\n",
        "    :param is_rational: Indicate of is a Rational vector.\n",
        "    :param is_gaussian: Indicate of is a Gaussian Integers vector.\n",
        "    :param is_mip: Indicate of is a MIP vector.\n",
        "    :param is_real: Indicate of is a MIP vector and is real or int.\n",
        "    :return: An instance of vector.\n",
        "    \"\"\"\n",
        "\n",
        "\n",
        "def matrix(bits=None, dimensions=None, is_mip=False, is_real=False):\n",
        "    \"\"\"\n",
        "    A matrix of integers.\n",
        "    :param bits: The bit bits for each integer.\n",
        "    :param dimensions: An tuple with the dimensions for the array (n, m).\n",
        "    :param is_mip: Indicate of is a MIP vector.\n",
        "    :param is_real: Indicate of is a MIP vector and is real or int.\n",
        "    :return: An instance of Matrix.\n",
        "    \"\"\"\n",
        "\n",
        "\n",
        "def matrix_permutation(lst, n):\n",
        "    \"\"\"\n",
        "    This generate the permutations for an square matrix.\n",
        "    :param lst: The flattened matrix of data, i.e. a vector.\n",
        "    :param n: The dimension for the square nxn-matrix.\n",
        "    :return: An tuple with (index for the elements, the elements that represent the indexes)\n",
        "    \"\"\"\n",
        "\n",
        "\n",
        "def permutations(lst, n):\n",
        "    \"\"\"\n",
        "    Entangle all permutations of bits n for the vector lst.\n",
        "    :param lst: The list to entangle.\n",
        "    :param n: The bits of entanglement.\n",
        "    :return: (indexes, values)\n",
        "    \"\"\"\n",
        "\n",
        "\n",
        "def combinations(lst, n):\n",
        "    \"\"\"\n",
        "    Entangle all combinations of bits n for the vector lst.\n",
        "    :param lst: The list to entangle.\n",
        "    :param n: The bits of entanglement.\n",
        "    :return: (indexes, values)\n",
        "    \"\"\"\n",
        "\n",
        "\n",
        "def all_binaries(lst):\n",
        "    \"\"\"\n",
        "    This say that, the vector of integer are all binaries.\n",
        "    :param lst: The vector of integers.\n",
        "    :return:\n",
        "    \"\"\"\n",
        "\n",
        "\n",
        "def switch(x, ith, neg=False):\n",
        "    \"\"\"\n",
        "    This conditionally flip the internal bit for an integer.\n",
        "    :param x: The integer.\n",
        "    :param ith: Indicate the ith bit.\n",
        "    :param neg: indicate if the condition is inverted.\n",
        "    :return: 0 if the uth bit for the argument collapse to true else return 1, if neg is active exchange 1 by 0.\n",
        "    \"\"\"\n",
        "\n",
        "\n",
        "def one_of(lst):\n",
        "    \"\"\"\n",
        "    This indicate that at least one of the instruction on the array is active for the current problem.\n",
        "    :param lst: A list of instructions.\n",
        "    :return: The entangled structure.\n",
        "    \"\"\"\n",
        "\n",
        "\n",
        "def factorial(x):\n",
        "    \"\"\"\n",
        "    The factorial for the integer.\n",
        "    :param x: The integer.\n",
        "    :return: The factorial.\n",
        "    \"\"\"\n",
        "\n",
        "\n",
        "def sigma(f, i, n):\n",
        "    \"\"\"\n",
        "    The Sum for i to n, for the lambda f f,\n",
        "    :param f: A lambda f with an standard int parameter.\n",
        "    :param i: The start for the Sum, an standard int.\n",
        "    :param n: The integer that represent the end of the Sum.\n",
        "    :return: The entangled structure.\n",
        "    \"\"\"\n",
        "\n",
        "\n",
        "def pi(f, i, n):\n",
        "    \"\"\"\n",
        "    The Pi for i to n, for the lambda f f,\n",
        "    :param f: A lambda f with an standard int parameter.\n",
        "    :param i: The start for the Pi, an standard int.\n",
        "    :param n: The integer that represent the end of the Pi.\n",
        "    :return: The entangled structure.\n",
        "    \"\"\"\n",
        "\n",
        "\n",
        "def dot(xs, ys):\n",
        "    \"\"\"\n",
        "    The dot product of two compatible Vectors.\n",
        "    :param xs: The fist vector.\n",
        "    :param ys: The second vector.\n",
        "    :return: The dot product.\n",
        "    \"\"\"\n",
        "\n",
        "\n",
        "def mul(xs, ys):\n",
        "    \"\"\"\n",
        "    The elementwise product of two Vectors.\n",
        "    :param xs: The fist vector.\n",
        "    :param ys: The second vector.\n",
        "    :return: The product.\n",
        "    \"\"\"\n",
        "\n",
        "\n",
        "def apply_single(lst, f):\n",
        "    \"\"\"\n",
        "    A sequential operation over a vector.\n",
        "    :param lst: The vector.\n",
        "    :param f: The lambda f of one integer variable.\n",
        "    :return: The entangled structure.\n",
        "    \"\"\"\n",
        "\n",
        "\n",
        "def apply_dual(lst, f):\n",
        "    \"\"\"\n",
        "    A cross operation over a vector on all pairs i, j such that i < j elements.\n",
        "    :param lst: The vector.\n",
        "    :param f: The lambda f of two integer variables.\n",
        "    :return: The entangled structure.\n",
        "    \"\"\"\n",
        "\n",
        "\n",
        "def apply_different(lst, f):\n",
        "    \"\"\"\n",
        "    A cross operation over a vector on all pairs i, j such that i != j elements.\n",
        "    :param lst: The vector.\n",
        "    :param f: The lambda f of two integer variables.\n",
        "    :return: The entangled structure.\n",
        "    \"\"\"\n",
        "\n",
        "\n",
        "def all_different(args):\n",
        "    \"\"\"\n",
        "    The all different global constraint.\n",
        "    :param args: A vector of integers.\n",
        "    :return:\n",
        "    \"\"\"\n",
        "\n",
        "\n",
        "def all_out(args, values):\n",
        "    \"\"\"\n",
        "    The all different to values global constraint.\n",
        "    :param args: A vector of integers.\n",
        "    :param values: The values excluded.\n",
        "    :return:\n",
        "    \"\"\"\n",
        "\n",
        "\n",
        "def all_in(args, values):\n",
        "    \"\"\"\n",
        "    The all in values global constraint.\n",
        "    :param args: A vector of integers.\n",
        "    :param values: The values included.\n",
        "    :return:\n",
        "    \"\"\"\n",
        "\n",
        "\n",
        "def flatten(mtx):\n",
        "    \"\"\"\n",
        "    Flatten a matrix into list.\n",
        "    :param mtx: The matrix.\n",
        "    :return: The entangled structure.\n",
        "    \"\"\"\n",
        "\n",
        "\n",
        "def bits():\n",
        "    \"\"\"\n",
        "    The current bits for the engine.\n",
        "    :return: The bits\n",
        "    \"\"\"\n",
        "\n",
        "\n",
        "def oo():\n",
        "    \"\"\"\n",
        "    The infinite for rhe system, the maximal value for the current engine.\n",
        "    :return: 2 ** bits - 1\n",
        "    \"\"\"\n",
        "\n",
        "\n",
        "def element(item, data):\n",
        "    \"\"\"\n",
        "    Ensure that the element i is on the data, on the position index.\n",
        "    :param item: The element\n",
        "    :param data: The data\n",
        "    :return: The position of element\n",
        "    \"\"\"\n",
        "\n",
        "\n",
        "def index(ith, data):\n",
        "    \"\"\"\n",
        "    Ensure that the element i is on the data, on the position index.\n",
        "    :param ith: The element\n",
        "    :param data: The data\n",
        "    :return: The position of element\n",
        "    \"\"\"\n",
        "\n",
        "\n",
        "def gaussian(x=None, y=None):\n",
        "    \"\"\"\n",
        "    Create a gaussian integer from (x+yj).\n",
        "    :param x: real\n",
        "    :param y: imaginary\n",
        "    :return: (x+yj)\n",
        "    \"\"\"\n",
        "\n",
        "\n",
        "def rational(x=None, y=None):\n",
        "    \"\"\"\n",
        "    Create a rational x / y.\n",
        "    :param x: numerator\n",
        "    :param y: denominator\n",
        "    :return: x / y\n",
        "    \"\"\"\n",
        "\n",
        "\n",
        "def at_most_k(x, k):\n",
        "    \"\"\"\n",
        "    At most k bits can be activated for this integer.\n",
        "    :param x: An integer.\n",
        "    :param k: k elements\n",
        "    :return: The encoded variable\n",
        "    \"\"\"\n",
        "\n",
        "\n",
        "def sqrt(x):\n",
        "    \"\"\"\n",
        "    Define x as a perfect square.\n",
        "    :param x: The integer\n",
        "    :return: The square of this integer.\n",
        "    \"\"\"\n",
        "\n",
        "\n",
        "def hess_sequence(n, oracle, fast=True, cycles=1):\n",
        "    \"\"\"\n",
        "    HESS Algorithm is a Universal Black Box Optimizer (sequence version).\n",
        "    :param n: The size of sequence.\n",
        "    :param oracle: The oracle, this output a number and input a sequence.\n",
        "    :param fast: More fast less accuracy.\n",
        "    :param cycles: How many times the HESS algorithm is executed.\n",
        "    :return optimized sequence.\n",
        "    \"\"\"\n",
        "\n",
        "\n",
        "def hess_binary(n, oracle, fast=True, cycles=1):\n",
        "    \"\"\"\n",
        "    HESS Algorithm is a Universal Black Box Optimizer (binary version).\n",
        "    :param n: The size of bit vector.\n",
        "    :param oracle: The oracle, this output a number and input a bit vector.\n",
        "    :param fast: More fast some times less accuracy.\n",
        "    :param cycles: How many times the HESS algorithm is executed.\n",
        "    :return optimized sequence.\n",
        "    \"\"\"\n",
        "\n",
        "\n",
        "def hyper_loop(n, m):\n",
        "    \"\"\"\n",
        "    An nested for loop\n",
        "    :param n: The size of the samples\n",
        "    :param m: The numbers in the sample 0..m\n",
        "    :return:\n",
        "    \"\"\"\n",
        "\n",
        "\n",
        "def reshape(lst, dimensions):\n",
        "    \"\"\"\n",
        "    Reshape a list\n",
        "    :param lst: The coherent list to reshape\n",
        "    :param dimensions:  The list of dimensions\n",
        "    :return: The reshaped list\n",
        "    \"\"\"\n",
        "\n",
        "\n",
        "def tensor(dimensions):\n",
        "    \"\"\"\n",
        "    Create a tensor\n",
        "    :param dimensions: The list of dimensions\n",
        "    :return: A tensor\n",
        "    \"\"\"\n",
        "\n",
        "\n",
        "def linear(is_real=False):\n",
        "    \"\"\"\n",
        "    Create a linear variable.\n",
        "    :param is_real: If true, the variable is a real number if not an integer.\n",
        "    :return: The new variable.\n",
        "    \"\"\"\n",
        "\n",
        "\n",
        "def maximize(objective):\n",
        "    \"\"\"\n",
        "    Maximize the objective, according to the current linear constrains.\n",
        "    :param objective: An standard linear expression.\n",
        "    :return: the values of the model in order of variable creation.\n",
        "    \"\"\"\n",
        "\n",
        "\n",
        "def minimize(objective):\n",
        "    \"\"\"\n",
        "    Minimize the objective, according to the current linear constrains.\n",
        "    :param objective: An standard linear expression.\n",
        "    :return: the values of the model in order of variable creation.\n",
        "    \"\"\"\n",
        "```"
      ]
    },
    {
      "cell_type": "markdown",
      "metadata": {
        "id": "YlWfeCEM965a",
        "colab_type": "text"
      },
      "source": [
        "# PEQNP Compatible SAT and MIP Solvers\n",
        "\n",
        "The PEQNP System offers a minimal interface to implement, for use the system with you own solver.\n",
        "\n",
        "on www.peqnp.com exist a implementation of the PEQNP interface for the http://fmv.jku.at/cadical \"CaDiCaL Simplified Satisfiability Solver\" created by Armin Biere.\n",
        "\n",
        "```python\n",
        "CaDiCaL = 'Path to CaDiCal dinamic linked library with PEQNP SAT Interface'\n",
        "pn.engine(sat_solver_path=CaDiCaL, info=True)\n",
        "```"
      ]
    }
  ]
}