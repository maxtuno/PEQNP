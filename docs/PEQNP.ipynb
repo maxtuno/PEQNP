{
 "cells": [
  {
   "cell_type": "markdown",
   "metadata": {
    "colab_type": "text",
    "id": "71mQEXWm964S"
   },
   "source": [
    "# PEQNP Mathematical Solver\n",
    "\n",
    "The PEQNP System its an automatic CNF and MIP encoder multi SAT and MIP Solver for General Constrained Diophantine Equations and NP-Complete Problems, full integrated with Python and zero dependencies.\n",
    "\n",
    "For more info visit [www.peqnp.com](http://www.peqnp.com)"
   ]
  },
  {
   "cell_type": "markdown",
   "metadata": {
    "colab_type": "text",
    "id": "JzM69hBn964T"
   },
   "source": [
    "# Installation\n",
    "[![Downloads](https://pepy.tech/badge/peqnp)](https://pepy.tech/project/peqnp)\n",
    "```python\n",
    "pip install PEQNP --upgrade\n",
    "```"
   ]
  },
  {
   "cell_type": "code",
   "execution_count": 2,
   "metadata": {
    "colab": {
     "base_uri": "https://localhost:8080/",
     "height": 32
    },
    "colab_type": "code",
    "id": "GMnjfDhU_EEc",
    "outputId": "3ba01149-1c7f-46a3-84c4-34c22439e595"
   },
   "outputs": [
    {
     "name": "stdout",
     "output_type": "stream",
     "text": [
      "Requirement already up-to-date: PEQNP in ./venv/lib/python3.8/site-packages (4.0.1)\n",
      "\u001b[33mWARNING: You are using pip version 19.2.3, however version 20.1.1 is available.\n",
      "You should consider upgrading via the 'pip install --upgrade pip' command.\u001b[0m\n"
     ]
    }
   ],
   "source": [
    "!pip install PEQNP --upgrade"
   ]
  },
  {
   "cell_type": "markdown",
   "metadata": {},
   "source": [
    "# Introducion\n",
    "\n",
    "On PEQNP all elements are integers and relations on this integers, this relations are at bit level or arithmetic level. All integers live on $\\mathbb{N}_{2 ^ {bits} - 1}$ and always positives, i.e. for two integer \\(x, y\\) the operation, \\(x - y\\) take all possibilities such that $x - y >= 0$.\n",
    "\n",
    "# Supported Operations\n",
    "\n",
    "$+, -, *, /, **, pow_mod, \\%, & , | , ^ , == , = , < , <= , > , >=$\n",
    "\n",
    "# The Mantra\n",
    "\n",
    "First is needed import all PEQNP system.\n",
    "\n",
    "```python\n",
    "import peqnp as pn\n",
    "```\n",
    "\n",
    "Define the data and constants.\n",
    "```python\n",
    "bits = 10\n",
    "```\n",
    "\n",
    "Next initialize the engine.\n",
    "```python\n",
    "pn.engine(bits=10)\n",
    "```\n",
    "\n",
    "Declare variables.\n",
    "```python\n",
    "x = pn.integer()\n",
    "```\n",
    "\n",
    "Add constrains.\n",
    "```python\n",
    "assert x < 10\n",
    "```\n",
    "\n",
    "Solve the problem.\n",
    "```python\n",
    "while pn.satisfy():\n",
    "    print(x)\n",
    "```"
   ]
  },
  {
   "cell_type": "markdown",
   "metadata": {
    "colab_type": "text",
    "id": "aiWphw2k964V"
   },
   "source": [
    "# Integer factorization\n",
    "\n",
    "In number theory, integer factorization is the decomposition of a composite number into a product of smaller integers. If these factors are further restricted to prime numbers, the process is called prime factorization."
   ]
  },
  {
   "cell_type": "code",
   "execution_count": 3,
   "metadata": {
    "colab": {
     "base_uri": "https://localhost:8080/",
     "height": 115
    },
    "colab_type": "code",
    "id": "7S96pDBk964W",
    "outputId": "b20d0daf-0acd-48d8-9da3-3a83aba5994d"
   },
   "outputs": [
    {
     "name": "stdout",
     "output_type": "stream",
     "text": [
      "1 716861219589301\n",
      "13727323 52221487\n",
      "52221487 13727323\n",
      "716861219589301 1\n"
     ]
    }
   ],
   "source": [
    "import peqnp as pn\n",
    "\n",
    "rsa = 716861219589301\n",
    "\n",
    "pn.engine(rsa.bit_length())\n",
    "\n",
    "p = pn.integer()\n",
    "q = pn.integer()\n",
    "\n",
    "assert p * q == rsa\n",
    "\n",
    "while pn.satisfy(turbo=True):\n",
    "    print(p, q)"
   ]
  },
  {
   "cell_type": "markdown",
   "metadata": {
    "colab_type": "text",
    "id": "lxKWdGrI964h"
   },
   "source": [
    "# A Full Example - multiset reconstruction by differences\n",
    "\n",
    "Given a sorted multiset, their differences and one tip: an element and position for only one arbitrary element, is possible recovery the original multiset?"
   ]
  },
  {
   "cell_type": "code",
   "execution_count": null,
   "metadata": {
    "colab": {
     "base_uri": "https://localhost:8080/",
     "height": 905
    },
    "colab_type": "code",
    "id": "sDtWaw6l964i",
    "outputId": "75e0e7c9-6b16-4188-c655-c5f43a638078"
   },
   "outputs": [],
   "source": [
    "import time\n",
    "import random\n",
    "import peqnp as pn\n",
    "\n",
    "\n",
    "def generator(n, max_val):\n",
    "    return sorted([random.randint(1, max_val) for _ in range(n)])\n",
    "\n",
    "\n",
    "def differences(lst):\n",
    "    return [abs(lst[i] - lst[i - 1]) for i in range(1, len(lst))]\n",
    "\n",
    "\n",
    "# 100 tests\n",
    "for n in range(1, 10):\n",
    "\n",
    "    m = random.randint(1, n ** 2)\n",
    "\n",
    "    original = generator(n, m)\n",
    "    diffs = differences(original)\n",
    "\n",
    "    print('N, M         : {}, {}'.format(n, m))\n",
    "    print('DIFFERENCES  : {}'.format(diffs))\n",
    "    print('ORIGINAL     : {}'.format(original))\n",
    "\n",
    "    # only one tip\n",
    "    ith = random.choice(range(n))\n",
    "    tip = original[ith]\n",
    "\n",
    "    # init timer\n",
    "    ini = time.time()\n",
    "\n",
    "    # Empirical bits necessarily to solve the problem.\n",
    "    pn.engine(sum(diffs).bit_length() + 4)\n",
    "\n",
    "    # Declare a n-vector of integer variables to store the solution.\n",
    "    x = pn.vector(size=n)\n",
    "\n",
    "    # The tip is on x at index ith\n",
    "    assert tip == pn.index(ith, x)\n",
    "\n",
    "    # The i-th element of the instance is the absolute difference of two consecutive elements\n",
    "    for i in range(n - 1):\n",
    "        assert x[i] <= x[i + 1]\n",
    "        assert pn.index(i, diffs) == x[i + 1] - x[i]\n",
    "\n",
    "    # Solve the problem for only one solution.\n",
    "    if pn.satisfy():\n",
    "        o = [abs(x[i + 1] - x[i]) for i in range(n - 1)]\n",
    "        c = 100 * len(set(map(int, x)).intersection(set(original))) / len(set(original))\n",
    "        print('SOLVED       : {}'.format(x))\n",
    "        print('COINCIDENCES : {}%'.format(c))\n",
    "        if o == diffs:\n",
    "            print('OK! - {}s'.format(time.time() - ini))\n",
    "        else:\n",
    "            print('NOK! - {}s'.format(time.time() - ini))\n",
    "            raise Exception('ERROR!')\n",
    "        if c != 100:\n",
    "            raise Exception('Hypothesis Fail - 100%')"
   ]
  },
  {
   "cell_type": "markdown",
   "metadata": {
    "colab_type": "text",
    "id": "1QVj79ln964n"
   },
   "source": [
    "# MIP\n",
    "\n",
    "A submodule dedicated to Mixed Integer Programming.\n",
    "\n",
    "https://en.wikipedia.org/wiki/Integer_programming"
   ]
  },
  {
   "cell_type": "code",
   "execution_count": null,
   "metadata": {
    "colab": {
     "base_uri": "https://localhost:8080/",
     "height": 197
    },
    "colab_type": "code",
    "id": "Gnk1zZeJ964o",
    "outputId": "cf1cd427-a03a-48c7-9c18-3d2868db9299"
   },
   "outputs": [],
   "source": [
    "import peqnp as pn\n",
    "\n",
    "pn.engine()\n",
    "\n",
    "x0 = pn.linear(is_real=True)\n",
    "x1 = pn.linear(is_real=True)\n",
    "x2 = pn.linear(is_real=True)\n",
    "x3 = pn.linear(is_real=True)\n",
    "x4 = pn.linear(is_real=True)\n",
    "x5 = pn.linear()\n",
    "x6 = pn.linear()\n",
    "x7 = pn.linear()\n",
    "x8 = pn.linear()\n",
    "x9 = pn.linear()\n",
    "assert +6.4160 * x0 + 20.3590 * x1 + 1.5981 * x2 - 1.2071 * x3 - 4.6026 * x4 - 5.7098 * x5 - 4.1160 * x6 + 1.2467 * x7 - 14.2028 * x8 + 6.0885 * x9 <= 51.0000\n",
    "assert -0.1930 * x0 + 1.1859 * x1 + 2.9537 * x2 - 2.3777 * x3 + 1.4154 * x4 + 9.2526 * x5 - 3.6259 * x6 + 3.4193 * x7 - 21.4218 * x8 - 0.7692 * x9 <= 41.0000\n",
    "assert -27.1712 * x0 - 21.2901 * x1 + 32.6104 * x2 + 1.4699 * x3 + 8.1651 * x4 - 12.8153 * x5 + 2.4100 * x6 - 57.0053 * x7 - 7.2989 * x8 + 7.0098 * x9 <= 79.0000\n",
    "assert -2.3318 * x0 + 0.8284 * x1 + 6.2896 * x2 + 0.6104 * x3 - 31.1931 * x4 + 4.1556 * x5 + 2.6317 * x6 - 48.5799 * x7 - 1.1840 * x8 + 28.7408 * x9 <= 93.0000\n",
    "assert +12.0876 * x0 + 1.2307 * x1 - 0.9757 * x2 - 4.2857 * x3 + 4.8579 * x4 + 19.5823 * x5 + 18.5408 * x6 - 3.0287 * x7 + 2.0617 * x8 - 3.5956 * x9 <= 25.0000\n",
    "assert -50.3777 * x0 + 6.9980 * x1 - 67.9637 * x2 - 2.0244 * x3 + 7.8885 * x4 - 2.5394 * x5 - 5.3325 * x6 + 0.3273 * x7 - 249.6093 * x8 + 3.7692 * x9 <= 41.0000\n",
    "assert +43.2031 * x0 - 2.0964 * x1 + 10.1320 * x2 - 13.9120 * x3 + 3.2838 * x4 + 10.6522 * x5 + 6.2647 * x6 + 2.8932 * x7 - 6.3529 * x8 + 20.0324 * x9 <= 78.0000\n",
    "assert -2.0752 * x0 - 7.4701 * x1 - 0.2348 * x2 - 2.0003 * x3 - 0.6376 * x4 + 1.7804 * x5 + 119.5958 * x6 - 6.2943 * x7 + 3.3538 * x8 - 2.6467 * x9 <= 27.0000\n",
    "assert +3.1615 * x0 + 6.0781 * x1 - 1.8893 * x2 - 3.2409 * x3 - 34.0146 * x4 + 23.8191 * x5 - 8.8890 * x6 - 6.8173 * x7 + 6.7114 * x8 - 8.1344 * x9 <= 21.0000\n",
    "assert +0.0000 * x0 + 13.1440 * x1 + 7.5737 * x2 + 2.8277 * x3 - 4.3930 * x4 + 0.0000 * x5 - 22.1786 * x6 + 2.8980 * x7 - 9.0440 * x8 - 60.4170 * x9 <= 93.0000\n",
    "assert x0 <= 92.0000\n",
    "assert x1 <= 46.0000\n",
    "assert x2 <= 74.0000\n",
    "assert x3 <= 78.0000\n",
    "assert x4 <= 41.0000\n",
    "assert x5 <= 47.0000\n",
    "assert x6 <= 33.0000\n",
    "assert x7 <= 35.0000\n",
    "assert x8 <= 23.0000\n",
    "assert x9 <= 63.0000\n",
    "print(pn.maximize(+0.0000 * x0 + 9.6856 * x1 + 0.0000 * x2 - 7.8267 * x3 - 3.4649 * x4 - 6.3391 * x5 - 3.6316 * x6 + 44.7655 * x7 + 3.7610 * x8 - 57.1083 * x9))\n",
    "print(x0)\n",
    "print(x1)\n",
    "print(x2)\n",
    "print(x3)\n",
    "print(x4)\n",
    "print(x5)\n",
    "print(x6)\n",
    "print(x7)\n",
    "print(x8)\n",
    "print(x9)"
   ]
  },
  {
   "cell_type": "markdown",
   "metadata": {
    "colab_type": "text",
    "id": "c2MllZ2i964r"
   },
   "source": [
    "# Diophantine Equations\n",
    "\n",
    "https://en.wikipedia.org/wiki/Diophantine_equation"
   ]
  },
  {
   "cell_type": "markdown",
   "metadata": {
    "colab_type": "text",
    "id": "DK1DC7aE964s"
   },
   "source": [
    "# Let be $x, y \\in \\mathbb{N} \\vert x^3 - x + 1 = y^2$"
   ]
  },
  {
   "cell_type": "code",
   "execution_count": null,
   "metadata": {
    "colab": {
     "base_uri": "https://localhost:8080/",
     "height": 65
    },
    "colab_type": "code",
    "id": "7bgCxLRI964t",
    "outputId": "99351e9e-edd2-48d5-b97c-afcc1836278e"
   },
   "outputs": [],
   "source": [
    "import peqnp as pn\n",
    "\n",
    "pn.engine(10)\n",
    "\n",
    "x = pn.integer()\n",
    "y = pn.integer()\n",
    "\n",
    "assert x ** 3 - x + 1 == y ** 2\n",
    "\n",
    "assert x != 0\n",
    "assert y != 0\n",
    "\n",
    "while pn.satisfy():\n",
    "    print('{0} ** 3 - {0} + 1, {1} ** 2'.format(x, y))\n"
   ]
  },
  {
   "cell_type": "markdown",
   "metadata": {
    "colab_type": "text",
    "id": "tXkkLVGl964w"
   },
   "source": [
    "# Let be $x, y \\in \\mathbb{Q} \\vert x^3 + xy = y^2$"
   ]
  },
  {
   "cell_type": "code",
   "execution_count": null,
   "metadata": {
    "colab": {
     "base_uri": "https://localhost:8080/",
     "height": 82
    },
    "colab_type": "code",
    "id": "p84V_ORl964w",
    "outputId": "03d2b53e-7cd5-4651-d4af-4e7ebc9f829e"
   },
   "outputs": [],
   "source": [
    "import peqnp as pn\n",
    "\n",
    "pn.engine(10)\n",
    "\n",
    "x = pn.rational()\n",
    "y = pn.rational()\n",
    "\n",
    "assert x ** 3 + x * y == y ** 2\n",
    "\n",
    "while pn.satisfy():\n",
    "    print('{0} ** 3 + {0} * {1} == {1} ** 2'.format(x, y))"
   ]
  },
  {
   "cell_type": "markdown",
   "metadata": {
    "colab_type": "text",
    "id": "wEET41vb964z"
   },
   "source": [
    "# Let be $x, y \\in \\mathbb{C} \\vert x^3 + x + 1 = y^2$"
   ]
  },
  {
   "cell_type": "code",
   "execution_count": null,
   "metadata": {
    "colab": {
     "base_uri": "https://localhost:8080/",
     "height": 49
    },
    "colab_type": "code",
    "id": "WRx_236n9640",
    "outputId": "3fa7a297-b107-4f8f-9dac-1aea4151084d"
   },
   "outputs": [],
   "source": [
    "import peqnp as pn\n",
    "\n",
    "pn.engine(10)\n",
    "\n",
    "x = pn.gaussian()\n",
    "y = pn.gaussian()\n",
    "\n",
    "assert x ** 3 + x + 1 == y ** 2\n",
    "\n",
    "while pn.satisfy():\n",
    "    print('{0} ** 3 + {0} + 1 == {1} ** 2'.format(complex(x), complex(y)))"
   ]
  },
  {
   "cell_type": "markdown",
   "metadata": {
    "colab_type": "text",
    "id": "ijexlhdd9642"
   },
   "source": [
    "# Vectors"
   ]
  },
  {
   "cell_type": "code",
   "execution_count": null,
   "metadata": {
    "colab": {
     "base_uri": "https://localhost:8080/",
     "height": 49
    },
    "colab_type": "code",
    "id": "vpoHE1nX9642",
    "outputId": "8bfc3e5a-dbfd-4046-860a-ef39384f625f"
   },
   "outputs": [],
   "source": [
    "import peqnp as pn\n",
    "\n",
    "pn.engine(10)\n",
    "\n",
    "x = pn.vector(size=2, is_gaussian=True)\n",
    "y = pn.gaussian()\n",
    "\n",
    "assert sum(x) ** 3 == y ** 5\n",
    "assert y != complex(0, 0)\n",
    "\n",
    "while pn.satisfy():\n",
    "    print('sum({0}) ** 3 == {1} ** 5'.format(x, y))"
   ]
  },
  {
   "cell_type": "code",
   "execution_count": null,
   "metadata": {
    "colab": {
     "base_uri": "https://localhost:8080/",
     "height": 263
    },
    "colab_type": "code",
    "id": "QNWHLqHS9644",
    "outputId": "4a5ded68-242c-4fcb-af84-b0ac150c446e"
   },
   "outputs": [],
   "source": [
    "import numpy as np\n",
    "import peqnp as pn\n",
    "import matplotlib.pyplot as plt\n",
    "\n",
    "dim = 2\n",
    "\n",
    "pn.engine(10)\n",
    "\n",
    "ps = pn.vector(size=dim, is_rational=True)\n",
    "\n",
    "assert sum([p ** dim for p in ps]) <= 1\n",
    "\n",
    "dots = []\n",
    "while pn.satisfy():\n",
    "    dots.append(np.vectorize(float)(ps))\n",
    "\n",
    "x, y = zip(*dots)\n",
    "plt.axis('equal')\n",
    "plt.plot(x, y, 'r.')\n",
    "plt.show()"
   ]
  },
  {
   "cell_type": "markdown",
   "metadata": {
    "colab_type": "text",
    "id": "C0lkauin9646"
   },
   "source": [
    "# NP-Complete\n",
    "\n",
    "NP - complete problem, any of a class of computational problems for which no efficient solution algorithm has been found. Many significant computer - science problems belong to this class—e.g., the traveling salesman problem, satisfiability problems, and graph - covering problems.\n",
    "\n",
    "https://en.wikipedia.org/wiki/NP-completeness"
   ]
  },
  {
   "cell_type": "markdown",
   "metadata": {
    "colab_type": "text",
    "id": "hJQDg3rb9647"
   },
   "source": [
    "# Satisfiability\n",
    "\n",
    "Study of boolean functions generally is concerned with the set of truth assignments(assignments of 0 or 1 to each of the variables) that make the function true.\n",
    "\n",
    "https://en.wikipedia.org/wiki/Boolean_satisfiability_problem"
   ]
  },
  {
   "cell_type": "code",
   "execution_count": null,
   "metadata": {
    "colab": {
     "base_uri": "https://localhost:8080/",
     "height": 49
    },
    "colab_type": "code",
    "id": "GR62G6M99647",
    "outputId": "f8f72cc2-9a87-48f7-9271-09e052a1be55"
   },
   "outputs": [],
   "source": [
    "import functools\n",
    "import operator\n",
    "\n",
    "import peqnp as pn\n",
    "\n",
    "n, m, cnf = 10, 24, [[9, -5, 10, -6, 3],\n",
    "                     [6, 8],\n",
    "                     [8, 4],\n",
    "                     [-10, 5],\n",
    "                     [-9, 8],\n",
    "                     [-9, -3],\n",
    "                     [-2, 5],\n",
    "                     [6, 4],\n",
    "                     [-2, -1],\n",
    "                     [7, -2],\n",
    "                     [-9, 4],\n",
    "                     [-1, -10],\n",
    "                     [-3, 4],\n",
    "                     [7, 5],\n",
    "                     [6, -3],\n",
    "                     [-10, 7],\n",
    "                     [-1, 7],\n",
    "                     [8, -3],\n",
    "                     [-2, -10],\n",
    "                     [-1, 5],\n",
    "                     [-7, 1, 9, -6, 3],\n",
    "                     [-9, 6],\n",
    "                     [-8, 10, -5, -4, 2],\n",
    "                     [-4, -7, 1, -8, 2]]\n",
    "\n",
    "# Initialize the engine with 2 bits\n",
    "pn.engine(bits=2)\n",
    "\n",
    "# Declare an integer of n-bits, each ith-bits is one ith-literal on the model.\n",
    "x = pn.integer(bits=n)\n",
    "\n",
    "# For each clause ensure that that one of the lierals are true.\n",
    "for cls in cnf:\n",
    "    assert functools.reduce(operator.or_, (pn.switch(x, abs(lit) - 1, neg=lit > 0) for lit in cls)) > 0\n",
    "\n",
    "if pn.satisfy():\n",
    "    print('SAT')\n",
    "    print(' '.join(map(str, [(i + 1) if b else -(i + 1) for i, b in enumerate(x.binary)])) + ' 0')\n",
    "else:\n",
    "    print('UNSAT')"
   ]
  },
  {
   "cell_type": "markdown",
   "metadata": {
    "colab_type": "text",
    "id": "-rrrwc0V9649"
   },
   "source": [
    "# k-Clique\n",
    "\n",
    "Input: Graph $G$, positive integer $k$\n",
    "\n",
    "Property: $G$ has a set of mutually adjacent nodes.\n",
    "\n",
    "https://en.wikipedia.org/wiki/Clique_problem"
   ]
  },
  {
   "cell_type": "code",
   "execution_count": null,
   "metadata": {
    "colab": {
     "base_uri": "https://localhost:8080/",
     "height": 49
    },
    "colab_type": "code",
    "id": "QQDWim1w9649",
    "outputId": "23cc6d00-68d9-4534-d2bb-88bc2f2a447a"
   },
   "outputs": [],
   "source": [
    "import peqnp as pn\n",
    "\n",
    "# Ths bits of the clique to search\n",
    "k = 3\n",
    "\n",
    "# Get the graph and the dimension for the graph\n",
    "n, matrix = 5, [(1, 0), (0, 2), (1, 4), (2, 1), (4, 2), (3, 2)]\n",
    "\n",
    "# Ensure the problem can be represented\n",
    "pn.engine(bits=k.bit_length())\n",
    "\n",
    "# Declare an integer of n-bits\n",
    "bits = pn.integer(bits=n)\n",
    "\n",
    "# The bits integer have \"bits\"-active bits, i.e, the clique has \"bits\"-elements\n",
    "assert sum(pn.switch(bits, i) for i in range(n)) == k\n",
    "\n",
    "# This entangle all elements that are joined together\n",
    "for i in range(n - 1):\n",
    "    for j in range(i + 1, n):\n",
    "        if (i, j) not in matrix and (j, i) not in matrix:\n",
    "            assert pn.switch(bits, i) + pn.switch(bits, j) <= 1\n",
    "\n",
    "if pn.satisfy():\n",
    "    print(k)\n",
    "    print(' '.join([str(i) for i in range(n) if not bits.binary[i]]))\n",
    "else:\n",
    "    print('Infeasible ...')"
   ]
  },
  {
   "cell_type": "markdown",
   "metadata": {
    "colab_type": "text",
    "id": "W9A_lLrn964_"
   },
   "source": [
    "# Vertex Cover\n",
    "\n",
    "In the mathematical discipline of graph theory, a vertex cover (sometimes node cover) of a graph is a set of vertices that includes at least one endpoint of every edge of the graph. The problem of finding a minimum vertex cover is a classical optimization problem in computer science and is a typical example of an NP-hard optimization problem that has an approximation algorithm. Its decision version, the vertex cover problem, was one of Karp's 21 NP-complete problems and is therefore a classical NP-complete problem in computational complexity theory. Furthermore, the vertex cover problem is fixed-parameter tractable and a central problem in parameterized complexity theory.\n",
    "\n",
    "https://en.wikipedia.org/wiki/Vertex_cover"
   ]
  },
  {
   "cell_type": "code",
   "execution_count": null,
   "metadata": {
    "colab": {
     "base_uri": "https://localhost:8080/",
     "height": 49
    },
    "colab_type": "code",
    "id": "qaxFZxFL965A",
    "outputId": "6426b1ae-d352-4357-adaa-1bb6066b72dd"
   },
   "outputs": [],
   "source": [
    "import peqnp as pn\n",
    "\n",
    "# Get the graph and dimension, and the bits of the cover.\n",
    "n, graph, vertex, k = 5, [(1, 0), (0, 2), (1, 4), (2, 1), (4, 2), (3, 2)], [0, 1, 2, 3, 4], 3\n",
    "\n",
    "# Ensure the problem can be represented\n",
    "pn.engine(bits=n.bit_length() + 1)\n",
    "\n",
    "# An integer with n-bits to store the indexes for the cover\n",
    "index = pn.integer(bits=n)\n",
    "\n",
    "# This entangled the all possible covers\n",
    "for i, j in graph:\n",
    "    assert pn.switch(index, vertex.index(i), neg=True) + pn.switch(index, vertex.index(j), neg=True) >= 1\n",
    "\n",
    "# Ensure the cover has bits k\n",
    "assert sum(pn.switch(index, vertex.index(i), neg=True) for i in vertex) == k\n",
    "\n",
    "if pn.satisfy():\n",
    "    opt = sum(index.binary)\n",
    "    print('p bits {}'.format(opt))\n",
    "    print(' '.join([str(vertex[i]) for i in range(n) if index.binary[i]]))\n",
    "else:\n",
    "    print('Infeasible ...')"
   ]
  },
  {
   "cell_type": "markdown",
   "metadata": {
    "colab_type": "text",
    "id": "-Itdoe64965B"
   },
   "source": [
    "# Multidimensional Latin Squares\n",
    "\n",
    "In combinatorics and in experimental design, a Latin square is an n × n array filled with n different symbols, each occurring exactly once in each row and exactly once in each column.\n",
    "\n",
    "https://en.wikipedia.org/wiki/Latin_square"
   ]
  },
  {
   "cell_type": "code",
   "execution_count": null,
   "metadata": {
    "colab": {
     "base_uri": "https://localhost:8080/",
     "height": 494
    },
    "colab_type": "code",
    "id": "ZobMPYao965C",
    "outputId": "b207af07-ca43-4bc3-c4e8-44e197b5b128"
   },
   "outputs": [],
   "source": [
    "import numpy as np\n",
    "import peqnp as pn\n",
    "\n",
    "n = 5\n",
    "m = 3\n",
    "\n",
    "pn.engine(n.bit_length())\n",
    "\n",
    "Y = pn.vector(size=n ** m)\n",
    "\n",
    "pn.apply_single(Y, lambda k: k < n)\n",
    "\n",
    "Y = np.reshape(Y, newshape=(m * [n]))\n",
    "\n",
    "for i in range(n):\n",
    "    pn.all_different(Y[i])\n",
    "    pn.all_different(Y.T[i])\n",
    "    for j in range(n):\n",
    "        pn.all_different(Y[i][j])\n",
    "        pn.all_different(Y.T[i][j])\n",
    "\n",
    "for idx in pn.hyper_loop(m - 1, n):\n",
    "    s = Y\n",
    "    for i in idx:\n",
    "        s = s[i]\n",
    "        pn.all_different(s)\n",
    "        pn.all_different(s.T)\n",
    "\n",
    "if pn.satisfy():\n",
    "    y = np.vectorize(int)(Y).reshape(m * [n])\n",
    "    print(y)\n",
    "else:\n",
    "    print('Infeasible ...')"
   ]
  },
  {
   "cell_type": "markdown",
   "metadata": {
    "colab_type": "text",
    "id": "bbdyVi1o965E"
   },
   "source": [
    "# Travelling salesman problem\n",
    "\n",
    "The travelling salesman problem asks the following question: \"Given a list of cities and the distances between each pair of cities, what is the shortest possible route that visits each city and returns to the origin city?\" It is an NP-hard problem in combinatorial optimization, important in operations research and theoretical computer science.\n",
    "\n",
    "https://en.wikipedia.org/wiki/Travelling_salesman_problem"
   ]
  },
  {
   "cell_type": "code",
   "execution_count": null,
   "metadata": {
    "colab": {
     "base_uri": "https://localhost:8080/",
     "height": 263
    },
    "colab_type": "code",
    "id": "3CHTjOaA965E",
    "outputId": "1b07b2b7-e703-484a-dbe2-d84e794e9022"
   },
   "outputs": [],
   "source": [
    "n = 100\n",
    "data = np.random.logistic(size=(n, 2))\n",
    "seq = pn.hess_sequence(n, oracle=lambda seq: sum(np.linalg.norm(data[seq[i - 1]] - data[seq[i]]) for i in range(n)), fast=False)\n",
    "x, y = zip(*[data[i] for i in seq + [seq[0]]])\n",
    "plt.plot(x, y, 'k-')\n",
    "plt.plot(x, y, 'r.')\n",
    "plt.show()"
   ]
  },
  {
   "cell_type": "markdown",
   "metadata": {
    "colab_type": "text",
    "id": "5VQLgU4Q965G"
   },
   "source": [
    "# Knapsack problem\n",
    "\n",
    "The knapsack problem is a problem in combinatorial optimization: Given a set of items, each with a weight and a value, determine the number of each item to include in a collection so that the total weight is less than or equal to a given limit and the total value is as large as possible. It derives its name from the problem faced by someone who is constrained by a fixed-size knapsack and must fill it with the most valuable items.\n",
    "\n",
    "https://en.wikipedia.org/wiki/Knapsack_problem"
   ]
  },
  {
   "cell_type": "code",
   "execution_count": null,
   "metadata": {
    "colab": {
     "base_uri": "https://localhost:8080/",
     "height": 65
    },
    "colab_type": "code",
    "id": "eC70oQ54965G",
    "outputId": "cb5d9507-3b8d-40e9-8278-80150b40c04d"
   },
   "outputs": [],
   "source": [
    "n = 10\n",
    "values = np.random.logistic(size=n)\n",
    "profit = np.random.logistic(size=n)\n",
    "capacity = np.random.sample()\n",
    "pn.engine()\n",
    "selects = pn.vector(size=n, is_mip=True)\n",
    "pn.apply_single(selects, lambda x: x <= 1)\n",
    "assert np.dot(values, selects) <= capacity\n",
    "opt = pn.maximize(np.dot(profit, selects))\n",
    "slots = list(map(int, selects))\n",
    "print('PROFIT  : {} vs {}'.format(np.dot(profit, slots), opt))\n",
    "print('VALUES  : {} <= {}'.format(np.dot(values, slots), capacity))\n",
    "print('SELECT  : {}'.format(slots))"
   ]
  },
  {
   "cell_type": "markdown",
   "metadata": {
    "colab_type": "text",
    "id": "3CaSxvbE965I"
   },
   "source": [
    "# Magic square\n",
    "\n",
    "\n",
    "In recreational mathematics and combinatorial design, a magic square is a $n\\times n$ square grid (where n is the number of cells on each side) filled with distinct positive integers in the range \n",
    "${1,2,...,n^{2}}$ such that each cell contains a different integer and the sum of the integers in each row, column and diagonal is equal.\n",
    "\n",
    "https://en.wikipedia.org/wiki/Magic_square"
   ]
  },
  {
   "cell_type": "code",
   "execution_count": null,
   "metadata": {
    "colab": {
     "base_uri": "https://localhost:8080/",
     "height": 82
    },
    "colab_type": "code",
    "id": "AyWeR36j965I",
    "outputId": "3ae5c145-0de2-4e70-98cb-ef24925a904d"
   },
   "outputs": [],
   "source": [
    "n = 3\n",
    "pn.engine(5)\n",
    "c = pn.integer()\n",
    "xs = pn.matrix(dimensions=(n, n))\n",
    "pn.apply_single(pn.flatten(xs), lambda x: x > 0)\n",
    "pn.all_different(pn.flatten(xs))\n",
    "for i in range(n):\n",
    "    assert sum(xs[i][j] for j in range(n)) == c\n",
    "for j in range(n):\n",
    "    assert sum(xs[i][j] for i in range(n)) == c\n",
    "assert sum(xs[i][i] for i in range(n)) == c\n",
    "assert sum(xs[i][n - 1 - i] for i in range(n)) == c\n",
    "if pn.satisfy():\n",
    "    print(c)\n",
    "    print(np.vectorize(int)(xs))\n",
    "else:\n",
    "    print('Infeasible ...')"
   ]
  },
  {
   "cell_type": "markdown",
   "metadata": {
    "colab_type": "text",
    "id": "lEaH-Epz965K"
   },
   "source": [
    "# Schur Triples problem:\n",
    "\n",
    "Input: list of 3N distinct positive integers\n",
    "\n",
    "Question: Is there a partition of the list into N triples $(a_i, b_i, c_i)$ such that $a_i+b_i=c_i$\n",
    "\n",
    "The condition that all numbers must be distinct makes the problem very interesting and McDiarmid calls it a surprisingly troublesome.\n",
    "\n",
    "https://cstheory.stackexchange.com/questions/16253/list-of-strongly-np-hard-problems-with-numerical-data"
   ]
  },
  {
   "cell_type": "code",
   "execution_count": null,
   "metadata": {
    "colab": {
     "base_uri": "https://localhost:8080/",
     "height": 197
    },
    "colab_type": "code",
    "id": "Jd9xBJiE965K",
    "outputId": "8dc377a4-0e78-4dfa-8f70-fc87a22ae11a"
   },
   "outputs": [],
   "source": [
    "bits = 7\n",
    "size = 3 * 10\n",
    "triplets = []\n",
    "while len(triplets) < size:\n",
    "    a = np.random.randint(1, 2 ** bits)\n",
    "    b = np.random.randint(1, 2 ** bits)\n",
    "    if a != b and a not in triplets and b not in triplets and a + b not in triplets:\n",
    "        triplets += [a, b, a + b]\n",
    "triplets.sort()\n",
    "print(triplets)\n",
    "pn.engine(bits=max(triplets).bit_length())\n",
    "xs, ys = pn.permutations(triplets, size)\n",
    "for i in range(0, size, 3):\n",
    "    assert ys[i] + ys[i + 1] == ys[i + 2]\n",
    "if pn.satisfy():\n",
    "    for i in range(0, size, 3):\n",
    "        print('{} == {} + {}'.format(ys[i + 2], ys[i], ys[i + 1]))\n",
    "else:\n",
    "    print('Infeasible ...')"
   ]
  },
  {
   "cell_type": "markdown",
   "metadata": {
    "colab_type": "text",
    "id": "ehRx6Mud965M"
   },
   "source": [
    "# Subset sum problem\n",
    "\n",
    "In this problem, there is a given set with some integer elements. And another some value is also provided, we have to find a subset of the given set whose sum is the same as the given sum value.\n",
    "\n",
    "https://en.wikipedia.org/wiki/Subset_sum_problem"
   ]
  },
  {
   "cell_type": "code",
   "execution_count": null,
   "metadata": {
    "colab": {
     "base_uri": "https://localhost:8080/",
     "height": 65
    },
    "colab_type": "code",
    "id": "l1u8ka7t965M",
    "outputId": "563bf47c-43db-44e8-a415-eb3b644caecc"
   },
   "outputs": [],
   "source": [
    "universe = np.random.randint(1, 1000, size=32)\n",
    "t = np.random.randint(min(universe), sum(universe))\n",
    "print(t, universe)\n",
    "pn.engine(t.bit_length())\n",
    "bits, subset = pn.subsets(universe)\n",
    "assert sum(subset) == t\n",
    "if pn.satisfy():\n",
    "    solution = [universe[i] for i in range(len(universe)) if bits.binary[i]]\n",
    "    print(sum(solution), solution)\n",
    "else:\n",
    "    print('Infeasible ...')"
   ]
  },
  {
   "cell_type": "code",
   "execution_count": null,
   "metadata": {
    "colab": {
     "base_uri": "https://localhost:8080/",
     "height": 65
    },
    "colab_type": "code",
    "id": "7fX3-cEd965O",
    "outputId": "32d6959c-e627-433e-c80f-25e761436d9c"
   },
   "outputs": [],
   "source": [
    "universe = np.random.randint(1, 1000, size=32)\n",
    "t = np.random.randint(min(universe), sum(universe))\n",
    "print(t, universe)\n",
    "pn.engine(t.bit_length())\n",
    "T = pn.tensor(dimensions=(len(universe)))\n",
    "assert sum(T[[i]](0, universe[i]) for i in range(len(universe))) == t\n",
    "if pn.satisfy():\n",
    "    solution = [universe[i] for i in range(len(universe)) if T.binary[i]]\n",
    "    print(sum(solution), solution)\n",
    "else:\n",
    "    print('Infeasible ...')"
   ]
  },
  {
   "cell_type": "markdown",
   "metadata": {
    "colab_type": "text",
    "id": "daXn5SYi965Q"
   },
   "source": [
    "# Permutation Reconstruction from Differences\n",
    "\n",
    "https://arxiv.org/pdf/1410.6396.pdf"
   ]
  },
  {
   "cell_type": "code",
   "execution_count": null,
   "metadata": {
    "colab": {
     "base_uri": "https://localhost:8080/",
     "height": 280
    },
    "colab_type": "code",
    "id": "YMKxvACO965Q",
    "outputId": "423668ee-857f-4123-e9e7-02d9286acd44"
   },
   "outputs": [],
   "source": [
    "def gen_instance(n):\n",
    "    import random\n",
    "    y = list(range(1, n + 1))\n",
    "    random.shuffle(y)\n",
    "    return [abs(y[i + 1] - y[i]) for i in range(n - 1)]\n",
    "\n",
    "\n",
    "import time\n",
    "start = time.time()\n",
    "times = []\n",
    "sizes = []\n",
    "for n in range(1, 30):\n",
    "    diffs = gen_instance(n)\n",
    "    ini = time.time()\n",
    "    pn.engine(n.bit_length() + 1)\n",
    "    x = pn.vector(size=n)\n",
    "    pn.all_different(x)\n",
    "    pn.apply_single(x, lambda a: 1 <= a <= n)\n",
    "    for i in range(n - 1):\n",
    "        assert pn.index(i, diffs) == pn.one_of([x[i + 1] - x[i], x[i] - x[i + 1]])\n",
    "    if pn.satisfy():\n",
    "        end = time.time() - ini\n",
    "        xx = [abs(x[i + 1] - x[i]) for i in range(n - 1)]\n",
    "        if xx == diffs:\n",
    "            sizes.append(n)\n",
    "            times.append(end)\n",
    "        else:\n",
    "            raise Exception('Error!')\n",
    "    else:\n",
    "        raise Exception('Error!')\n",
    "end = time.time() - start\n",
    "plt.title('TIME {}(s)'.format(end))\n",
    "plt.plot(sizes, times, 'k-')\n",
    "plt.plot(sizes, times, 'r.')\n",
    "plt.show()\n",
    "plt.close()"
   ]
  },
  {
   "cell_type": "markdown",
   "metadata": {
    "colab_type": "text",
    "id": "bJwHMwDc965S"
   },
   "source": [
    "# Hamiltonian Cycle Problem\n",
    "\n",
    "In the mathematical field of graph theory, a Hamiltonian path (or traceable path) is a path in an undirected or directed graph that visits each vertex exactly once. A Hamiltonian cycle (or Hamiltonian circuit) is a Hamiltonian path that is a cycle. Determining whether such paths and cycles exist in graphs is the Hamiltonian path problem, which is NP-complete.\n",
    "\n",
    "https://en.wikipedia.org/wiki/Hamiltonian_path"
   ]
  },
  {
   "cell_type": "code",
   "execution_count": null,
   "metadata": {
    "colab": {
     "base_uri": "https://localhost:8080/",
     "height": 362
    },
    "colab_type": "code",
    "id": "UbxWGgHu965S",
    "outputId": "714b8980-2511-44fb-df74-5dd8a3185a35"
   },
   "outputs": [],
   "source": [
    "import sys\n",
    "n = 10\n",
    "M = np.random.randint(0, 2, size=(n, n))\n",
    "print(M)\n",
    "pn.engine((n ** 2).bit_length())\n",
    "ids, elements = pn.matrix_permutation((1 - M).flatten(), n)\n",
    "assert sum(elements) == 0\n",
    "if pn.satisfy():\n",
    "    for i in ids:\n",
    "        for j in ids:\n",
    "            sys.stdout.write('{} '.format(M[i.value][j.value]))\n",
    "        sys.stdout.write('\\n') \n",
    "    sys.stdout.write('\\n')\n",
    "else:\n",
    "    print('Infeasible ...')"
   ]
  },
  {
   "cell_type": "markdown",
   "metadata": {
    "colab_type": "text",
    "id": "4a2Y3ykM965U"
   },
   "source": [
    "# Bin packing problem\n",
    "\n",
    "In the bin packing problem, items of different volumes must be packed into a finite number of bins or containers each of a fixed given volume in a way that minimizes the number of bins used. In computational complexity theory, it is a combinatorial NP-hard problem. The decision problem (deciding if items will fit into a specified number of bins) is NP-complete.\n",
    "\n",
    "https://en.wikipedia.org/wiki/Bin_packing_problem"
   ]
  },
  {
   "cell_type": "code",
   "execution_count": null,
   "metadata": {
    "colab": {
     "base_uri": "https://localhost:8080/",
     "height": 461
    },
    "colab_type": "code",
    "id": "udwwcxlG965U",
    "outputId": "8a25e805-ac68-48aa-d9d4-210aaef2dc44"
   },
   "outputs": [],
   "source": [
    "capacity = 50\n",
    "size = 50\n",
    "elements = sorted([np.random.randint(1, capacity // 2 - 1) for _ in range(size)], reverse=True)\n",
    "print(capacity)\n",
    "print(elements)\n",
    "bins = int(np.ceil(sum(elements) / capacity))\n",
    "while True:\n",
    "    pn.engine(bits=capacity.bit_length() + 1)\n",
    "    slots = pn.vector(bits=len(elements), size=bins)\n",
    "    for i in range(len(elements)):\n",
    "        assert sum(pn.switch(slot, i) for slot in slots) == 1\n",
    "    for slot in slots:\n",
    "        assert sum(pn.switch(slot, i) * elements[i] for i in range(len(elements))) <= capacity\n",
    "    if pn.satisfy():\n",
    "        print('Solution for {} bins...'.format(bins))\n",
    "        for slot in slots:\n",
    "            print(''.join(['_' if boolean else '#' for boolean in slot.binary]))\n",
    "        for slot in slots:\n",
    "            sub = [item for i, item in enumerate(elements) if not slot.binary[i]]\n",
    "            print(sum(sub), sub)\n",
    "        break\n",
    "    else:\n",
    "        print('No solution for {} bins...'.format(bins))\n",
    "        bins += 1"
   ]
  },
  {
   "cell_type": "markdown",
   "metadata": {
    "colab_type": "text",
    "id": "oI6JNjwq965W"
   },
   "source": [
    "# Zero-One Integer Programming Definition\n",
    "\n",
    "Zero-one integer programming (which can also be written as 0-1 integer programming) is a mathematical method of using a series of binary, yes (1) and no (0) answers to arrive at a solution when there are two mutually exclusive options.\n",
    "\n",
    "https://en.wikipedia.org/wiki/Integer_programming"
   ]
  },
  {
   "cell_type": "code",
   "execution_count": null,
   "metadata": {
    "colab": {
     "base_uri": "https://localhost:8080/",
     "height": 247
    },
    "colab_type": "code",
    "id": "UBSuy8E1965W",
    "outputId": "716abe9e-c1b4-4f01-f392-e4e1faf86720"
   },
   "outputs": [],
   "source": [
    "n, m = 10, 5\n",
    "cc = np.random.randint(0, 1000, size=(n, m))\n",
    "d = np.dot(cc, np.random.randint(0, 2, size=(m,)))\n",
    "print(cc)\n",
    "print(d)\n",
    "pn.engine(bits=int(np.sum(cc)).bit_length())\n",
    "xs = pn.vector(size=m)\n",
    "pn.all_binaries(xs)\n",
    "assert (np.dot(cc, xs) == d).all()\n",
    "if pn.satisfy():\n",
    "    print(xs)\n",
    "    print('Proof:')\n",
    "    print(np.dot(cc, xs))\n",
    "else:\n",
    "    print('Infeasible...')"
   ]
  },
  {
   "cell_type": "markdown",
   "metadata": {
    "colab_type": "text",
    "id": "Q2UGOuKW965Y"
   },
   "source": [
    "# n-Queens Completion Problem\n",
    "\n",
    "The n- Queens Completion problem is a variant, dating to 1850, in which some queens are already placed and the solver is asked to place the rest, if possi- ble. ... The n-Queens problem is to place n chess queens on an n by n chessboard so that no two queens are on the same row, column or diagonal.\n",
    "\n",
    "https://www.ijcai.org/Proceedings/2018/0794.pdf"
   ]
  },
  {
   "cell_type": "code",
   "execution_count": null,
   "metadata": {
    "colab": {
     "base_uri": "https://localhost:8080/",
     "height": 1000
    },
    "colab_type": "code",
    "id": "rECfC3zy965Y",
    "outputId": "2c593b92-c3eb-432d-c083-2c8731766bd1"
   },
   "outputs": [],
   "source": [
    "def completion(n, m, seed):\n",
    "    import random\n",
    "    \"\"\"\n",
    "    http://www.csplib.org/Problems/prob079/data/queens-gen-fast.py.html\n",
    "    \"\"\"\n",
    "    random.seed(seed)\n",
    "\n",
    "    d1 = [0 for _ in range(2 * n - 1)]\n",
    "    d2 = [0 for _ in range(2 * n - 1)]\n",
    "\n",
    "    valid_rows = [i for i in range(n)]\n",
    "    valid_cols = [j for j in range(n)]\n",
    "\n",
    "    def no_attack(r, c):\n",
    "        return d1[r + c] == 0 and d2[r - c + n - 1] == 0\n",
    "\n",
    "    pc = []\n",
    "    queens_left = n\n",
    "\n",
    "    for attempt in range(n * n):\n",
    "        i = random.randrange(queens_left)\n",
    "        j = random.randrange(queens_left)\n",
    "        r = valid_rows[i]\n",
    "        c = valid_cols[j]\n",
    "        if no_attack(r, c):\n",
    "            pc.append([r, c])\n",
    "            d1[r + c] = 1\n",
    "            d2[r - c + n - 1] = 1\n",
    "            valid_rows[i] = valid_rows[queens_left - 1]\n",
    "            valid_cols[j] = valid_cols[queens_left - 1]\n",
    "            queens_left -= 1\n",
    "            if len(pc) == m:\n",
    "                return [[x + 1, y + 1] for x, y in pc]\n",
    "\n",
    "def show(pc):\n",
    "    table = ''\n",
    "    for i in range(1, n + 1):\n",
    "        table += ''\n",
    "        for j in range(1, n + 1):\n",
    "            if [i, j] not in pc:\n",
    "                table += '. '\n",
    "            else:\n",
    "                table += 'Q '\n",
    "        table += '\\n'\n",
    "    print(table)\n",
    "    print('# seed = {}'.format(seed))\n",
    "    \n",
    "n, m, seed = 30, 15, 0\n",
    "placed_queens = completion(n, m, seed)\n",
    "show(placed_queens)\n",
    "pn.engine(bits=n.bit_length() + 1)\n",
    "qs = pn.vector(size=n)\n",
    "for (a, b) in placed_queens:\n",
    "    assert qs[a - 1] == b - 1\n",
    "pn.apply_single(qs, lambda x: x < n)\n",
    "pn.apply_dual(qs, lambda x, y: x != y)\n",
    "pn.apply_dual([qs[i] + i for i in range(n)], lambda x, y: x != y)\n",
    "pn.apply_dual([qs[i] - i for i in range(n)], lambda x, y: x != y)\n",
    "if pn.satisfy():\n",
    "    for i in range(n):\n",
    "        print(''.join(['Q ' if qs[i] == j else '. ' for j in range(n)]))\n",
    "    print('')\n",
    "else:\n",
    "    print('Infeasible ...')"
   ]
  },
  {
   "cell_type": "markdown",
   "metadata": {
    "colab_type": "text",
    "id": "DalnuooVDIeY"
   },
   "source": [
    "# Multidimensional knapsack problem\n",
    "\n",
    "https://link.springer.com/chapter/10.1007/978-3-540-24777-7_9"
   ]
  },
  {
   "cell_type": "code",
   "execution_count": null,
   "metadata": {
    "colab": {
     "base_uri": "https://localhost:8080/",
     "height": 82
    },
    "colab_type": "code",
    "id": "cIvMJpSXDGw5",
    "outputId": "66ab7f64-c16d-4a9b-ecff-354b809bf03e"
   },
   "outputs": [],
   "source": [
    "import numpy as np\n",
    "import peqnp as pn\n",
    "\n",
    "n = 90\n",
    "m = 5\n",
    "\n",
    "z = 11191\n",
    "c = [360, 83, 59, 130, 431, 67, 230, 52, 93, 125, 670, 892, 600, 38, 48, 147, 78, 256, 63, 17, 120, 164, 432, 35, 92, 110, 22, 42, 50, 323, 514, 28, 87, 73, 78, 15, 26, 78, 210, 36, 85, 189, 274, 43, 33, 10, 19, 389, 276, 312, 94, 68, 73, 192, 41, 163, 16, 40, 195, 138, 73, 152, 400, 26, 14, 170, 205, 57, 369, 435, 123, 25, 94, 88, 90, 146, 55, 29, 82, 74, 100, 72, 31, 29, 316, 244, 70, 82, 90, 52]\n",
    "\n",
    "b = [2100, 1100, 3300, 3700, 3600]\n",
    "a = [[7, 0, 30, 22, 80, 94, 11, 81, 70, 64, 59, 18, 0, 36, 3, 8, 15, 42, 9, 0, 42, 47, 52, 32, 26, 48, 55, 6, 29, 84, 2, 4, 18, 56, 7, 29, 93, 44, 71, 3, 86, 66, 31, 65, 0, 79, 20, 65, 52, 13, 48, 14, 5, 72, 14, 39, 46, 27, 11, 91, 15, 25, 0, 94, 53, 48, 27, 99, 6, 17, 69, 43, 0, 57, 7, 21, 78, 10, 37, 26, 20, 8, 4, 43, 17, 25, 36, 60, 84, 40],\n",
    "     [8, 66, 98, 50, 0, 30, 0, 88, 15, 37, 26, 72, 61, 57, 17, 27, 83, 3, 9, 66, 97, 42, 2, 44, 71, 11, 25, 74, 90, 20, 0, 38, 33, 14, 9, 23, 12, 58, 6, 14, 78, 0, 12, 99, 84, 31, 16, 7, 33, 20, 5, 18, 96, 63, 31, 0, 70, 4, 66, 9, 15, 25, 2, 0, 48, 1, 40, 31, 82, 79, 56, 34, 3, 19, 52, 36, 95, 6, 35, 34, 74, 26, 10, 85, 63, 31, 22, 9, 92, 18],\n",
    "     [3, 74, 88, 50, 55, 19, 0, 6, 30, 62, 17, 81, 25, 46, 67, 28, 36, 8, 1, 52, 19, 37, 27, 62, 39, 84, 16, 14, 21, 5, 60, 82, 72, 89, 16, 5, 29, 7, 80, 97, 41, 46, 15, 92, 51, 76, 57, 90, 10, 37, 25, 93, 5, 39, 0, 97, 6, 96, 2, 81, 69, 4, 32, 78, 65, 83, 62, 89, 45, 53, 52, 76, 72, 23, 89, 48, 41, 1, 27, 19, 3, 32, 82, 20, 2, 51, 18, 42, 4, 26],\n",
    "     [21, 40, 0, 6, 82, 91, 43, 30, 62, 91, 10, 41, 12, 4, 80, 77, 98, 50, 78, 35, 7, 1, 96, 67, 85, 4, 23, 38, 2, 57, 4, 53, 0, 33, 2, 25, 14, 97, 87, 42, 15, 65, 19, 83, 67, 70, 80, 39, 9, 5, 41, 31, 36, 15, 30, 87, 28, 13, 40, 0, 51, 79, 75, 43, 91, 60, 24, 18, 85, 83, 3, 85, 2, 5, 51, 63, 52, 85, 17, 62, 7, 86, 48, 2, 1, 15, 74, 80, 57, 16],\n",
    "     [94, 86, 80, 92, 31, 17, 65, 51, 46, 66, 44, 3, 26, 0, 39, 20, 11, 6, 55, 70, 11, 75, 82, 35, 47, 99, 5, 14, 23, 38, 94, 66, 64, 27, 77, 50, 28, 25, 61, 10, 30, 15, 12, 24, 90, 25, 39, 47, 98, 83, 56, 36, 6, 66, 89, 45, 38, 1, 18, 88, 19, 39, 20, 1, 7, 34, 68, 32, 31, 58, 41, 99, 92, 67, 33, 26, 25, 68, 37, 6, 11, 17, 48, 79, 63, 77, 17, 29, 18, 60]]\n",
    "\n",
    "\n",
    "pn.engine()\n",
    "xs = np.asarray(pn.vector(size=n, is_mip=True))\n",
    "pn.apply_single(xs, lambda x: x <= 1)\n",
    "for i in range(m):\n",
    "    assert np.dot(a[i], xs) <= b[i]\n",
    "assert np.dot(c, xs) <= z\n",
    "print(pn.maximize(np.dot(c, xs)))\n",
    "print(xs)"
   ]
  },
  {
   "cell_type": "markdown",
   "metadata": {
    "colab_type": "text",
    "id": "QJiSiXi_DyFL"
   },
   "source": [
    "# Partition Problem\n",
    "\n",
    "n number theory and computer science, the partition problem, or number partitioning, is the task of deciding whether a given multiset $S$ of positive integers can be partitioned into two subsets $S_1$ and $S_2$ such that the sum of the numbers in $S_1$ equals the sum of the numbers in $S_2$.\n",
    "\n",
    "https://en.wikipedia.org/wiki/Partition_problem\n",
    "\n"
   ]
  },
  {
   "cell_type": "code",
   "execution_count": null,
   "metadata": {
    "colab": {
     "base_uri": "https://localhost:8080/",
     "height": 65
    },
    "colab_type": "code",
    "id": "yZlJB_TdDwyc",
    "outputId": "5a48fca4-a8f6-449d-8471-cae7184c1c55"
   },
   "outputs": [],
   "source": [
    "import numpy as np\n",
    "import peqnp as pn\n",
    "\n",
    "size = 20\n",
    "\n",
    "data = np.random.randint(1000, size=size)\n",
    "\n",
    "print(data)\n",
    "\n",
    "pn.engine(int(sum(data)).bit_length())\n",
    "\n",
    "T, sub, com = pn.subsets(data, complement=True)\n",
    "\n",
    "assert sum(sub) == sum(com)\n",
    "\n",
    "if pn.satisfy():\n",
    "    sub_ = [data[i] for i in range(size) if T.binary[i]]\n",
    "    com_ = [data[i] for i in range(size) if not T.binary[i]]\n",
    "    print(sum(sub_), sub_)\n",
    "    print(sum(com_), com_)\n",
    "else:\n",
    "    print('Infeasible ...')"
   ]
  },
  {
   "cell_type": "markdown",
   "metadata": {
    "colab_type": "text",
    "id": "vAyAnEGqFN-L"
   },
   "source": [
    "# Optimal Facility Selection & Location Problem\n",
    "\n",
    "Giben a set of facilities, select a number of them such that be optimal in terms of distance to demands."
   ]
  },
  {
   "cell_type": "code",
   "execution_count": null,
   "metadata": {
    "colab": {
     "base_uri": "https://localhost:8080/",
     "height": 1000
    },
    "colab_type": "code",
    "id": "JGuXCUMbEvao",
    "outputId": "674d7460-a062-4901-b995-6a0fa5abee25"
   },
   "outputs": [],
   "source": [
    "import numpy as np\n",
    "import peqnp as pn\n",
    "import matplotlib.pyplot as plt\n",
    "\n",
    "\n",
    "def plot(I, J=None, X=None, title='Original', obj=0):\n",
    "    plt.figure(figsize=(10, 10))\n",
    "    plt.title('{} : {}'.format(title, obj))\n",
    "    a, b = zip(*I)\n",
    "    plt.scatter(a, b, c='blue', s=50, alpha=0.6)\n",
    "    if J is not None:\n",
    "        if X is not None:\n",
    "            for i in range(m):\n",
    "                for j in range(n):\n",
    "                    if X[i][j]:\n",
    "                        plt.plot([I[i][0], J[j][0]], [I[i][1], J[j][1]], 'g-',alpha=0.2)\n",
    "        a, b = zip(*J)\n",
    "        plt.scatter(a, b, c='red', s=300, alpha=0.8)\n",
    "    else:\n",
    "        a, b = zip(*J)\n",
    "        plt.scatter(a, b, c='red', s=300, alpha=0.8)\n",
    "    plt.show()\n",
    "    plt.close()\n",
    "\n",
    "\n",
    "def oracle(seq):\n",
    "    global O, glb, n\n",
    "    M = np.zeros(shape=(m, n))\n",
    "    for i in range(m):\n",
    "        for j in range(n):\n",
    "            M[i][j] = np.linalg.norm(I[i] - J[seq[j]])\n",
    "    pn.engine()\n",
    "    X = np.asarray(pn.matrix(dimensions=(m, n), is_mip=True))\n",
    "    pn.all_binaries(X.flatten())\n",
    "    assert sum(X.flatten()) == m\n",
    "    assert (X.sum(axis=1) == 1).all()\n",
    "    obj = pn.minimize(sum(X[i][j] * M[i][j] for i in range(m) for j in range(n)))\n",
    "    O = np.vectorize(int)(X)\n",
    "    return obj\n",
    "\n",
    "m = 50\n",
    "k = 15\n",
    "n = 3\n",
    "I = np.random.sample(size=(m, 2))    \n",
    "J = np.random.sample(size=(k, 2))\n",
    "plot(I, J)\n",
    "seq = pn.hess_sequence(k, oracle=oracle, fast=False)\n",
    "plot(I, J[seq][:n], O, 'www.peqnp.com', oracle(seq))"
   ]
  },
  {
   "cell_type": "code",
   "execution_count": null,
   "metadata": {
    "colab": {
     "base_uri": "https://localhost:8080/",
     "height": 1000
    },
    "colab_type": "code",
    "id": "qIDZBdGzj1eg",
    "outputId": "68762f0f-0d5e-405c-a03c-7a2ad5521931"
   },
   "outputs": [],
   "source": [
    "import matplotlib.pyplot as plt\n",
    "import numpy as np\n",
    "import peqnp as pn\n",
    "from sklearn.datasets import make_blobs\n",
    "\n",
    "\n",
    "def plot(X=None):\n",
    "    fig, ax = plt.subplots(figsize=(10, 10))\n",
    "    plt.title('PEQNP\\nwww.peqnp.com')\n",
    "    plt.scatter(N[:, 0], N[:, 1], c='b', s=P * 500, alpha=0.5)\n",
    "    for i in range(m):\n",
    "        ax.annotate(str(round(P[i], 2)), (N[:, 0][i], N[:, 1][i]), size=10)\n",
    "    plt.scatter(M[:, 0], M[:, 1], c='r', s=L * 500, alpha=0.7)\n",
    "    for i in range(n):\n",
    "        ax.annotate(str(round(T[i], 2)), (M[:, 0][i] + 0.1, M[:, 1][i] + 0.1))\n",
    "        ax.annotate(str(L[i]), (M[:, 0][i] - 0.1, M[:, 1][i] - 0.1))\n",
    "    if X is not None:\n",
    "        for i in range(m):\n",
    "            for j in range(n):\n",
    "                if X[i][j]:\n",
    "                    plt.plot([N[i][0], M[j][0]], [N[i][1], M[j][1]], 'k--', alpha=0.3)\n",
    "    plt.show()\n",
    "\n",
    "\n",
    "n = 4\n",
    "\n",
    "L = np.random.randint(1, 100, size=n)  # capacity x facilities\n",
    "\n",
    "m = sum(L)\n",
    "\n",
    "N, _ = make_blobs(n_samples=m)  # customers\n",
    "P = np.random.sample(size=m)  # priorities x customers\n",
    "M = np.random.normal(size=(n, 2)) * n  # facilities\n",
    "T = np.random.sample(size=n)  # priorities x facility\n",
    "C = np.zeros(shape=(m, n))\n",
    "for i in range(m):\n",
    "    for j in range(n):\n",
    "        C[i][j] = np.linalg.norm(N[i] - M[j])\n",
    "\n",
    "D = np.zeros(shape=(m, n))\n",
    "for i in range(m):\n",
    "    for j in range(n):\n",
    "        D[i][j] = P[i] - T[j]\n",
    "\n",
    "plot()\n",
    "\n",
    "pn.engine()\n",
    "X = np.asarray(pn.matrix(dimensions=(m, n), is_mip=True))\n",
    "pn.all_binaries(X.flatten())\n",
    "assert (X.sum(axis=0) <= L).all()\n",
    "assert (X.sum(axis=1) == 1).all()\n",
    "print(pn.minimize((X * C * D).sum()))\n",
    "plot(np.vectorize(int)(X))"
   ]
  },
  {
   "cell_type": "markdown",
   "metadata": {
    "colab_type": "text",
    "id": "Eihja_R2Goa8"
   },
   "source": [
    "# TSP MIP formulation vs HESS Algorithm (O. Riveros)"
   ]
  },
  {
   "cell_type": "code",
   "execution_count": null,
   "metadata": {
    "colab": {
     "base_uri": "https://localhost:8080/",
     "height": 592
    },
    "colab_type": "code",
    "id": "y4r0uSRZGnZx",
    "outputId": "07f98ab5-3bb2-4ca4-e725-6fbb06b78fdb"
   },
   "outputs": [],
   "source": [
    "import numpy as np\n",
    "import peqnp as pn\n",
    "import matplotlib.pyplot as plt\n",
    "\n",
    "\n",
    "def plot(tour, title):\n",
    "    x, y = zip(*[data[tour[i]] for i in range(n)] + [data[tour[0]]])\n",
    "    plt.title(title + ' : {}'.format(oracle(tour)))\n",
    "    plt.plot(x, y, 'r-')\n",
    "    plt.plot(x, y, 'ko')\n",
    "    plt.show()\n",
    "    plt.close()\n",
    "\n",
    "\n",
    "def oracle(seq):\n",
    "    return sum(D[seq[i - 1]][seq[i]] for i in range(n))\n",
    "\n",
    "n = 10\n",
    "data = np.random.logistic(size=(n, 2)) * 10\n",
    "D = np.zeros(shape=(n, n))\n",
    "for i in range(n):\n",
    "    for j in range(n):\n",
    "        D[i][j] = int(np.linalg.norm(data[i] - data[j]))\n",
    "\n",
    "seq = pn.hess_sequence(n, oracle=oracle, fast=False)\n",
    "print(oracle(seq))\n",
    "plot(seq, 'HESS')\n",
    "\n",
    "pn.engine()\n",
    "\n",
    "M = np.asarray(pn.matrix(dimensions=(n, n), is_mip=True))\n",
    "u = pn.vector(size=n, is_mip=True)\n",
    "\n",
    "for k in range(n):\n",
    "    assert M[k][k] == 0\n",
    "\n",
    "assert sum(M.flatten()) == n\n",
    "\n",
    "for i in range(n):\n",
    "    for j in range(n):\n",
    "        assert M[i][j] <= 1\n",
    "\n",
    "for a, b in zip(M, M.T):\n",
    "    assert sum(a) == 1\n",
    "    assert sum(b) == 1\n",
    "\n",
    "for i in range(1, n):\n",
    "    for j in range(1, n):\n",
    "        if i != j:\n",
    "            assert u[i] - u[j] + (n - 1) * M[i][j] <= n - 2\n",
    "\n",
    "optimal = pn.minimize(sum(D[i][j] * M[i][j] for i in range(n) for j in range(n)))\n",
    "print(optimal)\n",
    "\n",
    "path = {}\n",
    "for i in range(n):\n",
    "    for j in range(n):\n",
    "        if M[i][j].value:\n",
    "            path[j] = i\n",
    "\n",
    "tour = [0, path[0]]\n",
    "while len(tour) < n:\n",
    "    tour.append(path[tour[-1]])\n",
    "plot(tour, 'MIP')\n",
    "\n",
    "print('ratio HESS / MIP = {}'.format(oracle(seq) / optimal))"
   ]
  },
  {
   "cell_type": "markdown",
   "metadata": {
    "colab_type": "text",
    "id": "zaw48EMAikEp"
   },
   "source": [
    "# Sudoku \n",
    "\n",
    "is a logic-based, combinatorial number-placement puzzle. The objective is to fill a 9×9 grid with digits so that each column, each row, and each of the nine 3×3 subgrids that compose the grid (also called \"boxes\", \"blocks\", or \"regions\") contain all of the digits from 1 to 9. The puzzle setter provides a partially completed grid, which for a well-posed puzzle has a single solution.\n",
    "\n",
    "Completed games are always an example of a Latin square which include an additional constraint on the contents of individual regions. For example, the same single integer may not appear twice in the same row, column, or any of the nine 3×3 subregions of the 9×9 playing board.\n",
    "\n",
    "https://en.wikipedia.org/wiki/Sudoku"
   ]
  },
  {
   "cell_type": "code",
   "execution_count": null,
   "metadata": {
    "colab": {
     "base_uri": "https://localhost:8080/",
     "height": 1000
    },
    "colab_type": "code",
    "id": "Xv2NJptiijYi",
    "outputId": "fc088d67-ecc8-4e6b-fa20-564c4598ac15"
   },
   "outputs": [],
   "source": [
    "import numpy as np\n",
    "import peqnp as pn\n",
    "\n",
    "\n",
    "def expandLine(line):\n",
    "    return line[0] + line[5:9].join([line[1:5] * (base - 1)] * base) + line[9:13]\n",
    "\n",
    "\n",
    "def show(board):\n",
    "    import string\n",
    "    line0 = expandLine('╔═══╤═══╦═══╗')\n",
    "    line1 = expandLine('║ . │ . ║ . ║')\n",
    "    line2 = expandLine('╟───┼───╫───╢')\n",
    "    line3 = expandLine('╠═══╪═══╬═══╣')\n",
    "    line4 = expandLine('╚═══╧═══╩═══╝')\n",
    "\n",
    "    symbol = ' ' + string.printable.replace(' ', '')\n",
    "    nums = [[''] + [symbol[n] for n in row] for row in board]\n",
    "    print(line0)\n",
    "    for r in range(1, side + 1):\n",
    "        print(\"\".join(n + s for n, s in zip(nums[r - 1], line1.split('.'))))\n",
    "        print([line2, line3, line4][(r % side == 0) + (r % base == 0)])\n",
    "\n",
    "\n",
    "def generate(base):\n",
    "    # pattern for a baseline valid solution\n",
    "    def pattern(r, c):\n",
    "        return (base * (r % base) + r // base + c) % side\n",
    "\n",
    "    # randomize rows, columns and numbers (of valid base pattern)\n",
    "    from random import sample\n",
    "\n",
    "    def shuffle(s):\n",
    "        return sample(s, len(s))\n",
    "\n",
    "    rBase = range(base)\n",
    "    rows = [g * base + r for g in shuffle(rBase) for r in shuffle(rBase)]\n",
    "    cols = [g * base + c for g in shuffle(rBase) for c in shuffle(rBase)]\n",
    "    nums = shuffle(range(1, base * base + 1))\n",
    "\n",
    "    # produce board using randomized baseline pattern\n",
    "    board = [[nums[pattern(r, c)] for c in cols] for r in rows]\n",
    "\n",
    "    squares = side * side\n",
    "    empties = (squares * 3) // 4\n",
    "    for p in map(int, sample(range(squares), empties)):\n",
    "        board[p // side][p % side] = 0\n",
    "\n",
    "    show(board)\n",
    "    return board\n",
    "\n",
    "\n",
    "base = 4\n",
    "side = base * base\n",
    "\n",
    "puzzle = np.asarray(generate(base))\n",
    "\n",
    "pn.engine(side.bit_length())\n",
    "\n",
    "board = np.asarray(pn.matrix(dimensions=(side, side)))\n",
    "pn.apply_single(board.flatten(), lambda x: 1 <= x <= side)\n",
    "\n",
    "for i in range(side):\n",
    "    for j in range(side):\n",
    "        if puzzle[i][j]:\n",
    "            assert board[i][j] == puzzle[i][j]\n",
    "\n",
    "for c, r in zip(board, board.T):\n",
    "    pn.all_different(c)\n",
    "    pn.all_different(r)\n",
    "\n",
    "for i in range(base):\n",
    "    for j in range(base):\n",
    "        pn.all_different(board[i * base:(i + 1) * base, j * base:(j + 1) * base].flatten())\n",
    "\n",
    "if pn.satisfy():\n",
    "    show(np.vectorize(int)(board))\n"
   ]
  },
  {
   "cell_type": "markdown",
   "metadata": {
    "colab_type": "text",
    "id": "kfTsO3kq965a"
   },
   "source": [
    "# The PEQNP Standard Library\n",
    "\n",
    "```python\n",
    "def version():\n",
    "    \"\"\"\n",
    "    Print the current version of the system.\n",
    "    :return:\n",
    "    \"\"\"\n",
    "\n",
    "\n",
    "def engine(bits=None, sat_solver_path=None, mip_solver_path=None, info=False):\n",
    "    \"\"\"\n",
    "    Initialize and reset the internal state of solver engine.\n",
    "    :param bits: The bits 2 ** bits - 1 of solving space.\n",
    "    :param sat_solver_path: Path of the PEQNP compatible SAT Solver to use.\n",
    "    :param mip_solver_path: Path of the PEQNP compatible MIP Solver to use.\n",
    "    :param info: Return the info of the current system.\n",
    "    :return:\n",
    "    \"\"\"\n",
    "\n",
    "\n",
    "def integer(bits=None):\n",
    "    \"\"\"\n",
    "    Correspond to an integer.\n",
    "    :param bits: The bits of the integer.\n",
    "    :return: An instance of Integer.\n",
    "    \"\"\"\n",
    "\n",
    "\n",
    "def constant(value, bits=None):\n",
    "    \"\"\"\n",
    "    Correspond to an constant of value with bits bits.\n",
    "    :param bits: The bits bits of the constant.\n",
    "    :param value: The value that represent the constant.\n",
    "    :return: An instance of Constant.\n",
    "    \"\"\"\n",
    "\n",
    "\n",
    "def satisfy():\n",
    "    \"\"\"\n",
    "    Find a model for the current problem.\n",
    "    :return: True if SATISFIABLE else False\n",
    "    \"\"\"\n",
    "\n",
    "\n",
    "def subsets(lst, k=None, complement=False):\n",
    "    \"\"\"\n",
    "    Generate all subsets for an specific universe of data.\n",
    "    :param lst: The universe of data.\n",
    "    :param k: The cardinality of the subsets.\n",
    "    :param complement: True if include in return the complement.\n",
    "    :return: (binary representation of subsets, the generic subset representation, the complement of subset if complement=True)\n",
    "    \"\"\"\n",
    "\n",
    "\n",
    "def subset(data, k, empty=None, complement=False):\n",
    "    \"\"\"\n",
    "    An operative structure (like integer ot constant) that represent a subset of at most k elements.\n",
    "    :param data: The data for the subsets.\n",
    "    :param k: The maximal bits for subsets.\n",
    "    :param empty: The empty element, 0, by default.\n",
    "    :param complement: True if include in return the complement.\n",
    "    :return: An instance of subset or (subset, complement) if complement=True.\n",
    "    \"\"\"\n",
    "\n",
    "\n",
    "def vector(bits=None, size=None, is_rational=False, is_gaussian=False, is_mip=False, is_real=False):\n",
    "    \"\"\"\n",
    "    A vector of integers.\n",
    "    :param bits: The bit bits for each integer.\n",
    "    :param size: The bits of the vector.\n",
    "    :param is_rational: Indicate of is a Rational vector.\n",
    "    :param is_gaussian: Indicate of is a Gaussian Integers vector.\n",
    "    :param is_mip: Indicate of is a MIP vector.\n",
    "    :param is_real: Indicate of is a MIP vector and is real or int.\n",
    "    :return: An instance of vector.\n",
    "    \"\"\"\n",
    "\n",
    "\n",
    "def matrix(bits=None, dimensions=None, is_mip=False, is_real=False):\n",
    "    \"\"\"\n",
    "    A matrix of integers.\n",
    "    :param bits: The bit bits for each integer.\n",
    "    :param dimensions: An tuple with the dimensions for the array (n, m).\n",
    "    :param is_mip: Indicate of is a MIP vector.\n",
    "    :param is_real: Indicate of is a MIP vector and is real or int.\n",
    "    :return: An instance of Matrix.\n",
    "    \"\"\"\n",
    "\n",
    "\n",
    "def matrix_permutation(lst, n):\n",
    "    \"\"\"\n",
    "    This generate the permutations for an square matrix.\n",
    "    :param lst: The flattened matrix of data, i.e. a vector.\n",
    "    :param n: The dimension for the square nxn-matrix.\n",
    "    :return: An tuple with (index for the elements, the elements that represent the indexes)\n",
    "    \"\"\"\n",
    "\n",
    "\n",
    "def permutations(lst, n):\n",
    "    \"\"\"\n",
    "    Entangle all permutations of bits n for the vector lst.\n",
    "    :param lst: The list to entangle.\n",
    "    :param n: The bits of entanglement.\n",
    "    :return: (indexes, values)\n",
    "    \"\"\"\n",
    "\n",
    "\n",
    "def combinations(lst, n):\n",
    "    \"\"\"\n",
    "    Entangle all combinations of bits n for the vector lst.\n",
    "    :param lst: The list to entangle.\n",
    "    :param n: The bits of entanglement.\n",
    "    :return: (indexes, values)\n",
    "    \"\"\"\n",
    "\n",
    "\n",
    "def all_binaries(lst):\n",
    "    \"\"\"\n",
    "    This say that, the vector of integer are all binaries.\n",
    "    :param lst: The vector of integers.\n",
    "    :return:\n",
    "    \"\"\"\n",
    "\n",
    "\n",
    "def switch(x, ith, neg=False):\n",
    "    \"\"\"\n",
    "    This conditionally flip the internal bit for an integer.\n",
    "    :param x: The integer.\n",
    "    :param ith: Indicate the ith bit.\n",
    "    :param neg: indicate if the condition is inverted.\n",
    "    :return: 0 if the uth bit for the argument collapse to true else return 1, if neg is active exchange 1 by 0.\n",
    "    \"\"\"\n",
    "\n",
    "\n",
    "def one_of(lst):\n",
    "    \"\"\"\n",
    "    This indicate that at least one of the instruction on the array is active for the current problem.\n",
    "    :param lst: A list of instructions.\n",
    "    :return: The entangled structure.\n",
    "    \"\"\"\n",
    "\n",
    "\n",
    "def factorial(x):\n",
    "    \"\"\"\n",
    "    The factorial for the integer.\n",
    "    :param x: The integer.\n",
    "    :return: The factorial.\n",
    "    \"\"\"\n",
    "\n",
    "\n",
    "def sigma(f, i, n):\n",
    "    \"\"\"\n",
    "    The Sum for i to n, for the lambda f f,\n",
    "    :param f: A lambda f with an standard int parameter.\n",
    "    :param i: The start for the Sum, an standard int.\n",
    "    :param n: The integer that represent the end of the Sum.\n",
    "    :return: The entangled structure.\n",
    "    \"\"\"\n",
    "\n",
    "\n",
    "def pi(f, i, n):\n",
    "    \"\"\"\n",
    "    The Pi for i to n, for the lambda f f,\n",
    "    :param f: A lambda f with an standard int parameter.\n",
    "    :param i: The start for the Pi, an standard int.\n",
    "    :param n: The integer that represent the end of the Pi.\n",
    "    :return: The entangled structure.\n",
    "    \"\"\"\n",
    "\n",
    "\n",
    "def dot(xs, ys):\n",
    "    \"\"\"\n",
    "    The dot product of two compatible Vectors.\n",
    "    :param xs: The fist vector.\n",
    "    :param ys: The second vector.\n",
    "    :return: The dot product.\n",
    "    \"\"\"\n",
    "\n",
    "\n",
    "def mul(xs, ys):\n",
    "    \"\"\"\n",
    "    The elementwise product of two Vectors.\n",
    "    :param xs: The fist vector.\n",
    "    :param ys: The second vector.\n",
    "    :return: The product.\n",
    "    \"\"\"\n",
    "\n",
    "\n",
    "def apply_single(lst, f):\n",
    "    \"\"\"\n",
    "    A sequential operation over a vector.\n",
    "    :param lst: The vector.\n",
    "    :param f: The lambda f of one integer variable.\n",
    "    :return: The entangled structure.\n",
    "    \"\"\"\n",
    "\n",
    "\n",
    "def apply_dual(lst, f):\n",
    "    \"\"\"\n",
    "    A cross operation over a vector on all pairs i, j such that i < j elements.\n",
    "    :param lst: The vector.\n",
    "    :param f: The lambda f of two integer variables.\n",
    "    :return: The entangled structure.\n",
    "    \"\"\"\n",
    "\n",
    "\n",
    "def apply_different(lst, f):\n",
    "    \"\"\"\n",
    "    A cross operation over a vector on all pairs i, j such that i != j elements.\n",
    "    :param lst: The vector.\n",
    "    :param f: The lambda f of two integer variables.\n",
    "    :return: The entangled structure.\n",
    "    \"\"\"\n",
    "\n",
    "\n",
    "def all_different(args):\n",
    "    \"\"\"\n",
    "    The all different global constraint.\n",
    "    :param args: A vector of integers.\n",
    "    :return:\n",
    "    \"\"\"\n",
    "\n",
    "\n",
    "def all_out(args, values):\n",
    "    \"\"\"\n",
    "    The all different to values global constraint.\n",
    "    :param args: A vector of integers.\n",
    "    :param values: The values excluded.\n",
    "    :return:\n",
    "    \"\"\"\n",
    "\n",
    "\n",
    "def all_in(args, values):\n",
    "    \"\"\"\n",
    "    The all in values global constraint.\n",
    "    :param args: A vector of integers.\n",
    "    :param values: The values included.\n",
    "    :return:\n",
    "    \"\"\"\n",
    "\n",
    "\n",
    "def flatten(mtx):\n",
    "    \"\"\"\n",
    "    Flatten a matrix into list.\n",
    "    :param mtx: The matrix.\n",
    "    :return: The entangled structure.\n",
    "    \"\"\"\n",
    "\n",
    "\n",
    "def bits():\n",
    "    \"\"\"\n",
    "    The current bits for the engine.\n",
    "    :return: The bits\n",
    "    \"\"\"\n",
    "\n",
    "\n",
    "def oo():\n",
    "    \"\"\"\n",
    "    The infinite for rhe system, the maximal value for the current engine.\n",
    "    :return: 2 ** bits - 1\n",
    "    \"\"\"\n",
    "\n",
    "\n",
    "def element(item, data):\n",
    "    \"\"\"\n",
    "    Ensure that the element i is on the data, on the position index.\n",
    "    :param item: The element\n",
    "    :param data: The data\n",
    "    :return: The position of element\n",
    "    \"\"\"\n",
    "\n",
    "\n",
    "def index(ith, data):\n",
    "    \"\"\"\n",
    "    Ensure that the element i is on the data, on the position index.\n",
    "    :param ith: The element\n",
    "    :param data: The data\n",
    "    :return: The position of element\n",
    "    \"\"\"\n",
    "\n",
    "\n",
    "def gaussian(x=None, y=None):\n",
    "    \"\"\"\n",
    "    Create a gaussian integer from (x+yj).\n",
    "    :param x: real\n",
    "    :param y: imaginary\n",
    "    :return: (x+yj)\n",
    "    \"\"\"\n",
    "\n",
    "\n",
    "def rational(x=None, y=None):\n",
    "    \"\"\"\n",
    "    Create a rational x / y.\n",
    "    :param x: numerator\n",
    "    :param y: denominator\n",
    "    :return: x / y\n",
    "    \"\"\"\n",
    "\n",
    "\n",
    "def at_most_k(x, k):\n",
    "    \"\"\"\n",
    "    At most k bits can be activated for this integer.\n",
    "    :param x: An integer.\n",
    "    :param k: k elements\n",
    "    :return: The encoded variable\n",
    "    \"\"\"\n",
    "\n",
    "\n",
    "def sqrt(x):\n",
    "    \"\"\"\n",
    "    Define x as a perfect square.\n",
    "    :param x: The integer\n",
    "    :return: The square of this integer.\n",
    "    \"\"\"\n",
    "\n",
    "\n",
    "def hess_sequence(n, oracle, fast=True, cycles=1):\n",
    "    \"\"\"\n",
    "    HESS Algorithm is a Universal Black Box Optimizer (sequence version).\n",
    "    :param n: The size of sequence.\n",
    "    :param oracle: The oracle, this output a number and input a sequence.\n",
    "    :param fast: More fast less accuracy.\n",
    "    :param cycles: How many times the HESS algorithm is executed.\n",
    "    :return optimized sequence.\n",
    "    \"\"\"\n",
    "\n",
    "\n",
    "def hess_binary(n, oracle, fast=True, cycles=1):\n",
    "    \"\"\"\n",
    "    HESS Algorithm is a Universal Black Box Optimizer (binary version).\n",
    "    :param n: The size of bit vector.\n",
    "    :param oracle: The oracle, this output a number and input a bit vector.\n",
    "    :param fast: More fast some times less accuracy.\n",
    "    :param cycles: How many times the HESS algorithm is executed.\n",
    "    :return optimized sequence.\n",
    "    \"\"\"\n",
    "\n",
    "\n",
    "def hyper_loop(n, m):\n",
    "    \"\"\"\n",
    "    An nested for loop\n",
    "    :param n: The size of the samples\n",
    "    :param m: The numbers in the sample 0..m\n",
    "    :return:\n",
    "    \"\"\"\n",
    "\n",
    "\n",
    "def reshape(lst, dimensions):\n",
    "    \"\"\"\n",
    "    Reshape a list\n",
    "    :param lst: The coherent list to reshape\n",
    "    :param dimensions:  The list of dimensions\n",
    "    :return: The reshaped list\n",
    "    \"\"\"\n",
    "\n",
    "\n",
    "def tensor(dimensions):\n",
    "    \"\"\"\n",
    "    Create a tensor\n",
    "    :param dimensions: The list of dimensions\n",
    "    :return: A tensor\n",
    "    \"\"\"\n",
    "\n",
    "\n",
    "def linear(is_real=False):\n",
    "    \"\"\"\n",
    "    Create a linear variable.\n",
    "    :param is_real: If true, the variable is a real number if not an integer.\n",
    "    :return: The new variable.\n",
    "    \"\"\"\n",
    "\n",
    "\n",
    "def maximize(objective):\n",
    "    \"\"\"\n",
    "    Maximize the objective, according to the current linear constrains.\n",
    "    :param objective: An standard linear expression.\n",
    "    :return: the values of the model in order of variable creation.\n",
    "    \"\"\"\n",
    "\n",
    "\n",
    "def minimize(objective):\n",
    "    \"\"\"\n",
    "    Minimize the objective, according to the current linear constrains.\n",
    "    :param objective: An standard linear expression.\n",
    "    :return: the values of the model in order of variable creation.\n",
    "    \"\"\"\n",
    "```"
   ]
  }
 ],
 "metadata": {
  "colab": {
   "name": "PEQNP.ipynb",
   "provenance": []
  },
  "kernelspec": {
   "display_name": "Python 3",
   "language": "python",
   "name": "python3"
  },
  "language_info": {
   "codemirror_mode": {
    "name": "ipython",
    "version": 3
   },
   "file_extension": ".py",
   "mimetype": "text/x-python",
   "name": "python",
   "nbconvert_exporter": "python",
   "pygments_lexer": "ipython3",
   "version": "3.8.3"
  }
 },
 "nbformat": 4,
 "nbformat_minor": 4
}
