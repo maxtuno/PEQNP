{
  "nbformat": 4,
  "nbformat_minor": 0,
  "metadata": {
    "colab": {
      "name": "PEQNP.ipynb",
      "provenance": [],
      "collapsed_sections": [],
      "toc_visible": true,
      "include_colab_link": true
    },
    "kernelspec": {
      "display_name": "Python 3",
      "language": "python",
      "name": "python3"
    },
    "language_info": {
      "codemirror_mode": {
        "name": "ipython",
        "version": 3
      },
      "file_extension": ".py",
      "mimetype": "text/x-python",
      "name": "python",
      "nbconvert_exporter": "python",
      "pygments_lexer": "ipython3",
      "version": "3.9.1-final"
    }
  },
  "cells": [
    {
      "cell_type": "markdown",
      "metadata": {
        "id": "view-in-github",
        "colab_type": "text"
      },
      "source": [
        "<a href=\"https://colab.research.google.com/github/maxtuno/PEQNP/blob/master/docs/PEQNP.ipynb\" target=\"_parent\"><img src=\"https://colab.research.google.com/assets/colab-badge.svg\" alt=\"Open In Colab\"/></a>"
      ]
    },
    {
      "cell_type": "markdown",
      "metadata": {
        "id": "71mQEXWm964S"
      },
      "source": [
        "<a href=\"https://www.peqnp.com\"><img border=\"0\" alt=\"PEQNP\" src=\"https://raw.githubusercontent.com/maxtuno/PEQNP/master/logo.png\" width=\"640\" height=\"400\">\n",
        "\n",
        "# PEQNP [![Downloads](https://pepy.tech/badge/peqnp)]\n",
        "## MATHEMATICAL SOLVER\n",
        "\n",
        "The PEQNP system its an automatic CNF compiler and interpreter integrated with Python."
      ]
    },
    {
      "cell_type": "markdown",
      "metadata": {
        "id": "JzM69hBn964T"
      },
      "source": [
        "# INSTALLATION\n",
        "```python\n",
        "pip install PEQNP\n",
        "```"
      ]
    },
    {
      "cell_type": "code",
      "metadata": {
        "id": "GMnjfDhU_EEc",
        "tags": [],
        "colab": {
          "base_uri": "https://localhost:8080/"
        },
        "outputId": "f8afe99c-99c2-4823-fd48-d0714c991d9a"
      },
      "source": [
        "!pip install PEQNP --upgrade --force"
      ],
      "execution_count": 1,
      "outputs": [
        {
          "output_type": "stream",
          "text": [
            "Processing /root/.cache/pip/wheels/65/ba/9b/affd1ad1de0d347816db253b5cd98f16021e557d100a4b742e/PEQNP-6.1.0-cp37-cp37m-linux_x86_64.whl\n",
            "Installing collected packages: PEQNP\n",
            "  Found existing installation: PEQNP 6.1.0\n",
            "    Uninstalling PEQNP-6.1.0:\n",
            "      Successfully uninstalled PEQNP-6.1.0\n",
            "Successfully installed PEQNP-6.1.0\n"
          ],
          "name": "stdout"
        }
      ]
    },
    {
      "cell_type": "markdown",
      "metadata": {
        "id": "n71dPAXZecdj"
      },
      "source": [
        "# INTRODUCION\n",
        "On PEQNP all elements are integers, the relations are at bit level or arithmetic level. All integers live on $\\mathbb{N}_{2 ^ {bits} - 1}$ and always positives, i.e. for two integer $(x, y)$ the operation, $(x - y)$ take all possibilities such that $x - y >= 0$.\n",
        "\n",
        "# SUPPORTED OPERATIONS\n",
        "$+$, $-$, $*$, $/$, $**$, $abs$, $powmod$, $\\%$, $\\&$, $|$, $^$, $==$, $=$, $<$, $<=$, $>$, $>=$"
      ]
    },
    {
      "cell_type": "markdown",
      "metadata": {
        "id": "Kd2ebfRUkjre"
      },
      "source": [
        "# FIND ALL SOLUTIONS TO $2^n-7=x^2$\n",
        "\n",
        "Ref: http://www.artofproblemsolving.com/Forum/viewtopic.php?t=66245"
      ]
    },
    {
      "cell_type": "code",
      "metadata": {
        "id": "vY7upZWNkoS_",
        "colab": {
          "base_uri": "https://localhost:8080/"
        },
        "outputId": "9f8f8a9d-d151-4507-82cb-60796de01e22"
      },
      "source": [
        "import peqnp as cnf\n",
        "\n",
        "cnf.engine(64)\n",
        "\n",
        "_2 = cnf.constant(2)\n",
        "n = cnf.integer()\n",
        "x = cnf.integer()\n",
        "\n",
        "assert _2 ** n - 7 == x ** 2\n",
        "\n",
        "while cnf.satisfy():\n",
        "    print(n, x)"
      ],
      "execution_count": 2,
      "outputs": [
        {
          "output_type": "stream",
          "text": [
            "7 11\n",
            "3 1\n",
            "15 181\n",
            "5 5\n",
            "4 3\n"
          ],
          "name": "stdout"
        }
      ]
    },
    {
      "cell_type": "markdown",
      "metadata": {
        "id": "RbN-rZnek7Dl"
      },
      "source": [
        "SOLVE IN POSITIVE INTEGERS THE FOLLOWING EQUATION: $n^3 − 5n + 10 = 2^k$.\n",
        "\n",
        "Ref: http://www.artofproblemsolving.com/Forum/viewtopic.php?t=103239\n",
        "\n",
        "tip: avoid the negative signs"
      ]
    },
    {
      "cell_type": "code",
      "metadata": {
        "id": "yOQyM4QslOAz",
        "colab": {
          "base_uri": "https://localhost:8080/"
        },
        "outputId": "b4f30395-8651-46fc-ff82-152cf1fd0155"
      },
      "source": [
        "import peqnp as cnf\n",
        "\n",
        "cnf.engine(16)\n",
        "\n",
        "_2 = cnf.constant(2)\n",
        "\n",
        "n = cnf.integer()\n",
        "k = cnf.integer()\n",
        "\n",
        "assert n ** 3 + 10 == _2 ** k + 5 * n\n",
        "\n",
        "while cnf.satisfy():\n",
        "    print(n, k)"
      ],
      "execution_count": 3,
      "outputs": [
        {
          "output_type": "stream",
          "text": [
            "2 3\n"
          ],
          "name": "stdout"
        }
      ]
    },
    {
      "cell_type": "markdown",
      "metadata": {
        "id": "AcGfS1eRlT6U"
      },
      "source": [
        "# FIND ALL POSITIVE INTEGER SOLUTIONS TO $a^{2}=b^{3}+1$\n",
        "\n",
        "Ref: http://www.artofproblemsolving.com/Forum/viewtopic.php?t=103239"
      ]
    },
    {
      "cell_type": "code",
      "metadata": {
        "id": "V8LEjkg3lYP7",
        "colab": {
          "base_uri": "https://localhost:8080/"
        },
        "outputId": "6f299539-084c-43c1-9fee-8233b24e147a"
      },
      "source": [
        "import peqnp as cnf\n",
        "\n",
        "cnf.engine(16)\n",
        "\n",
        "a = cnf.integer()\n",
        "b = cnf.integer()\n",
        "\n",
        "assert a ** 2 == b ** 3 + 1\n",
        "\n",
        "while cnf.satisfy():\n",
        "    print(a, b)"
      ],
      "execution_count": 4,
      "outputs": [
        {
          "output_type": "stream",
          "text": [
            "3 2\n",
            "1 0\n"
          ],
          "name": "stdout"
        }
      ]
    },
    {
      "cell_type": "markdown",
      "metadata": {
        "id": "3EWbG3SMlbOs"
      },
      "source": [
        "# FIND ALL POSITIVE INTEGER SOLUTIONS TO  $x,y$: $3^x - 1 == y2^x + 1$\n",
        "\n",
        "ref: http://www.artofproblemsolving.com/Forum/viewtopic.php?t=31947"
      ]
    },
    {
      "cell_type": "code",
      "metadata": {
        "id": "Ci3EZWlYlhV5",
        "colab": {
          "base_uri": "https://localhost:8080/"
        },
        "outputId": "4b0fa28f-8938-4309-efa1-fd64ec0e2094"
      },
      "source": [
        "import peqnp as cnf\n",
        "\n",
        "cnf.engine(32)\n",
        "\n",
        "_2 = cnf.constant(2)\n",
        "_3 = cnf.constant(3)\n",
        "\n",
        "x = cnf.integer()\n",
        "y = cnf.integer()\n",
        "\n",
        "assert _3 ** x == y * _2 ** x + 1\n",
        "\n",
        "while cnf.satisfy():\n",
        "    print(x, y)"
      ],
      "execution_count": 5,
      "outputs": [
        {
          "output_type": "stream",
          "text": [
            "0 0\n",
            "1 1\n",
            "4 5\n",
            "2 2\n"
          ],
          "name": "stdout"
        }
      ]
    },
    {
      "cell_type": "markdown",
      "metadata": {
        "id": "aiWphw2k964V"
      },
      "source": [
        "# INTEGER FACTORIZATION\n",
        "In number theory, integer factorization is the decomposition of a composite number into a product of smaller integers. If these factors are further restricted to prime numbers, the process is called prime factorization."
      ]
    },
    {
      "cell_type": "code",
      "metadata": {
        "id": "7S96pDBk964W",
        "tags": [],
        "colab": {
          "base_uri": "https://localhost:8080/"
        },
        "outputId": "93c578c4-6343-4574-da32-cc3603e20567"
      },
      "source": [
        "import peqnp as cnf\n",
        "\n",
        "rsa = 3007\n",
        "\n",
        "cnf.engine(rsa.bit_length())\n",
        "\n",
        "p = cnf.integer()\n",
        "q = cnf.integer()\n",
        "\n",
        "assert p * q == rsa\n",
        "\n",
        "while cnf.satisfy():\n",
        "    print(p, q)"
      ],
      "execution_count": 6,
      "outputs": [
        {
          "output_type": "stream",
          "text": [
            "3007 1\n",
            "31 97\n",
            "97 31\n",
            "1 3007\n"
          ],
          "name": "stdout"
        }
      ]
    },
    {
      "cell_type": "markdown",
      "metadata": {
        "id": "kpXoFzLi2PVw"
      },
      "source": [
        "# PALINDROMIC NUMBERS (Bits Level)"
      ]
    },
    {
      "cell_type": "code",
      "metadata": {
        "id": "6EU_vqh-1hIG",
        "colab": {
          "base_uri": "https://localhost:8080/"
        },
        "outputId": "f82de897-c78e-4f01-d0a6-6dd5865e4e03"
      },
      "source": [
        "import numpy as np\n",
        "import peqnp as cnf\n",
        "\n",
        "cnf.engine(10)\n",
        "\n",
        "x = cnf.integer()\n",
        "\n",
        "# without \"copy\" for inplace reverse of bits\n",
        "assert x == x.reverse(copy=True)\n",
        "\n",
        "while cnf.satisfy():\n",
        "    print(x, np.binary_repr(x.value, cnf.bits()))"
      ],
      "execution_count": 7,
      "outputs": [
        {
          "output_type": "stream",
          "text": [
            "180 0010110100\n",
            "132 0010000100\n",
            "204 0011001100\n",
            "72 0001001000\n",
            "330 0101001010\n",
            "843 1101001011\n",
            "891 1101111011\n",
            "819 1100110011\n",
            "951 1110110111\n",
            "693 1010110101\n",
            "252 0011111100\n",
            "120 0001111000\n",
            "378 0101111010\n",
            "633 1001111001\n",
            "771 1100000011\n",
            "258 0100000010\n",
            "390 0110000110\n",
            "0 0000000000\n",
            "48 0000110000\n",
            "561 1000110001\n",
            "765 1011111101\n",
            "438 0110110110\n",
            "903 1110000111\n",
            "645 1010000101\n",
            "975 1111001111\n",
            "462 0111001110\n",
            "717 1011001101\n",
            "585 1001001001\n",
            "513 1000000001\n",
            "306 0100110010\n",
            "510 0111111110\n"
          ],
          "name": "stdout"
        }
      ]
    },
    {
      "cell_type": "markdown",
      "metadata": {
        "id": "9sIHVlpNt1qX"
      },
      "source": [
        "# XOR Problem\n",
        "\n",
        "The XOr, or “exclusive or”, problem is a classic problem in ANN research. It is the problem of using a neural network to predict the outputs of XOr logic gates given two binary inputs. An XOr function should return a true value if the two inputs are not equal and a false value if they are equal."
      ]
    },
    {
      "cell_type": "code",
      "metadata": {
        "id": "AeFgWSlAtu95",
        "colab": {
          "base_uri": "https://localhost:8080/"
        },
        "outputId": "54b06e4e-7e5d-40ab-dec8-1937b6a08f8c"
      },
      "source": [
        "import peqnp as cnf\n",
        "\n",
        "x = [[0, 0], [0, 1], [1, 0], [1, 1]]\n",
        "y = [0, 1, 1, 0]\n",
        "\n",
        "n, m = len(x), len(x[0])\n",
        "\n",
        "cnf.engine(10)\n",
        "\n",
        "w = cnf.matrix(dimensions=(n, m))\n",
        "b = cnf.vector(size=n)\n",
        "\n",
        "for i in range(n):\n",
        "    assert y[i] == cnf.dot(x[i], w[i]) + b[i]\n",
        "\n",
        "if cnf.satisfy():\n",
        "    for i in range(n):\n",
        "        print(x[i], cnf.dot(x[i], w[i]) + b[i])\n",
        "else:\n",
        "    print('Infeasible ...')"
      ],
      "execution_count": 8,
      "outputs": [
        {
          "output_type": "stream",
          "text": [
            "[0, 0] 0\n",
            "[0, 1] 1\n",
            "[1, 0] 1\n",
            "[1, 1] 0\n"
          ],
          "name": "stdout"
        }
      ]
    },
    {
      "cell_type": "markdown",
      "metadata": {
        "id": "-BeLNuT8COAO"
      },
      "source": [
        "# ABSOLUTE VALUES"
      ]
    },
    {
      "cell_type": "code",
      "metadata": {
        "id": "vB2QHUbPCOAP",
        "colab": {
          "base_uri": "https://localhost:8080/"
        },
        "outputId": "d0a90421-6325-4320-8984-7e6185ef74f5"
      },
      "source": [
        "import peqnp as cnf\n",
        "\n",
        "cnf.engine(4)\n",
        "\n",
        "x = cnf.integer()\n",
        "y = cnf.integer()\n",
        "\n",
        "assert abs(x - y) == 1\n",
        "\n",
        "while cnf.satisfy():\n",
        "    print(x, y, x - y, abs(x - y))"
      ],
      "execution_count": 9,
      "outputs": [
        {
          "output_type": "stream",
          "text": [
            "12 11 1 1\n",
            "6 7 -1 1\n",
            "10 11 -1 1\n",
            "10 9 1 1\n",
            "11 10 1 1\n",
            "9 8 1 1\n",
            "13 12 1 1\n",
            "3 2 1 1\n",
            "9 10 -1 1\n",
            "8 7 1 1\n",
            "8 9 -1 1\n",
            "2 3 -1 1\n",
            "1 0 1 1\n",
            "11 12 -1 1\n",
            "12 13 -1 1\n",
            "13 14 -1 1\n",
            "7 8 -1 1\n",
            "1 2 -1 1\n",
            "0 1 -1 1\n",
            "2 1 1 1\n",
            "3 4 -1 1\n",
            "14 13 1 1\n",
            "6 5 1 1\n",
            "5 6 -1 1\n",
            "7 6 1 1\n",
            "4 3 1 1\n",
            "5 4 1 1\n",
            "4 5 -1 1\n"
          ],
          "name": "stdout"
        }
      ]
    },
    {
      "cell_type": "markdown",
      "metadata": {
        "id": "LrPaLRqeOjkg"
      },
      "source": [
        "# CENTROID"
      ]
    },
    {
      "cell_type": "code",
      "metadata": {
        "id": "zeVnsPPqOnPX",
        "colab": {
          "base_uri": "https://localhost:8080/",
          "height": 280
        },
        "outputId": "87434b91-c7b1-4c4e-fc8b-18bc20e93558"
      },
      "source": [
        "import numpy as np\n",
        "import peqnp as cnf\n",
        "import matplotlib.pyplot as plt\n",
        "\n",
        "n = 15\n",
        "\n",
        "data = np.random.randint(0, 10, size=(n, 2))\n",
        "\n",
        "opt = 1\n",
        "while True:\n",
        "    cnf.engine(10)\n",
        "\n",
        "    x = cnf.integer()\n",
        "    y = cnf.integer()\n",
        "\n",
        "    assert sum(abs(xy[0] - x) + abs(xy[1] - y) for xy in data) < opt\n",
        "\n",
        "    if cnf.satisfy(turbo=True):        \n",
        "        print(x, y)\n",
        "        a, b = zip(*data)\n",
        "        plt.plot(a, b, '.')\n",
        "        plt.plot(x, y, 'x')\n",
        "        plt.show()\n",
        "        break\n",
        "    else:\n",
        "        opt += 1"
      ],
      "execution_count": 10,
      "outputs": [
        {
          "output_type": "stream",
          "text": [
            "4 5\n"
          ],
          "name": "stdout"
        },
        {
          "output_type": "display_data",
          "data": {
            "image/png": "[encoded data removed]",
            "text/plain": [
              "<Figure size 432x288 with 1 Axes>"
            ]
          },
          "metadata": {
            "tags": [],
            "needs_background": "light"
          }
        }
      ]
    },
    {
      "cell_type": "markdown",
      "metadata": {
        "id": "oWFt1q0XV-7j"
      },
      "source": [
        "# FERMAT'S FACTORIZATION METHOD\n",
        "\n",
        "Note: when there is a negative number in the model, increment the bits by 1."
      ]
    },
    {
      "cell_type": "code",
      "metadata": {
        "id": "k01dOcjOVk9w",
        "tags": [],
        "colab": {
          "base_uri": "https://localhost:8080/"
        },
        "outputId": "d39152c4-15a5-4d95-d825-40c34688f944"
      },
      "source": [
        "import peqnp as cnf\n",
        "\n",
        "rsa = 3007\n",
        "\n",
        "cnf.engine(rsa.bit_length() + 1)\n",
        "\n",
        "p = cnf.integer()\n",
        "q = cnf.integer()\n",
        "\n",
        "assert p ** 2 - q ** 2 == rsa\n",
        "assert q < p\n",
        "\n",
        "if cnf.satisfy(turbo=True):\n",
        "    print(p, q, p + q, p - q)\n",
        "else:\n",
        "    print('Is Prime!')"
      ],
      "execution_count": 11,
      "outputs": [
        {
          "output_type": "stream",
          "text": [
            "64 33 97 31\n"
          ],
          "name": "stdout"
        }
      ]
    },
    {
      "cell_type": "markdown",
      "metadata": {
        "id": "GgE1AgRiYmij"
      },
      "source": [
        "# EXPONENTIAL DIOPHANTINE EQUATIONS\n"
      ]
    },
    {
      "cell_type": "code",
      "metadata": {
        "id": "XU0I3MnZYu-x",
        "tags": [],
        "colab": {
          "base_uri": "https://localhost:8080/"
        },
        "outputId": "91f586df-131a-4669-9107-86f47365a056"
      },
      "source": [
        "import peqnp as cnf\n",
        "\n",
        "cnf.engine(16)\n",
        "\n",
        "x = cnf.integer()\n",
        "y = cnf.integer()\n",
        "z = cnf.integer()\n",
        "\n",
        "assert x ** y == z\n",
        "\n",
        "while cnf.satisfy():\n",
        "    print(x, y, z)"
      ],
      "execution_count": 12,
      "outputs": [
        {
          "output_type": "stream",
          "text": [
            "4 6 4096\n",
            "1 5 1\n",
            "1 1 1\n",
            "4 4 256\n",
            "4 0 1\n",
            "2 1 2\n",
            "3 3 27\n",
            "3 1 3\n",
            "3 4 81\n",
            "4 7 16384\n",
            "4 2 16\n",
            "3 6 729\n",
            "3 2 9\n",
            "3 7 2187\n",
            "2 7 128\n",
            "1 4 1\n",
            "2 5 32\n",
            "3 5 243\n",
            "0 5 0\n",
            "4 3 64\n",
            "4 1 4\n",
            "2 6 64\n",
            "2 3 8\n",
            "4 5 1024\n",
            "0 3 0\n",
            "0 2 0\n",
            "0 7 0\n",
            "3 0 1\n",
            "1 7 1\n",
            "2 0 1\n",
            "0 1 0\n",
            "0 6 0\n",
            "0 4 0\n",
            "2 4 16\n",
            "2 2 4\n",
            "1 2 1\n",
            "1 3 1\n",
            "0 0 1\n",
            "1 6 1\n",
            "1 0 1\n"
          ],
          "name": "stdout"
        }
      ]
    },
    {
      "cell_type": "markdown",
      "metadata": {
        "id": "EUBndQTWCOAd"
      },
      "source": [
        "# ON THE DIOPHANTINE EQUATION $x^2 + c = 3^n$ WITH $x, c, n > 1$"
      ]
    },
    {
      "cell_type": "code",
      "metadata": {
        "tags": [],
        "id": "yTLNkcWACOAd",
        "colab": {
          "base_uri": "https://localhost:8080/"
        },
        "outputId": "e3f397de-9eeb-48c5-9ab7-52a209d27a5b"
      },
      "source": [
        "import peqnp as cnf\n",
        "\n",
        "n = 32\n",
        "\n",
        "cnf.engine(n.bit_length())\n",
        "\n",
        "_3 = cnf.constant(3)\n",
        "n = cnf.integer()\n",
        "x = cnf.integer()\n",
        "c = cnf.integer()\n",
        "\n",
        "assert x ** 2 + c == _3 ** n\n",
        "assert x > 1\n",
        "assert c > 1\n",
        "assert n > 1\n",
        "\n",
        "if cnf.satisfy(turbo=True):\n",
        "    print(n, x, c)\n",
        "else:\n",
        "    print('Infeasible for bit range...')"
      ],
      "execution_count": 13,
      "outputs": [
        {
          "output_type": "stream",
          "text": [
            "2 2 5\n"
          ],
          "name": "stdout"
        }
      ]
    },
    {
      "cell_type": "markdown",
      "metadata": {
        "id": "8EJXiM2FCOAh"
      },
      "source": [
        "# FACTORIALS"
      ]
    },
    {
      "cell_type": "code",
      "metadata": {
        "id": "iwack4VxCOAh",
        "colab": {
          "base_uri": "https://localhost:8080/"
        },
        "outputId": "1fff8b25-1dd2-4701-e98f-1e0eb4f4a7f6"
      },
      "source": [
        "import math\n",
        "import peqnp as cnf\n",
        "\n",
        "cnf.engine(32)\n",
        "\n",
        "x = cnf.integer()\n",
        "\n",
        "cnf.factorial(x) == math.factorial(10)\n",
        "\n",
        "if cnf.satisfy(turbo=True):\n",
        "    print(x)\n",
        "else:\n",
        "    print('Need more bits!')"
      ],
      "execution_count": 14,
      "outputs": [
        {
          "output_type": "stream",
          "text": [
            "10\n"
          ],
          "name": "stdout"
        }
      ]
    },
    {
      "cell_type": "markdown",
      "metadata": {
        "id": "O4gi4qEGCOAk"
      },
      "source": [
        "# $\\Sigma$"
      ]
    },
    {
      "cell_type": "code",
      "metadata": {
        "id": "MANm7Pu8COAl",
        "colab": {
          "base_uri": "https://localhost:8080/"
        },
        "outputId": "01a54a59-5712-4ba6-8753-48b891aa7473"
      },
      "source": [
        "import peqnp as cnf\n",
        "\n",
        "cnf.engine(16)\n",
        "\n",
        "x = cnf.integer()\n",
        "n = cnf.integer()\n",
        "\n",
        "cnf.sigma(lambda k: k ** 2, 1, n) == x\n",
        "\n",
        "while cnf.satisfy():\n",
        "    print(x, n, sum(k ** 2 for k in range(1, n.value + 1)))\n"
      ],
      "execution_count": 15,
      "outputs": [
        {
          "output_type": "stream",
          "text": [
            "55 5 55\n",
            "506 11 506\n",
            "0 0 0\n",
            "385 10 385\n",
            "91 6 91\n",
            "819 13 819\n",
            "650 12 650\n",
            "30 4 30\n",
            "1015 14 1015\n",
            "285 9 285\n",
            "204 8 204\n",
            "5 2 5\n",
            "1 1 1\n",
            "14 3 14\n",
            "140 7 140\n"
          ],
          "name": "stdout"
        }
      ]
    },
    {
      "cell_type": "markdown",
      "metadata": {
        "id": "VWgIBrvZCOAn"
      },
      "source": [
        "# $\\Pi$"
      ]
    },
    {
      "cell_type": "code",
      "metadata": {
        "id": "TxIWHtjXCOAo",
        "colab": {
          "base_uri": "https://localhost:8080/"
        },
        "outputId": "0a65013f-b102-49a8-e2d9-a6263a5a1dbc"
      },
      "source": [
        "import functools\n",
        "import operator\n",
        "import math\n",
        "import peqnp as cnf\n",
        "\n",
        "cnf.engine(32)\n",
        "\n",
        "x = cnf.integer()\n",
        "n = cnf.integer()\n",
        "\n",
        "cnf.pi(lambda k: k ** 2, 1, n) == x\n",
        "assert 0 < x <= 10 ** math.log(cnf.oo()) # limit the CNF overflow\n",
        "assert n > 0\n",
        "\n",
        "while cnf.satisfy():\n",
        "    print(x, n, functools.reduce(operator.mul, (k ** 2 for k in range(1, n.value + 1))))"
      ],
      "execution_count": 16,
      "outputs": [
        {
          "output_type": "stream",
          "text": [
            "576 4 576\n",
            "14400 5 14400\n",
            "518400 6 518400\n",
            "1 1 1\n",
            "4 2 4\n",
            "36 3 36\n",
            "25401600 7 25401600\n"
          ],
          "name": "stdout"
        }
      ]
    },
    {
      "cell_type": "markdown",
      "metadata": {
        "id": "dq3QrO15MjGZ"
      },
      "source": [
        "# PEQNP VS FIBONACCI NUMBERS | N VS TIME"
      ]
    },
    {
      "cell_type": "code",
      "metadata": {
        "id": "hmnhjMXsMm3n",
        "colab": {
          "base_uri": "https://localhost:8080/",
          "height": 1000
        },
        "outputId": "0e0f8107-d77c-457a-c121-fe7ec430e7b3"
      },
      "source": [
        "import time\n",
        "import peqnp as cnf\n",
        "import matplotlib.pyplot as plt\n",
        "\n",
        "ns, ts = [], []\n",
        "for n in range(2, 100):\n",
        "\n",
        "    cnf.engine(n)\n",
        "\n",
        "    x = cnf.vector(size=n + 1)\n",
        "\n",
        "    assert x[0] == 0\n",
        "    assert x[1] == 1\n",
        "    for i in range(2, n + 1):\n",
        "        assert x[i - 1] + x[i - 2] == x[i]\n",
        "\n",
        "    ini = time.time()\n",
        "    if cnf.satisfy(turbo=True):\n",
        "        print(n, x[n])\n",
        "    else:\n",
        "        print('Infeasible ...')\n",
        "    end = time.time()\n",
        "    ns.append(n)\n",
        "    ts.append(end - ini)\n",
        "\n",
        "plt.title('PEQNP vs Fibonacci Numbers | n vs time')\n",
        "plt.plot(ns, ts)\n",
        "plt.show()"
      ],
      "execution_count": 17,
      "outputs": [
        {
          "output_type": "stream",
          "text": [
            "2 1\n",
            "3 2\n",
            "4 3\n",
            "5 5\n",
            "6 8\n",
            "7 13\n",
            "8 21\n",
            "9 34\n",
            "10 55\n",
            "11 89\n",
            "12 144\n",
            "13 233\n",
            "14 377\n",
            "15 610\n",
            "16 987\n",
            "17 1597\n",
            "18 2584\n",
            "19 4181\n",
            "20 6765\n",
            "21 10946\n",
            "22 17711\n",
            "23 28657\n",
            "24 46368\n",
            "25 75025\n",
            "26 121393\n",
            "27 196418\n",
            "28 317811\n",
            "29 514229\n",
            "30 832040\n",
            "31 1346269\n",
            "32 2178309\n",
            "33 3524578\n",
            "34 5702887\n",
            "35 9227465\n",
            "36 14930352\n",
            "37 24157817\n",
            "38 39088169\n",
            "39 63245986\n",
            "40 102334155\n",
            "41 165580141\n",
            "42 267914296\n",
            "43 433494437\n",
            "44 701408733\n",
            "45 1134903170\n",
            "46 1836311903\n",
            "47 2971215073\n",
            "48 4807526976\n",
            "49 7778742049\n",
            "50 12586269025\n",
            "51 20365011074\n",
            "52 32951280099\n",
            "53 53316291173\n",
            "54 86267571272\n",
            "55 139583862445\n",
            "56 225851433717\n",
            "57 365435296162\n",
            "58 591286729879\n",
            "59 956722026041\n",
            "60 1548008755920\n",
            "61 2504730781961\n",
            "62 4052739537881\n",
            "63 6557470319842\n",
            "64 10610209857723\n",
            "65 17167680177565\n",
            "66 27777890035288\n",
            "67 44945570212853\n",
            "68 72723460248141\n",
            "69 117669030460994\n",
            "70 190392490709135\n",
            "71 308061521170129\n",
            "72 498454011879264\n",
            "73 806515533049393\n",
            "74 1304969544928657\n",
            "75 2111485077978050\n",
            "76 3416454622906707\n",
            "77 5527939700884757\n",
            "78 8944394323791464\n",
            "79 14472334024676221\n",
            "80 23416728348467685\n",
            "81 37889062373143906\n",
            "82 61305790721611591\n",
            "83 99194853094755497\n",
            "84 160500643816367088\n",
            "85 259695496911122585\n",
            "86 420196140727489673\n",
            "87 679891637638612258\n",
            "88 1100087778366101931\n",
            "89 1779979416004714189\n",
            "90 2880067194370816120\n",
            "91 4660046610375530309\n",
            "92 7540113804746346429\n",
            "93 12200160415121876738\n",
            "94 19740274219868223167\n",
            "95 31940434634990099905\n",
            "96 51680708854858323072\n",
            "97 83621143489848422977\n",
            "98 135301852344706746049\n",
            "99 218922995834555169026\n"
          ],
          "name": "stdout"
        },
        {
          "output_type": "display_data",
          "data": {
            "image/png": "[encoded data removed]",
            "text/plain": [
              "<Figure size 432x288 with 1 Axes>"
            ]
          },
          "metadata": {
            "tags": [],
            "needs_background": "light"
          }
        }
      ]
    },
    {
      "cell_type": "markdown",
      "metadata": {
        "id": "fkO7OMupWbBy"
      },
      "source": [
        "# TENSORS\n",
        "\n",
        "Tensors object are the most advanced concept behind PEQNP, integers are tensors, work like integers, but their bits act like an multidimensional matrix of lambda functions.\n",
        "\n",
        "Note: [[*]] for acces to lambda (bit) functions."
      ]
    },
    {
      "cell_type": "code",
      "metadata": {
        "id": "RR7JLifNZo95",
        "colab": {
          "base_uri": "https://localhost:8080/"
        },
        "outputId": "23b1b73c-4785-4a11-a8d0-022fed5229e9"
      },
      "source": [
        "import peqnp as cnf\n",
        "\n",
        "cnf.engine(10)\n",
        "\n",
        "x = cnf.tensor(dimensions=(4))\n",
        "y = cnf.tensor(dimensions=(2, 2))\n",
        "\n",
        "assert x + y == 10\n",
        "assert x[[0]](0, 1) == 1\n",
        "assert y[[0, 0]](0, 1) == 1\n",
        "\n",
        "while cnf.satisfy():\n",
        "    print(x, y, x.binary, y.binary)"
      ],
      "execution_count": 18,
      "outputs": [
        {
          "output_type": "stream",
          "text": [
            "3 7 [True, True, False, False] [[True, True], [True, False]]\n",
            "1 9 [True, False, False, False] [[True, False], [False, True]]\n",
            "5 5 [True, False, True, False] [[True, False], [True, False]]\n",
            "9 1 [True, False, False, True] [[True, False], [False, False]]\n",
            "7 3 [True, True, True, False] [[True, True], [False, False]]\n"
          ],
          "name": "stdout"
        }
      ]
    },
    {
      "cell_type": "code",
      "metadata": {
        "id": "upsI_STPaZee",
        "colab": {
          "base_uri": "https://localhost:8080/"
        },
        "outputId": "dbf79ef4-8d6f-4f62-d493-ff774f9778fd"
      },
      "source": [
        "import numpy as np\n",
        "import peqnp as cnf\n",
        "\n",
        "n = 2\n",
        "\n",
        "cnf.engine(4)\n",
        "\n",
        "x = cnf.tensor(dimensions=(n, n))\n",
        "a = cnf.integer()\n",
        "b = cnf.integer()\n",
        "\n",
        "assert sum(x[[i, j]](a ** 2 - b ** 3, a ** 3 - b ** 2) for i in range(n) for j in range(n)) == 0\n",
        "\n",
        "while cnf.satisfy():\n",
        "    print(a, b)\n",
        "    print(np.vectorize(int)(x.binary))\n",
        "    print()"
      ],
      "execution_count": 19,
      "outputs": [
        {
          "output_type": "stream",
          "text": [
            "1 1\n",
            "[[0 1]\n",
            " [0 0]]\n",
            "\n",
            "0 0\n",
            "[[0 1]\n",
            " [0 0]]\n",
            "\n",
            "1 1\n",
            "[[0 1]\n",
            " [0 1]]\n",
            "\n",
            "0 0\n",
            "[[0 1]\n",
            " [0 1]]\n",
            "\n",
            "0 0\n",
            "[[1 1]\n",
            " [0 1]]\n",
            "\n",
            "1 1\n",
            "[[0 0]\n",
            " [0 0]]\n",
            "\n",
            "1 1\n",
            "[[1 1]\n",
            " [0 1]]\n",
            "\n",
            "0 0\n",
            "[[0 0]\n",
            " [0 1]]\n",
            "\n",
            "0 0\n",
            "[[0 1]\n",
            " [1 1]]\n",
            "\n",
            "1 1\n",
            "[[0 1]\n",
            " [1 1]]\n",
            "\n",
            "0 0\n",
            "[[1 1]\n",
            " [0 0]]\n",
            "\n",
            "1 1\n",
            "[[0 0]\n",
            " [1 0]]\n",
            "\n",
            "1 1\n",
            "[[0 1]\n",
            " [1 0]]\n",
            "\n",
            "1 1\n",
            "[[1 1]\n",
            " [0 0]]\n",
            "\n",
            "1 1\n",
            "[[0 0]\n",
            " [0 1]]\n",
            "\n",
            "0 0\n",
            "[[0 0]\n",
            " [0 0]]\n",
            "\n",
            "0 0\n",
            "[[0 0]\n",
            " [1 1]]\n",
            "\n",
            "1 1\n",
            "[[0 0]\n",
            " [1 1]]\n",
            "\n",
            "0 0\n",
            "[[0 0]\n",
            " [1 0]]\n",
            "\n",
            "0 0\n",
            "[[1 0]\n",
            " [0 0]]\n",
            "\n",
            "1 1\n",
            "[[1 1]\n",
            " [1 0]]\n",
            "\n",
            "0 0\n",
            "[[0 1]\n",
            " [1 0]]\n",
            "\n",
            "0 0\n",
            "[[1 0]\n",
            " [1 0]]\n",
            "\n",
            "0 0\n",
            "[[1 0]\n",
            " [0 1]]\n",
            "\n",
            "1 1\n",
            "[[1 0]\n",
            " [0 1]]\n",
            "\n",
            "1 1\n",
            "[[1 0]\n",
            " [1 1]]\n",
            "\n",
            "1 1\n",
            "[[1 0]\n",
            " [0 0]]\n",
            "\n",
            "0 0\n",
            "[[1 0]\n",
            " [1 1]]\n",
            "\n",
            "0 0\n",
            "[[1 1]\n",
            " [1 0]]\n",
            "\n",
            "1 1\n",
            "[[1 0]\n",
            " [1 0]]\n",
            "\n"
          ],
          "name": "stdout"
        }
      ]
    },
    {
      "cell_type": "markdown",
      "metadata": {
        "id": "yfhZFB3BXuNH"
      },
      "source": [
        "# RSA FACTORIZATION WITH TENSORS"
      ]
    },
    {
      "cell_type": "code",
      "metadata": {
        "id": "67L02LcOWKSV",
        "colab": {
          "base_uri": "https://localhost:8080/"
        },
        "outputId": "1db60e2a-cd23-4fc5-a24e-bf30840f1974"
      },
      "source": [
        "import peqnp as cnf\n",
        "\n",
        "rsa = 3007\n",
        "\n",
        "cnf.engine(rsa.bit_length())\n",
        "\n",
        "p = cnf.tensor(dimensions=(cnf.bits()))\n",
        "q = cnf.tensor(dimensions=(cnf.bits()))\n",
        "\n",
        "assert p * q == rsa\n",
        "assert p[[0]](0, 1) == 1\n",
        "assert q[[0]](0, 1) == 1\n",
        "assert sum(p[[i]](0, 1) for i in range(cnf.bits() // 2 + 1, cnf.bits())) == 0\n",
        "assert sum(q[[i]](0, 1) for i in range(cnf.bits() // 2, cnf.bits())) == 0\n",
        "\n",
        "if cnf.satisfy(turbo=True, log=True):\n",
        "    print(p, q)\n",
        "else:\n",
        "    print('Is Prime!')"
      ],
      "execution_count": 20,
      "outputs": [
        {
          "output_type": "stream",
          "text": [
            "97 31\n"
          ],
          "name": "stdout"
        }
      ]
    },
    {
      "cell_type": "markdown",
      "metadata": {
        "id": "U7_zMGVNXVnh"
      },
      "source": [
        "# SAT REFORMULATION WITH TENSORS"
      ]
    },
    {
      "cell_type": "code",
      "metadata": {
        "id": "fFW0JlyaXMRO",
        "colab": {
          "base_uri": "https://localhost:8080/"
        },
        "outputId": "9368de74-ae6e-4690-d47c-4e77ae040871"
      },
      "source": [
        "import functools\n",
        "import operator\n",
        "import sys\n",
        "\n",
        "import peqnp as cnf\n",
        "\n",
        "\n",
        "n, m, sat = 10, 24, [[9, -5, 10, -6, 3],\n",
        "                     [6, 8],\n",
        "                     [8, 4],\n",
        "                     [-10, 5],\n",
        "                     [-9, 8],\n",
        "                     [-9, -3],\n",
        "                     [-2, 5],\n",
        "                     [6, 4],\n",
        "                     [-2, -1],\n",
        "                     [7, -2],\n",
        "                     [-9, 4],\n",
        "                     [-1, -10],\n",
        "                     [-3, 4],\n",
        "                     [7, 5],\n",
        "                     [6, -3],\n",
        "                     [-10, 7],\n",
        "                     [-1, 7],\n",
        "                     [8, -3],\n",
        "                     [-2, -10],\n",
        "                     [-1, 5],\n",
        "                     [-7, 1, 9, -6, 3],\n",
        "                     [-9, 6],\n",
        "                     [-8, 10, -5, -4, 2],\n",
        "                     [-4, -7, 1, -8, 2]]\n",
        "\n",
        "\n",
        "if __name__ == '__main__':\n",
        "    \n",
        "    cnf.engine(bits=1)\n",
        "    \n",
        "    x = cnf.tensor(dimensions=(n,), key='x')\n",
        "    \n",
        "    assert functools.reduce(operator.iand, (functools.reduce(operator.ior, (x[[abs(lit) - 1]](lit < 0, lit > 0) for lit in cls)) for cls in sat)) == 1\n",
        "    \n",
        "    if cnf.satisfy(turbo=True, log=True):\n",
        "        print('SAT')\n",
        "        print(' '.join(map(str, [(i + 1) if b else -(i + 1) for i, b in enumerate(x.binary)])) + ' 0')\n",
        "    else:\n",
        "        print('')"
      ],
      "execution_count": 21,
      "outputs": [
        {
          "output_type": "stream",
          "text": [
            "SAT\n",
            "-1 2 3 4 5 6 7 8 -9 -10 0\n"
          ],
          "name": "stdout"
        }
      ]
    },
    {
      "cell_type": "markdown",
      "metadata": {
        "id": "9hQcWGrRX1Wg"
      },
      "source": [
        "# SUM SUBSET PROBLEM WITH TENSORS"
      ]
    },
    {
      "cell_type": "code",
      "metadata": {
        "id": "p5khFp70X6a_",
        "colab": {
          "base_uri": "https://localhost:8080/"
        },
        "outputId": "a6fe42da-a7ee-4745-a09c-2b359bf9f9c5"
      },
      "source": [
        "import numpy as np\n",
        "import peqnp as cnf\n",
        "\n",
        "universe = np.random.randint(1, 2 ** 16, size=100)\n",
        "t = np.random.randint(min(universe), sum(universe))\n",
        "\n",
        "cnf.engine(t.bit_length())\n",
        "\n",
        "x = cnf.tensor(dimensions=(len(universe)))\n",
        "\n",
        "assert sum(x[[i]](0, universe[i]) for i in range(len(universe))) == t\n",
        "\n",
        "if cnf.satisfy(turbo=True):\n",
        "    sub = [universe[i] for i in range(len(universe)) if x.binary[i]]\n",
        "    print(t, sum(sub), sub)\n",
        "else:\n",
        "    print('Infeasible ...')"
      ],
      "execution_count": 22,
      "outputs": [
        {
          "output_type": "stream",
          "text": [
            "732989 732989 [804, 6189, 5593, 3872, 715, 1007, 1713, 5621, 64864, 57176, 21079, 23698, 11170, 18824, 18772, 129, 13336, 56822, 24822, 41579, 40306, 40115, 56012, 62722, 1946, 62964, 13195, 22822, 11766, 14857, 28499]\n"
          ],
          "name": "stdout"
        }
      ]
    },
    {
      "cell_type": "markdown",
      "metadata": {
        "id": "lxKWdGrI964h"
      },
      "source": [
        "# MULTISET RECONSTRUCTION BY DIFFERENCES\n",
        "\n",
        "Given a sorted multiset, their differences and one tip (an element and position for only one arbitrary element), is possible recovery the original multiset?"
      ]
    },
    {
      "cell_type": "code",
      "metadata": {
        "id": "sDtWaw6l964i",
        "colab": {
          "base_uri": "https://localhost:8080/"
        },
        "outputId": "681dbd6c-d8f6-4d32-b69e-3de1e983d0c7"
      },
      "source": [
        "import time\n",
        "import random\n",
        "import peqnp as cnf\n",
        "\n",
        "\n",
        "def generator(n, max_val):\n",
        "    return sorted([random.randint(1, max_val) for _ in range(n)])\n",
        "\n",
        "\n",
        "def differences(lst):\n",
        "    return [abs(lst[i] - lst[i - 1]) for i in range(1, len(lst))]\n",
        "\n",
        "\n",
        "# 100 tests\n",
        "for n in range(1, 10):\n",
        "\n",
        "    m = random.randint(1, n ** 2)\n",
        "\n",
        "    original = generator(n, m)\n",
        "    diffs = differences(original)\n",
        "\n",
        "    print('N, M         : {}, {}'.format(n, m))\n",
        "    print('DIFFERENCES  : {}'.format(diffs))\n",
        "    print('ORIGINAL     : {}'.format(original))\n",
        "\n",
        "    # only one tip\n",
        "    ith = random.choice(range(n))\n",
        "    tip = original[ith]\n",
        "\n",
        "    # init timer\n",
        "    ini = time.time()\n",
        "\n",
        "    # Empirical bits necessarily to solve the problem.\n",
        "    cnf.engine(sum(diffs).bit_length() + 4)\n",
        "\n",
        "    # Declare a n-vector of integer variables to store the solution.\n",
        "    x = cnf.vector(size=n)\n",
        "\n",
        "    # The tip is on x at index ith\n",
        "    assert tip == cnf.index(ith, x)\n",
        "\n",
        "    # The i-th element of the instance is the absolute difference of two consecutive elements\n",
        "    for i in range(n - 1):\n",
        "        assert x[i] <= x[i + 1]\n",
        "        assert cnf.index(i, diffs) == x[i + 1] - x[i]\n",
        "\n",
        "    # Solve the problem for only one solution\n",
        "    # Turbo parameter is a destructive simplification\n",
        "    # Solve with all power os SLIME SAT Solver but only for the fist solution.\n",
        "    if cnf.satisfy(turbo=True):\n",
        "        o = [abs(x[i + 1] - x[i]) for i in range(n - 1)]\n",
        "        c = 100 * len(set(map(int, x)).intersection(set(original))) / len(set(original))\n",
        "        print('SOLVED       : {}'.format(x))\n",
        "        print('COINCIDENCES : {}%'.format(c))\n",
        "        if o == diffs:\n",
        "            print('OK! - {}s'.format(time.time() - ini))\n",
        "        else:\n",
        "            print('NOK! - {}s'.format(time.time() - ini))\n",
        "            raise Exception('ERROR!')\n",
        "        if c != 100:\n",
        "            raise Exception('Hypothesis Fail - 100%')"
      ],
      "execution_count": 23,
      "outputs": [
        {
          "output_type": "stream",
          "text": [
            "N, M         : 1, 1\n",
            "DIFFERENCES  : []\n",
            "ORIGINAL     : [1]\n",
            "SOLVED       : [1]\n",
            "COINCIDENCES : 100.0%\n",
            "OK! - 0.004364728927612305s\n",
            "N, M         : 2, 4\n",
            "DIFFERENCES  : [2]\n",
            "ORIGINAL     : [1, 3]\n",
            "SOLVED       : [1, 3]\n",
            "COINCIDENCES : 100.0%\n",
            "OK! - 0.0033745765686035156s\n",
            "N, M         : 3, 4\n",
            "DIFFERENCES  : [2, 0]\n",
            "ORIGINAL     : [2, 4, 4]\n",
            "SOLVED       : [2, 4, 4]\n",
            "COINCIDENCES : 100.0%\n",
            "OK! - 0.006613254547119141s\n",
            "N, M         : 4, 7\n",
            "DIFFERENCES  : [0, 5, 1]\n",
            "ORIGINAL     : [1, 1, 6, 7]\n",
            "SOLVED       : [1, 1, 6, 7]\n",
            "COINCIDENCES : 100.0%\n",
            "OK! - 0.013712882995605469s\n",
            "N, M         : 5, 17\n",
            "DIFFERENCES  : [3, 3, 1, 1]\n",
            "ORIGINAL     : [2, 5, 8, 9, 10]\n",
            "SOLVED       : [2, 5, 8, 9, 10]\n",
            "COINCIDENCES : 100.0%\n",
            "OK! - 0.022587060928344727s\n",
            "N, M         : 6, 3\n",
            "DIFFERENCES  : [1, 0, 0, 0, 1]\n",
            "ORIGINAL     : [1, 2, 2, 2, 2, 3]\n",
            "SOLVED       : [1, 2, 2, 2, 2, 3]\n",
            "COINCIDENCES : 100.0%\n",
            "OK! - 0.024784326553344727s\n",
            "N, M         : 7, 18\n",
            "DIFFERENCES  : [3, 3, 3, 1, 3, 3]\n",
            "ORIGINAL     : [1, 4, 7, 10, 11, 14, 17]\n",
            "SOLVED       : [1, 4, 7, 10, 11, 14, 17]\n",
            "COINCIDENCES : 100.0%\n",
            "OK! - 0.055765628814697266s\n",
            "N, M         : 8, 28\n",
            "DIFFERENCES  : [2, 1, 0, 4, 6, 1, 0]\n",
            "ORIGINAL     : [9, 11, 12, 12, 16, 22, 23, 23]\n",
            "SOLVED       : [9, 11, 12, 12, 16, 22, 23, 23]\n",
            "COINCIDENCES : 100.0%\n",
            "OK! - 0.06447362899780273s\n",
            "N, M         : 9, 55\n",
            "DIFFERENCES  : [1, 1, 13, 7, 2, 5, 13, 8]\n",
            "ORIGINAL     : [2, 3, 4, 17, 24, 26, 31, 44, 52]\n",
            "SOLVED       : [2, 3, 4, 17, 24, 26, 31, 44, 52]\n",
            "COINCIDENCES : 100.0%\n",
            "OK! - 0.10120916366577148s\n"
          ],
          "name": "stdout"
        }
      ]
    },
    {
      "cell_type": "markdown",
      "metadata": {
        "id": "1QVj79ln964n"
      },
      "source": [
        "# MIP\n",
        "\n",
        "A submodule dedicated to Mixed Integer Programming.\n",
        "\n",
        "https://en.wikipedia.org/wiki/Integer_programming"
      ]
    },
    {
      "cell_type": "code",
      "metadata": {
        "id": "Gnk1zZeJ964o",
        "colab": {
          "base_uri": "https://localhost:8080/"
        },
        "outputId": "ed342c56-486b-42f4-8bdb-f9c80c7e5cb3"
      },
      "source": [
        "import peqnp as cnf\n",
        "\n",
        "cnf.engine()\n",
        "\n",
        "x0 = cnf.linear(is_real=True)\n",
        "x1 = cnf.linear(is_real=True)\n",
        "x2 = cnf.linear(is_real=True)\n",
        "x3 = cnf.linear(is_real=True)\n",
        "x4 = cnf.linear(is_real=True)\n",
        "x5 = cnf.linear()\n",
        "x6 = cnf.linear()\n",
        "x7 = cnf.linear()\n",
        "x8 = cnf.linear()\n",
        "x9 = cnf.linear()\n",
        "assert +6.4160 * x0 + 20.3590 * x1 + 1.5981 * x2 - 1.2071 * x3 - 4.6026 * x4 - 5.7098 * x5 - 4.1160 * x6 + 1.2467 * x7 - 14.2028 * x8 + 6.0885 * x9 <= 51.0000\n",
        "assert -0.1930 * x0 + 1.1859 * x1 + 2.9537 * x2 - 2.3777 * x3 + 1.4154 * x4 + 9.2526 * x5 - 3.6259 * x6 + 3.4193 * x7 - 21.4218 * x8 - 0.7692 * x9 <= 41.0000\n",
        "assert -27.1712 * x0 - 21.2901 * x1 + 32.6104 * x2 + 1.4699 * x3 + 8.1651 * x4 - 12.8153 * x5 + 2.4100 * x6 - 57.0053 * x7 - 7.2989 * x8 + 7.0098 * x9 <= 79.0000\n",
        "assert -2.3318 * x0 + 0.8284 * x1 + 6.2896 * x2 + 0.6104 * x3 - 31.1931 * x4 + 4.1556 * x5 + 2.6317 * x6 - 48.5799 * x7 - 1.1840 * x8 + 28.7408 * x9 <= 93.0000\n",
        "assert +12.0876 * x0 + 1.2307 * x1 - 0.9757 * x2 - 4.2857 * x3 + 4.8579 * x4 + 19.5823 * x5 + 18.5408 * x6 - 3.0287 * x7 + 2.0617 * x8 - 3.5956 * x9 <= 25.0000\n",
        "assert -50.3777 * x0 + 6.9980 * x1 - 67.9637 * x2 - 2.0244 * x3 + 7.8885 * x4 - 2.5394 * x5 - 5.3325 * x6 + 0.3273 * x7 - 249.6093 * x8 + 3.7692 * x9 <= 41.0000\n",
        "assert +43.2031 * x0 - 2.0964 * x1 + 10.1320 * x2 - 13.9120 * x3 + 3.2838 * x4 + 10.6522 * x5 + 6.2647 * x6 + 2.8932 * x7 - 6.3529 * x8 + 20.0324 * x9 <= 78.0000\n",
        "assert -2.0752 * x0 - 7.4701 * x1 - 0.2348 * x2 - 2.0003 * x3 - 0.6376 * x4 + 1.7804 * x5 + 119.5958 * x6 - 6.2943 * x7 + 3.3538 * x8 - 2.6467 * x9 <= 27.0000\n",
        "assert +3.1615 * x0 + 6.0781 * x1 - 1.8893 * x2 - 3.2409 * x3 - 34.0146 * x4 + 23.8191 * x5 - 8.8890 * x6 - 6.8173 * x7 + 6.7114 * x8 - 8.1344 * x9 <= 21.0000\n",
        "assert +0.0000 * x0 + 13.1440 * x1 + 7.5737 * x2 + 2.8277 * x3 - 4.3930 * x4 + 0.0000 * x5 - 22.1786 * x6 + 2.8980 * x7 - 9.0440 * x8 - 60.4170 * x9 <= 93.0000\n",
        "assert x0 <= 92.0000\n",
        "assert x1 <= 46.0000\n",
        "assert x2 <= 74.0000\n",
        "assert x3 <= 78.0000\n",
        "assert x4 <= 41.0000\n",
        "assert x5 <= 47.0000\n",
        "assert x6 <= 33.0000\n",
        "assert x7 <= 35.0000\n",
        "assert x8 <= 23.0000\n",
        "assert x9 <= 63.0000\n",
        "print(cnf.maximize(+0.0000 * x0 + 9.6856 * x1 + 0.0000 * x2 - 7.8267 * x3 - 3.4649 * x4 - 6.3391 * x5 - 3.6316 * x6 + 44.7655 * x7 + 3.7610 * x8 - 57.1083 * x9))\n",
        "print(x0)\n",
        "print(x1)\n",
        "print(x2)\n",
        "print(x3)\n",
        "print(x4)\n",
        "print(x5)\n",
        "print(x6)\n",
        "print(x7)\n",
        "print(x8)\n",
        "print(x9)"
      ],
      "execution_count": 24,
      "outputs": [
        {
          "output_type": "stream",
          "text": [
            "1810.5335855955589\n",
            "0.0\n",
            "16.609160567807837\n",
            "0.0\n",
            "0.0\n",
            "0.0\n",
            "0\n",
            "1\n",
            "35\n",
            "23\n",
            "0\n"
          ],
          "name": "stdout"
        }
      ]
    },
    {
      "cell_type": "code",
      "metadata": {
        "id": "DSIeKfX58qZU",
        "colab": {
          "base_uri": "https://localhost:8080/"
        },
        "outputId": "5d45198f-49d4-4dea-b5f1-edd064c77061"
      },
      "source": [
        "import peqnp as cnf\n",
        "\n",
        "cnf.engine()\n",
        "\n",
        "x = cnf.linear()\n",
        "y = cnf.linear()\n",
        "z = cnf.linear(is_real=True)\n",
        "\n",
        "assert 0.5 * x + 0.3 * y + 0.1 * z == 10.111\n",
        "assert x + y >= 10.5\n",
        "assert x >= 1.1\n",
        "assert z <= 50.678\n",
        "\n",
        "opt = cnf.maximize(2 * x + 4 * y + 8 * z, lp_path='mip_problem.lp')\n",
        "\n",
        "print(opt, x, y, z)"
      ],
      "execution_count": 25,
      "outputs": [
        {
          "output_type": "stream",
          "text": [
            "454.87999999999994 3 12 50.10999999999999\n"
          ],
          "name": "stdout"
        }
      ]
    },
    {
      "cell_type": "markdown",
      "metadata": {
        "id": "c2MllZ2i964r"
      },
      "source": [
        "# DIOPHANTINE EQUATIONS\n",
        "\n",
        "https://en.wikipedia.org/wiki/Diophantine_equation"
      ]
    },
    {
      "cell_type": "markdown",
      "metadata": {
        "id": "DK1DC7aE964s"
      },
      "source": [
        "### Let be $x, y \\in \\mathbb{N} \\vert x^3 - x + 1 = y^2$"
      ]
    },
    {
      "cell_type": "code",
      "metadata": {
        "id": "7bgCxLRI964t",
        "colab": {
          "base_uri": "https://localhost:8080/"
        },
        "outputId": "4ca3a6ee-2765-4aca-de04-15c07a5ef656"
      },
      "source": [
        "import peqnp as cnf\n",
        "\n",
        "cnf.engine(10)\n",
        "\n",
        "x = cnf.integer()\n",
        "y = cnf.integer()\n",
        "\n",
        "assert x ** 3 - x + 1 == y ** 2\n",
        "\n",
        "assert x != 0\n",
        "assert y != 0\n",
        "\n",
        "while cnf.satisfy():\n",
        "    print('{0} ** 3 - {0} + 1, {1} ** 2'.format(x, y))"
      ],
      "execution_count": 26,
      "outputs": [
        {
          "output_type": "stream",
          "text": [
            "1 ** 3 - 1 + 1, 1 ** 2\n",
            "5 ** 3 - 5 + 1, 11 ** 2\n",
            "3 ** 3 - 3 + 1, 5 ** 2\n"
          ],
          "name": "stdout"
        }
      ]
    },
    {
      "cell_type": "markdown",
      "metadata": {
        "id": "tXkkLVGl964w"
      },
      "source": [
        "### Let be $x, y \\in \\mathbb{Q} \\vert x^3 + xy = y^2$"
      ]
    },
    {
      "cell_type": "code",
      "metadata": {
        "id": "p84V_ORl964w",
        "colab": {
          "base_uri": "https://localhost:8080/"
        },
        "outputId": "b5bddbb7-b512-4f97-9e5e-1c28218bd450"
      },
      "source": [
        "import peqnp as cnf\n",
        "\n",
        "cnf.engine(10)\n",
        "\n",
        "x = cnf.rational()\n",
        "y = cnf.rational()\n",
        "\n",
        "assert x ** 3 + x * y == y ** 2\n",
        "assert x != 0\n",
        "assert y != 0\n",
        "\n",
        "while cnf.satisfy():\n",
        "    print('{0} ** 3 + {0} * {1} == {1} ** 2'.format(x, y))"
      ],
      "execution_count": 27,
      "outputs": [
        {
          "output_type": "stream",
          "text": [
            "(4 / 2) ** 3 + (4 / 2) * (8 / 2) == (8 / 2) ** 2\n",
            "(2 / 1) ** 3 + (2 / 1) * (4 / 1) == (4 / 1) ** 2\n",
            "(4 / 2) ** 3 + (4 / 2) * (4 / 1) == (4 / 1) ** 2\n",
            "(6 / 1) ** 3 + (6 / 1) * (18 / 1) == (18 / 1) ** 2\n"
          ],
          "name": "stdout"
        }
      ]
    },
    {
      "cell_type": "markdown",
      "metadata": {
        "id": "ijexlhdd9642"
      },
      "source": [
        "# Vectors"
      ]
    },
    {
      "cell_type": "code",
      "metadata": {
        "id": "QNWHLqHS9644",
        "colab": {
          "base_uri": "https://localhost:8080/",
          "height": 263
        },
        "outputId": "03e99a57-06b1-4e5b-bbdb-29650a1a4507"
      },
      "source": [
        "import numpy as np\n",
        "import peqnp as cnf\n",
        "import matplotlib.pyplot as plt\n",
        "\n",
        "dim = 2\n",
        "\n",
        "cnf.engine(10)\n",
        "\n",
        "ps = cnf.vector(size=dim, is_rational=True)\n",
        "\n",
        "assert sum([p ** dim for p in ps]) <= 1\n",
        "\n",
        "dots = []\n",
        "while cnf.satisfy():\n",
        "    dots.append(np.vectorize(float)(ps))\n",
        "\n",
        "x, y = zip(*dots)\n",
        "plt.axis('equal')\n",
        "plt.plot(x, y, 'r.')\n",
        "plt.show()"
      ],
      "execution_count": 28,
      "outputs": [
        {
          "output_type": "display_data",
          "data": {
            "image/png": "[encoded data removed]",
            "text/plain": [
              "<Figure size 432x288 with 1 Axes>"
            ]
          },
          "metadata": {
            "tags": [],
            "needs_background": "light"
          }
        }
      ]
    },
    {
      "cell_type": "markdown",
      "metadata": {
        "id": "C0lkauin9646"
      },
      "source": [
        "# NP-COMPLETE PROBLEMS\n",
        "\n",
        "NP-Complete problem, any of a class of computational problems for which no efficient solution algorithm has been found. Many significant computer - science problems belong to this class—e.g., the traveling salesman problem, satisfiability problems, and graph - covering problems.\n",
        "\n",
        "https://en.wikipedia.org/wiki/NP-completeness"
      ]
    },
    {
      "cell_type": "markdown",
      "metadata": {
        "id": "hJQDg3rb9647"
      },
      "source": [
        "# SATISFIABILITY\n",
        "\n",
        "Study of boolean functions generally is concerned with the set of truth assignments(assignments of 0 or 1 to each of the variables) that make the function true.\n",
        "\n",
        "https://en.wikipedia.org/wiki/Boolean_satisfiability_problem"
      ]
    },
    {
      "cell_type": "code",
      "metadata": {
        "id": "GR62G6M99647",
        "colab": {
          "base_uri": "https://localhost:8080/"
        },
        "outputId": "0148d75e-63a6-4b1f-b023-c17a549a6b10"
      },
      "source": [
        "import functools\n",
        "import operator\n",
        "\n",
        "import peqnp as cnf\n",
        "\n",
        "n, m, sat = 10, 24, [[9, -5, 10, -6, 3],\n",
        "                     [6, 8],\n",
        "                     [8, 4],\n",
        "                     [-10, 5],\n",
        "                     [-9, 8],\n",
        "                     [-9, -3],\n",
        "                     [-2, 5],\n",
        "                     [6, 4],\n",
        "                     [-2, -1],\n",
        "                     [7, -2],\n",
        "                     [-9, 4],\n",
        "                     [-1, -10],\n",
        "                     [-3, 4],\n",
        "                     [7, 5],\n",
        "                     [6, -3],\n",
        "                     [-10, 7],\n",
        "                     [-1, 7],\n",
        "                     [8, -3],\n",
        "                     [-2, -10],\n",
        "                     [-1, 5],\n",
        "                     [-7, 1, 9, -6, 3],\n",
        "                     [-9, 6],\n",
        "                     [-8, 10, -5, -4, 2],\n",
        "                     [-4, -7, 1, -8, 2]]\n",
        "\n",
        "cnf.engine(bits=1)\n",
        "x = cnf.tensor(dimensions=(n,), key='x')\n",
        "assert functools.reduce(operator.iand, (functools.reduce(operator.ior, (x[[abs(lit) - 1]](lit < 0, lit > 0) for lit in cls)) for cls in sat)) == 1\n",
        "if cnf.satisfy(turbo=True):\n",
        "    print('SAT')\n",
        "    print(' '.join(map(str, [(i + 1) if b else -(i + 1) for i, b in enumerate(x.binary)])) + ' 0')\n",
        "else:\n",
        "    print('UNSAT')"
      ],
      "execution_count": 29,
      "outputs": [
        {
          "output_type": "stream",
          "text": [
            "SAT\n",
            "-1 2 3 4 5 6 7 8 -9 -10 0\n"
          ],
          "name": "stdout"
        }
      ]
    },
    {
      "cell_type": "markdown",
      "metadata": {
        "id": "-rrrwc0V9649"
      },
      "source": [
        "# k-CLIQUE\n",
        "\n",
        "Input: Graph $G$, positive integer $k$\n",
        "\n",
        "Property: $G$ has a set of mutually adjacent nodes.\n",
        "\n",
        "https://en.wikipedia.org/wiki/Clique_problem"
      ]
    },
    {
      "cell_type": "code",
      "metadata": {
        "id": "QQDWim1w9649",
        "colab": {
          "base_uri": "https://localhost:8080/"
        },
        "outputId": "446f9348-07b5-458a-f02a-e4e905df2795"
      },
      "source": [
        "import peqnp as cnf\n",
        "\n",
        "# Ths bits of the clique to search\n",
        "k = 3\n",
        "\n",
        "# Get the graph, and the dimension for the graph\n",
        "n, matrix = 5, [(1, 0), (0, 2), (1, 4), (2, 1), (4, 2), (3, 2)]\n",
        "\n",
        "# Ensure the problem can be represented\n",
        "cnf.engine(bits=k.bit_length())\n",
        "\n",
        "# Declare an integer of n-bits\n",
        "bits = cnf.integer(bits=n)\n",
        "\n",
        "# The bits integer have \"bits\"-active bits, i.e, the clique has \"bits\"-elements\n",
        "assert sum(cnf.switch(bits, i) for i in range(n)) == k\n",
        "\n",
        "# This entangles all elements that are joined together\n",
        "for i in range(n - 1):\n",
        "    for j in range(i + 1, n):\n",
        "        if (i, j) not in matrix and (j, i) not in matrix:\n",
        "            assert cnf.switch(bits, i) + cnf.switch(bits, j) <= 1\n",
        "\n",
        "if cnf.satisfy(turbo=True):\n",
        "    print(k)\n",
        "    print(' '.join([str(i) for i in range(n) if not bits.binary[i]]))\n",
        "else:\n",
        "    print('Infeasible ...')"
      ],
      "execution_count": 30,
      "outputs": [
        {
          "output_type": "stream",
          "text": [
            "3\n",
            "0 1 2\n"
          ],
          "name": "stdout"
        }
      ]
    },
    {
      "cell_type": "markdown",
      "metadata": {
        "id": "W9A_lLrn964_"
      },
      "source": [
        "# VERTEX COVER\n",
        "\n",
        "In the mathematical discipline of graph theory, a vertex cover (sometimes node cover) of a graph is a set of vertices that includes at least one endpoint of every edge of the graph. The problem of finding a minimum vertex cover is a classical optimization problem in computer science and is a typical example of an NP-hard optimization problem that has an approximation algorithm. Its decision version, the vertex cover problem, was one of Karp's 21 NP-complete problems and is therefore a classical NP-complete problem in computational complexity theory. Furthermore, the vertex cover problem is fixed-parameter tractable and a central problem in parameterized complexity theory.\n",
        "\n",
        "https://en.wikipedia.org/wiki/Vertex_cover"
      ]
    },
    {
      "cell_type": "code",
      "metadata": {
        "id": "qaxFZxFL965A",
        "colab": {
          "base_uri": "https://localhost:8080/"
        },
        "outputId": "ab6be7fc-2fda-4a19-a5b4-46f756a1b083"
      },
      "source": [
        "import peqnp as cnf\n",
        "\n",
        "# Get the graph and dimension, and the bits of the cover.\n",
        "n, graph, vertex, k = 5, [(1, 0), (0, 2), (1, 4), (2, 1), (4, 2), (3, 2)], [0, 1, 2, 3, 4], 3\n",
        "\n",
        "# Ensure the problem can be represented\n",
        "cnf.engine(bits=n.bit_length() + 1)\n",
        "\n",
        "# An integer with n-bits to store the indexes for the cover\n",
        "index = cnf.integer(bits=n)\n",
        "\n",
        "# This entangled the all possible covers\n",
        "for i, j in graph:\n",
        "    assert cnf.switch(index, vertex.index(i), neg=True) + cnf.switch(index, vertex.index(j), neg=True) >= 1\n",
        "\n",
        "# Ensure the cover has bits k\n",
        "assert sum(cnf.switch(index, vertex.index(i), neg=True) for i in vertex) == k\n",
        "\n",
        "if cnf.satisfy(turbo=True):\n",
        "    opt = sum(index.binary)\n",
        "    print('p bits {}'.format(opt))\n",
        "    print(' '.join([str(vertex[i]) for i in range(n) if index.binary[i]]))\n",
        "else:\n",
        "    print('Infeasible ...')"
      ],
      "execution_count": 31,
      "outputs": [
        {
          "output_type": "stream",
          "text": [
            "p bits 3\n",
            "1 2 4\n"
          ],
          "name": "stdout"
        }
      ]
    },
    {
      "cell_type": "markdown",
      "metadata": {
        "id": "-Itdoe64965B"
      },
      "source": [
        "# MULTIDIMENSIONAL LATIN SQUARES\n",
        "\n",
        "In combinatorics and in experimental design, a Latin square is an n × n array filled with n different symbols, each occurring exactly once in each row and exactly once in each column.\n",
        "\n",
        "https://en.wikipedia.org/wiki/Latin_square"
      ]
    },
    {
      "cell_type": "code",
      "metadata": {
        "id": "ZobMPYao965C",
        "colab": {
          "base_uri": "https://localhost:8080/"
        },
        "outputId": "ac143817-b05b-4b66-9f94-b5b2afef40cb"
      },
      "source": [
        "import numpy as np\n",
        "import peqnp as cnf\n",
        "\n",
        "n = 6\n",
        "m = 3\n",
        "\n",
        "cnf.engine(n.bit_length())\n",
        "\n",
        "Y = cnf.vector(size=n ** m)\n",
        "\n",
        "cnf.apply_single(Y, lambda k: k < n)\n",
        "\n",
        "Y = np.reshape(Y, newshape=(m * [n]))\n",
        "\n",
        "for i in range(n):\n",
        "    cnf.all_different(Y[i])\n",
        "    cnf.all_different(Y.T[i])\n",
        "    for j in range(n):\n",
        "        cnf.all_different(Y[i][j])\n",
        "        cnf.all_different(Y.T[i][j])\n",
        "\n",
        "for idx in cnf.hyper_loop(m - 1, n):\n",
        "    s = Y\n",
        "    for i in idx:\n",
        "        s = s[i]\n",
        "        cnf.all_different(s)\n",
        "        cnf.all_different(s.T)\n",
        "\n",
        "if cnf.satisfy(turbo=True):\n",
        "    y = np.vectorize(int)(Y).reshape(m * [n])\n",
        "    print(y)\n",
        "else:\n",
        "    print('Infeasible ...')"
      ],
      "execution_count": 32,
      "outputs": [
        {
          "output_type": "stream",
          "text": [
            "/usr/local/lib/python3.7/dist-packages/peqnp/stdlib.py:439: RuntimeWarning: invalid value encountered in not_equal\n",
            "  csp.apply(args, dual=lambda x, y: x != y)\n"
          ],
          "name": "stderr"
        },
        {
          "output_type": "stream",
          "text": [
            "[[[0 3 5 2 1 4]\n",
            "  [3 4 0 1 5 2]\n",
            "  [5 1 3 4 2 0]\n",
            "  [4 2 1 3 0 5]\n",
            "  [1 0 2 5 4 3]\n",
            "  [2 5 4 0 3 1]]\n",
            "\n",
            " [[3 2 1 4 0 5]\n",
            "  [4 1 5 3 2 0]\n",
            "  [1 0 2 5 4 3]\n",
            "  [2 5 4 0 3 1]\n",
            "  [0 4 3 1 5 2]\n",
            "  [5 3 0 2 1 4]]\n",
            "\n",
            " [[1 0 4 3 5 2]\n",
            "  [5 2 3 4 0 1]\n",
            "  [2 5 1 0 3 4]\n",
            "  [3 1 2 5 4 0]\n",
            "  [4 3 0 2 1 5]\n",
            "  [0 4 5 1 2 3]]\n",
            "\n",
            " [[5 4 0 1 2 3]\n",
            "  [0 3 4 2 1 5]\n",
            "  [4 2 5 3 0 1]\n",
            "  [1 0 3 4 5 2]\n",
            "  [2 5 1 0 3 4]\n",
            "  [3 1 2 5 4 0]]\n",
            "\n",
            " [[2 1 3 5 4 0]\n",
            "  [1 5 2 0 3 4]\n",
            "  [0 3 4 2 1 5]\n",
            "  [5 4 0 1 2 3]\n",
            "  [3 2 5 4 0 1]\n",
            "  [4 0 1 3 5 2]]\n",
            "\n",
            " [[4 5 2 0 3 1]\n",
            "  [2 0 1 5 4 3]\n",
            "  [3 4 0 1 5 2]\n",
            "  [0 3 5 2 1 4]\n",
            "  [5 1 4 3 2 0]\n",
            "  [1 2 3 4 0 5]]]\n"
          ],
          "name": "stdout"
        }
      ]
    },
    {
      "cell_type": "markdown",
      "metadata": {
        "id": "bbdyVi1o965E"
      },
      "source": [
        "# TRAVELLING SALESMAN PROBLEM WITH HESS ALGORITHM (O. RIVEROS)\n",
        "\n",
        "https://independent.academia.edu/oarr\n",
        "\n",
        "The travelling salesman problem asks the following question: \"Given a list of cities and the distances between each pair of cities, what is the shortest possible route that visits each city and returns to the origin city?\" It is an NP-hard problem in combinatorial optimization, important in operations research and theoretical computer science.\n",
        "\n",
        "https://en.wikipedia.org/wiki/Travelling_salesman_problem\n",
        "\n",
        "PEQNP include a full implementation of the HESS black-box algorithm for more advanced examples see here https://github.com/maxtuno/hess"
      ]
    },
    {
      "cell_type": "code",
      "metadata": {
        "id": "3CHTjOaA965E",
        "colab": {
          "base_uri": "https://localhost:8080/",
          "height": 263
        },
        "outputId": "57a18fb9-f89b-44ee-fd1c-f2c616bce260"
      },
      "source": [
        "import peqnp as cnf\n",
        "import numpy as np\n",
        "import matplotlib.pyplot as plt\n",
        "\n",
        "n = 100\n",
        "data = np.random.logistic(size=(n, 2))\n",
        "seq = cnf.hess_sequence(n, oracle=lambda seq: sum(np.linalg.norm(data[seq[i - 1]] - data[seq[i]]) for i in range(n)), fast=False)\n",
        "x, y = zip(*[data[i] for i in seq + [seq[0]]])\n",
        "plt.plot(x, y, 'k-')\n",
        "plt.plot(x, y, 'r.')\n",
        "plt.show()"
      ],
      "execution_count": 33,
      "outputs": [
        {
          "output_type": "display_data",
          "data": {
            "image/png": "[encoded data removed]",
            "text/plain": [
              "<Figure size 432x288 with 1 Axes>"
            ]
          },
          "metadata": {
            "tags": [],
            "needs_background": "light"
          }
        }
      ]
    },
    {
      "cell_type": "code",
      "metadata": {
        "id": "3f8ACnp_JBHb"
      },
      "source": [
        "import numpy as np\n",
        "import peqnp as cnf\n",
        "import matplotlib.pyplot as plt\n",
        "\n",
        "\n",
        "n = 10\n",
        "\n",
        "data = np.random.randint(0, 10, size=(n, 2))\n",
        "matrix = np.zeros(shape=(n, n))\n",
        "for i in range(n):\n",
        "    for j in range(n):\n",
        "        matrix[i][j] = int(np.linalg.norm(data[i] - data[j]))\n",
        "\n",
        "opt = cnf.oo()\n",
        "while True:\n",
        "    cnf.engine(int(sum(matrix.flatten())).bit_length() + 1)\n",
        "    x, y = cnf.matrix_permutation(matrix.flatten(), n)\n",
        "    assert sum(y) < opt\n",
        "    if cnf.satisfy(turbo=True):\n",
        "        opt = sum(y)\n",
        "        print(opt, x, y)\n",
        "\n",
        "        a, b = zip(*[data[i.value] for i in x + [x[0]]])\n",
        "        plt.plot(a, b, 'ro')\n",
        "        plt.plot(a, b, 'k-')\n",
        "        plt.show('tsp.png')\n",
        "        plt.close()\n",
        "\n",
        "        cnf.clear(x)\n",
        "        cnf.clear(y)\n",
        "    else:\n",
        "        break"
      ],
      "execution_count": 34,
      "outputs": []
    },
    {
      "cell_type": "markdown",
      "metadata": {
        "id": "5VQLgU4Q965G"
      },
      "source": [
        "# KNAPSACK PROBLEM\n",
        "\n",
        "The knapsack problem is a problem in combinatorial optimization: Given a set of items, each with a weight and a value, determine the number of each item to include in a collection so that the total weight is less than or equal to a given limit and the total value is as large as possible. It derives its name from the problem faced by someone who is constrained by a fixed-size knapsack and must fill it with the most valuable items.\n",
        "\n",
        "https://en.wikipedia.org/wiki/Knapsack_problem"
      ]
    },
    {
      "cell_type": "code",
      "metadata": {
        "id": "eC70oQ54965G",
        "colab": {
          "base_uri": "https://localhost:8080/"
        },
        "outputId": "4e9e2a41-eb53-4884-956f-a6c28b57c75f"
      },
      "source": [
        "import peqnp as cnf\n",
        "import numpy as np\n",
        "\n",
        "n = 50\n",
        "values = abs(np.random.logistic(size=n))\n",
        "profit = abs(np.random.logistic(size=n))\n",
        "capacity = np.random.sample()\n",
        "cnf.engine()\n",
        "selects = cnf.vector(size=n, is_mip=True)\n",
        "cnf.apply_single(selects, lambda x: x <= 1)\n",
        "assert np.dot(values, selects) <= capacity\n",
        "opt = cnf.maximize(np.dot(profit, selects))\n",
        "slots = list(map(int, selects))\n",
        "print('PROFIT  : {} vs {}'.format(np.dot(profit, slots), opt))\n",
        "print('VALUES  : {} <= {}'.format(np.dot(values, slots), capacity))\n",
        "print('SELECT  : {}'.format(slots))"
      ],
      "execution_count": 35,
      "outputs": [
        {
          "output_type": "stream",
          "text": [
            "PROFIT  : 3.553011018062701 vs 3.553011018062701\n",
            "VALUES  : 0.0802623477692671 <= 0.15501654793554132\n",
            "SELECT  : [0, 0, 0, 0, 0, 0, 0, 0, 1, 0, 0, 0, 0, 0, 0, 0, 0, 0, 0, 0, 0, 0, 0, 0, 0, 0, 0, 0, 0, 1, 0, 0, 0, 0, 0, 0, 0, 0, 0, 0, 0, 0, 0, 0, 0, 0, 0, 0, 0, 0]\n"
          ],
          "name": "stdout"
        }
      ]
    },
    {
      "cell_type": "markdown",
      "metadata": {
        "id": "3CaSxvbE965I"
      },
      "source": [
        "# MAGIC SQUARE\n",
        "\n",
        "\n",
        "In recreational mathematics and combinatorial design, a magic square is a $n\\times n$ square grid (where n is the number of cells on each side) filled with distinct positive integers in the range \n",
        "${1,2,...,n^{2}}$ such that each cell contains a different integer and the sum of the integers in each row, column and diagonal is equal.\n",
        "\n",
        "https://en.wikipedia.org/wiki/Magic_square"
      ]
    },
    {
      "cell_type": "code",
      "metadata": {
        "id": "AyWeR36j965I",
        "colab": {
          "base_uri": "https://localhost:8080/"
        },
        "outputId": "943a5c1c-1f74-44c4-9bad-46c6ce29f797"
      },
      "source": [
        "import peqnp as cnf\n",
        "import numpy as np\n",
        "\n",
        "n = 3\n",
        "\n",
        "cnf.engine(5)\n",
        "\n",
        "c = cnf.integer()\n",
        "\n",
        "xs = cnf.matrix(dimensions=(n, n))\n",
        "\n",
        "cnf.apply_single(cnf.flatten(xs), lambda x: x > 0)\n",
        "cnf.all_different(cnf.flatten(xs))\n",
        "\n",
        "for i in range(n):\n",
        "    assert sum(xs[i][j] for j in range(n)) == c\n",
        "for j in range(n):\n",
        "    assert sum(xs[i][j] for i in range(n)) == c\n",
        "\n",
        "assert sum(xs[i][i] for i in range(n)) == c\n",
        "assert sum(xs[i][n - 1 - i] for i in range(n)) == c\n",
        "\n",
        "if cnf.satisfy(turbo=True):\n",
        "    print(c)\n",
        "    print(np.vectorize(int)(xs))\n",
        "else:\n",
        "    print('Infeasible ...')"
      ],
      "execution_count": 36,
      "outputs": [
        {
          "output_type": "stream",
          "text": [
            "18\n",
            "[[ 3  7  8]\n",
            " [11  6  1]\n",
            " [ 4  5  9]]\n"
          ],
          "name": "stdout"
        }
      ]
    },
    {
      "cell_type": "markdown",
      "metadata": {
        "id": "lEaH-Epz965K"
      },
      "source": [
        "# SCHUR TRIPLES PROBLEM:\n",
        "\n",
        "Input: list of 3N distinct positive integers\n",
        "\n",
        "Question: Is there a partition of the list into N triples $(a_i, b_i, c_i)$ such that $a_i+b_i=c_i$\n",
        "\n",
        "The condition that all numbers must be distinct makes the problem very interesting and McDiarmid calls it a surprisingly troublesome.\n",
        "\n",
        "https://cstheory.stackexchange.com/questions/16253/list-of-strongly-np-hard-problems-with-numerical-data"
      ]
    },
    {
      "cell_type": "code",
      "metadata": {
        "id": "Jd9xBJiE965K",
        "colab": {
          "base_uri": "https://localhost:8080/"
        },
        "outputId": "0d42ee84-3c69-4d06-f8d4-fcecbea9e3fd"
      },
      "source": [
        "import peqnp as cnf\n",
        "import numpy as np\n",
        "\n",
        "bits = 7\n",
        "size = 3 * 10\n",
        "triplets = []\n",
        "while len(triplets) < size:\n",
        "    a = np.random.randint(1, 2 ** bits)\n",
        "    b = np.random.randint(1, 2 ** bits)\n",
        "    if a != b and a not in triplets and b not in triplets and a + b not in triplets:\n",
        "        triplets += [a, b, a + b]\n",
        "triplets.sort()\n",
        "print(triplets)\n",
        "cnf.engine(bits=max(triplets).bit_length())\n",
        "xs, ys = cnf.permutations(triplets, size)\n",
        "for i in range(0, size, 3):\n",
        "    assert ys[i] + ys[i + 1] == ys[i + 2]\n",
        "if cnf.satisfy(turbo=True):\n",
        "    for i in range(0, size, 3):\n",
        "        print('{} == {} + {}'.format(ys[i + 2], ys[i], ys[i + 1]))\n",
        "else:\n",
        "    print('Infeasible ...')"
      ],
      "execution_count": 37,
      "outputs": [
        {
          "output_type": "stream",
          "text": [
            "[1, 10, 13, 14, 27, 28, 35, 38, 39, 43, 44, 53, 62, 63, 70, 72, 79, 87, 102, 106, 110, 115, 117, 126, 127, 131, 145, 154, 157, 206]\n",
            "44 == 1 + 43\n",
            "63 == 10 + 53\n",
            "110 == 38 + 72\n",
            "157 == 87 + 70\n",
            "145 == 39 + 106\n",
            "115 == 102 + 13\n",
            "206 == 79 + 127\n",
            "154 == 28 + 126\n",
            "62 == 27 + 35\n",
            "131 == 117 + 14\n"
          ],
          "name": "stdout"
        }
      ]
    },
    {
      "cell_type": "markdown",
      "metadata": {
        "id": "ehRx6Mud965M"
      },
      "source": [
        "# SUBSET SUM PROBLEM\n",
        "\n",
        "In this problem, there is a given set with some integer elements. And another some value is also provided, we have to find a subset of the given set whose sum is the same as the given sum value.\n",
        "\n",
        "https://en.wikipedia.org/wiki/Subset_sum_problem"
      ]
    },
    {
      "cell_type": "code",
      "metadata": {
        "id": "l1u8ka7t965M",
        "colab": {
          "base_uri": "https://localhost:8080/"
        },
        "outputId": "8f6d0492-cbfa-46c7-8161-b94b559f9caf"
      },
      "source": [
        "import peqnp as cnf\n",
        "import numpy as np\n",
        "\n",
        "universe = np.random.randint(1, 1000, size=32)\n",
        "t = np.random.randint(min(universe), sum(universe))\n",
        "\n",
        "print(t, universe)\n",
        "\n",
        "cnf.engine(t.bit_length())\n",
        "\n",
        "bits, subset = cnf.subsets(universe)\n",
        "\n",
        "assert sum(subset) == t\n",
        "\n",
        "if cnf.satisfy(turbo=True):\n",
        "    solution = [universe[i] for i in range(len(universe)) if bits.binary[i]]\n",
        "    print(sum(solution), solution)\n",
        "else:\n",
        "    print('Infeasible ...')"
      ],
      "execution_count": 38,
      "outputs": [
        {
          "output_type": "stream",
          "text": [
            "3487 [404 453 295 999 793 292 266 740 963 769 278 602 834 577  97 569 683 736\n",
            " 134  76 884 877 272 607 479 258 343 354 318 282 593 977]\n",
            "3487 [97, 134, 607, 479, 318, 282, 593, 977]\n"
          ],
          "name": "stdout"
        }
      ]
    },
    {
      "cell_type": "markdown",
      "metadata": {
        "id": "daXn5SYi965Q"
      },
      "source": [
        "# PERMUTATION RECONSTRUCTION FROM DIFFERENCES\n",
        "\n",
        "https://arxiv.org/pdf/1410.6396.pdf"
      ]
    },
    {
      "cell_type": "code",
      "metadata": {
        "id": "YMKxvACO965Q",
        "colab": {
          "base_uri": "https://localhost:8080/",
          "height": 280
        },
        "outputId": "f3675001-a4d0-4add-f12f-316e14736041"
      },
      "source": [
        "import peqnp as cnf\n",
        "import numpy as np\n",
        "import matplotlib.pyplot as plt\n",
        "\n",
        "def gen_instance(n):\n",
        "    import random\n",
        "    y = list(range(1, n + 1))\n",
        "    random.shuffle(y)\n",
        "    return [abs(y[i + 1] - y[i]) for i in range(n - 1)]\n",
        "\n",
        "\n",
        "import time\n",
        "start = time.time()\n",
        "times = []\n",
        "sizes = []\n",
        "for n in range(1, 30):\n",
        "    diffs = gen_instance(n)\n",
        "    ini = time.time()\n",
        "    cnf.engine(n.bit_length() + 1)\n",
        "    x = cnf.vector(size=n)\n",
        "    cnf.all_different(x)\n",
        "    cnf.apply_single(x, lambda a: 1 <= a <= n)\n",
        "    for i in range(n - 1):\n",
        "        assert cnf.index(i, diffs) == cnf.one_of([x[i + 1] - x[i], x[i] - x[i + 1]])\n",
        "    if cnf.satisfy(turbo=True):\n",
        "        end = time.time() - ini\n",
        "        xx = [abs(x[i + 1] - x[i]) for i in range(n - 1)]\n",
        "        if xx == diffs:\n",
        "            sizes.append(n)\n",
        "            times.append(end)\n",
        "        else:\n",
        "            raise Exception('Error!')\n",
        "    else:\n",
        "        raise Exception('Error!')\n",
        "end = time.time() - start\n",
        "plt.title('TIME {}(s)'.format(end))\n",
        "plt.plot(sizes, times, 'k-')\n",
        "plt.plot(sizes, times, 'r.')\n",
        "plt.show()\n",
        "plt.close()"
      ],
      "execution_count": 39,
      "outputs": [
        {
          "output_type": "display_data",
          "data": {
            "image/png": "[encoded data removed]",
            "text/plain": [
              "<Figure size 432x288 with 1 Axes>"
            ]
          },
          "metadata": {
            "tags": [],
            "needs_background": "light"
          }
        }
      ]
    },
    {
      "cell_type": "markdown",
      "metadata": {
        "id": "bJwHMwDc965S"
      },
      "source": [
        "# HAMILTONIAN CYCLE PROBLEM\n",
        "\n",
        "In the mathematical field of graph theory, a Hamiltonian path (or traceable path) is a path in an undirected or directed graph that visits each vertex exactly once. A Hamiltonian cycle (or Hamiltonian circuit) is a Hamiltonian path that is a cycle. Determining whether such paths and cycles exist in graphs is the Hamiltonian path problem, which is NP-complete.\n",
        "\n",
        "https://en.wikipedia.org/wiki/Hamiltonian_path"
      ]
    },
    {
      "cell_type": "code",
      "metadata": {
        "id": "UbxWGgHu965S",
        "colab": {
          "base_uri": "https://localhost:8080/"
        },
        "outputId": "c4a43604-2d9d-4565-aecc-a633ab519d85"
      },
      "source": [
        "import sys\n",
        "\n",
        "import peqnp as cnf\n",
        "import numpy as np\n",
        "\n",
        "\n",
        "n = 10\n",
        "M = np.random.randint(0, 2, size=(n, n))\n",
        "\n",
        "print(M)\n",
        "\n",
        "cnf.engine((n ** 2).bit_length())\n",
        "ids, elements = cnf.matrix_permutation((1 - M).flatten(), n)\n",
        "\n",
        "assert sum(elements) == 0\n",
        "\n",
        "if cnf.satisfy(turbo=True):\n",
        "    for i in ids:\n",
        "        for j in ids:\n",
        "            sys.stdout.write('{} '.format(M[i.value][j.value]))\n",
        "        sys.stdout.write('\\n') \n",
        "    sys.stdout.write('\\n')\n",
        "else:\n",
        "    print('Infeasible ...')"
      ],
      "execution_count": 40,
      "outputs": [
        {
          "output_type": "stream",
          "text": [
            "[[1 1 0 0 0 0 0 0 0 1]\n",
            " [0 1 1 0 1 1 0 0 1 1]\n",
            " [1 0 1 0 0 1 0 1 0 1]\n",
            " [0 0 1 1 0 1 0 0 0 0]\n",
            " [1 0 0 1 0 0 1 1 1 1]\n",
            " [0 0 0 0 0 0 1 1 0 0]\n",
            " [0 1 1 1 1 0 0 0 1 0]\n",
            " [1 0 0 0 0 1 1 0 1 0]\n",
            " [1 0 1 0 1 1 0 0 1 1]\n",
            " [1 0 1 0 0 0 1 1 1 1]]\n",
            "1 1 0 0 1 1 0 0 1 0 \n",
            "1 1 1 0 0 1 1 0 1 0 \n",
            "1 0 0 1 0 0 1 1 0 1 \n",
            "1 0 0 1 1 0 0 0 0 0 \n",
            "0 0 1 0 0 1 0 0 0 0 \n",
            "0 0 1 0 1 0 1 0 1 0 \n",
            "1 1 0 0 1 0 1 1 1 0 \n",
            "0 1 1 1 0 1 1 0 1 0 \n",
            "0 1 0 0 0 0 0 0 1 1 \n",
            "1 1 0 0 1 0 1 1 0 1 \n",
            "\n"
          ],
          "name": "stdout"
        }
      ]
    },
    {
      "cell_type": "markdown",
      "metadata": {
        "id": "4a2Y3ykM965U"
      },
      "source": [
        "# BIN PACKING PROBLEM\n",
        "\n",
        "In the bin packing problem, items of different volumes must be packed into a finite number of bins or containers each of a fixed given volume in a way that minimizes the number of bins used. In computational complexity theory, it is a combinatorial NP-hard problem. The decision problem (deciding if items will fit into a specified number of bins) is NP-complete.\n",
        "\n",
        "https://en.wikipedia.org/wiki/Bin_packing_problem"
      ]
    },
    {
      "cell_type": "code",
      "metadata": {
        "id": "udwwcxlG965U",
        "colab": {
          "base_uri": "https://localhost:8080/"
        },
        "outputId": "8e7251d2-eff8-4395-e9c6-a1c9b374ff6c"
      },
      "source": [
        "import peqnp as cnf\n",
        "import numpy as np\n",
        "\n",
        "capacity = 50\n",
        "size = 50\n",
        "elements = sorted([np.random.randint(1, capacity // 2 - 1) for _ in range(size)], reverse=True)\n",
        "print(capacity)\n",
        "print(elements)\n",
        "bins = int(np.ceil(sum(elements) / capacity))\n",
        "while True:\n",
        "    cnf.engine(bits=capacity.bit_length() + 1)\n",
        "    slots = cnf.vector(bits=len(elements), size=bins)\n",
        "    for i in range(len(elements)):\n",
        "        assert sum(cnf.switch(slot, i) for slot in slots) == 1\n",
        "    for slot in slots:\n",
        "        assert sum(cnf.switch(slot, i) * elements[i] for i in range(len(elements))) <= capacity\n",
        "    if cnf.satisfy(turbo=True):\n",
        "        print('Solution for {} bins...'.format(bins))\n",
        "        for slot in slots:\n",
        "            print(''.join(['_' if boolean else '#' for boolean in slot.binary]))\n",
        "        for slot in slots:\n",
        "            sub = [item for i, item in enumerate(elements) if not slot.binary[i]]\n",
        "            print(sum(sub), sub)\n",
        "        break\n",
        "    else:\n",
        "        print('No solution for {} bins...'.format(bins))\n",
        "        bins += 1"
      ],
      "execution_count": 41,
      "outputs": [
        {
          "output_type": "stream",
          "text": [
            "50\n",
            "[23, 23, 22, 22, 22, 22, 21, 21, 21, 20, 19, 19, 18, 18, 18, 18, 16, 15, 15, 15, 14, 14, 14, 13, 13, 12, 12, 12, 12, 11, 11, 10, 9, 8, 7, 6, 6, 6, 5, 5, 5, 5, 5, 4, 4, 4, 3, 3, 3, 2]\n",
            "Solution for 13 bins...\n",
            "____________#_#_______________#__________________#\n",
            "___#_________________#_#__________________________\n",
            "_______#_#______________________________#______#__\n",
            "#_____________________#____________#__#___________\n",
            "________#__________#_____________#__#_____________\n",
            "____#___________#______________________#________#_\n",
            "_____________#_#__________________#__#____________\n",
            "____________________#____###______________________\n",
            "_#___#___________________________________#________\n",
            "__#__________________________#_____________####___\n",
            "__________##________________#_____________________\n",
            "______#_________________#_________________#_______\n",
            "_________________##____________##_________________\n",
            "49 [18, 18, 11, 2]\n",
            "49 [22, 14, 13]\n",
            "49 [21, 20, 5, 3]\n",
            "48 [23, 14, 6, 5]\n",
            "50 [21, 15, 8, 6]\n",
            "46 [22, 16, 5, 3]\n",
            "49 [18, 18, 7, 6]\n",
            "50 [14, 12, 12, 12]\n",
            "50 [23, 22, 5]\n",
            "48 [22, 11, 4, 4, 4, 3]\n",
            "50 [19, 19, 12]\n",
            "39 [21, 13, 5]\n",
            "49 [15, 15, 10, 9]\n"
          ],
          "name": "stdout"
        }
      ]
    },
    {
      "cell_type": "markdown",
      "metadata": {
        "id": "oI6JNjwq965W"
      },
      "source": [
        "# ZERO-ONE INTEGER PROGRAMMING DEFINITION\n",
        "\n",
        "Zero-one integer programming (which can also be written as 0-1 integer programming) is a mathematical method of using a series of binary, yes (1) and no (0) answers to arrive at a solution when there are two mutually exclusive options.\n",
        "\n",
        "https://en.wikipedia.org/wiki/Integer_programming"
      ]
    },
    {
      "cell_type": "code",
      "metadata": {
        "id": "UBSuy8E1965W",
        "colab": {
          "base_uri": "https://localhost:8080/"
        },
        "outputId": "b7b186bc-922d-4ebd-f295-e250e3b74fed"
      },
      "source": [
        "import peqnp as cnf\n",
        "import numpy as np\n",
        "\n",
        "n, m = 10, 5\n",
        "cc = np.random.randint(0, 1000, size=(n, m))\n",
        "d = np.dot(cc, np.random.randint(0, 2, size=(m,)))\n",
        "print(cc)\n",
        "print(d)\n",
        "cnf.engine(bits=int(np.sum(cc)).bit_length())\n",
        "xs = cnf.vector(size=m)\n",
        "cnf.all_binaries(xs)\n",
        "assert (np.dot(cc, xs) == d).all()\n",
        "if cnf.satisfy():\n",
        "    print(xs)\n",
        "    print('Proof:')\n",
        "    print(np.dot(cc, xs))\n",
        "else:\n",
        "    print('Infeasible...')"
      ],
      "execution_count": 42,
      "outputs": [
        {
          "output_type": "stream",
          "text": [
            "[[123   3 238 630 134]\n",
            " [358 213 853 160 595]\n",
            " [496 398 607 683 296]\n",
            " [116 936 237 493 309]\n",
            " [308  68 316 719 923]\n",
            " [316 935 330 887 795]\n",
            " [561 766 372 334 278]\n",
            " [102 588 130 600 207]\n",
            " [658 758 653 373 910]\n",
            " [834 466 958 753 623]]\n",
            "[134 595 296 309 923 795 278 207 910 623]\n",
            "[0, 0, 0, 0, 1]\n",
            "Proof:\n",
            "[134 595 296 309 923 795 278 207 910 623]\n"
          ],
          "name": "stdout"
        }
      ]
    },
    {
      "cell_type": "markdown",
      "metadata": {
        "id": "Q2UGOuKW965Y"
      },
      "source": [
        "# n-QUEENS COMPLETION PROBLEM\n",
        "\n",
        "The n- Queens Completion problem is a variant, dating to 1850, in which some queens are already placed and the solver is asked to place the rest, if possi- ble. ... The n-Queens problem is to place n chess queens on an n by n chessboard so that no two queens are on the same row, column or diagonal.\n",
        "\n",
        "https://www.ijcai.org/Proceedings/2018/0794.pdf"
      ]
    },
    {
      "cell_type": "code",
      "metadata": {
        "id": "rECfC3zy965Y",
        "colab": {
          "base_uri": "https://localhost:8080/"
        },
        "outputId": "b0dd0557-cb34-448c-8adc-b93014c652f6"
      },
      "source": [
        "import peqnp as cnf\n",
        "\n",
        "\n",
        "def completion(n, m, seed):\n",
        "    import random\n",
        "    \"\"\"\n",
        "    http://www.csplib.org/Problems/prob079/data/queens-gen-fast.py.html\n",
        "    \"\"\"\n",
        "    random.seed(seed)\n",
        "\n",
        "    d1 = [0 for _ in range(2 * n - 1)]\n",
        "    d2 = [0 for _ in range(2 * n - 1)]\n",
        "\n",
        "    valid_rows = [i for i in range(n)]\n",
        "    valid_cols = [j for j in range(n)]\n",
        "\n",
        "    def no_attack(r, c):\n",
        "        return d1[r + c] == 0 and d2[r - c + n - 1] == 0\n",
        "\n",
        "    pc = []\n",
        "    queens_left = n\n",
        "\n",
        "    for attempt in range(n * n):\n",
        "        i = random.randrange(queens_left)\n",
        "        j = random.randrange(queens_left)\n",
        "        r = valid_rows[i]\n",
        "        c = valid_cols[j]\n",
        "        if no_attack(r, c):\n",
        "            pc.append([r, c])\n",
        "            d1[r + c] = 1\n",
        "            d2[r - c + n - 1] = 1\n",
        "            valid_rows[i] = valid_rows[queens_left - 1]\n",
        "            valid_cols[j] = valid_cols[queens_left - 1]\n",
        "            queens_left -= 1\n",
        "            if len(pc) == m:\n",
        "                return [[x + 1, y + 1] for x, y in pc]\n",
        "\n",
        "def show(pc):\n",
        "    table = ''\n",
        "    for i in range(1, n + 1):\n",
        "        table += ''\n",
        "        for j in range(1, n + 1):\n",
        "            if [i, j] not in pc:\n",
        "                table += '. '\n",
        "            else:\n",
        "                table += 'Q '\n",
        "        table += '\\n'\n",
        "    print(table)\n",
        "    print('# seed = {}'.format(seed))\n",
        "    \n",
        "n, m, seed = 30, 15, 0\n",
        "placed_queens = completion(n, m, seed)\n",
        "show(placed_queens)\n",
        "cnf.engine(bits=n.bit_length() + 1)\n",
        "qs = cnf.vector(size=n)\n",
        "for (a, b) in placed_queens:\n",
        "    assert qs[a - 1] == b - 1\n",
        "cnf.apply_single(qs, lambda x: x < n)\n",
        "cnf.apply_dual(qs, lambda x, y: x != y)\n",
        "cnf.apply_dual([qs[i] + i for i in range(n)], lambda x, y: x != y)\n",
        "cnf.apply_dual([qs[i] - i for i in range(n)], lambda x, y: x != y)\n",
        "if cnf.satisfy(turbo=True):\n",
        "    for i in range(n):\n",
        "        print(''.join(['Q ' if qs[i] == j else '. ' for j in range(n)]))\n",
        "    print('')\n",
        "else:\n",
        "    print('Infeasible ...')"
      ],
      "execution_count": 43,
      "outputs": [
        {
          "output_type": "stream",
          "text": [
            ". . . . . . . . . . . . . . . . . . . . . . . . . . . . . . \n",
            ". . . . . . . . . . . . . . . . . . . . . . . . . . . . . . \n",
            ". . . . . . . . . . . . . . . . . . . . . . . . . . . . . . \n",
            ". . Q . . . . . . . . . . . . . . . . . . . . . . . . . . . \n",
            ". . . . . . . . . Q . . . . . . . . . . . . . . . . . . . . \n",
            ". . . . . . . . . . . . . . . . . . . . . . . . . . . . . . \n",
            ". . . . . . . . . . . . . . . . . . . . . . . . . . Q . . . \n",
            ". . . . . . . . . . . . . . . . . . . . . . . . . . . . . . \n",
            ". . . . . . . . . . . . . . . . Q . . . . . . . . . . . . . \n",
            ". . . . . . . . . . . . . . . . . . . . . . . . . . . . . . \n",
            ". . . . . . . . . . . . . . . . . . . . . . . . . . . . . . \n",
            ". . . . . . . . . . . . . . . . . . Q . . . . . . . . . . . \n",
            ". . . . . . . . . . . . . . . . . . . . . . . . . . . . . . \n",
            ". Q . . . . . . . . . . . . . . . . . . . . . . . . . . . . \n",
            ". . . . . . . . . . . . . . . . . . . . . . . . . . . . . . \n",
            ". . . . . . . . . . . . . . . . . . . . . . . . . . . . . Q \n",
            ". . . . . . . . . . . . . . . . . . . . . . . . . . . . . . \n",
            ". . . . . . . . . . . . . . . . . . . Q . . . . . . . . . . \n",
            ". . . . . . . . . . . . . . . . . . . . . . . . . . . . . . \n",
            ". . . . . . . . Q . . . . . . . . . . . . . . . . . . . . . \n",
            ". . . . . . . . . . . Q . . . . . . . . . . . . . . . . . . \n",
            ". . . . . . . . . . . . . . . . . . . . . . Q . . . . . . . \n",
            ". . . Q . . . . . . . . . . . . . . . . . . . . . . . . . . \n",
            ". . . . . . . . . . . . . . . Q . . . . . . . . . . . . . . \n",
            ". . . . . . . . . . . . . . . . . . . . . . . . . . . . Q . \n",
            ". . . . . . . . . . . . . . . . . . . . . . . . . . . . . . \n",
            ". . . . . . . . . . . . . . . . . . . . . . . . . . . . . . \n",
            ". . . . . . . . . . . . Q . . . . . . . . . . . . . . . . . \n",
            ". . . . . . . . . . . . . . . . . . . . . . . . . . . . . . \n",
            ". . . . . . . . . . . . . . . . . . . . . . . . . . . . . . \n",
            "\n",
            "# seed = 0\n",
            ". . . . . . . . . . . . . . . . . Q . . . . . . . . . . . . \n",
            ". . . . . . . . . . . . . . . . . . . . . . . . . . . Q . . \n",
            ". . . . . . . . . . . . . . . . . . . . . Q . . . . . . . . \n",
            ". . Q . . . . . . . . . . . . . . . . . . . . . . . . . . . \n",
            ". . . . . . . . . Q . . . . . . . . . . . . . . . . . . . . \n",
            ". . . . . . . . . . . . . . Q . . . . . . . . . . . . . . . \n",
            ". . . . . . . . . . . . . . . . . . . . . . . . . . Q . . . \n",
            ". . . . Q . . . . . . . . . . . . . . . . . . . . . . . . . \n",
            ". . . . . . . . . . . . . . . . Q . . . . . . . . . . . . . \n",
            ". . . . . . . . . . . . . . . . . . . . . . . . . Q . . . . \n",
            ". . . . . . Q . . . . . . . . . . . . . . . . . . . . . . . \n",
            ". . . . . . . . . . . . . . . . . . Q . . . . . . . . . . . \n",
            ". . . . . . . . . . . . . . . . . . . . . . . Q . . . . . . \n",
            ". Q . . . . . . . . . . . . . . . . . . . . . . . . . . . . \n",
            ". . . . . . . Q . . . . . . . . . . . . . . . . . . . . . . \n",
            ". . . . . . . . . . . . . . . . . . . . . . . . . . . . . Q \n",
            ". . . . . . . . . . Q . . . . . . . . . . . . . . . . . . . \n",
            ". . . . . . . . . . . . . . . . . . . Q . . . . . . . . . . \n",
            "Q . . . . . . . . . . . . . . . . . . . . . . . . . . . . . \n",
            ". . . . . . . . Q . . . . . . . . . . . . . . . . . . . . . \n",
            ". . . . . . . . . . . Q . . . . . . . . . . . . . . . . . . \n",
            ". . . . . . . . . . . . . . . . . . . . . . Q . . . . . . . \n",
            ". . . Q . . . . . . . . . . . . . . . . . . . . . . . . . . \n",
            ". . . . . . . . . . . . . . . Q . . . . . . . . . . . . . . \n",
            ". . . . . . . . . . . . . . . . . . . . . . . . . . . . Q . \n",
            ". . . . . . . . . . . . . . . . . . . . Q . . . . . . . . . \n",
            ". . . . . . . . . . . . . . . . . . . . . . . . Q . . . . . \n",
            ". . . . . . . . . . . . Q . . . . . . . . . . . . . . . . . \n",
            ". . . . . Q . . . . . . . . . . . . . . . . . . . . . . . . \n",
            ". . . . . . . . . . . . . Q . . . . . . . . . . . . . . . . \n",
            "\n"
          ],
          "name": "stdout"
        }
      ]
    },
    {
      "cell_type": "markdown",
      "metadata": {
        "id": "DalnuooVDIeY"
      },
      "source": [
        "# MULTIDIMENSIONAL KNAPSACK PROBLEM\n",
        "\n",
        "https://link.springer.com/chapter/10.1007/978-3-540-24777-7_9"
      ]
    },
    {
      "cell_type": "code",
      "metadata": {
        "id": "cIvMJpSXDGw5",
        "colab": {
          "base_uri": "https://localhost:8080/"
        },
        "outputId": "e3764658-e50f-417b-99ad-a89a79766022"
      },
      "source": [
        "import numpy as np\n",
        "import peqnp as cnf\n",
        "\n",
        "n = 90\n",
        "m = 5\n",
        "\n",
        "z = 11191\n",
        "c = [360, 83, 59, 130, 431, 67, 230, 52, 93, 125, 670, 892, 600, 38, 48, 147, 78, 256, 63, 17, 120, 164, 432, 35, 92, 110, 22, 42, 50, 323, 514, 28, 87, 73, 78, 15, 26, 78, 210, 36, 85, 189, 274, 43, 33, 10, 19, 389, 276, 312, 94, 68, 73, 192, 41, 163, 16, 40, 195, 138, 73, 152, 400, 26, 14, 170, 205, 57, 369, 435, 123, 25, 94, 88, 90, 146, 55, 29, 82, 74, 100, 72, 31, 29, 316, 244, 70, 82, 90, 52]\n",
        "\n",
        "b = [2100, 1100, 3300, 3700, 3600]\n",
        "a = [[7, 0, 30, 22, 80, 94, 11, 81, 70, 64, 59, 18, 0, 36, 3, 8, 15, 42, 9, 0, 42, 47, 52, 32, 26, 48, 55, 6, 29, 84, 2, 4, 18, 56, 7, 29, 93, 44, 71, 3, 86, 66, 31, 65, 0, 79, 20, 65, 52, 13, 48, 14, 5, 72, 14, 39, 46, 27, 11, 91, 15, 25, 0, 94, 53, 48, 27, 99, 6, 17, 69, 43, 0, 57, 7, 21, 78, 10, 37, 26, 20, 8, 4, 43, 17, 25, 36, 60, 84, 40],\n",
        "     [8, 66, 98, 50, 0, 30, 0, 88, 15, 37, 26, 72, 61, 57, 17, 27, 83, 3, 9, 66, 97, 42, 2, 44, 71, 11, 25, 74, 90, 20, 0, 38, 33, 14, 9, 23, 12, 58, 6, 14, 78, 0, 12, 99, 84, 31, 16, 7, 33, 20, 5, 18, 96, 63, 31, 0, 70, 4, 66, 9, 15, 25, 2, 0, 48, 1, 40, 31, 82, 79, 56, 34, 3, 19, 52, 36, 95, 6, 35, 34, 74, 26, 10, 85, 63, 31, 22, 9, 92, 18],\n",
        "     [3, 74, 88, 50, 55, 19, 0, 6, 30, 62, 17, 81, 25, 46, 67, 28, 36, 8, 1, 52, 19, 37, 27, 62, 39, 84, 16, 14, 21, 5, 60, 82, 72, 89, 16, 5, 29, 7, 80, 97, 41, 46, 15, 92, 51, 76, 57, 90, 10, 37, 25, 93, 5, 39, 0, 97, 6, 96, 2, 81, 69, 4, 32, 78, 65, 83, 62, 89, 45, 53, 52, 76, 72, 23, 89, 48, 41, 1, 27, 19, 3, 32, 82, 20, 2, 51, 18, 42, 4, 26],\n",
        "     [21, 40, 0, 6, 82, 91, 43, 30, 62, 91, 10, 41, 12, 4, 80, 77, 98, 50, 78, 35, 7, 1, 96, 67, 85, 4, 23, 38, 2, 57, 4, 53, 0, 33, 2, 25, 14, 97, 87, 42, 15, 65, 19, 83, 67, 70, 80, 39, 9, 5, 41, 31, 36, 15, 30, 87, 28, 13, 40, 0, 51, 79, 75, 43, 91, 60, 24, 18, 85, 83, 3, 85, 2, 5, 51, 63, 52, 85, 17, 62, 7, 86, 48, 2, 1, 15, 74, 80, 57, 16],\n",
        "     [94, 86, 80, 92, 31, 17, 65, 51, 46, 66, 44, 3, 26, 0, 39, 20, 11, 6, 55, 70, 11, 75, 82, 35, 47, 99, 5, 14, 23, 38, 94, 66, 64, 27, 77, 50, 28, 25, 61, 10, 30, 15, 12, 24, 90, 25, 39, 47, 98, 83, 56, 36, 6, 66, 89, 45, 38, 1, 18, 88, 19, 39, 20, 1, 7, 34, 68, 32, 31, 58, 41, 99, 92, 67, 33, 26, 25, 68, 37, 6, 11, 17, 48, 79, 63, 77, 17, 29, 18, 60]]\n",
        "\n",
        "\n",
        "cnf.engine()\n",
        "xs = np.asarray(cnf.vector(size=n, is_mip=True))\n",
        "cnf.apply_single(xs, lambda x: x <= 1)\n",
        "for i in range(m):\n",
        "    assert np.dot(a[i], xs) <= b[i]\n",
        "assert np.dot(c, xs) <= z\n",
        "print(cnf.maximize(np.dot(c, xs)))\n",
        "print(xs)"
      ],
      "execution_count": 44,
      "outputs": [
        {
          "output_type": "stream",
          "text": [
            "11190.999999999995\n",
            "[1 0 0 0 1 0 1 0 1 1 1 1 1 0 0 1 0 1 1 0 0 1 1 0 0 1 0 0 0 1 1 0 0 1 1 0 0\n",
            " 0 1 1 0 1 1 0 0 0 0 1 1 1 1 1 0 1 0 1 0 1 1 1 1 1 1 1 0 1 1 0 1 1 0 0 1 1\n",
            " 0 1 0 1 0 0 0 1 1 0 1 1 1 1 0 1]\n"
          ],
          "name": "stdout"
        }
      ]
    },
    {
      "cell_type": "markdown",
      "metadata": {
        "id": "QJiSiXi_DyFL"
      },
      "source": [
        "# PARTITION PROBLEM\n",
        "\n",
        "n number theory and computer science, the partition problem, or number partitioning, is the task of deciding whether a given multiset $S$ of positive integers can be partitioned into two subsets $S_1$ and $S_2$ such that the sum of the numbers in $S_1$ equals the sum of the numbers in $S_2$.\n",
        "\n",
        "https://en.wikipedia.org/wiki/Partition_problem"
      ]
    },
    {
      "cell_type": "code",
      "metadata": {
        "id": "yZlJB_TdDwyc",
        "colab": {
          "base_uri": "https://localhost:8080/"
        },
        "outputId": "8784d3d9-6301-4ff3-9b05-9bcaa2a65a14"
      },
      "source": [
        "import numpy as np\n",
        "import peqnp as cnf\n",
        "\n",
        "size = 20\n",
        "\n",
        "data = np.random.randint(1000, size=size)\n",
        "\n",
        "print(data)\n",
        "\n",
        "cnf.engine(int(sum(data)).bit_length())\n",
        "\n",
        "T, sub, com = cnf.subsets(data, complement=True)\n",
        "\n",
        "assert sum(sub) == sum(com)\n",
        "\n",
        "if cnf.satisfy():\n",
        "    sub_ = [data[i] for i in range(size) if T.binary[i]]\n",
        "    com_ = [data[i] for i in range(size) if not T.binary[i]]\n",
        "    print(sum(sub_), sub_)\n",
        "    print(sum(com_), com_)\n",
        "else:\n",
        "    print('Infeasible ...')"
      ],
      "execution_count": 45,
      "outputs": [
        {
          "output_type": "stream",
          "text": [
            "[901 801 515  49 896 404 703 395 262 732 940  25 350 815 498 145 780 883\n",
            "  46 254]\n",
            "5197 [515, 896, 940, 350, 815, 498, 883, 46, 254]\n",
            "5197 [901, 801, 49, 404, 703, 395, 262, 732, 25, 145, 780]\n"
          ],
          "name": "stdout"
        }
      ]
    },
    {
      "cell_type": "markdown",
      "metadata": {
        "id": "vAyAnEGqFN-L"
      },
      "source": [
        "# OPTIMAL FACILITY SELECTION & LOCATION PROBLEM\n",
        "\n",
        "Gibe a set of facilities, select a number of them such that be optimal in terms of distance to demands."
      ]
    },
    {
      "cell_type": "code",
      "metadata": {
        "id": "JGuXCUMbEvao",
        "colab": {
          "base_uri": "https://localhost:8080/",
          "height": 1000
        },
        "outputId": "0a87d6c5-5005-422e-8de3-3d3978fced60"
      },
      "source": [
        "import numpy as np\n",
        "import peqnp as cnf\n",
        "import matplotlib.pyplot as plt\n",
        "\n",
        "\n",
        "def plot(I, J=None, X=None, title='Original', obj=0):\n",
        "    plt.figure(figsize=(10, 10))\n",
        "    plt.title('{} : {}'.format(title, obj))\n",
        "    a, b = zip(*I)\n",
        "    plt.scatter(a, b, c='blue', s=50, alpha=0.6)\n",
        "    if J is not None:\n",
        "        if X is not None:\n",
        "            for i in range(m):\n",
        "                for j in range(n):\n",
        "                    if X[i][j]:\n",
        "                        plt.plot([I[i][0], J[j][0]], [I[i][1], J[j][1]], 'g-',alpha=0.2)\n",
        "        a, b = zip(*J)\n",
        "        plt.scatter(a, b, c='red', s=300, alpha=0.8)\n",
        "    else:\n",
        "        a, b = zip(*J)\n",
        "        plt.scatter(a, b, c='red', s=300, alpha=0.8)\n",
        "    plt.show()\n",
        "    plt.close()\n",
        "\n",
        "\n",
        "def oracle(seq):\n",
        "    global O, glb, n\n",
        "    M = np.zeros(shape=(m, n))\n",
        "    for i in range(m):\n",
        "        for j in range(n):\n",
        "            M[i][j] = np.linalg.norm(I[i] - J[seq[j]])\n",
        "    cnf.engine()\n",
        "    X = np.asarray(cnf.matrix(dimensions=(m, n), is_mip=True))\n",
        "    cnf.all_binaries(X.flatten())\n",
        "    assert sum(X.flatten()) == m\n",
        "    assert (X.sum(axis=1) == 1).all()\n",
        "    obj = cnf.minimize(sum(X[i][j] * M[i][j] for i in range(m) for j in range(n)))\n",
        "    O = np.vectorize(int)(X)\n",
        "    return obj\n",
        "\n",
        "m = 50\n",
        "k = 15\n",
        "n = 3\n",
        "I = np.random.sample(size=(m, 2))    \n",
        "J = np.random.sample(size=(k, 2))\n",
        "plot(I, J)\n",
        "seq = cnf.hess_sequence(k, oracle=oracle, fast=False)\n",
        "plot(I, J[seq][:n], O, 'www.peqnp.com', oracle(seq))"
      ],
      "execution_count": 46,
      "outputs": [
        {
          "output_type": "display_data",
          "data": {
            "image/png": "[encoded data removed]",
            "text/plain": [
              "<Figure size 720x720 with 1 Axes>"
            ]
          },
          "metadata": {
            "tags": [],
            "needs_background": "light"
          }
        },
        {
          "output_type": "display_data",
          "data": {
            "image/png": "[encoded data removed]",
            "text/plain": [
              "<Figure size 720x720 with 1 Axes>"
            ]
          },
          "metadata": {
            "tags": [],
            "needs_background": "light"
          }
        }
      ]
    },
    {
      "cell_type": "code",
      "metadata": {
        "id": "qIDZBdGzj1eg",
        "colab": {
          "base_uri": "https://localhost:8080/",
          "height": 1000
        },
        "outputId": "cb2b8df8-e516-4fd4-fb56-730e53e5312a"
      },
      "source": [
        "import numpy as np\n",
        "import peqnp as cnf\n",
        "import matplotlib.pyplot as plt\n",
        "from sklearn.datasets import make_blobs\n",
        "\n",
        "\n",
        "def plot(X=None):\n",
        "    fig, ax = plt.subplots(figsize=(10, 10))\n",
        "    plt.title('PEQNP\\nwww.peqnp.com')\n",
        "    plt.scatter(N[:, 0], N[:, 1], c='b', s=P * 500, alpha=0.5)\n",
        "    for i in range(m):\n",
        "        ax.annotate(str(round(P[i], 2)), (N[:, 0][i], N[:, 1][i]), size=10)\n",
        "    plt.scatter(M[:, 0], M[:, 1], c='r', s=L * 500, alpha=0.7)\n",
        "    for i in range(n):\n",
        "        ax.annotate(str(round(T[i], 2)), (M[:, 0][i] + 0.1, M[:, 1][i] + 0.1))\n",
        "        ax.annotate(str(L[i]), (M[:, 0][i] - 0.1, M[:, 1][i] - 0.1))\n",
        "    if X is not None:\n",
        "        for i in range(m):\n",
        "            for j in range(n):\n",
        "                if X[i][j]:\n",
        "                    plt.plot([N[i][0], M[j][0]], [N[i][1], M[j][1]], 'k--', alpha=0.3)\n",
        "    plt.show()\n",
        "\n",
        "\n",
        "n = 4\n",
        "\n",
        "L = np.random.randint(1, 100, size=n)  # capacity x facilities\n",
        "\n",
        "m = sum(L)\n",
        "\n",
        "N, _ = make_blobs(n_samples=m)  # customers\n",
        "P = np.random.sample(size=m)  # priorities x customers\n",
        "M = np.random.normal(size=(n, 2)) * n  # facilities\n",
        "T = np.random.sample(size=n)  # priorities x facility\n",
        "C = np.zeros(shape=(m, n))\n",
        "for i in range(m):\n",
        "    for j in range(n):\n",
        "        C[i][j] = np.linalg.norm(N[i] - M[j])\n",
        "\n",
        "D = np.zeros(shape=(m, n))\n",
        "for i in range(m):\n",
        "    for j in range(n):\n",
        "        D[i][j] = P[i] - T[j]\n",
        "\n",
        "plot()\n",
        "\n",
        "cnf.engine()\n",
        "X = np.asarray(cnf.matrix(dimensions=(m, n), is_mip=True))\n",
        "cnf.all_binaries(X.flatten())\n",
        "assert (X.sum(axis=0) <= L).all()\n",
        "assert (X.sum(axis=1) == 1).all()\n",
        "print(cnf.minimize((X * C * D).sum()))\n",
        "plot(np.vectorize(int)(X))"
      ],
      "execution_count": 47,
      "outputs": [
        {
          "output_type": "display_data",
          "data": {
            "image/png": "[encoded data removed]",
            "text/plain": [
              "<Figure size 720x720 with 1 Axes>"
            ]
          },
          "metadata": {
            "tags": [],
            "needs_background": "light"
          }
        },
        {
          "output_type": "stream",
          "text": [
            "-355.50210683259314\n"
          ],
          "name": "stdout"
        },
        {
          "output_type": "display_data",
          "data": {
            "image/png": "[encoded data removed]",
            "text/plain": [
              "<Figure size 720x720 with 1 Axes>"
            ]
          },
          "metadata": {
            "tags": [],
            "needs_background": "light"
          }
        }
      ]
    },
    {
      "cell_type": "markdown",
      "metadata": {
        "id": "zaw48EMAikEp"
      },
      "source": [
        "# SUDOKU \n",
        "\n",
        "is a logic-based, combinatorial number-placement puzzle. The objective is to fill a 9×9 grid with digits so that each column, each row, and each of the nine 3×3 subgrids that compose the grid (also called \"boxes\", \"blocks\", or \"regions\") contain all of the digits from 1 to 9. The puzzle setter provides a partially completed grid, which for a well-posed puzzle has a single solution.\n",
        "\n",
        "Completed games are always an example of a Latin square which include an additional constraint on the contents of individual regions. For example, the same single integer may not appear twice in the same row, column, or any of the nine 3×3 subregions of the 9×9 playing board.\n",
        "\n",
        "https://en.wikipedia.org/wiki/Sudoku"
      ]
    },
    {
      "cell_type": "code",
      "metadata": {
        "id": "Xv2NJptiijYi",
        "colab": {
          "base_uri": "https://localhost:8080/"
        },
        "outputId": "35309dc1-72de-4aef-f28b-91b2e5a017aa"
      },
      "source": [
        "import numpy as np\n",
        "import peqnp as cnf\n",
        "\n",
        "\n",
        "def expand_line(line):\n",
        "    return line[0] + line[5:9].join([line[1:5] * (base - 1)] * base) + line[9:13]\n",
        "\n",
        "\n",
        "def show(board):\n",
        "    import string\n",
        "    line0 = expand_line('╔═══╤═══╦═══╗')\n",
        "    line1 = expand_line('║ . │ . ║ . ║')\n",
        "    line2 = expand_line('╟───┼───╫───╢')\n",
        "    line3 = expand_line('╠═══╪═══╬═══╣')\n",
        "    line4 = expand_line('╚═══╧═══╩═══╝')\n",
        "\n",
        "    symbol = ' ' + string.printable.replace(' ', '')\n",
        "    nums = [[''] + [symbol[n] for n in row] for row in board]\n",
        "    print(line0)\n",
        "    for r in range(1, side + 1):\n",
        "        print(\"\".join(n + s for n, s in zip(nums[r - 1], line1.split('.'))))\n",
        "        print([line2, line3, line4][(r % side == 0) + (r % base == 0)])\n",
        "\n",
        "\n",
        "def generate(base):\n",
        "    # pattern for a baseline valid solution\n",
        "    def pattern(r, c):\n",
        "        return (base * (r % base) + r // base + c) % side\n",
        "\n",
        "    # randomize rows, columns and numbers (of valid base pattern)\n",
        "    from random import sample\n",
        "\n",
        "    def shuffle(s):\n",
        "        return sample(s, len(s))\n",
        "\n",
        "    rBase = range(base)\n",
        "    rows = [g * base + r for g in shuffle(rBase) for r in shuffle(rBase)]\n",
        "    cols = [g * base + c for g in shuffle(rBase) for c in shuffle(rBase)]\n",
        "    nums = shuffle(range(1, base * base + 1))\n",
        "\n",
        "    # produce board using randomized baseline pattern\n",
        "    board = [[nums[pattern(r, c)] for c in cols] for r in rows]\n",
        "\n",
        "    squares = side * side\n",
        "    empties = (squares * 3) // 4\n",
        "    for p in map(int, sample(range(squares), empties)):\n",
        "        board[p // side][p % side] = 0\n",
        "\n",
        "    show(board)\n",
        "    return board\n",
        "\n",
        "\n",
        "base = 4\n",
        "side = base * base\n",
        "\n",
        "puzzle = np.asarray(generate(base))\n",
        "\n",
        "cnf.engine(side.bit_length())\n",
        "\n",
        "board = np.asarray(cnf.matrix(dimensions=(side, side)))\n",
        "cnf.apply_single(board.flatten(), lambda x: 1 <= x <= side)\n",
        "\n",
        "for i in range(side):\n",
        "    for j in range(side):\n",
        "        if puzzle[i][j]:\n",
        "            assert board[i][j] == puzzle[i][j]\n",
        "\n",
        "for c, r in zip(board, board.T):\n",
        "    cnf.all_different(c)\n",
        "    cnf.all_different(r)\n",
        "\n",
        "for i in range(base):\n",
        "    for j in range(base):\n",
        "        cnf.all_different(board[i * base:(i + 1) * base, j * base:(j + 1) * base].flatten())\n",
        "\n",
        "if cnf.satisfy(turbo=True, cnf_path='sudoku.cnf'):\n",
        "    show(np.vectorize(int)(board))\n"
      ],
      "execution_count": 48,
      "outputs": [
        {
          "output_type": "stream",
          "text": [
            "╔═══╤═══╤═══╤═══╦═══╤═══╤═══╤═══╦═══╤═══╤═══╤═══╦═══╤═══╤═══╤═══╗\n",
            "║   │ 1 │ 4 │   ║   │   │   │ 2 ║   │   │   │   ║ 5 │ 9 │   │   ║\n",
            "╟───┼───┼───┼───╫───┼───┼───┼───╫───┼───┼───┼───╫───┼───┼───┼───╢\n",
            "║   │   │   │ b ║   │   │ a │   ║   │   │ 2 │ 8 ║   │   │   │   ║\n",
            "╟───┼───┼───┼───╫───┼───┼───┼───╫───┼───┼───┼───╫───┼───┼───┼───╢\n",
            "║ 8 │   │   │ d ║   │   │ f │   ║   │   │   │   ║   │   │   │   ║\n",
            "╟───┼───┼───┼───╫───┼───┼───┼───╫───┼───┼───┼───╫───┼───┼───┼───╢\n",
            "║   │   │ 3 │   ║   │   │ b │ 5 ║   │   │ 4 │   ║ 2 │   │   │   ║\n",
            "╠═══╪═══╪═══╪═══╬═══╪═══╪═══╪═══╬═══╪═══╪═══╪═══╬═══╪═══╪═══╪═══╣\n",
            "║   │ 0 │   │   ║ 4 │   │   │   ║   │ 1 │ d │   ║   │   │   │   ║\n",
            "╟───┼───┼───┼───╫───┼───┼───┼───╫───┼───┼───┼───╫───┼───┼───┼───╢\n",
            "║ 2 │   │   │   ║   │   │   │   ║ 0 │   │   │   ║   │   │   │   ║\n",
            "╟───┼───┼───┼───╫───┼───┼───┼───╫───┼───┼───┼───╫───┼───┼───┼───╢\n",
            "║ 4 │   │ a │   ║   │   │   │ d ║   │   │   │   ║   │   │   │   ║\n",
            "╟───┼───┼───┼───╫───┼───┼───┼───╫───┼───┼───┼───╫───┼───┼───┼───╢\n",
            "║   │   │   │   ║   │   │ 6 │   ║   │ 9 │   │   ║   │ 8 │   │   ║\n",
            "╠═══╪═══╪═══╪═══╬═══╪═══╪═══╪═══╬═══╪═══╪═══╪═══╬═══╪═══╪═══╪═══╣\n",
            "║   │   │   │ 0 ║   │ 2 │ 7 │   ║   │   │   │   ║ 6 │   │   │   ║\n",
            "╟───┼───┼───┼───╫───┼───┼───┼───╫───┼───┼───┼───╫───┼───┼───┼───╢\n",
            "║ b │   │   │   ║   │ 4 │   │ 9 ║   │ 7 │   │   ║   │   │   │   ║\n",
            "╟───┼───┼───┼───╫───┼───┼───┼───╫───┼───┼───┼───╫───┼───┼───┼───╢\n",
            "║ f │   │   │   ║   │   │ c │ 6 ║   │   │ 9 │ a ║ 1 │   │   │   ║\n",
            "╟───┼───┼───┼───╫───┼───┼───┼───╫───┼───┼───┼───╫───┼───┼───┼───╢\n",
            "║   │ 2 │   │   ║   │ 3 │   │   ║   │ c │   │   ║   │   │   │ a ║\n",
            "╠═══╪═══╪═══╪═══╬═══╪═══╪═══╪═══╬═══╪═══╪═══╪═══╬═══╪═══╪═══╪═══╣\n",
            "║ 1 │ d │ 7 │   ║   │   │   │   ║   │   │   │   ║ 0 │ a │ 5 │   ║\n",
            "╟───┼───┼───┼───╫───┼───┼───┼───╫───┼───┼───┼───╫───┼───┼───┼───╢\n",
            "║   │   │   │   ║ 6 │ b │   │   ║   │   │   │   ║   │   │   │   ║\n",
            "╟───┼───┼───┼───╫───┼───┼───┼───╫───┼───┼───┼───╫───┼───┼───┼───╢\n",
            "║   │ b │ c │   ║   │   │   │   ║ d │   │   │   ║   │   │   │   ║\n",
            "╟───┼───┼───┼───╫───┼───┼───┼───╫───┼───┼───┼───╫───┼───┼───┼───╢\n",
            "║   │ a │   │   ║   │ d │   │ 7 ║   │ 2 │ 8 │   ║   │   │   │ 6 ║\n",
            "╚═══╧═══╧═══╧═══╩═══╧═══╧═══╧═══╩═══╧═══╧═══╧═══╩═══╧═══╧═══╧═══╝\n",
            "╔═══╤═══╤═══╤═══╦═══╤═══╤═══╤═══╦═══╤═══╤═══╤═══╦═══╤═══╤═══╤═══╗\n",
            "║ c │ 1 │ 4 │ a ║ 3 │ 6 │ d │ 2 ║ 7 │ 0 │ e │ f ║ 5 │ 9 │ 8 │ b ║\n",
            "╟───┼───┼───┼───╫───┼───┼───┼───╫───┼───┼───┼───╫───┼───┼───┼───╢\n",
            "║ 7 │ f │ e │ b ║ 1 │ c │ a │ 0 ║ 9 │ 5 │ 2 │ 8 ║ 4 │ 6 │ 3 │ d ║\n",
            "╟───┼───┼───┼───╫───┼───┼───┼───╫───┼───┼───┼───╫───┼───┼───┼───╢\n",
            "║ 8 │ 5 │ 2 │ d ║ 7 │ 9 │ f │ 4 ║ 6 │ b │ 1 │ 3 ║ a │ c │ e │ 0 ║\n",
            "╟───┼───┼───┼───╫───┼───┼───┼───╫───┼───┼───┼───╫───┼───┼───┼───╢\n",
            "║ 0 │ 6 │ 3 │ 9 ║ e │ 8 │ b │ 5 ║ c │ a │ 4 │ d ║ 2 │ 1 │ 7 │ f ║\n",
            "╠═══╪═══╪═══╪═══╬═══╪═══╪═══╪═══╬═══╪═══╪═══╪═══╬═══╪═══╪═══╪═══╣\n",
            "║ 9 │ 0 │ 6 │ 8 ║ 4 │ 7 │ 2 │ b ║ f │ 1 │ d │ c ║ 3 │ e │ a │ 5 ║\n",
            "╟───┼───┼───┼───╫───┼───┼───┼───╫───┼───┼───┼───╫───┼───┼───┼───╢\n",
            "║ 2 │ 7 │ b │ 1 ║ 8 │ a │ 3 │ f ║ 0 │ 4 │ 5 │ e ║ 9 │ d │ 6 │ c ║\n",
            "╟───┼───┼───┼───╫───┼───┼───┼───╫───┼───┼───┼───╫───┼───┼───┼───╢\n",
            "║ 4 │ c │ a │ e ║ 5 │ 1 │ 9 │ d ║ 8 │ 3 │ 6 │ 7 ║ f │ 0 │ b │ 2 ║\n",
            "╟───┼───┼───┼───╫───┼───┼───┼───╫───┼───┼───┼───╫───┼───┼───┼───╢\n",
            "║ d │ 3 │ f │ 5 ║ 0 │ e │ 6 │ c ║ a │ 9 │ b │ 2 ║ 7 │ 8 │ 4 │ 1 ║\n",
            "╠═══╪═══╪═══╪═══╬═══╪═══╪═══╪═══╬═══╪═══╪═══╪═══╬═══╪═══╪═══╪═══╣\n",
            "║ a │ 9 │ d │ 0 ║ f │ 2 │ 7 │ e ║ 1 │ 8 │ 3 │ b ║ 6 │ 5 │ c │ 4 ║\n",
            "╟───┼───┼───┼───╫───┼───┼───┼───╫───┼───┼───┼───╫───┼───┼───┼───╢\n",
            "║ b │ e │ 1 │ c ║ a │ 4 │ 8 │ 9 ║ 5 │ 7 │ 0 │ 6 ║ d │ 2 │ f │ 3 ║\n",
            "╟───┼───┼───┼───╫───┼───┼───┼───╫───┼───┼───┼───╫───┼───┼───┼───╢\n",
            "║ f │ 4 │ 8 │ 3 ║ b │ 5 │ c │ 6 ║ 2 │ d │ 9 │ a ║ 1 │ 7 │ 0 │ e ║\n",
            "╟───┼───┼───┼───╫───┼───┼───┼───╫───┼───┼───┼───╫───┼───┼───┼───╢\n",
            "║ 6 │ 2 │ 5 │ 7 ║ d │ 3 │ 0 │ 1 ║ e │ c │ f │ 4 ║ 8 │ b │ 9 │ a ║\n",
            "╠═══╪═══╪═══╪═══╬═══╪═══╪═══╪═══╬═══╪═══╪═══╪═══╬═══╪═══╪═══╪═══╣\n",
            "║ 1 │ d │ 7 │ 4 ║ 2 │ f │ e │ 3 ║ b │ 6 │ c │ 9 ║ 0 │ a │ 5 │ 8 ║\n",
            "╟───┼───┼───┼───╫───┼───┼───┼───╫───┼───┼───┼───╫───┼───┼───┼───╢\n",
            "║ 5 │ 8 │ 0 │ 2 ║ 6 │ b │ 4 │ a ║ 3 │ e │ 7 │ 1 ║ c │ f │ d │ 9 ║\n",
            "╟───┼───┼───┼───╫───┼───┼───┼───╫───┼───┼───┼───╫───┼───┼───┼───╢\n",
            "║ 3 │ b │ c │ 6 ║ 9 │ 0 │ 1 │ 8 ║ d │ f │ a │ 5 ║ e │ 4 │ 2 │ 7 ║\n",
            "╟───┼───┼───┼───╫───┼───┼───┼───╫───┼───┼───┼───╫───┼───┼───┼───╢\n",
            "║ e │ a │ 9 │ f ║ c │ d │ 5 │ 7 ║ 4 │ 2 │ 8 │ 0 ║ b │ 3 │ 1 │ 6 ║\n",
            "╚═══╧═══╧═══╧═══╩═══╧═══╧═══╧═══╩═══╧═══╧═══╧═══╩═══╧═══╧═══╧═══╝\n"
          ],
          "name": "stdout"
        }
      ]
    },
    {
      "cell_type": "markdown",
      "metadata": {
        "id": "rpW3jjf8edtW"
      },
      "source": [
        "# MAXIMUM CONSTRAINED PARTITITON\n",
        "\n",
        "---\n",
        "\n",
        "\n",
        "\n",
        "---\n",
        "\n",
        "\n",
        "\n",
        "http://www.csc.kth.se/~viggo/wwwcompendium/node152.html"
      ]
    },
    {
      "cell_type": "code",
      "metadata": {
        "id": "qyLQYD-je1Jq",
        "colab": {
          "base_uri": "https://localhost:8080/"
        },
        "outputId": "115ed459-c444-44e3-f61e-06c7ed59c64c"
      },
      "source": [
        "import random\n",
        "\n",
        "import peqnp as cnf\n",
        "\n",
        "bits = 10\n",
        "n = 2 * 100\n",
        "\n",
        "D = [random.randint(1, 2 ** bits) for _ in range(n)]\n",
        "\n",
        "print('D   : {}'.format(D))\n",
        "\n",
        "cnf.engine(sum(D).bit_length())\n",
        "\n",
        "bins, sub, com = cnf.subsets(D, n // 2, complement=True)\n",
        "\n",
        "assert sum(sub) == sum(com)\n",
        "\n",
        "if cnf.satisfy(turbo=True):\n",
        "    sub = [D[i] for i in range(n) if bins.binary[i]]\n",
        "    com = [D[i] for i in range(n) if not bins.binary[i]]\n",
        "    print(sum(sub), len(sub), sub)\n",
        "    print(sum(com), len(com), com)\n",
        "    print('\\n')\n",
        "else:\n",
        "    print('Infeasible ...')"
      ],
      "execution_count": 56,
      "outputs": [
        {
          "output_type": "stream",
          "text": [
            "D   : [792, 893, 798, 79, 953, 727, 260, 571, 672, 50, 816, 971, 278, 86, 167, 712, 740, 10, 143, 391, 227, 965, 89, 645, 52, 645, 805, 257, 564, 833, 292, 303, 828, 627, 123, 334, 257, 275, 985, 96, 90, 794, 370, 706, 170, 166, 358, 544, 413, 535, 672, 520, 531, 935, 318, 920, 313, 80, 363, 70, 648, 147, 396, 936, 489, 940, 327, 684, 277, 976, 118, 169, 704, 6, 164, 213, 876, 722, 925, 688, 775, 742, 244, 279, 649, 47, 374, 257, 40, 692, 396, 91, 848, 128, 638, 798, 107, 345, 733, 159, 837, 111, 903, 727, 524, 635, 930, 845, 371, 63, 930, 541, 391, 794, 132, 733, 198, 253, 54, 719, 44, 363, 827, 28, 662, 935, 1016, 976, 165, 106, 824, 538, 57, 197, 165, 684, 735, 202, 966, 68, 316, 588, 76, 2, 772, 692, 322, 301, 329, 358, 326, 497, 673, 49, 990, 816, 91, 464, 493, 577, 673, 349, 488, 722, 463, 336, 862, 949, 745, 283, 792, 28, 333, 12, 799, 353, 305, 40, 52, 663, 8, 79, 97, 230, 303, 314, 778, 55, 858, 894, 682, 508, 283, 746, 444, 820, 150, 266, 836, 719]\n",
            "47112 100 [792, 79, 953, 260, 50, 86, 10, 143, 391, 89, 52, 564, 627, 123, 334, 985, 90, 794, 358, 544, 672, 531, 318, 920, 313, 363, 648, 396, 940, 277, 976, 704, 6, 876, 742, 244, 692, 848, 638, 798, 345, 159, 837, 903, 727, 930, 845, 63, 132, 198, 253, 719, 44, 28, 935, 1016, 106, 824, 57, 735, 966, 588, 2, 772, 301, 326, 497, 49, 990, 91, 493, 488, 949, 745, 283, 792, 333, 12, 799, 353, 305, 40, 52, 663, 8, 79, 230, 303, 778, 55, 858, 894, 508, 283, 746, 444, 820, 150, 266, 719]\n",
            "47112 100 [893, 798, 727, 571, 672, 816, 971, 278, 167, 712, 740, 227, 965, 645, 645, 805, 257, 833, 292, 303, 828, 257, 275, 96, 370, 706, 170, 166, 413, 535, 520, 935, 80, 70, 147, 936, 489, 327, 684, 118, 169, 164, 213, 722, 925, 688, 775, 279, 649, 47, 374, 257, 40, 396, 91, 128, 107, 733, 111, 524, 635, 371, 930, 541, 391, 794, 733, 54, 363, 827, 662, 976, 165, 538, 197, 165, 684, 202, 68, 316, 76, 692, 322, 329, 358, 673, 816, 464, 577, 673, 349, 722, 463, 336, 862, 28, 97, 314, 682, 836]\n",
            "\n",
            "\n"
          ],
          "name": "stdout"
        }
      ]
    },
    {
      "cell_type": "markdown",
      "metadata": {
        "id": "1qFj_5FpCOBt"
      },
      "source": [
        "# PARALLEL OPTIMIZATION - MIN-MAX SUM SUBSET CARDINALITY"
      ]
    },
    {
      "cell_type": "code",
      "metadata": {
        "id": "B7RVCEcjCOBt",
        "colab": {
          "base_uri": "https://localhost:8080/"
        },
        "outputId": "2c8f3792-7124-456e-ce1d-154881f8265f"
      },
      "source": [
        "import random\n",
        "import functools\n",
        "import multiprocessing\n",
        "import peqnp as cnf\n",
        "\n",
        "\n",
        "def ssp(k, t, data):\n",
        "    cnf.engine(t.bit_length())\n",
        "\n",
        "    idx, sub = cnf.subsets(data)\n",
        "\n",
        "    assert sum(sub) == t\n",
        "    assert sum(idx[[i]](0, 1) for i in range(len(data))) == k\n",
        "\n",
        "    if cnf.satisfy(turbo=True):\n",
        "        return k, idx\n",
        "    else:\n",
        "        return 0, 0\n",
        "\n",
        "\n",
        "b = 16\n",
        "n = 32\n",
        "\n",
        "data = [random.randint(1, 2 ** b) for _ in range(n)]\n",
        "t = sum(random.sample(data, k=n // 2))\n",
        "f = functools.partial(ssp, t=t, data=data)\n",
        "\n",
        "print(t, data)\n",
        "\n",
        "with multiprocessing.Pool(multiprocessing.cpu_count()) as pool:\n",
        "    for k, idx in pool.map(f, range(n)):\n",
        "        if k == 0 or idx == 0:\n",
        "            continue\n",
        "        sub = [data[i] for i in range(n) if idx.binary[i]]\n",
        "        print(k, t, sum(sub), sub)"
      ],
      "execution_count": 50,
      "outputs": [
        {
          "output_type": "stream",
          "text": [
            "432759 [37630, 43782, 7279, 4710, 63089, 54771, 18469, 64466, 10699, 19841, 46239, 53889, 4612, 61117, 50684, 60147, 6165, 13302, 61721, 19841, 2652, 4256, 17394, 42456, 13801, 45439, 25556, 50255, 64268, 14549, 7886, 61236]\n",
            "9 432759 432759 [43782, 63089, 46239, 61117, 50684, 45439, 50255, 64268, 7886]\n",
            "10 432759 432759 [43782, 63089, 61117, 13302, 61721, 4256, 45439, 64268, 14549, 61236]\n",
            "11 432759 432759 [43782, 18469, 64466, 10699, 19841, 53889, 61117, 50684, 61721, 2652, 45439]\n",
            "12 432759 432759 [37630, 43782, 7279, 63089, 19841, 53889, 4612, 61117, 50684, 19841, 45439, 25556]\n",
            "13 432759 432759 [43782, 7279, 4710, 54771, 18469, 64466, 4612, 61117, 19841, 2652, 25556, 64268, 61236]\n",
            "14 432759 432759 [37630, 43782, 7279, 4710, 63089, 61117, 50684, 2652, 4256, 17394, 42456, 25556, 64268, 7886]\n",
            "15 432759 432759 [37630, 18469, 64466, 10699, 19841, 46239, 53889, 4612, 61117, 6165, 2652, 17394, 13801, 14549, 61236]\n",
            "16 432759 432759 [37630, 43782, 7279, 4710, 18469, 10699, 19841, 60147, 6165, 19841, 42456, 13801, 64268, 14549, 7886, 61236]\n",
            "17 432759 432759 [37630, 43782, 7279, 4710, 63089, 54771, 18469, 46239, 13302, 19841, 2652, 4256, 17394, 13801, 45439, 25556, 14549]\n",
            "18 432759 432759 [37630, 18469, 10699, 19841, 53889, 4612, 50684, 6165, 13302, 2652, 4256, 17394, 13801, 45439, 50255, 14549, 7886, 61236]\n",
            "19 432759 432759 [37630, 4710, 18469, 64466, 10699, 19841, 4612, 60147, 6165, 13302, 61721, 19841, 2652, 4256, 42456, 13801, 25556, 14549, 7886]\n",
            "20 432759 432759 [37630, 7279, 4710, 18469, 10699, 19841, 46239, 53889, 4612, 60147, 6165, 13302, 19841, 2652, 4256, 13801, 25556, 14549, 7886, 61236]\n"
          ],
          "name": "stdout"
        }
      ]
    },
    {
      "cell_type": "markdown",
      "metadata": {
        "id": "GnXOpU0STZdW"
      },
      "source": [
        " # DISTIBUTED OPTIMIZATION - MIN-MAX SUM SUBSET CARDINALITY"
      ]
    },
    {
      "cell_type": "code",
      "metadata": {
        "id": "UcVxxaUiEIPM",
        "colab": {
          "base_uri": "https://localhost:8080/"
        },
        "outputId": "65fefa95-7501-47b7-9eeb-cc57bacbe3d4"
      },
      "source": [
        "!pip install pyspark\n",
        "import random\n",
        "import functools\n",
        "import peqnp as cnf\n",
        "from pyspark.sql import SparkSession\n",
        "\n",
        "\n",
        "def ssp(k, t, data):\n",
        "    cnf.engine(t.bit_length())\n",
        "\n",
        "    idx, sub = cnf.subsets(data)\n",
        "\n",
        "    assert sum(sub) == t\n",
        "    assert sum(idx[[i]](0, 1) for i in range(len(data))) == k\n",
        "\n",
        "    if cnf.satisfy(turbo=True):\n",
        "        return k, idx\n",
        "    else:\n",
        "        return 0, 0\n",
        "\n",
        "\n",
        "if __name__ == '__main__':\n",
        "    b = 16\n",
        "    n = 32\n",
        "\n",
        "    data = [random.randint(1, 2 ** b) for _ in range(n)]\n",
        "    t = sum(random.sample(data, k=n // 2))\n",
        "    f = functools.partial(ssp, t=t, data=data)\n",
        "\n",
        "    print(t, data)\n",
        "\n",
        "    spark = SparkSession.builder.appName(\"PEQNP\").getOrCreate()\n",
        "\n",
        "    partitions = 4\n",
        "\n",
        "    for k, idx in spark.sparkContext.parallelize(range(n), partitions).map(f).collect():\n",
        "        if k == 0 or idx == 0:\n",
        "            continue\n",
        "        sub = [data[i] for i in range(n) if idx.binary[i]]\n",
        "        print(k, t, sum(sub), sub)\n"
      ],
      "execution_count": 51,
      "outputs": [
        {
          "output_type": "stream",
          "text": [
            "Requirement already satisfied: pyspark in /usr/local/lib/python3.7/dist-packages (3.1.1)\n",
            "Requirement already satisfied: py4j==0.10.9 in /usr/local/lib/python3.7/dist-packages (from pyspark) (0.10.9)\n",
            "468555 [58272, 48704, 24967, 59700, 46735, 9875, 5852, 5241, 63723, 33474, 3494, 28309, 30102, 12253, 55065, 40018, 14870, 19096, 55833, 55320, 11015, 13732, 54479, 8248, 13004, 54417, 20468, 4025, 58553, 56504, 54660, 3950]\n",
            "10 468555 468555 [48704, 63723, 55065, 19096, 55833, 54479, 54417, 4025, 58553, 54660]\n",
            "11 468555 468555 [59700, 46735, 5852, 63723, 28309, 30102, 12253, 55065, 55833, 54479, 56504]\n",
            "12 468555 468555 [58272, 48704, 59700, 9875, 63723, 33474, 14870, 55833, 11015, 54479, 54660, 3950]\n",
            "13 468555 468555 [24967, 46735, 5852, 5241, 63723, 30102, 12253, 40018, 14870, 55320, 54417, 58553, 56504]\n",
            "14 468555 468555 [48704, 24967, 5852, 63723, 28309, 55065, 40018, 55833, 11015, 13732, 54479, 8248, 54660, 3950]\n",
            "15 468555 468555 [58272, 9875, 5852, 5241, 33474, 30102, 14870, 55833, 55320, 11015, 54479, 8248, 13004, 54417, 58553]\n",
            "16 468555 468555 [59700, 9875, 5241, 63723, 33474, 3494, 12253, 55065, 19096, 55320, 13732, 54479, 20468, 4025, 54660, 3950]\n",
            "17 468555 468555 [59700, 5852, 5241, 63723, 28309, 12253, 55065, 40018, 14870, 11015, 13732, 54479, 8248, 13004, 20468, 4025, 58553]\n",
            "18 468555 468555 [5852, 5241, 33474, 3494, 28309, 30102, 14870, 55833, 55320, 11015, 13732, 54479, 8248, 13004, 20468, 56504, 54660, 3950]\n",
            "19 468555 468555 [48704, 24967, 46735, 5852, 33474, 3494, 30102, 12253, 14870, 19096, 13732, 8248, 13004, 54417, 20468, 4025, 56504, 54660, 3950]\n",
            "20 468555 468555 [48704, 24967, 59700, 46735, 9875, 5852, 5241, 33474, 3494, 28309, 30102, 40018, 14870, 11015, 8248, 13004, 20468, 4025, 56504, 3950]\n"
          ],
          "name": "stdout"
        }
      ]
    },
    {
      "cell_type": "markdown",
      "metadata": {
        "id": "6YJtctLJwDqo"
      },
      "source": [
        "# GRIEWANK FUNCTION\n",
        "\n",
        "Ref: https://www.sfu.ca/~ssurjano/griewank.html"
      ]
    },
    {
      "cell_type": "code",
      "metadata": {
        "id": "cmVv0aqxTm1M",
        "colab": {
          "base_uri": "https://localhost:8080/"
        },
        "outputId": "13ca6f29-d383-4234-cf15-bc953b2c0a0a"
      },
      "source": [
        "import numpy\n",
        "import peqnp as cnf\n",
        "\n",
        "class GriewankFunctionHESS:\n",
        "\n",
        "\tdef __init__(self, a, b):\n",
        "\t\tself.a = a\n",
        "\t\tself.b = b\n",
        "\t\n",
        "\tdef oracle(self, xs):\n",
        "\t\treturn numpy.sum([(x ** 2) / 4000 for x in xs]) - numpy.prod([numpy.cos(x / numpy.sqrt(i + 1)) for i, x in enumerate(xs)]) + 1\n",
        "\n",
        "\tdef f(self, i, j, xs):\n",
        "\t\txs[i], xs[j] = self.a + xs[i] / self.b, self.a + xs[j] / self.b\n",
        "\t\txs[i:j] = xs[i:j][::-1]\n",
        "\n",
        "\tdef g(self, i, j, xs):\n",
        "\t\txs[i:j] = xs[i:j][::-1]\n",
        "\t\txs[i], xs[j] = self.b * xs[i] - self.a, self.b * xs[j] - self.a\n",
        "\t\t\n",
        "\tdef log(self, top, opt):\n",
        "\t\tprint(top)\n",
        "\n",
        "\tdef run(self, n):\n",
        "\t\txs = numpy.random.randint(-600, 600, size=n)\n",
        "\t\treturn cnf.hess_abstract(xs, self.oracle, self.f, self.g, self.log, target=0)\n",
        "\t\n",
        "n = 100\n",
        "gf = GriewankFunctionHESS(n ** -2, n ** 2)\n",
        "print(gf.run(n))"
      ],
      "execution_count": 52,
      "outputs": [
        {
          "output_type": "stream",
          "text": [
            "2643.17575\n",
            "2607.4547500000003\n",
            "2540.6325\n",
            "2540.42225\n",
            "2490.2462499999997\n",
            "2487.276\n",
            "2466.2509999999997\n",
            "2456.842\n",
            "2452.2857500000005\n",
            "2440.7295\n",
            "2404.43925\n",
            "2362.82325\n",
            "2333.23925\n",
            "2329.9330000000004\n",
            "2329.644\n",
            "2313.768\n",
            "2263.81575\n",
            "2263.1655\n",
            "2209.10925\n",
            "2208.953\n",
            "2137.664\n",
            "2080.543\n",
            "2063.382\n",
            "2043.6417499999998\n",
            "1962.7014999999997\n",
            "1927.5452499999997\n",
            "1925.8642499999996\n",
            "1919.7019999999995\n",
            "1918.0617499999996\n",
            "1880.4257499999997\n",
            "1837.5767499999997\n",
            "1807.4744999999998\n",
            "1765.24425\n",
            "1747.55525\n",
            "1740.15925\n",
            "1700.359\n",
            "1688.9099999999999\n",
            "1664.1037499999998\n",
            "1605.2975\n",
            "1601.0724999999998\n",
            "1552.2314999999996\n",
            "1514.2064999999998\n",
            "1502.1064999999996\n",
            "1426.2062499999997\n",
            "1414.9702499999996\n",
            "1408.6499999999999\n",
            "1394.0089999999998\n",
            "1371.2079999999999\n",
            "1369.04575\n",
            "1354.16175\n",
            "1351.7115\n",
            "1324.8155\n",
            "1322.3652499999998\n",
            "1301.195\n",
            "1247.6027499999998\n",
            "1244.57775\n",
            "1218.6567499999999\n",
            "1128.6567499999999\n",
            "1100.2645\n",
            "1098.1942499999998\n",
            "1068.092\n",
            "1046.483\n",
            "1012.994\n",
            "1009.8580000000001\n",
            "975.81775\n",
            "971.5275\n",
            "888.2952500000002\n",
            "850.8529999999998\n",
            "824.2839999999921\n",
            "754.851749999992\n",
            "754.4907500000402\n",
            "704.9844999999299\n",
            "699.5084999983804\n",
            "695.7262500100861\n",
            "689.485250012265\n",
            "614.6830000123111\n",
            "590.6579999828471\n",
            "586.1690000199445\n",
            "528.0879999706976\n",
            "450.8039999626406\n",
            "387.802999947916\n",
            "381.2419999092309\n",
            "367.08099983428014\n",
            "365.9249996063881\n",
            "365.4627581383197\n",
            "365.2524918608316\n",
            "364.91026199772574\n",
            "364.2080148847829\n",
            "323.8070747697192\n",
            "259.5446751833612\n",
            "249.8428269760019\n",
            "229.81927046741856\n",
            "229.76735435335488\n",
            "143.3009623153211\n",
            "113.76227686139029\n",
            "61.94637398530175\n",
            "61.616639358300766\n",
            "54.49102533132276\n",
            "46.181615132165824\n",
            "0.0\n",
            "[0 0 0 0 0 0 0 0 0 0 0 0 0 0 0 0 0 0 0 0 0 0 0 0 0 0 0 0 0 0 0 0 0 0 0 0 0\n",
            " 0 0 0 0 0 0 0 0 0 0 0 0 0 0 0 0 0 0 0 0 0 0 0 0 0 0 0 0 0 0 0 0 0 0 0 0 0\n",
            " 0 0 0 0 0 0 0 0 0 0 0 0 0 0 0 0 0 0 0 0 0 0 0 0 0 0]\n"
          ],
          "name": "stdout"
        }
      ]
    },
    {
      "cell_type": "code",
      "metadata": {
        "id": "3_GJ8gx81Ba8"
      },
      "source": [
        ""
      ],
      "execution_count": 52,
      "outputs": []
    }
  ]
}