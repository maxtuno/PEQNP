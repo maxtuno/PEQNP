{
  "nbformat": 4,
  "nbformat_minor": 0,
  "metadata": {
    "language_info": {
      "codemirror_mode": {
        "name": "ipython",
        "version": 3
      },
      "file_extension": ".py",
      "mimetype": "text/x-python",
      "name": "python",
      "nbconvert_exporter": "python",
      "pygments_lexer": "ipython3",
      "version": "3.9.2-final"
    },
    "orig_nbformat": 2,
    "kernelspec": {
      "name": "python392jvsc74a57bd09a50724fcd75842d5e84afe3743b9cbaf343ae213a5db5cb5671c89410b1c802",
      "display_name": "Python 3.9.2 64-bit ('venv': venv)",
      "language": "python"
    },
    "colab": {
      "name": "tensors.ipynb",
      "provenance": []
    }
  },
  "cells": [
    {
      "cell_type": "markdown",
      "metadata": {
        "id": "RUYIo1bv6amv"
      },
      "source": [
        "# TENSORS"
      ]
    },
    {
      "cell_type": "markdown",
      "metadata": {
        "id": "V8w-OrTv6am2"
      },
      "source": [
        "# Definition:\n",
        "## A PEQNP tensor of first order is an $x \\in \\mathbb{N}_{bits}$ i.e. $x = \\Sigma^{bits}_{i=0} \\lambda_{i} 2^{i}$ with $x \\lt 2^{bits} - 1$ such that $\\lambda_{i}: \\mathbb{N}^{0}_{bits} \\times\\mathbb{N}^{1}_{bits} \\rightarrow \\mathbb{N}_{bits}^{0 \\vert 1}$.\n",
        "\n",
        "Note: A general tensor is an integer wich bits are lambda functions that get a value or other if the bit is 0 or 1, then a multimdimensional tensor is an integer with a multidimensional array of this lambda functions.\n",
        "\n",
        "Remarks: How a tensor is an integer their properties are conservated, you can operate them with usual operations supported by PEQNP."
      ]
    },
    {
      "cell_type": "markdown",
      "metadata": {
        "id": "2hQyVGtg6am3"
      },
      "source": [
        "## Example: Sum Subset Problem with a Tensor\n",
        "\n",
        "#### Note: \n",
        "    x[[i, j, k]](a, b) is the universal access to this lambda functions."
      ]
    },
    {
      "cell_type": "code",
      "metadata": {
        "id": "9vpqAiFr6am4",
        "outputId": "ab41b122-2544-4150-adbe-fdc1bebd4001"
      },
      "source": [
        "import peqnp as pn \n",
        "\n",
        "t = 12\n",
        "data = [2, 3, 5, 7, 11]\n",
        "\n",
        "pn.engine(sum(data).bit_length())\n",
        "\n",
        "x = pn.tensor(dimensions=len(data))\n",
        "\n",
        "assert sum([x[[i]](0, data[i]) for i in range(len(data))]) == t\n",
        "\n",
        "while pn.satisfy():\n",
        "    print([data[i] for i in range(len(data)) if x.binary[i]])"
      ],
      "execution_count": null,
      "outputs": [
        {
          "output_type": "stream",
          "text": [
            "[5, 7]\n",
            "[2, 3, 7]\n"
          ],
          "name": "stdout"
        }
      ]
    },
    {
      "cell_type": "code",
      "metadata": {
        "tags": [],
        "id": "8Djkb15o6am5",
        "outputId": "04972857-ace2-46e1-8938-e75fb8185f98"
      },
      "source": [
        "import peqnp as pn\n",
        "\n",
        "m, n = 2, 3\n",
        "\n",
        "pn.engine(4)\n",
        "\n",
        "x = pn.tensor(dimensions=(n, m))\n",
        "\n",
        "while pn.satisfy():\n",
        "    print(x, x.binary)"
      ],
      "execution_count": null,
      "outputs": [
        {
          "output_type": "stream",
          "text": [
            "0 [[False, False], [False, False], [False, False]]\n",
            "4 [[False, False], [True, False], [False, False]]\n",
            "12 [[False, False], [True, True], [False, False]]\n",
            "28 [[False, False], [True, True], [True, False]]\n",
            "60 [[False, False], [True, True], [True, True]]\n",
            "61 [[True, False], [True, True], [True, True]]\n",
            "57 [[True, False], [False, True], [True, True]]\n",
            "59 [[True, True], [False, True], [True, True]]\n",
            "41 [[True, False], [False, True], [False, True]]\n",
            "43 [[True, True], [False, True], [False, True]]\n",
            "40 [[False, False], [False, True], [False, True]]\n",
            "42 [[False, True], [False, True], [False, True]]\n",
            "32 [[False, False], [False, False], [False, True]]\n",
            "34 [[False, True], [False, False], [False, True]]\n",
            "2 [[False, True], [False, False], [False, False]]\n",
            "1 [[True, False], [False, False], [False, False]]\n",
            "3 [[True, True], [False, False], [False, False]]\n",
            "9 [[True, False], [False, True], [False, False]]\n",
            "11 [[True, True], [False, True], [False, False]]\n",
            "8 [[False, False], [False, True], [False, False]]\n",
            "10 [[False, True], [False, True], [False, False]]\n",
            "14 [[False, True], [True, True], [False, False]]\n",
            "46 [[False, True], [True, True], [False, True]]\n",
            "44 [[False, False], [True, True], [False, True]]\n",
            "45 [[True, False], [True, True], [False, True]]\n",
            "47 [[True, True], [True, True], [False, True]]\n",
            "15 [[True, True], [True, True], [False, False]]\n",
            "13 [[True, False], [True, True], [False, False]]\n",
            "29 [[True, False], [True, True], [True, False]]\n",
            "31 [[True, True], [True, True], [True, False]]\n",
            "30 [[False, True], [True, True], [True, False]]\n",
            "62 [[False, True], [True, True], [True, True]]\n",
            "52 [[False, False], [True, False], [True, True]]\n",
            "54 [[False, True], [True, False], [True, True]]\n",
            "22 [[False, True], [True, False], [True, False]]\n",
            "20 [[False, False], [True, False], [True, False]]\n",
            "21 [[True, False], [True, False], [True, False]]\n",
            "23 [[True, True], [True, False], [True, False]]\n",
            "55 [[True, True], [True, False], [True, True]]\n",
            "53 [[True, False], [True, False], [True, True]]\n",
            "37 [[True, False], [True, False], [False, True]]\n",
            "39 [[True, True], [True, False], [False, True]]\n",
            "7 [[True, True], [True, False], [False, False]]\n",
            "5 [[True, False], [True, False], [False, False]]\n",
            "6 [[False, True], [True, False], [False, False]]\n",
            "38 [[False, True], [True, False], [False, True]]\n",
            "36 [[False, False], [True, False], [False, True]]\n",
            "58 [[False, True], [False, True], [True, True]]\n",
            "56 [[False, False], [False, True], [True, True]]\n",
            "24 [[False, False], [False, True], [True, False]]\n",
            "26 [[False, True], [False, True], [True, False]]\n",
            "18 [[False, True], [False, False], [True, False]]\n",
            "16 [[False, False], [False, False], [True, False]]\n",
            "48 [[False, False], [False, False], [True, True]]\n",
            "50 [[False, True], [False, False], [True, True]]\n",
            "51 [[True, True], [False, False], [True, True]]\n",
            "19 [[True, True], [False, False], [True, False]]\n",
            "27 [[True, True], [False, True], [True, False]]\n",
            "35 [[True, True], [False, False], [False, True]]\n",
            "33 [[True, False], [False, False], [False, True]]\n",
            "49 [[True, False], [False, False], [True, True]]\n",
            "17 [[True, False], [False, False], [True, False]]\n",
            "25 [[True, False], [False, True], [True, False]]\n"
          ],
          "name": "stdout"
        }
      ]
    },
    {
      "cell_type": "code",
      "metadata": {
        "tags": [],
        "id": "zD9IqzJd6am5",
        "outputId": "66646d8b-218e-4a8d-aa1f-f78710848f9f"
      },
      "source": [
        "import peqnp as pn\n",
        "\n",
        "m, n = 2, 3\n",
        "\n",
        "pn.engine(m * n) # Note the number of bits is sufficent for that x and y operate.\n",
        "\n",
        "x = pn.tensor(dimensions=(n, m))\n",
        "y = pn.tensor(dimensions=(n, m))\n",
        "\n",
        "for i in range(n):\n",
        "    for j in range(m):\n",
        "        x[[i, j]](0, 1) != y[[i, j]](0, 1)\n",
        "\n",
        "assert x < y\n",
        "\n",
        "while pn.satisfy():\n",
        "    print(x, y, x.binary, y.binary)"
      ],
      "execution_count": null,
      "outputs": [
        {
          "output_type": "stream",
          "text": [
            "4 59 [[False, False], [True, False], [False, False]] [[True, True], [False, True], [True, True]]\n",
            "5 58 [[True, False], [True, False], [False, False]] [[False, True], [False, True], [True, True]]\n",
            "13 50 [[True, False], [True, True], [False, False]] [[False, True], [False, False], [True, True]]\n",
            "15 48 [[True, True], [True, True], [False, False]] [[False, False], [False, False], [True, True]]\n",
            "7 56 [[True, True], [True, False], [False, False]] [[False, False], [False, True], [True, True]]\n",
            "6 57 [[False, True], [True, False], [False, False]] [[True, False], [False, True], [True, True]]\n",
            "22 41 [[False, True], [True, False], [True, False]] [[True, False], [False, True], [False, True]]\n",
            "20 43 [[False, False], [True, False], [True, False]] [[True, True], [False, True], [False, True]]\n",
            "21 42 [[True, False], [True, False], [True, False]] [[False, True], [False, True], [False, True]]\n",
            "23 40 [[True, True], [True, False], [True, False]] [[False, False], [False, True], [False, True]]\n",
            "19 44 [[True, True], [False, False], [True, False]] [[False, False], [True, True], [False, True]]\n",
            "18 45 [[False, True], [False, False], [True, False]] [[True, False], [True, True], [False, True]]\n",
            "16 47 [[False, False], [False, False], [True, False]] [[True, True], [True, True], [False, True]]\n",
            "2 61 [[False, True], [False, False], [False, False]] [[True, False], [True, True], [True, True]]\n",
            "17 46 [[True, False], [False, False], [True, False]] [[False, True], [True, True], [False, True]]\n",
            "1 62 [[True, False], [False, False], [False, False]] [[False, True], [True, True], [True, True]]\n",
            "3 60 [[True, True], [False, False], [False, False]] [[False, False], [True, True], [True, True]]\n",
            "31 32 [[True, True], [True, True], [True, False]] [[False, False], [False, False], [False, True]]\n",
            "29 34 [[True, False], [True, True], [True, False]] [[False, True], [False, False], [False, True]]\n",
            "30 33 [[False, True], [True, True], [True, False]] [[True, False], [False, False], [False, True]]\n",
            "28 35 [[False, False], [True, True], [True, False]] [[True, True], [False, False], [False, True]]\n",
            "14 49 [[False, True], [True, True], [False, False]] [[True, False], [False, False], [True, True]]\n",
            "12 51 [[False, False], [True, True], [False, False]] [[True, True], [False, False], [True, True]]\n",
            "25 38 [[True, False], [False, True], [True, False]] [[False, True], [True, False], [False, True]]\n",
            "27 36 [[True, True], [False, True], [True, False]] [[False, False], [True, False], [False, True]]\n",
            "26 37 [[False, True], [False, True], [True, False]] [[True, False], [True, False], [False, True]]\n",
            "24 39 [[False, False], [False, True], [True, False]] [[True, True], [True, False], [False, True]]\n",
            "8 55 [[False, False], [False, True], [False, False]] [[True, True], [True, False], [True, True]]\n",
            "10 53 [[False, True], [False, True], [False, False]] [[True, False], [True, False], [True, True]]\n",
            "11 52 [[True, True], [False, True], [False, False]] [[False, False], [True, False], [True, True]]\n",
            "9 54 [[True, False], [False, True], [False, False]] [[False, True], [True, False], [True, True]]\n"
          ],
          "name": "stdout"
        }
      ]
    },
    {
      "cell_type": "code",
      "metadata": {
        "id": "6zI3Ik2e6am6"
      },
      "source": [
        ""
      ],
      "execution_count": null,
      "outputs": []
    },
    {
      "cell_type": "code",
      "metadata": {
        "id": "Jqe0Xnpr6am6"
      },
      "source": [
        ""
      ],
      "execution_count": null,
      "outputs": []
    }
  ]
}