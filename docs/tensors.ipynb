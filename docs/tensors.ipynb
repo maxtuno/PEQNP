{
 "metadata": {
  "language_info": {
   "codemirror_mode": {
    "name": "ipython",
    "version": 3
   },
   "file_extension": ".py",
   "mimetype": "text/x-python",
   "name": "python",
   "nbconvert_exporter": "python",
   "pygments_lexer": "ipython3",
   "version": "3.9.2-final"
  },
  "orig_nbformat": 2,
  "kernelspec": {
   "name": "python392jvsc74a57bd09a50724fcd75842d5e84afe3743b9cbaf343ae213a5db5cb5671c89410b1c802",
   "display_name": "Python 3.9.2 64-bit ('venv': venv)",
   "language": "python"
  }
 },
 "nbformat": 4,
 "nbformat_minor": 2,
 "cells": [
  {
   "source": [
    "# TENSORS"
   ],
   "cell_type": "markdown",
   "metadata": {}
  },
  {
   "source": [
    "# Definition:\n",
    "## A PEQNP tensor of first order is an $x \\in \\mathbb{N}_{bits}$ i.e. $x = \\Sigma^{bits}_{i=0} \\lambda_{i} 2^{i}$ with $x \\lt 2^{bits} - 1$ such that $\\lambda_{i}: \\mathbb{N}^{0}_{bits} \\times\\mathbb{N}^{1}_{bits} \\rightarrow \\mathbb{N}_{bits}^{0 \\vert 1}$.\n",
    "\n",
    "Note: A general tensor is an integer wich bits are lambda functions that get a value or other if the bit is 0 or 1, then a multimdimensional tenror is an integer with a multidimensional array of this lambda functions.\n",
    "\n",
    "Remarks: How a tensor is an integer their properties are conservated, you can operate them with usual operations supported by PEQNP."
   ],
   "cell_type": "markdown",
   "metadata": {}
  },
  {
   "source": [
    "## Example: Sum Subset Problem with a Tensor\n",
    "\n",
    "#### Note: \n",
    "    x[[i, j, k]](a, b) is the universal access to this lambda functions."
   ],
   "cell_type": "markdown",
   "metadata": {}
  },
  {
   "cell_type": "code",
   "execution_count": 8,
   "metadata": {},
   "outputs": [
    {
     "output_type": "stream",
     "name": "stdout",
     "text": [
      "[5, 7]\n[2, 3, 7]\n"
     ]
    }
   ],
   "source": [
    "import peqnp as pn \n",
    "\n",
    "t = 12\n",
    "data = [2, 3, 5, 7, 11]\n",
    "\n",
    "pn.engine(sum(data).bit_length())\n",
    "\n",
    "x = pn.tensor(dimensions=len(data))\n",
    "\n",
    "assert sum([x[[i]](0, data[i]) for i in range(len(data))]) == t\n",
    "\n",
    "while pn.satisfy():\n",
    "    print([data[i] for i in range(len(data)) if x.binary[i]])"
   ]
  },
  {
   "source": [
    "import peqnp as pn\n",
    "\n",
    "m, n = 2, 3\n",
    "\n",
    "pn.engine(4)\n",
    "\n",
    "x = pn.tensor(dimensions=(n, m))\n",
    "\n",
    "while pn.satisfy():\n",
    "    print(x, x.binary)"
   ],
   "cell_type": "code",
   "metadata": {
    "tags": []
   },
   "execution_count": 12,
   "outputs": [
    {
     "output_type": "stream",
     "name": "stdout",
     "text": [
      "0 [[False, False], [False, False], [False, False]]\n4 [[False, False], [True, False], [False, False]]\n12 [[False, False], [True, True], [False, False]]\n28 [[False, False], [True, True], [True, False]]\n60 [[False, False], [True, True], [True, True]]\n61 [[True, False], [True, True], [True, True]]\n57 [[True, False], [False, True], [True, True]]\n59 [[True, True], [False, True], [True, True]]\n41 [[True, False], [False, True], [False, True]]\n43 [[True, True], [False, True], [False, True]]\n40 [[False, False], [False, True], [False, True]]\n42 [[False, True], [False, True], [False, True]]\n32 [[False, False], [False, False], [False, True]]\n34 [[False, True], [False, False], [False, True]]\n2 [[False, True], [False, False], [False, False]]\n1 [[True, False], [False, False], [False, False]]\n3 [[True, True], [False, False], [False, False]]\n9 [[True, False], [False, True], [False, False]]\n11 [[True, True], [False, True], [False, False]]\n8 [[False, False], [False, True], [False, False]]\n10 [[False, True], [False, True], [False, False]]\n14 [[False, True], [True, True], [False, False]]\n46 [[False, True], [True, True], [False, True]]\n44 [[False, False], [True, True], [False, True]]\n45 [[True, False], [True, True], [False, True]]\n47 [[True, True], [True, True], [False, True]]\n15 [[True, True], [True, True], [False, False]]\n13 [[True, False], [True, True], [False, False]]\n29 [[True, False], [True, True], [True, False]]\n31 [[True, True], [True, True], [True, False]]\n30 [[False, True], [True, True], [True, False]]\n62 [[False, True], [True, True], [True, True]]\n52 [[False, False], [True, False], [True, True]]\n54 [[False, True], [True, False], [True, True]]\n22 [[False, True], [True, False], [True, False]]\n20 [[False, False], [True, False], [True, False]]\n21 [[True, False], [True, False], [True, False]]\n23 [[True, True], [True, False], [True, False]]\n55 [[True, True], [True, False], [True, True]]\n53 [[True, False], [True, False], [True, True]]\n37 [[True, False], [True, False], [False, True]]\n39 [[True, True], [True, False], [False, True]]\n7 [[True, True], [True, False], [False, False]]\n5 [[True, False], [True, False], [False, False]]\n6 [[False, True], [True, False], [False, False]]\n38 [[False, True], [True, False], [False, True]]\n36 [[False, False], [True, False], [False, True]]\n58 [[False, True], [False, True], [True, True]]\n56 [[False, False], [False, True], [True, True]]\n24 [[False, False], [False, True], [True, False]]\n26 [[False, True], [False, True], [True, False]]\n18 [[False, True], [False, False], [True, False]]\n16 [[False, False], [False, False], [True, False]]\n48 [[False, False], [False, False], [True, True]]\n50 [[False, True], [False, False], [True, True]]\n51 [[True, True], [False, False], [True, True]]\n19 [[True, True], [False, False], [True, False]]\n27 [[True, True], [False, True], [True, False]]\n35 [[True, True], [False, False], [False, True]]\n33 [[True, False], [False, False], [False, True]]\n49 [[True, False], [False, False], [True, True]]\n17 [[True, False], [False, False], [True, False]]\n25 [[True, False], [False, True], [True, False]]\n"
     ]
    }
   ]
  },
  {
   "source": [
    "import peqnp as pn\n",
    "\n",
    "m, n = 2, 3\n",
    "\n",
    "pn.engine(m * n) # Note the number of bits is sufficent for that x and y operate.\n",
    "\n",
    "x = pn.tensor(dimensions=(n, m))\n",
    "y = pn.tensor(dimensions=(n, m))\n",
    "\n",
    "for i in range(n):\n",
    "    for j in range(m):\n",
    "        x[[i, j]](0, 1) != y[[i, j]](0, 1)\n",
    "\n",
    "assert x < y\n",
    "\n",
    "while pn.satisfy():\n",
    "    print(x, y, x.binary, y.binary)"
   ],
   "cell_type": "code",
   "metadata": {
    "tags": []
   },
   "execution_count": 40,
   "outputs": [
    {
     "output_type": "stream",
     "name": "stdout",
     "text": [
      "4 59 [[False, False], [True, False], [False, False]] [[True, True], [False, True], [True, True]]\n5 58 [[True, False], [True, False], [False, False]] [[False, True], [False, True], [True, True]]\n13 50 [[True, False], [True, True], [False, False]] [[False, True], [False, False], [True, True]]\n15 48 [[True, True], [True, True], [False, False]] [[False, False], [False, False], [True, True]]\n7 56 [[True, True], [True, False], [False, False]] [[False, False], [False, True], [True, True]]\n6 57 [[False, True], [True, False], [False, False]] [[True, False], [False, True], [True, True]]\n22 41 [[False, True], [True, False], [True, False]] [[True, False], [False, True], [False, True]]\n20 43 [[False, False], [True, False], [True, False]] [[True, True], [False, True], [False, True]]\n21 42 [[True, False], [True, False], [True, False]] [[False, True], [False, True], [False, True]]\n23 40 [[True, True], [True, False], [True, False]] [[False, False], [False, True], [False, True]]\n19 44 [[True, True], [False, False], [True, False]] [[False, False], [True, True], [False, True]]\n18 45 [[False, True], [False, False], [True, False]] [[True, False], [True, True], [False, True]]\n16 47 [[False, False], [False, False], [True, False]] [[True, True], [True, True], [False, True]]\n2 61 [[False, True], [False, False], [False, False]] [[True, False], [True, True], [True, True]]\n17 46 [[True, False], [False, False], [True, False]] [[False, True], [True, True], [False, True]]\n1 62 [[True, False], [False, False], [False, False]] [[False, True], [True, True], [True, True]]\n3 60 [[True, True], [False, False], [False, False]] [[False, False], [True, True], [True, True]]\n31 32 [[True, True], [True, True], [True, False]] [[False, False], [False, False], [False, True]]\n29 34 [[True, False], [True, True], [True, False]] [[False, True], [False, False], [False, True]]\n30 33 [[False, True], [True, True], [True, False]] [[True, False], [False, False], [False, True]]\n28 35 [[False, False], [True, True], [True, False]] [[True, True], [False, False], [False, True]]\n14 49 [[False, True], [True, True], [False, False]] [[True, False], [False, False], [True, True]]\n12 51 [[False, False], [True, True], [False, False]] [[True, True], [False, False], [True, True]]\n25 38 [[True, False], [False, True], [True, False]] [[False, True], [True, False], [False, True]]\n27 36 [[True, True], [False, True], [True, False]] [[False, False], [True, False], [False, True]]\n26 37 [[False, True], [False, True], [True, False]] [[True, False], [True, False], [False, True]]\n24 39 [[False, False], [False, True], [True, False]] [[True, True], [True, False], [False, True]]\n8 55 [[False, False], [False, True], [False, False]] [[True, True], [True, False], [True, True]]\n10 53 [[False, True], [False, True], [False, False]] [[True, False], [True, False], [True, True]]\n11 52 [[True, True], [False, True], [False, False]] [[False, False], [True, False], [True, True]]\n9 54 [[True, False], [False, True], [False, False]] [[False, True], [True, False], [True, True]]\n"
     ]
    }
   ]
  },
  {
   "cell_type": "code",
   "execution_count": null,
   "metadata": {},
   "outputs": [],
   "source": []
  },
  {
   "cell_type": "code",
   "execution_count": null,
   "metadata": {},
   "outputs": [],
   "source": []
  }
 ]
}