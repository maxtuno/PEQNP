{
  "nbformat": 4,
  "nbformat_minor": 0,
  "metadata": {
    "colab": {
      "name": "knight_cloud.ipynb",
      "provenance": [],
      "collapsed_sections": [],
      "toc_visible": true
    },
    "kernelspec": {
      "name": "python3",
      "display_name": "Python 3"
    },
    "language_info": {
      "name": "python"
    }
  },
  "cells": [
    {
      "cell_type": "markdown",
      "metadata": {
        "id": "iXwoKtIoCDk6"
      },
      "source": [
        "# Knight's tour\n",
        "\n",
        "A knight's tour is a sequence of moves of a knight on a chessboard such that the knight visits every square exactly once. If the knight ends on a square that is one knight's move from the beginning square (so that it could tour the board again immediately, following the same path), the tour is closed; otherwise, it is open.\n",
        "\n",
        "ref: https://en.wikipedia.org/wiki/Knight%27s_tour"
      ]
    },
    {
      "cell_type": "code",
      "metadata": {
        "colab": {
          "base_uri": "https://localhost:8080/"
        },
        "id": "DygIOBxcCHrW",
        "outputId": "f00c7cf2-541e-4a2d-e03e-bd40ea56a1b9"
      },
      "source": [
        "!git clone https://github.com/maxtuno/SLIME"
      ],
      "execution_count": 1,
      "outputs": [
        {
          "output_type": "stream",
          "text": [
            "Cloning into 'SLIME'...\n",
            "remote: Enumerating objects: 323, done.\u001b[K\n",
            "remote: Counting objects: 100% (323/323), done.\u001b[K\n",
            "remote: Compressing objects: 100% (213/213), done.\u001b[K\n",
            "remote: Total 323 (delta 142), reused 271 (delta 95), pack-reused 0\u001b[K\n",
            "Receiving objects: 100% (323/323), 673.22 KiB | 4.16 MiB/s, done.\n",
            "Resolving deltas: 100% (142/142), done.\n"
          ],
          "name": "stdout"
        }
      ]
    },
    {
      "cell_type": "code",
      "metadata": {
        "colab": {
          "base_uri": "https://localhost:8080/"
        },
        "id": "aR6QUsrQES-E",
        "outputId": "4332ced0-75e8-49c0-ca25-80cdb3cdc705"
      },
      "source": [
        "cd /content/SLIME/SLIME"
      ],
      "execution_count": 2,
      "outputs": [
        {
          "output_type": "stream",
          "text": [
            "/content/SLIME/SLIME\n"
          ],
          "name": "stdout"
        }
      ]
    },
    {
      "cell_type": "code",
      "metadata": {
        "id": "DXrclreIETKK"
      },
      "source": [
        "mkdir build"
      ],
      "execution_count": 3,
      "outputs": []
    },
    {
      "cell_type": "code",
      "metadata": {
        "colab": {
          "base_uri": "https://localhost:8080/"
        },
        "id": "5mToPuafETU6",
        "outputId": "db099a35-3de9-4ec8-bfe9-5870edc89ecd"
      },
      "source": [
        "cd build"
      ],
      "execution_count": 4,
      "outputs": [
        {
          "output_type": "stream",
          "text": [
            "/content/SLIME/SLIME/build\n"
          ],
          "name": "stdout"
        }
      ]
    },
    {
      "cell_type": "code",
      "metadata": {
        "colab": {
          "base_uri": "https://localhost:8080/"
        },
        "id": "o11O83NeEdlD",
        "outputId": "d7fe4d3b-3b8f-4770-aea9-2fbd45b1edc2"
      },
      "source": [
        "!cmake -D CMAKE_BUILD_TYPE=Release .."
      ],
      "execution_count": 5,
      "outputs": [
        {
          "output_type": "stream",
          "text": [
            "-- The C compiler identification is GNU 7.5.0\n",
            "-- The CXX compiler identification is GNU 7.5.0\n",
            "-- Check for working C compiler: /usr/bin/cc\n",
            "-- Check for working C compiler: /usr/bin/cc -- works\n",
            "-- Detecting C compiler ABI info\n",
            "-- Detecting C compiler ABI info - done\n",
            "-- Detecting C compile features\n",
            "-- Detecting C compile features - done\n",
            "-- Check for working CXX compiler: /usr/bin/c++\n",
            "-- Check for working CXX compiler: /usr/bin/c++ -- works\n",
            "-- Detecting CXX compiler ABI info\n",
            "-- Detecting CXX compiler ABI info - done\n",
            "-- Detecting CXX compile features\n",
            "-- Detecting CXX compile features - done\n",
            "-- Found MPI_C: /usr/lib/x86_64-linux-gnu/openmpi/lib/libmpi.so (found version \"3.1\") \n",
            "-- Found MPI_CXX: /usr/lib/x86_64-linux-gnu/openmpi/lib/libmpi_cxx.so (found version \"3.1\") \n",
            "-- Found MPI: TRUE (found version \"3.1\")  \n",
            "-- Configuring done\n",
            "-- Generating done\n",
            "-- Build files have been written to: /content/SLIME/SLIME/build\n"
          ],
          "name": "stdout"
        }
      ]
    },
    {
      "cell_type": "code",
      "metadata": {
        "colab": {
          "base_uri": "https://localhost:8080/"
        },
        "id": "4kkLtE8WEkEa",
        "outputId": "8e69a5ba-f67f-498b-8750-dd6d0ae0bcea"
      },
      "source": [
        "!make"
      ],
      "execution_count": 6,
      "outputs": [
        {
          "output_type": "stream",
          "text": [
            "\u001b[35m\u001b[1mScanning dependencies of target slime\u001b[0m\n",
            "[ 16%] \u001b[32mBuilding CXX object CMakeFiles/slime.dir/src/Ls.o\u001b[0m\n",
            "[ 33%] \u001b[32mBuilding CXX object CMakeFiles/slime.dir/src/Main.o\u001b[0m\n",
            "[ 50%] \u001b[32mBuilding CXX object CMakeFiles/slime.dir/src/Options.o\u001b[0m\n",
            "[ 66%] \u001b[32mBuilding CXX object CMakeFiles/slime.dir/src/SimpSolver.o\u001b[0m\n",
            "[ 83%] \u001b[32mBuilding CXX object CMakeFiles/slime.dir/src/Solver.o\u001b[0m\n",
            "[100%] \u001b[32m\u001b[1mLinking CXX executable ../bin/slime\u001b[0m\n",
            "[100%] Built target slime\n"
          ],
          "name": "stdout"
        }
      ]
    },
    {
      "cell_type": "code",
      "metadata": {
        "colab": {
          "base_uri": "https://localhost:8080/"
        },
        "id": "zqxuG1SkErFp",
        "outputId": "4aad5bf0-3dca-4ba6-ef99-43a2fc2df07a"
      },
      "source": [
        "!pip install peqnp\n",
        "!pip install numpy"
      ],
      "execution_count": 7,
      "outputs": [
        {
          "output_type": "stream",
          "text": [
            "Collecting peqnp\n",
            "\u001b[?25l  Downloading https://files.pythonhosted.org/packages/26/fb/7ca28a353a22682df0243a69c15919779a2a1cae5e0c69810ad66e2dcd16/PEQNP-6.0.3.tar.gz (72kB)\n",
            "\r\u001b[K     |████▌                           | 10kB 14.2MB/s eta 0:00:01\r\u001b[K     |█████████                       | 20kB 20.2MB/s eta 0:00:01\r\u001b[K     |█████████████▋                  | 30kB 24.8MB/s eta 0:00:01\r\u001b[K     |██████████████████▏             | 40kB 21.4MB/s eta 0:00:01\r\u001b[K     |██████████████████████▋         | 51kB 15.1MB/s eta 0:00:01\r\u001b[K     |███████████████████████████▏    | 61kB 14.3MB/s eta 0:00:01\r\u001b[K     |███████████████████████████████▊| 71kB 15.2MB/s eta 0:00:01\r\u001b[K     |████████████████████████████████| 81kB 4.7MB/s \n",
            "\u001b[?25hBuilding wheels for collected packages: peqnp\n",
            "  Building wheel for peqnp (setup.py) ... \u001b[?25l\u001b[?25hdone\n",
            "  Created wheel for peqnp: filename=PEQNP-6.0.3-cp37-cp37m-linux_x86_64.whl size=729738 sha256=1c03daf86d32dbcb52e085fbfcd0ee36b926d3978cc0f70fc9b0fed67307132c\n",
            "  Stored in directory: /root/.cache/pip/wheels/9c/97/71/ea4c2c381b6ac91820551d6029bbab4e766ff1a4e894d04c2c\n",
            "Successfully built peqnp\n",
            "Installing collected packages: peqnp\n",
            "Successfully installed peqnp-6.0.3\n",
            "Requirement already satisfied: numpy in /usr/local/lib/python3.7/dist-packages (1.19.5)\n"
          ],
          "name": "stdout"
        }
      ]
    },
    {
      "cell_type": "code",
      "metadata": {
        "id": "ZEtoGfvvCQZ2",
        "colab": {
          "base_uri": "https://localhost:8080/"
        },
        "outputId": "09be28a1-4f5c-4af5-c2e2-f1e20f08da2a"
      },
      "source": [
        "%%time\n",
        "import numpy as np\n",
        "import peqnp as pn\n",
        "\n",
        "n = 6\n",
        "m = n ** 2\n",
        "\n",
        "pn.engine(m.bit_length())\n",
        "\n",
        "# note: use key parameter for variables to capture.\n",
        "r = pn.vector(size=m, key='r')\n",
        "c = pn.vector(size=m, key='c')\n",
        "rr = pn.vector(size=m)\n",
        "cc = pn.vector(size=m)\n",
        "\n",
        "pn.apply_single(r + c, lambda x: 1 <= x <= n)\n",
        "pn.apply_single(rr + cc, lambda x: x.is_in([1, 2]))\n",
        "pn.all_different([r[i] + n * c[i] for i in range(m)])\n",
        "\n",
        "for i in range(m - 1):\n",
        "    assert c[i + 1] == pn.one_of([c[i] + cc[i], c[i] - cc[i]])\n",
        "    assert r[i + 1] == pn.one_of([r[i] + rr[i], r[i] - rr[i]])\n",
        "    assert cc[i] != rr[i]\n",
        "\n",
        "if pn.external_satisfy(key='knight', solver='mpirun -q -np 4 --allow-run-as-root /content/SLIME/SLIME/bin/slime'):\n",
        "    c = np.vectorize(int)(c) - 1\n",
        "    r = np.vectorize(int)(r) - 1\n",
        "    t = np.zeros(shape=(n, n), dtype=int)\n",
        "    for k, (i, j) in enumerate(zip(c, r)):\n",
        "        t[i][j] = k + 1\n",
        "    print(t)\n",
        "else:\n",
        "    print('Infeasible ...')\n"
      ],
      "execution_count": 8,
      "outputs": [
        {
          "output_type": "stream",
          "text": [
            "[[20 33  4 13 22 31]\n",
            " [ 3 12 21 32  5 14]\n",
            " [34 19  6 15 30 23]\n",
            " [11  2 35 26  7 16]\n",
            " [36 27 18  9 24 29]\n",
            " [ 1 10 25 28 17  8]]\n",
            "CPU times: user 423 ms, sys: 11.2 ms, total: 434 ms\n",
            "Wall time: 42.7 s\n"
          ],
          "name": "stdout"
        }
      ]
    },
    {
      "cell_type": "code",
      "metadata": {
        "id": "7_neHkftFsRx"
      },
      "source": [
        ""
      ],
      "execution_count": 8,
      "outputs": []
    }
  ]
}