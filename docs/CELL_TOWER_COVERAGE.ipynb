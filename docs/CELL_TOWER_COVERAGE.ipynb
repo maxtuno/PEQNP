{
  "nbformat": 4,
  "nbformat_minor": 0,
  "metadata": {
    "language_info": {
      "codemirror_mode": {
        "name": "ipython",
        "version": 3
      },
      "file_extension": ".py",
      "mimetype": "text/x-python",
      "name": "python",
      "nbconvert_exporter": "python",
      "pygments_lexer": "ipython3",
      "version": "3.9.1-final"
    },
    "orig_nbformat": 2,
    "kernelspec": {
      "name": "python3",
      "display_name": "Python 3",
      "language": "python"
    },
    "colab": {
      "name": "CELL_TOWER_COVERAGE.ipynb",
      "provenance": []
    }
  },
  "cells": [
    {
      "cell_type": "markdown",
      "metadata": {
        "id": "iEDr3DNpzI_t"
      },
      "source": [
        "# CELL TOWER MAXIMALCOVERAGE AT MINIMAL COST\n",
        "\n",
        "## Problem Description\n",
        "\n",
        "A telecommunications company needs to build a set of mobile phone towers to provide signal coverage to the inhabitants of a given city. Several potential locations have been identified where the towers could be built. The towers have a fixed range and due to budget restrictions, only a limited number of them can be built. Given these restrictions, the company wants to provide coverage to the largest possible percentage of the population. To simplify the problem, the company has divided the area it wants to cover into a set of regions, each of which has a known population. The objective is then to choose in which of the potential locations the company should build cell phone towers, to provide coverage to as many people as possible. "
      ]
    },
    {
      "cell_type": "markdown",
      "metadata": {
        "id": "uOG-buiQzI_1"
      },
      "source": [
        "### RANDOM DATA GENERATION"
      ]
    },
    {
      "cell_type": "code",
      "metadata": {
        "id": "Zf5id0WnzI_1",
        "outputId": "cb8be24a-e5d5-4fc8-daf1-7ebdbf2dc319",
        "colab": {
          "base_uri": "https://localhost:8080/"
        }
      },
      "source": [
        "!pip install peqnp\n",
        "import numpy as np\n",
        "\n",
        "number_of_towers = 11\n",
        "number_of_regions = 7\n",
        "\n",
        "tower_coverage = np.random.randint(0, 2, size=(number_of_towers, number_of_regions))\n",
        "population_region = np.random.randint(1, 100, size=(number_of_regions))\n",
        "tower_cost = np.random.randint(1, 100, size=(number_of_towers))\n",
        "budget = np.random.randint(sum(tower_cost) // 2, sum(tower_cost))"
      ],
      "execution_count": 1,
      "outputs": [
        {
          "output_type": "stream",
          "text": [
            "Collecting peqnp\n",
            "\u001b[?25l  Downloading https://files.pythonhosted.org/packages/17/60/adf837767ffb596da1343749b0bb5dbc8dd7436e15476d506cce9efec57c/PEQNP-6.1.0.tar.gz (61kB)\n",
            "\r\u001b[K     |█████▎                          | 10kB 15.1MB/s eta 0:00:01\r\u001b[K     |██████████▋                     | 20kB 13.6MB/s eta 0:00:01\r\u001b[K     |████████████████                | 30kB 7.9MB/s eta 0:00:01\r\u001b[K     |█████████████████████▎          | 40kB 6.8MB/s eta 0:00:01\r\u001b[K     |██████████████████████████▋     | 51kB 4.4MB/s eta 0:00:01\r\u001b[K     |███████████████████████████████▉| 61kB 5.0MB/s eta 0:00:01\r\u001b[K     |████████████████████████████████| 71kB 3.7MB/s \n",
            "\u001b[?25hBuilding wheels for collected packages: peqnp\n",
            "  Building wheel for peqnp (setup.py) ... \u001b[?25l\u001b[?25hdone\n",
            "  Created wheel for peqnp: filename=PEQNP-6.1.0-cp37-cp37m-linux_x86_64.whl size=475109 sha256=eb581294a474e50e760c3c05167e9a50ab009db00d90f769d2ca11bc80a96be8\n",
            "  Stored in directory: /root/.cache/pip/wheels/65/ba/9b/affd1ad1de0d347816db253b5cd98f16021e557d100a4b742e\n",
            "Successfully built peqnp\n",
            "Installing collected packages: peqnp\n",
            "Successfully installed peqnp-6.1.0\n"
          ],
          "name": "stdout"
        }
      ]
    },
    {
      "cell_type": "markdown",
      "metadata": {
        "id": "jSuMc-ozzI_2"
      },
      "source": [
        "### TOWER COVERAGE BY REGION"
      ]
    },
    {
      "cell_type": "code",
      "metadata": {
        "id": "XXq4mYMtzI_2",
        "colab": {
          "base_uri": "https://localhost:8080/"
        },
        "outputId": "60bb990f-c7cc-4876-98cf-7de628c1e726"
      },
      "source": [
        "print(tower_coverage)"
      ],
      "execution_count": 2,
      "outputs": [
        {
          "output_type": "stream",
          "text": [
            "[[0 0 1 1 0 0 0]\n",
            " [1 1 1 1 0 1 1]\n",
            " [1 1 0 1 1 0 0]\n",
            " [1 0 0 0 0 0 0]\n",
            " [0 0 0 0 0 1 1]\n",
            " [1 1 0 1 0 0 0]\n",
            " [0 0 1 0 0 0 1]\n",
            " [1 1 1 0 1 0 0]\n",
            " [1 0 1 1 0 1 1]\n",
            " [1 1 0 1 0 0 0]\n",
            " [0 0 1 0 1 0 1]]\n"
          ],
          "name": "stdout"
        }
      ]
    },
    {
      "cell_type": "markdown",
      "metadata": {
        "id": "B-N7CyDizI_4"
      },
      "source": [
        "### POPULATION BY REGION"
      ]
    },
    {
      "cell_type": "code",
      "metadata": {
        "id": "b6--wsFYzI_4",
        "colab": {
          "base_uri": "https://localhost:8080/"
        },
        "outputId": "ff4775b4-1f9d-4d5a-9438-c638ebe49da9"
      },
      "source": [
        "print(population_region)"
      ],
      "execution_count": 3,
      "outputs": [
        {
          "output_type": "stream",
          "text": [
            "[76 33 16 59 50 32  1]\n"
          ],
          "name": "stdout"
        }
      ]
    },
    {
      "cell_type": "markdown",
      "metadata": {
        "id": "YfNZPM0XzI_5"
      },
      "source": [
        "### TOWER COST"
      ]
    },
    {
      "cell_type": "code",
      "metadata": {
        "id": "BNrY_NmKzI_5",
        "colab": {
          "base_uri": "https://localhost:8080/"
        },
        "outputId": "adb6dc9d-ffa2-46b6-f3c1-2d773babebf3"
      },
      "source": [
        "print(tower_cost)"
      ],
      "execution_count": 4,
      "outputs": [
        {
          "output_type": "stream",
          "text": [
            "[93  1 74 81  8 22 80 85 69 77  3]\n"
          ],
          "name": "stdout"
        }
      ]
    },
    {
      "cell_type": "markdown",
      "metadata": {
        "id": "q8D5-nlHzI_6"
      },
      "source": [
        "### BUDGET"
      ]
    },
    {
      "cell_type": "code",
      "metadata": {
        "id": "j0MQ8QfDzI_6",
        "colab": {
          "base_uri": "https://localhost:8080/"
        },
        "outputId": "9899fb3f-f85e-4c50-fc94-a0be5839948a"
      },
      "source": [
        "print(budget)"
      ],
      "execution_count": 5,
      "outputs": [
        {
          "output_type": "stream",
          "text": [
            "383\n"
          ],
          "name": "stdout"
        }
      ]
    },
    {
      "cell_type": "markdown",
      "metadata": {
        "id": "kzLrdijxzI_7"
      },
      "source": [
        "# PEQNP TENSOR MODEL"
      ]
    },
    {
      "cell_type": "code",
      "metadata": {
        "tags": [],
        "id": "2F326iKnzI_7",
        "colab": {
          "base_uri": "https://localhost:8080/"
        },
        "outputId": "b066d21b-b365-41ae-ca0d-58215df749f3"
      },
      "source": [
        "!pip install peqnp\n",
        "import peqnp as cnf\n",
        "import functools\n",
        "import operator\n",
        "\n",
        "cost = budget\n",
        "while True:\n",
        "    optimal = 0\n",
        "    X_opt = None\n",
        "    while True:\n",
        "\n",
        "        cnf.engine(10)\n",
        "\n",
        "        X = cnf.tensor(dimensions=(number_of_towers, number_of_regions))\n",
        "\n",
        "        # ensure that at least one tower that covers a region must be selected.\n",
        "        for i in range(number_of_towers):\n",
        "            assert sum(X[[i, j]](0, 1) for j in range(number_of_regions)) <= 1\n",
        "\n",
        "        # ensure that at least one tower that covers a region must be selected.\n",
        "        for j in range(number_of_regions):\n",
        "            assert sum(X[[i, j]](0, 1) for i in range(number_of_towers)) >= 1\n",
        "\n",
        "        # ensure that the total cost of building towers do not exceed the allocated budget.\n",
        "        assert sum(functools.reduce(operator.ior, [X[[i, j]](0, 1) for j in range(number_of_regions)]) * tower_cost[i] for i in range(number_of_towers)) <= cost\n",
        "\n",
        "\n",
        "        # We seek to maximize the total population covered by the towers.\n",
        "        assert sum(X[[i, j]](0, population_region[j] * tower_coverage[i, j]) for i in range(number_of_towers) for j in range(number_of_regions)) > optimal\n",
        "\n",
        "        if cnf.satisfy(turbo=True):\n",
        "            X_opt = np.vectorize(int)(X.binary)\n",
        "            optimal = sum(X_opt[i][j] * population_region[j] * tower_coverage[i, j] for i in range(number_of_towers) for j in range(number_of_regions))        \n",
        "            print(optimal)\n",
        "        else:\n",
        "            if X_opt is None:\n",
        "                break\n",
        "            else:\n",
        "                optimal = sum(X_opt[i][j] * population_region[j] * tower_coverage[i, j] for i in range(number_of_towers) for j in range(number_of_regions))        \n",
        "\n",
        "                cost = 0\n",
        "                for i in range(number_of_towers):\n",
        "                    if sum(X_opt[i]) > 0:\n",
        "                        cost += tower_cost[i]\n",
        "                \n",
        "                covering = 0\n",
        "                for j in range(number_of_regions):\n",
        "                    if sum(X_opt[i][j] for i in range(number_of_towers)) > 0:\n",
        "                        covering += population_region[j]\n",
        "\n",
        "                print(80 * '-')\n",
        "                print('COST vs BUDGET                           : {} vs {}'.format(cost, budget))\n",
        "                print('COVERING vs OVER COVERING vs POPULATION  : {} vs {} vs {}'.format(covering, optimal, sum(population_region)))\n",
        "                print('TOWERS:')\n",
        "                for i in range(number_of_towers):\n",
        "                    if sum(X_opt[i]) > 0:\n",
        "                        print('TOWER Nº {}'.format(i + 1))\n",
        "                print(80 * '-')\n",
        "                print(X_opt)\n",
        "                print(80 * '=')\n",
        "                cost -= 1\n",
        "            break \n",
        "    if X_opt is None:\n",
        "        print('OPTIMAL!') \n",
        "        break "
      ],
      "execution_count": 6,
      "outputs": [
        {
          "output_type": "stream",
          "text": [
            "Requirement already satisfied: peqnp in /usr/local/lib/python3.7/dist-packages (6.1.0)\n",
            "276\n",
            "277\n",
            "292\n",
            "294\n",
            "326\n",
            "343\n",
            "--------------------------------------------------------------------------------\n",
            "COST vs BUDGET                           : 345 vs 383\n",
            "COVERING vs OVER COVERING vs POPULATION  : 267 vs 343 vs 267\n",
            "TOWERS:\n",
            "TOWER Nº 2\n",
            "TOWER Nº 5\n",
            "TOWER Nº 6\n",
            "TOWER Nº 7\n",
            "TOWER Nº 8\n",
            "TOWER Nº 9\n",
            "TOWER Nº 10\n",
            "TOWER Nº 11\n",
            "--------------------------------------------------------------------------------\n",
            "[[0 0 0 0 0 0 0]\n",
            " [0 0 1 0 0 0 0]\n",
            " [0 0 0 0 0 0 0]\n",
            " [0 0 0 0 0 0 0]\n",
            " [0 0 0 0 0 1 0]\n",
            " [1 0 0 0 0 0 0]\n",
            " [0 0 0 0 0 0 1]\n",
            " [0 1 0 0 0 0 0]\n",
            " [1 0 0 0 0 0 0]\n",
            " [0 0 0 1 0 0 0]\n",
            " [0 0 0 0 1 0 0]]\n",
            "================================================================================\n",
            "343\n",
            "--------------------------------------------------------------------------------\n",
            "COST vs BUDGET                           : 335 vs 383\n",
            "COVERING vs OVER COVERING vs POPULATION  : 267 vs 343 vs 267\n",
            "TOWERS:\n",
            "TOWER Nº 2\n",
            "TOWER Nº 3\n",
            "TOWER Nº 4\n",
            "TOWER Nº 5\n",
            "TOWER Nº 6\n",
            "TOWER Nº 9\n",
            "TOWER Nº 10\n",
            "TOWER Nº 11\n",
            "--------------------------------------------------------------------------------\n",
            "[[0 0 0 0 0 0 0]\n",
            " [0 0 0 1 0 0 0]\n",
            " [0 0 0 0 1 0 0]\n",
            " [1 0 0 0 0 0 0]\n",
            " [0 0 0 0 0 1 0]\n",
            " [1 0 0 0 0 0 0]\n",
            " [0 0 0 0 0 0 0]\n",
            " [0 0 0 0 0 0 0]\n",
            " [0 0 0 0 0 0 1]\n",
            " [0 1 0 0 0 0 0]\n",
            " [0 0 1 0 0 0 0]]\n",
            "================================================================================\n",
            "183\n",
            "218\n",
            "295\n",
            "310\n",
            "311\n",
            "342\n",
            "343\n",
            "--------------------------------------------------------------------------------\n",
            "COST vs BUDGET                           : 334 vs 383\n",
            "COVERING vs OVER COVERING vs POPULATION  : 267 vs 343 vs 267\n",
            "TOWERS:\n",
            "TOWER Nº 2\n",
            "TOWER Nº 3\n",
            "TOWER Nº 5\n",
            "TOWER Nº 6\n",
            "TOWER Nº 7\n",
            "TOWER Nº 9\n",
            "TOWER Nº 10\n",
            "TOWER Nº 11\n",
            "--------------------------------------------------------------------------------\n",
            "[[0 0 0 0 0 0 0]\n",
            " [0 0 1 0 0 0 0]\n",
            " [0 0 0 1 0 0 0]\n",
            " [0 0 0 0 0 0 0]\n",
            " [0 0 0 0 0 1 0]\n",
            " [1 0 0 0 0 0 0]\n",
            " [0 0 0 0 0 0 1]\n",
            " [0 0 0 0 0 0 0]\n",
            " [1 0 0 0 0 0 0]\n",
            " [0 1 0 0 0 0 0]\n",
            " [0 0 0 0 1 0 0]]\n",
            "================================================================================\n",
            "185\n",
            "251\n",
            "267\n",
            "--------------------------------------------------------------------------------\n",
            "COST vs BUDGET                           : 313 vs 383\n",
            "COVERING vs OVER COVERING vs POPULATION  : 267 vs 267 vs 267\n",
            "TOWERS:\n",
            "TOWER Nº 2\n",
            "TOWER Nº 3\n",
            "TOWER Nº 4\n",
            "TOWER Nº 5\n",
            "TOWER Nº 9\n",
            "TOWER Nº 10\n",
            "TOWER Nº 11\n",
            "--------------------------------------------------------------------------------\n",
            "[[0 0 0 0 0 0 0]\n",
            " [0 1 0 0 0 0 0]\n",
            " [0 0 0 0 1 0 0]\n",
            " [1 0 0 0 0 0 0]\n",
            " [0 0 0 0 0 0 1]\n",
            " [0 0 0 0 0 0 0]\n",
            " [0 0 0 0 0 0 0]\n",
            " [0 0 0 0 0 0 0]\n",
            " [0 0 0 0 0 1 0]\n",
            " [0 0 0 1 0 0 0]\n",
            " [0 0 1 0 0 0 0]]\n",
            "================================================================================\n",
            "183\n",
            "251\n",
            "266\n",
            "267\n",
            "--------------------------------------------------------------------------------\n",
            "COST vs BUDGET                           : 265 vs 383\n",
            "COVERING vs OVER COVERING vs POPULATION  : 267 vs 267 vs 267\n",
            "TOWERS:\n",
            "TOWER Nº 2\n",
            "TOWER Nº 5\n",
            "TOWER Nº 6\n",
            "TOWER Nº 8\n",
            "TOWER Nº 9\n",
            "TOWER Nº 10\n",
            "TOWER Nº 11\n",
            "--------------------------------------------------------------------------------\n",
            "[[0 0 0 0 0 0 0]\n",
            " [0 0 0 0 0 0 1]\n",
            " [0 0 0 0 0 0 0]\n",
            " [0 0 0 0 0 0 0]\n",
            " [0 0 0 0 0 1 0]\n",
            " [0 1 0 0 0 0 0]\n",
            " [0 0 0 0 0 0 0]\n",
            " [0 0 0 0 1 0 0]\n",
            " [0 0 0 1 0 0 0]\n",
            " [1 0 0 0 0 0 0]\n",
            " [0 0 1 0 0 0 0]]\n",
            "================================================================================\n",
            "185\n",
            "250\n",
            "267\n",
            "--------------------------------------------------------------------------------\n",
            "COST vs BUDGET                           : 262 vs 383\n",
            "COVERING vs OVER COVERING vs POPULATION  : 267 vs 267 vs 267\n",
            "TOWERS:\n",
            "TOWER Nº 2\n",
            "TOWER Nº 3\n",
            "TOWER Nº 5\n",
            "TOWER Nº 6\n",
            "TOWER Nº 8\n",
            "TOWER Nº 9\n",
            "TOWER Nº 11\n",
            "--------------------------------------------------------------------------------\n",
            "[[0 0 0 0 0 0 0]\n",
            " [0 0 1 0 0 0 0]\n",
            " [0 1 0 0 0 0 0]\n",
            " [0 0 0 0 0 0 0]\n",
            " [0 0 0 0 0 1 0]\n",
            " [1 0 0 0 0 0 0]\n",
            " [0 0 0 0 0 0 0]\n",
            " [0 0 0 0 1 0 0]\n",
            " [0 0 0 1 0 0 0]\n",
            " [0 0 0 0 0 0 0]\n",
            " [0 0 0 0 0 0 1]]\n",
            "================================================================================\n",
            "192\n",
            "267\n",
            "--------------------------------------------------------------------------------\n",
            "COST vs BUDGET                           : 260 vs 383\n",
            "COVERING vs OVER COVERING vs POPULATION  : 267 vs 267 vs 267\n",
            "TOWERS:\n",
            "TOWER Nº 2\n",
            "TOWER Nº 5\n",
            "TOWER Nº 6\n",
            "TOWER Nº 7\n",
            "TOWER Nº 9\n",
            "TOWER Nº 10\n",
            "TOWER Nº 11\n",
            "--------------------------------------------------------------------------------\n",
            "[[0 0 0 0 0 0 0]\n",
            " [0 0 0 1 0 0 0]\n",
            " [0 0 0 0 0 0 0]\n",
            " [0 0 0 0 0 0 0]\n",
            " [0 0 0 0 0 1 0]\n",
            " [0 1 0 0 0 0 0]\n",
            " [0 0 1 0 0 0 0]\n",
            " [0 0 0 0 0 0 0]\n",
            " [0 0 0 0 0 0 1]\n",
            " [1 0 0 0 0 0 0]\n",
            " [0 0 0 0 1 0 0]]\n",
            "================================================================================\n",
            "267\n",
            "--------------------------------------------------------------------------------\n",
            "COST vs BUDGET                           : 254 vs 383\n",
            "COVERING vs OVER COVERING vs POPULATION  : 267 vs 267 vs 267\n",
            "TOWERS:\n",
            "TOWER Nº 2\n",
            "TOWER Nº 3\n",
            "TOWER Nº 5\n",
            "TOWER Nº 6\n",
            "TOWER Nº 9\n",
            "TOWER Nº 10\n",
            "TOWER Nº 11\n",
            "--------------------------------------------------------------------------------\n",
            "[[0 0 0 0 0 0 0]\n",
            " [0 1 0 0 0 0 0]\n",
            " [0 0 0 0 1 0 0]\n",
            " [0 0 0 0 0 0 0]\n",
            " [0 0 0 0 0 1 0]\n",
            " [1 0 0 0 0 0 0]\n",
            " [0 0 0 0 0 0 0]\n",
            " [0 0 0 0 0 0 0]\n",
            " [0 0 1 0 0 0 0]\n",
            " [0 0 0 1 0 0 0]\n",
            " [0 0 0 0 0 0 1]]\n",
            "================================================================================\n",
            "OPTIMAL!\n"
          ],
          "name": "stdout"
        }
      ]
    },
    {
      "cell_type": "markdown",
      "metadata": {
        "id": "68uXW0wozI_8"
      },
      "source": [
        "#### Copyright © 2021 PEQNP"
      ]
    },
    {
      "cell_type": "code",
      "metadata": {
        "id": "Hj8Yu0S2zI_8"
      },
      "source": [
        ""
      ],
      "execution_count": null,
      "outputs": []
    }
  ]
}