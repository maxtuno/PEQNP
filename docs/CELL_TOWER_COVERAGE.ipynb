{
  "nbformat": 4,
  "nbformat_minor": 0,
  "metadata": {
    "language_info": {
      "codemirror_mode": {
        "name": "ipython",
        "version": 3
      },
      "file_extension": ".py",
      "mimetype": "text/x-python",
      "name": "python",
      "nbconvert_exporter": "python",
      "pygments_lexer": "ipython3",
      "version": "3.9.1-final"
    },
    "orig_nbformat": 2,
    "kernelspec": {
      "name": "python3",
      "display_name": "Python 3",
      "language": "python"
    },
    "colab": {
      "name": "CELL_TOWER_COVERAGE.ipynb",
      "provenance": []
    }
  },
  "cells": [
    {
      "cell_type": "markdown",
      "metadata": {
        "id": "iEDr3DNpzI_t"
      },
      "source": [
        "# CELL TOWER COVERAGE\n",
        "\n",
        "## Problem Description\n",
        "\n",
        "A telecommunications company needs to build a set of mobile phone towers to provide signal coverage to the inhabitants of a given city. Several potential locations have been identified where the towers could be built. The towers have a fixed range and due to budget restrictions, only a limited number of them can be built. Given these restrictions, the company wants to provide coverage to the largest possible percentage of the population. To simplify the problem, the company has divided the area it wants to cover into a set of regions, each of which has a known population. The objective is then to choose in which of the potential locations the company should build cell phone towers, to provide coverage to as many people as possible. "
      ]
    },
    {
      "cell_type": "markdown",
      "metadata": {
        "id": "uOG-buiQzI_1"
      },
      "source": [
        "### RANDOM DATA GENERATION"
      ]
    },
    {
      "cell_type": "code",
      "metadata": {
        "id": "Zf5id0WnzI_1"
      },
      "source": [
        "import numpy as np\n",
        "\n",
        "number_of_towers = 11\n",
        "number_of_regions = 7\n",
        "\n",
        "tower_coverage = np.random.randint(0, 2, size=(number_of_towers, number_of_regions))\n",
        "population_region = np.random.randint(1, 100, size=(number_of_regions))\n",
        "tower_cost = np.random.randint(1, 100, size=(number_of_towers))\n",
        "budget = np.random.randint(sum(tower_cost) // 2, sum(tower_cost))"
      ],
      "execution_count": 2,
      "outputs": []
    },
    {
      "cell_type": "markdown",
      "metadata": {
        "id": "jSuMc-ozzI_2"
      },
      "source": [
        "### TOWER COVERAGE BY REGION"
      ]
    },
    {
      "cell_type": "code",
      "metadata": {
        "id": "XXq4mYMtzI_2",
        "outputId": "4435709c-61b6-41fb-85ff-395f6d0a8c28",
        "colab": {
          "base_uri": "https://localhost:8080/"
        }
      },
      "source": [
        "print(tower_coverage)"
      ],
      "execution_count": 3,
      "outputs": [
        {
          "output_type": "stream",
          "text": [
            "[[1 1 0 0 1 1 0]\n",
            " [1 1 0 0 1 1 1]\n",
            " [0 0 1 1 1 0 1]\n",
            " [1 0 0 1 0 1 1]\n",
            " [0 0 1 0 1 0 0]\n",
            " [0 0 0 1 1 0 0]\n",
            " [0 1 1 0 1 0 1]\n",
            " [0 0 1 0 0 0 1]\n",
            " [1 0 0 1 1 0 0]\n",
            " [0 0 1 0 1 1 1]\n",
            " [0 1 1 0 0 1 0]]\n"
          ],
          "name": "stdout"
        }
      ]
    },
    {
      "cell_type": "markdown",
      "metadata": {
        "id": "B-N7CyDizI_4"
      },
      "source": [
        "### POPULATION BY REGION"
      ]
    },
    {
      "cell_type": "code",
      "metadata": {
        "id": "b6--wsFYzI_4",
        "outputId": "34d9c507-7635-49c8-edc0-44eb002f07d8",
        "colab": {
          "base_uri": "https://localhost:8080/"
        }
      },
      "source": [
        "print(population_region)"
      ],
      "execution_count": 4,
      "outputs": [
        {
          "output_type": "stream",
          "text": [
            "[82 53 22 52 11 60  9]\n"
          ],
          "name": "stdout"
        }
      ]
    },
    {
      "cell_type": "markdown",
      "metadata": {
        "id": "YfNZPM0XzI_5"
      },
      "source": [
        "### TOWER COST"
      ]
    },
    {
      "cell_type": "code",
      "metadata": {
        "id": "BNrY_NmKzI_5",
        "outputId": "72faa560-5e37-440e-de25-95b0c6ade513",
        "colab": {
          "base_uri": "https://localhost:8080/"
        }
      },
      "source": [
        "print(tower_cost)"
      ],
      "execution_count": 5,
      "outputs": [
        {
          "output_type": "stream",
          "text": [
            "[84 63 28 58 41 77 70 34 41  1 65]\n"
          ],
          "name": "stdout"
        }
      ]
    },
    {
      "cell_type": "markdown",
      "metadata": {
        "id": "q8D5-nlHzI_6"
      },
      "source": [
        "### BUDGET"
      ]
    },
    {
      "cell_type": "code",
      "metadata": {
        "id": "j0MQ8QfDzI_6",
        "outputId": "e6fd685f-b987-4f01-e9d5-7ccaa63ab645",
        "colab": {
          "base_uri": "https://localhost:8080/"
        }
      },
      "source": [
        "print(budget)"
      ],
      "execution_count": 6,
      "outputs": [
        {
          "output_type": "stream",
          "text": [
            "490\n"
          ],
          "name": "stdout"
        }
      ]
    },
    {
      "cell_type": "markdown",
      "metadata": {
        "id": "kzLrdijxzI_7"
      },
      "source": [
        "# PEQNP TENSOR MODEL"
      ]
    },
    {
      "cell_type": "code",
      "metadata": {
        "tags": [],
        "id": "2F326iKnzI_7",
        "outputId": "e2f1e200-8332-456d-8723-4ab0d83ac460",
        "colab": {
          "base_uri": "https://localhost:8080/"
        }
      },
      "source": [
        "!pip install peqnp\n",
        "import peqnp as cnf\n",
        "\n",
        "X_opt = None\n",
        "optimal = 0\n",
        "while True:\n",
        "\n",
        "    cnf.engine(16)\n",
        "\n",
        "    X = cnf.tensor(dimensions=(number_of_towers, number_of_regions))\n",
        "\n",
        "    # ensure that at least one tower that covers a region must be selected.\n",
        "    for i in range(number_of_towers):\n",
        "        assert sum(X[[i, j]](0, 1) for j in range(number_of_regions)) <= 1\n",
        "\n",
        "    # ensure that at least one tower that covers a region must be selected.\n",
        "    for j in range(number_of_regions):\n",
        "        assert sum(X[[i, j]](0, 1) for i in range(number_of_towers)) <= 1\n",
        "\n",
        "    # ensure that the total cost of building towers do not exceed the allocated budget.\n",
        "    for i in range(number_of_towers):\n",
        "        assert sum(X[[i, j]](0, tower_cost[i]) for j in range(number_of_regions)) <= budget\n",
        "\n",
        "\n",
        "    # We seek to maximize the total population covered by the towers.\n",
        "    assert sum(X[[i, j]](0, population_region[j] * tower_coverage[i, j]) for i in range(number_of_towers) for j in range(number_of_regions)) > optimal\n",
        "\n",
        "    if cnf.satisfy(turbo=True):\n",
        "        X_opt = np.vectorize(int)(X.binary)\n",
        "        optimal = sum(X_opt[i][j] * population_region[j] * tower_coverage[i, j] for i in range(number_of_towers) for j in range(number_of_regions))        \n",
        "        print(optimal)\n",
        "    else:\n",
        "        if X_opt is None:\n",
        "            print('Infeasible...')   \n",
        "        else:\n",
        "            cost = 0\n",
        "            for i in range(number_of_towers):\n",
        "                cost += sum(X_opt[i][j] * tower_cost[i] for j in range(number_of_regions))\n",
        "            \n",
        "            population_covered = sum(X_opt[i][j] * population_region[j] for i in range(number_of_towers) for j in range(number_of_regions))\n",
        "\n",
        "            print(80 * '-')\n",
        "            print('COST     vs BUDGET     : {} vs {}'.format(cost, budget))\n",
        "            print('COVERING vs POPULATION : {} vs {}'.format(population_covered, sum(population_region)))\n",
        "            print('TOWERS:')\n",
        "            for i in range(number_of_towers):\n",
        "                if sum(X_opt[i]) > 0:\n",
        "                    print('TOWER Nº {}'.format(i + 1))\n",
        "        break "
      ],
      "execution_count": 7,
      "outputs": [
        {
          "output_type": "stream",
          "text": [
            "Requirement already satisfied: peqnp in /usr/local/lib/python3.6/dist-packages (6.0.0)\n",
            "215\n",
            "227\n",
            "237\n",
            "267\n",
            "278\n",
            "289\n",
            "--------------------------------------------------------------------------------\n",
            "COST     vs BUDGET     : 345 vs 490\n",
            "COVERING vs POPULATION : 289 vs 289\n",
            "TOWERS:\n",
            "TOWER Nº 1\n",
            "TOWER Nº 2\n",
            "TOWER Nº 3\n",
            "TOWER Nº 4\n",
            "TOWER Nº 7\n",
            "TOWER Nº 9\n",
            "TOWER Nº 10\n"
          ],
          "name": "stdout"
        }
      ]
    },
    {
      "cell_type": "markdown",
      "metadata": {
        "id": "68uXW0wozI_8"
      },
      "source": [
        "#### Copyright © 2021 PEQNP"
      ]
    },
    {
      "cell_type": "code",
      "metadata": {
        "id": "Hj8Yu0S2zI_8"
      },
      "source": [
        ""
      ],
      "execution_count": 30,
      "outputs": []
    }
  ]
}