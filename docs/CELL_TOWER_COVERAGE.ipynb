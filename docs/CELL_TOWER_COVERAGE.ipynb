{
  "nbformat": 4,
  "nbformat_minor": 0,
  "metadata": {
    "language_info": {
      "codemirror_mode": {
        "name": "ipython",
        "version": 3
      },
      "file_extension": ".py",
      "mimetype": "text/x-python",
      "name": "python",
      "nbconvert_exporter": "python",
      "pygments_lexer": "ipython3",
      "version": "3.9.1-final"
    },
    "orig_nbformat": 2,
    "kernelspec": {
      "name": "python3",
      "display_name": "Python 3",
      "language": "python"
    },
    "colab": {
      "name": "CELL_TOWER_COVERAGE.ipynb",
      "provenance": []
    }
  },
  "cells": [
    {
      "cell_type": "markdown",
      "metadata": {
        "id": "iEDr3DNpzI_t"
      },
      "source": [
        "# CELL TOWER MAXIMALCOVERAGE AT MINIMAL COST\n",
        "\n",
        "## Problem Description\n",
        "\n",
        "A telecommunications company needs to build a set of mobile phone towers to provide signal coverage to the inhabitants of a given city. Several potential locations have been identified where the towers could be built. The towers have a fixed range and due to budget restrictions, only a limited number of them can be built. Given these restrictions, the company wants to provide coverage to the largest possible percentage of the population. To simplify the problem, the company has divided the area it wants to cover into a set of regions, each of which has a known population. The objective is then to choose in which of the potential locations the company should build cell phone towers, to provide coverage to as many people as possible. "
      ]
    },
    {
      "cell_type": "markdown",
      "metadata": {
        "id": "uOG-buiQzI_1"
      },
      "source": [
        "### RANDOM DATA GENERATION"
      ]
    },
    {
      "cell_type": "code",
      "metadata": {
        "id": "Zf5id0WnzI_1"
      },
      "source": [
        "import numpy as np\n",
        "\n",
        "number_of_towers = 11\n",
        "number_of_regions = 7\n",
        "\n",
        "tower_coverage = np.random.randint(0, 2, size=(number_of_towers, number_of_regions))\n",
        "population_region = np.random.randint(1, 100, size=(number_of_regions))\n",
        "tower_cost = np.random.randint(1, 100, size=(number_of_towers))\n",
        "budget = np.random.randint(sum(tower_cost) // 2, sum(tower_cost))"
      ],
      "execution_count": 32,
      "outputs": []
    },
    {
      "cell_type": "markdown",
      "metadata": {
        "id": "jSuMc-ozzI_2"
      },
      "source": [
        "### TOWER COVERAGE BY REGION"
      ]
    },
    {
      "cell_type": "code",
      "metadata": {
        "id": "XXq4mYMtzI_2",
        "colab": {
          "base_uri": "https://localhost:8080/"
        },
        "outputId": "2ff077ee-08a7-4686-c4c2-b8e56e2e006b"
      },
      "source": [
        "print(tower_coverage)"
      ],
      "execution_count": 33,
      "outputs": [
        {
          "output_type": "stream",
          "text": [
            "[[0 1 0 0 1 0 1]\n",
            " [1 0 1 0 0 1 1]\n",
            " [0 0 1 1 0 1 0]\n",
            " [0 0 0 1 1 1 1]\n",
            " [1 1 0 0 1 0 1]\n",
            " [1 0 0 0 0 1 0]\n",
            " [0 1 0 1 0 1 1]\n",
            " [0 1 1 1 1 1 0]\n",
            " [0 1 1 0 1 1 1]\n",
            " [0 1 0 0 0 0 1]\n",
            " [1 1 1 0 0 1 0]]\n"
          ],
          "name": "stdout"
        }
      ]
    },
    {
      "cell_type": "markdown",
      "metadata": {
        "id": "B-N7CyDizI_4"
      },
      "source": [
        "### POPULATION BY REGION"
      ]
    },
    {
      "cell_type": "code",
      "metadata": {
        "id": "b6--wsFYzI_4",
        "colab": {
          "base_uri": "https://localhost:8080/"
        },
        "outputId": "78523fa2-2cb0-42b2-a253-83ac0c2df596"
      },
      "source": [
        "print(population_region)"
      ],
      "execution_count": 34,
      "outputs": [
        {
          "output_type": "stream",
          "text": [
            "[97 77 52 88  2 35 93]\n"
          ],
          "name": "stdout"
        }
      ]
    },
    {
      "cell_type": "markdown",
      "metadata": {
        "id": "YfNZPM0XzI_5"
      },
      "source": [
        "### TOWER COST"
      ]
    },
    {
      "cell_type": "code",
      "metadata": {
        "id": "BNrY_NmKzI_5",
        "colab": {
          "base_uri": "https://localhost:8080/"
        },
        "outputId": "f87b64e8-4a5a-4254-9295-ada089e9fdc7"
      },
      "source": [
        "print(tower_cost)"
      ],
      "execution_count": 35,
      "outputs": [
        {
          "output_type": "stream",
          "text": [
            "[27 90 46 47  1 61 48 32 54 51 14]\n"
          ],
          "name": "stdout"
        }
      ]
    },
    {
      "cell_type": "markdown",
      "metadata": {
        "id": "q8D5-nlHzI_6"
      },
      "source": [
        "### BUDGET"
      ]
    },
    {
      "cell_type": "code",
      "metadata": {
        "id": "j0MQ8QfDzI_6",
        "colab": {
          "base_uri": "https://localhost:8080/"
        },
        "outputId": "ccbcabe9-65b9-4940-df30-0897576a0641"
      },
      "source": [
        "print(budget)"
      ],
      "execution_count": 36,
      "outputs": [
        {
          "output_type": "stream",
          "text": [
            "326\n"
          ],
          "name": "stdout"
        }
      ]
    },
    {
      "cell_type": "markdown",
      "metadata": {
        "id": "kzLrdijxzI_7"
      },
      "source": [
        "# PEQNP TENSOR MODEL"
      ]
    },
    {
      "cell_type": "code",
      "metadata": {
        "tags": [],
        "id": "2F326iKnzI_7",
        "colab": {
          "base_uri": "https://localhost:8080/"
        },
        "outputId": "b91249b7-5d0e-4466-d283-640cb85d0dfb"
      },
      "source": [
        "!pip install peqnp\n",
        "import peqnp as cnf\n",
        "import functools\n",
        "import operator\n",
        "\n",
        "cost = budget\n",
        "while True:\n",
        "    optimal = 0\n",
        "    X_opt = None\n",
        "    while True:\n",
        "\n",
        "        cnf.engine(10)\n",
        "\n",
        "        X = cnf.tensor(dimensions=(number_of_towers, number_of_regions))\n",
        "\n",
        "        # ensure that at least one tower that covers a region must be selected.\n",
        "        for i in range(number_of_towers):\n",
        "            assert sum(X[[i, j]](0, 1) for j in range(number_of_regions)) <= 1\n",
        "\n",
        "        # ensure that at least one tower that covers a region must be selected.\n",
        "        for j in range(number_of_regions):\n",
        "            assert sum(X[[i, j]](0, 1) for i in range(number_of_towers)) >= 1\n",
        "\n",
        "        # ensure that the total cost of building towers do not exceed the allocated budget.\n",
        "        assert sum(functools.reduce(operator.ior, [X[[i, j]](0, 1) for j in range(number_of_regions)]) * tower_cost[i] for i in range(number_of_towers)) <= cost\n",
        "\n",
        "\n",
        "        # We seek to maximize the total population covered by the towers.\n",
        "        assert sum(X[[i, j]](0, population_region[j] * tower_coverage[i, j]) for i in range(number_of_towers) for j in range(number_of_regions)) > optimal\n",
        "\n",
        "        if cnf.satisfy(turbo=True):\n",
        "            X_opt = np.vectorize(int)(X.binary)\n",
        "            optimal = sum(X_opt[i][j] * population_region[j] * tower_coverage[i, j] for i in range(number_of_towers) for j in range(number_of_regions))        \n",
        "            print(optimal)\n",
        "        else:\n",
        "            if X_opt is None:\n",
        "                print('Infeasible...')   \n",
        "            else:\n",
        "                optimal = sum(X_opt[i][j] * population_region[j] * tower_coverage[i, j] for i in range(number_of_towers) for j in range(number_of_regions))        \n",
        "\n",
        "                cost = 0\n",
        "                for i in range(number_of_towers):\n",
        "                    if sum(X_opt[i]) > 0:\n",
        "                        cost += tower_cost[i]\n",
        "                \n",
        "                covering = 0\n",
        "                for j in range(number_of_regions):\n",
        "                    if sum(X_opt[i][j] for i in range(number_of_towers)) > 0:\n",
        "                        covering += population_region[j]\n",
        "\n",
        "                print(80 * '-')\n",
        "                print('COST     vs BUDGET      : {} vs {}'.format(cost, budget))\n",
        "                print('COVERING vd OVER COVERING vs POPULATION  : {} vs {} vs {}'.format(covering, optimal, sum(population_region)))\n",
        "                print('TOWERS:')\n",
        "                for i in range(number_of_towers):\n",
        "                    if sum(X_opt[i]) > 0:\n",
        "                        print('TOWER Nº {}'.format(i + 1))\n",
        "                print(80 * '-')\n",
        "                print(X_opt)\n",
        "                cost -= 1\n",
        "            break \n",
        "    if X_opt is None:\n",
        "        print('OPTIMAL!') \n",
        "        break "
      ],
      "execution_count": 37,
      "outputs": [
        {
          "output_type": "stream",
          "text": [
            "Requirement already satisfied: peqnp in /usr/local/lib/python3.6/dist-packages (6.0.0)\n",
            "392\n",
            "477\n",
            "485\n",
            "494\n",
            "521\n",
            "532\n",
            "541\n",
            "544\n",
            "565\n",
            "607\n",
            "625\n",
            "634\n",
            "--------------------------------------------------------------------------------\n",
            "COST     vs BUDGET      : 320 vs 326\n",
            "COVERING vd OVER COVERING vs POPULATION  : 444 vs 634 vs 444\n",
            "TOWERS:\n",
            "TOWER Nº 1\n",
            "TOWER Nº 3\n",
            "TOWER Nº 4\n",
            "TOWER Nº 5\n",
            "TOWER Nº 7\n",
            "TOWER Nº 8\n",
            "TOWER Nº 9\n",
            "TOWER Nº 10\n",
            "TOWER Nº 11\n",
            "--------------------------------------------------------------------------------\n",
            "[[0 0 0 0 0 0 1]\n",
            " [0 0 0 0 0 0 0]\n",
            " [0 0 0 1 0 0 0]\n",
            " [0 0 0 0 0 1 0]\n",
            " [1 0 0 0 0 0 0]\n",
            " [0 0 0 0 0 0 0]\n",
            " [0 0 0 0 0 0 1]\n",
            " [0 0 1 0 0 0 0]\n",
            " [0 0 0 0 1 0 0]\n",
            " [0 1 0 0 0 0 0]\n",
            " [1 0 0 0 0 0 0]]\n",
            "444\n",
            "480\n",
            "535\n",
            "539\n",
            "541\n",
            "--------------------------------------------------------------------------------\n",
            "COST     vs BUDGET      : 318 vs 326\n",
            "COVERING vd OVER COVERING vs POPULATION  : 444 vs 541 vs 444\n",
            "TOWERS:\n",
            "TOWER Nº 1\n",
            "TOWER Nº 2\n",
            "TOWER Nº 3\n",
            "TOWER Nº 4\n",
            "TOWER Nº 5\n",
            "TOWER Nº 6\n",
            "TOWER Nº 8\n",
            "TOWER Nº 11\n",
            "--------------------------------------------------------------------------------\n",
            "[[0 1 0 0 0 0 0]\n",
            " [1 0 0 0 0 0 0]\n",
            " [0 0 1 0 0 0 0]\n",
            " [0 0 0 1 0 0 0]\n",
            " [0 0 0 0 0 0 1]\n",
            " [0 0 0 0 0 1 0]\n",
            " [0 0 0 0 0 0 0]\n",
            " [0 0 0 0 1 0 0]\n",
            " [0 0 0 0 0 0 0]\n",
            " [0 0 0 0 0 0 0]\n",
            " [1 0 0 0 0 0 0]]\n",
            "390\n",
            "442\n",
            "444\n",
            "494\n",
            "541\n",
            "--------------------------------------------------------------------------------\n",
            "COST     vs BUDGET      : 286 vs 326\n",
            "COVERING vd OVER COVERING vs POPULATION  : 444 vs 541 vs 444\n",
            "TOWERS:\n",
            "TOWER Nº 1\n",
            "TOWER Nº 3\n",
            "TOWER Nº 5\n",
            "TOWER Nº 6\n",
            "TOWER Nº 8\n",
            "TOWER Nº 9\n",
            "TOWER Nº 10\n",
            "TOWER Nº 11\n",
            "--------------------------------------------------------------------------------\n",
            "[[0 0 0 0 1 0 0]\n",
            " [0 0 0 0 0 0 0]\n",
            " [0 0 1 0 0 0 0]\n",
            " [0 0 0 0 0 0 0]\n",
            " [0 0 0 0 0 0 1]\n",
            " [1 0 0 0 0 0 0]\n",
            " [0 0 0 0 0 0 0]\n",
            " [0 0 0 1 0 0 0]\n",
            " [0 0 0 0 0 1 0]\n",
            " [0 1 0 0 0 0 0]\n",
            " [1 0 0 0 0 0 0]]\n",
            "409\n",
            "444\n",
            "537\n",
            "541\n",
            "--------------------------------------------------------------------------------\n",
            "COST     vs BUDGET      : 279 vs 326\n",
            "COVERING vd OVER COVERING vs POPULATION  : 444 vs 541 vs 444\n",
            "TOWERS:\n",
            "TOWER Nº 1\n",
            "TOWER Nº 3\n",
            "TOWER Nº 4\n",
            "TOWER Nº 5\n",
            "TOWER Nº 6\n",
            "TOWER Nº 8\n",
            "TOWER Nº 10\n",
            "TOWER Nº 11\n",
            "--------------------------------------------------------------------------------\n",
            "[[0 0 0 0 1 0 0]\n",
            " [0 0 0 0 0 0 0]\n",
            " [0 0 1 0 0 0 0]\n",
            " [0 0 0 1 0 0 0]\n",
            " [1 0 0 0 0 0 0]\n",
            " [0 0 0 0 0 1 0]\n",
            " [0 0 0 0 0 0 0]\n",
            " [0 1 0 0 0 0 0]\n",
            " [0 0 0 0 0 0 0]\n",
            " [0 0 0 0 0 0 1]\n",
            " [1 0 0 0 0 0 0]]\n",
            "279\n",
            "345\n",
            "445\n",
            "449\n",
            "460\n",
            "469\n",
            "478\n",
            "519\n",
            "537\n",
            "539\n",
            "541\n",
            "--------------------------------------------------------------------------------\n",
            "COST     vs BUDGET      : 273 vs 326\n",
            "COVERING vd OVER COVERING vs POPULATION  : 444 vs 541 vs 444\n",
            "TOWERS:\n",
            "TOWER Nº 1\n",
            "TOWER Nº 3\n",
            "TOWER Nº 5\n",
            "TOWER Nº 7\n",
            "TOWER Nº 8\n",
            "TOWER Nº 9\n",
            "TOWER Nº 10\n",
            "TOWER Nº 11\n",
            "--------------------------------------------------------------------------------\n",
            "[[0 0 0 0 0 0 1]\n",
            " [0 0 0 0 0 0 0]\n",
            " [0 0 0 0 0 1 0]\n",
            " [0 0 0 0 0 0 0]\n",
            " [1 0 0 0 0 0 0]\n",
            " [0 0 0 0 0 0 0]\n",
            " [0 0 0 1 0 0 0]\n",
            " [0 0 1 0 0 0 0]\n",
            " [0 0 0 0 1 0 0]\n",
            " [0 1 0 0 0 0 0]\n",
            " [1 0 0 0 0 0 0]]\n",
            "321\n",
            "442\n",
            "444\n",
            "446\n",
            "539\n",
            "541\n",
            "--------------------------------------------------------------------------------\n",
            "COST     vs BUDGET      : 266 vs 326\n",
            "COVERING vd OVER COVERING vs POPULATION  : 444 vs 541 vs 444\n",
            "TOWERS:\n",
            "TOWER Nº 1\n",
            "TOWER Nº 3\n",
            "TOWER Nº 4\n",
            "TOWER Nº 5\n",
            "TOWER Nº 7\n",
            "TOWER Nº 8\n",
            "TOWER Nº 10\n",
            "TOWER Nº 11\n",
            "--------------------------------------------------------------------------------\n",
            "[[0 0 0 0 1 0 0]\n",
            " [0 0 0 0 0 0 0]\n",
            " [0 0 1 0 0 0 0]\n",
            " [0 0 0 1 0 0 0]\n",
            " [1 0 0 0 0 0 0]\n",
            " [0 0 0 0 0 0 0]\n",
            " [0 1 0 0 0 0 0]\n",
            " [0 0 0 0 0 1 0]\n",
            " [0 0 0 0 0 0 0]\n",
            " [0 0 0 0 0 0 1]\n",
            " [1 0 0 0 0 0 0]]\n",
            "442\n",
            "444\n",
            "--------------------------------------------------------------------------------\n",
            "COST     vs BUDGET      : 258 vs 326\n",
            "COVERING vd OVER COVERING vs POPULATION  : 444 vs 444 vs 444\n",
            "TOWERS:\n",
            "TOWER Nº 1\n",
            "TOWER Nº 2\n",
            "TOWER Nº 3\n",
            "TOWER Nº 5\n",
            "TOWER Nº 7\n",
            "TOWER Nº 8\n",
            "TOWER Nº 11\n",
            "--------------------------------------------------------------------------------\n",
            "[[0 0 0 0 1 0 0]\n",
            " [0 0 0 0 0 0 1]\n",
            " [0 0 0 1 0 0 0]\n",
            " [0 0 0 0 0 0 0]\n",
            " [1 0 0 0 0 0 0]\n",
            " [0 0 0 0 0 0 0]\n",
            " [0 0 0 0 0 1 0]\n",
            " [0 0 1 0 0 0 0]\n",
            " [0 0 0 0 0 0 0]\n",
            " [0 0 0 0 0 0 0]\n",
            " [0 1 0 0 0 0 0]]\n",
            "244\n",
            "355\n",
            "442\n",
            "444\n",
            "--------------------------------------------------------------------------------\n",
            "COST     vs BUDGET      : 252 vs 326\n",
            "COVERING vd OVER COVERING vs POPULATION  : 444 vs 444 vs 444\n",
            "TOWERS:\n",
            "TOWER Nº 1\n",
            "TOWER Nº 4\n",
            "TOWER Nº 5\n",
            "TOWER Nº 6\n",
            "TOWER Nº 7\n",
            "TOWER Nº 9\n",
            "TOWER Nº 11\n",
            "--------------------------------------------------------------------------------\n",
            "[[0 0 0 0 0 0 1]\n",
            " [0 0 0 0 0 0 0]\n",
            " [0 0 0 0 0 0 0]\n",
            " [0 0 0 1 0 0 0]\n",
            " [0 0 0 0 1 0 0]\n",
            " [0 0 0 0 0 1 0]\n",
            " [0 1 0 0 0 0 0]\n",
            " [0 0 0 0 0 0 0]\n",
            " [0 0 1 0 0 0 0]\n",
            " [0 0 0 0 0 0 0]\n",
            " [1 0 0 0 0 0 0]]\n",
            "390\n",
            "442\n",
            "444\n",
            "--------------------------------------------------------------------------------\n",
            "COST     vs BUDGET      : 244 vs 326\n",
            "COVERING vd OVER COVERING vs POPULATION  : 444 vs 444 vs 444\n",
            "TOWERS:\n",
            "TOWER Nº 1\n",
            "TOWER Nº 3\n",
            "TOWER Nº 4\n",
            "TOWER Nº 5\n",
            "TOWER Nº 6\n",
            "TOWER Nº 7\n",
            "TOWER Nº 11\n",
            "--------------------------------------------------------------------------------\n",
            "[[0 1 0 0 0 0 0]\n",
            " [0 0 0 0 0 0 0]\n",
            " [0 0 0 0 0 1 0]\n",
            " [0 0 0 0 0 0 1]\n",
            " [0 0 0 0 1 0 0]\n",
            " [1 0 0 0 0 0 0]\n",
            " [0 0 0 1 0 0 0]\n",
            " [0 0 0 0 0 0 0]\n",
            " [0 0 0 0 0 0 0]\n",
            " [0 0 0 0 0 0 0]\n",
            " [0 0 1 0 0 0 0]]\n",
            "356\n",
            "390\n",
            "444\n",
            "--------------------------------------------------------------------------------\n",
            "COST     vs BUDGET      : 228 vs 326\n",
            "COVERING vd OVER COVERING vs POPULATION  : 444 vs 444 vs 444\n",
            "TOWERS:\n",
            "TOWER Nº 1\n",
            "TOWER Nº 3\n",
            "TOWER Nº 4\n",
            "TOWER Nº 5\n",
            "TOWER Nº 6\n",
            "TOWER Nº 8\n",
            "TOWER Nº 11\n",
            "--------------------------------------------------------------------------------\n",
            "[[0 0 0 0 1 0 0]\n",
            " [0 0 0 0 0 0 0]\n",
            " [0 0 1 0 0 0 0]\n",
            " [0 0 0 0 0 0 1]\n",
            " [1 0 0 0 0 0 0]\n",
            " [0 0 0 0 0 1 0]\n",
            " [0 0 0 0 0 0 0]\n",
            " [0 0 0 1 0 0 0]\n",
            " [0 0 0 0 0 0 0]\n",
            " [0 0 0 0 0 0 0]\n",
            " [0 1 0 0 0 0 0]]\n",
            "310\n",
            "355\n",
            "367\n",
            "444\n",
            "--------------------------------------------------------------------------------\n",
            "COST     vs BUDGET      : 215 vs 326\n",
            "COVERING vd OVER COVERING vs POPULATION  : 444 vs 444 vs 444\n",
            "TOWERS:\n",
            "TOWER Nº 1\n",
            "TOWER Nº 3\n",
            "TOWER Nº 4\n",
            "TOWER Nº 5\n",
            "TOWER Nº 7\n",
            "TOWER Nº 8\n",
            "TOWER Nº 11\n",
            "--------------------------------------------------------------------------------\n",
            "[[0 0 0 0 1 0 0]\n",
            " [0 0 0 0 0 0 0]\n",
            " [0 0 0 1 0 0 0]\n",
            " [0 0 0 0 0 0 1]\n",
            " [1 0 0 0 0 0 0]\n",
            " [0 0 0 0 0 0 0]\n",
            " [0 1 0 0 0 0 0]\n",
            " [0 0 0 0 0 1 0]\n",
            " [0 0 0 0 0 0 0]\n",
            " [0 0 0 0 0 0 0]\n",
            " [0 0 1 0 0 0 0]]\n",
            "Infeasible...\n",
            "OPTIMAL!\n"
          ],
          "name": "stdout"
        }
      ]
    },
    {
      "cell_type": "markdown",
      "metadata": {
        "id": "68uXW0wozI_8"
      },
      "source": [
        "#### Copyright © 2021 PEQNP"
      ]
    },
    {
      "cell_type": "code",
      "metadata": {
        "id": "Hj8Yu0S2zI_8"
      },
      "source": [
        ""
      ],
      "execution_count": 15,
      "outputs": []
    }
  ]
}