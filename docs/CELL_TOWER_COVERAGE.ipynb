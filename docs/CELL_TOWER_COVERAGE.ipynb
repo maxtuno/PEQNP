{
 "metadata": {
  "language_info": {
   "codemirror_mode": {
    "name": "ipython",
    "version": 3
   },
   "file_extension": ".py",
   "mimetype": "text/x-python",
   "name": "python",
   "nbconvert_exporter": "python",
   "pygments_lexer": "ipython3",
   "version": "3.9.1-final"
  },
  "orig_nbformat": 2,
  "kernelspec": {
   "name": "python3",
   "display_name": "Python 3",
   "language": "python"
  }
 },
 "nbformat": 4,
 "nbformat_minor": 2,
 "cells": [
  {
   "source": [
    "# CELL TOWER COVERAGE\n",
    "\n",
    "## Problem Description\n",
    "\n",
    "A telecommunications company needs to build a set of mobile phone towers to provide signal coverage to the inhabitants of a given city. Several potential locations have been identified where the towers could be built. The towers have a fixed range and due to budget restrictions, only a limited number of them can be built. Given these restrictions, the company wants to provide coverage to the largest possible percentage of the population. To simplify the problem, the company has divided the area it wants to cover into a set of regions, each of which has a known population. The objective is then to choose in which of the potential locations the company should build cell phone towers, to provide coverage to as many people as possible. "
   ],
   "cell_type": "markdown",
   "metadata": {}
  },
  {
   "source": [
    "### RANDOM DATA GENERATION"
   ],
   "cell_type": "markdown",
   "metadata": {}
  },
  {
   "cell_type": "code",
   "execution_count": 2,
   "metadata": {},
   "outputs": [],
   "source": [
    "import numpy as np\n",
    "\n",
    "number_of_towers = 20\n",
    "number_of_regions = 10\n",
    "\n",
    "tower_coverage = np.random.randint(0, 2, size=(number_of_towers, number_of_regions))\n",
    "population_region = np.random.randint(1, 100, size=(number_of_regions))\n",
    "tower_cost = np.random.randint(1, 100, size=(number_of_towers))\n",
    "budget = np.random.randint(1, 1000)"
   ]
  },
  {
   "source": [
    "### TOWER COVERAGE BY REGION"
   ],
   "cell_type": "markdown",
   "metadata": {}
  },
  {
   "cell_type": "code",
   "execution_count": 3,
   "metadata": {},
   "outputs": [
    {
     "output_type": "stream",
     "name": "stdout",
     "text": [
      "[[0 1 1 1 1 1 1 1 1 0]\n [0 0 1 1 0 1 1 1 1 1]\n [1 0 1 0 0 1 1 1 0 1]\n [1 0 1 0 0 0 0 0 0 1]\n [0 1 0 1 0 1 0 1 0 0]\n [0 1 1 0 1 0 1 0 1 1]\n [0 0 1 0 0 0 0 1 0 1]\n [1 0 1 1 1 1 0 0 1 1]\n [0 0 1 1 0 1 0 0 0 0]\n [1 1 1 0 0 1 1 1 1 1]\n [0 0 0 1 0 1 1 1 1 0]\n [0 0 1 1 0 0 0 0 0 1]\n [0 0 0 1 0 0 1 1 0 0]\n [1 0 0 1 0 0 1 1 0 0]\n [0 1 0 1 0 0 0 0 0 1]\n [0 0 1 0 0 0 1 0 0 0]\n [1 0 1 1 0 0 0 0 0 1]\n [0 1 1 1 1 0 0 0 0 1]\n [1 0 0 1 0 0 0 0 0 1]\n [1 0 0 0 1 0 0 0 1 0]]\n"
     ]
    }
   ],
   "source": [
    "print(tower_coverage)"
   ]
  },
  {
   "source": [
    "### POPULATION BY REGION"
   ],
   "cell_type": "markdown",
   "metadata": {}
  },
  {
   "cell_type": "code",
   "execution_count": 4,
   "metadata": {},
   "outputs": [
    {
     "output_type": "stream",
     "name": "stdout",
     "text": [
      "[27 18 16 82 38 54 44 69 62 93]\n"
     ]
    }
   ],
   "source": [
    "print(population_region)"
   ]
  },
  {
   "source": [
    "### TOWER COST"
   ],
   "cell_type": "markdown",
   "metadata": {}
  },
  {
   "cell_type": "code",
   "execution_count": 5,
   "metadata": {},
   "outputs": [
    {
     "output_type": "stream",
     "name": "stdout",
     "text": [
      "[26 45 51 88 35 66 50 11 86 11 75 81 71 12 88 38 73  4 33  1]\n"
     ]
    }
   ],
   "source": [
    "print(tower_cost)"
   ]
  },
  {
   "source": [
    "### BUDGET"
   ],
   "cell_type": "markdown",
   "metadata": {}
  },
  {
   "cell_type": "code",
   "execution_count": 6,
   "metadata": {},
   "outputs": [
    {
     "output_type": "stream",
     "name": "stdout",
     "text": [
      "423\n"
     ]
    }
   ],
   "source": [
    "print(budget)"
   ]
  },
  {
   "source": [
    "# PEQNP TENSOR MODEL"
   ],
   "cell_type": "markdown",
   "metadata": {}
  },
  {
   "cell_type": "code",
   "execution_count": 7,
   "metadata": {
    "tags": []
   },
   "outputs": [
    {
     "output_type": "stream",
     "name": "stdout",
     "text": [
      "797\n",
      "813\n",
      "864\n",
      "916\n",
      "967\n",
      "1008\n",
      "1017\n",
      "1023\n",
      "[[0 0 0 0 0 0 1 0 0 0]\n",
      " [0 0 0 0 0 0 1 0 0 0]\n",
      " [0 0 0 0 0 0 0 1 0 0]\n",
      " [1 0 0 0 0 0 0 0 0 0]\n",
      " [0 0 0 1 0 0 0 0 0 0]\n",
      " [0 0 1 0 0 0 0 0 0 0]\n",
      " [0 1 0 0 0 0 0 0 0 0]\n",
      " [1 0 0 0 0 0 0 0 0 0]\n",
      " [0 0 0 0 0 1 0 0 0 0]\n",
      " [0 0 0 0 0 0 0 1 0 0]\n",
      " [0 0 0 0 0 0 0 1 0 0]\n",
      " [0 0 0 0 0 0 0 0 0 1]\n",
      " [0 0 0 0 0 0 0 1 0 0]\n",
      " [0 0 0 0 0 0 0 0 1 0]\n",
      " [0 0 0 0 0 0 0 0 0 1]\n",
      " [0 0 1 0 0 0 0 0 0 0]\n",
      " [0 0 0 0 0 0 0 0 0 1]\n",
      " [0 0 0 0 0 0 0 0 0 1]\n",
      " [1 0 0 0 0 0 0 0 0 0]\n",
      " [0 0 0 0 1 0 0 0 0 0]]\n"
     ]
    }
   ],
   "source": [
    "import peqnp as cnf\n",
    "\n",
    "cnf.engine(10)\n",
    "\n",
    "X = cnf.tensor(dimensions=(number_of_towers, number_of_regions))\n",
    "\n",
    "# ensure that at least one tower that covers a region must be selected.\n",
    "for i in range(number_of_towers):\n",
    "    assert sum(X[[i, j]](0, 1) for j in range(number_of_regions)) == 1\n",
    "\n",
    "# ensure that at least one tower that covers a region must be selected.\n",
    "for j in range(number_of_regions):\n",
    "    assert sum(X[[i, j]](0, 1) for i in range(number_of_towers)) >= 1    \n",
    "\n",
    "# ensure that the total cost of building towers do not exceed the allocated budget.\n",
    "for i in range(number_of_towers):\n",
    "    assert sum(X[[i, j]](0, tower_cost[i]) for j in range(number_of_regions)) <= budget\n",
    "\n",
    "X_opt = None\n",
    "optimal = 0\n",
    "while True:\n",
    "    \n",
    "    # We seek to maximize the total population covered by the towers.\n",
    "    assert sum(X[[i, j]](0, population_region[j] * tower_coverage[i, j]) for i in range(number_of_towers) for j in range(number_of_regions)) > optimal\n",
    "\n",
    "    if cnf.satisfy(turbo=True):\n",
    "        X_opt = np.vectorize(int)(X.binary)\n",
    "        optimal = sum(X_opt[i][j] * population_region[j] * tower_coverage[i, j] for i in range(number_of_towers) for j in range(number_of_regions))        \n",
    "        print(optimal)\n",
    "    else:\n",
    "        print(X_opt)\n",
    "        break\n",
    "\n",
    "if X_opt is None:\n",
    "    print('Infeasible...')    "
   ]
  },
  {
   "source": [
    "#### Copyright © 2021 PEQNP"
   ],
   "cell_type": "markdown",
   "metadata": {}
  },
  {
   "cell_type": "code",
   "execution_count": null,
   "metadata": {},
   "outputs": [],
   "source": []
  }
 ]
}