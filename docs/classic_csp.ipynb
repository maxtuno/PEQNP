{
 "cells": [
  {
   "cell_type": "markdown",
   "source": [
    "# Eight queens puzzle\n",
    "\n",
    "The eight queens puzzle is the problem of placing eight chess queens on an 8×8 chessboard so that no two queens threaten each other; thus, a solution requires that no two queens share the same row, column, or diagonal. The eight queens puzzle is an example of the more general n queens problem of placing n non-attacking queens on an n×n chessboard, for which solutions exist for all natural numbers n with the exception of n = 2 and n = 3.\n",
    "\n",
    "https://en.wikipedia.org/wiki/Eight_queens_puzzle"
   ],
   "metadata": {
    "collapsed": false
   }
  },
  {
   "cell_type": "code",
   "execution_count": 3,
   "outputs": [
    {
     "name": "stdout",
     "output_type": "stream",
     "text": [
      "Q . . . . . . . \n",
      ". . . . . . Q . \n",
      ". . . . Q . . . \n",
      ". . . . . . . Q \n",
      ". Q . . . . . . \n",
      ". . . Q . . . . \n",
      ". . . . . Q . . \n",
      ". . Q . . . . . \n",
      "\n"
     ]
    }
   ],
   "source": [
    "import peqnp as pn\n",
    "\n",
    "n = 8\n",
    "\n",
    "pn.engine(n.bit_length() + 1)\n",
    "\n",
    "qs = pn.vector(size=n, key='qs')\n",
    "\n",
    "pn.all_different(qs)\n",
    "pn.all_different([qs[i] + i for i in range(n)])\n",
    "pn.all_different([qs[i] - i for i in range(n)])\n",
    "\n",
    "pn.apply_single(qs, lambda x: x < n)\n",
    "\n",
    "while pn.satisfy(turbo=True, log=True):\n",
    "    for i in range(n):\n",
    "        print(''.join(['Q ' if qs[i] == j else '. ' for j in range(n)]))\n",
    "    print('')"
   ],
   "metadata": {
    "collapsed": false,
    "pycharm": {
     "name": "#%%\n"
    }
   }
  },
  {
   "cell_type": "markdown",
   "source": [
    "# All-Interval Series\n",
    "\n",
    "Given the twelve standard pitch-classes c, c#, d, ..., represented by numbers $0,1,…,11$, find a series in which each pitch-class occurs exactly once and in which the musical intervals between neighbouring notes cover the full set of intervals from the minor second (1 semitone) to the major seventh (11 semitones). That is, for each of the intervals, there is a pair of neighbouring pitch-classes in the series, between which this interval appears.\n",
    "\n",
    "The problem of finding such a series can be easily formulated as an instance of a more general arithmetic problem on ℤn\n",
    ", the set of integer residues modulo n. Given $n\\in \\mathbb{N}$\n",
    ", find a vector $s=(s_{1},\\dots,s_{n})$\n",
    ", such that s is a permutation of $\\mathbb{Z}_{n}=0,1,\\dots,n−1$\n",
    "; and the interval vector $v=(|s_{2}−s_{1}|,|s_{3}−s_{2}|,\\dots|s_{n}−s_{n−1}|)$ is a permutation of $\\mathbb{Z}_{n}∖{0}={1,2,\\dots,n−1}$\n",
    ".A vector v satisfying these conditions is called an all-interval series of size n.\n",
    "\n",
    "https://www.csplib.org/Problems/prob007/"
   ],
   "metadata": {
    "collapsed": false,
    "pycharm": {
     "name": "#%% md\n"
    }
   }
  },
  {
   "cell_type": "code",
   "execution_count": 4,
   "outputs": [
    {
     "name": "stdout",
     "output_type": "stream",
     "text": [
      "[2, 9, 10, 8, 4, 7, 6, 0, 5, 1, 11, 3] [7, 1, 2, 4, 3, 1, 6, 5, 4, 10, 8]\n"
     ]
    }
   ],
   "source": [
    "import peqnp as pn\n",
    "\n",
    "n = 12\n",
    "\n",
    "pn.engine(n.bit_length())\n",
    "\n",
    "xs = pn.vector(size=n, key='xs')\n",
    "ys = [abs(xs[i + 1] - xs[i]) for i in range(n - 1)]\n",
    "\n",
    "pn.apply_single(xs, lambda x: x < n)\n",
    "\n",
    "pn.all_different(xs)\n",
    "pn.all_different(ys)\n",
    "\n",
    "if pn.satisfy(turbo=True, log=True):\n",
    "    print(xs, [abs(xs[i + 1] - xs[i]) for i in range(n - 1)])"
   ],
   "metadata": {
    "collapsed": false,
    "pycharm": {
     "name": "#%%\n"
    }
   }
  },
  {
   "cell_type": "code",
   "execution_count": null,
   "outputs": [],
   "source": [],
   "metadata": {
    "collapsed": false,
    "pycharm": {
     "name": "#%%\n"
    }
   }
  }
 ],
 "metadata": {
  "kernelspec": {
   "display_name": "Python 3",
   "language": "python",
   "name": "python3"
  },
  "language_info": {
   "codemirror_mode": {
    "name": "ipython",
    "version": 2
   },
   "file_extension": ".py",
   "mimetype": "text/x-python",
   "name": "python",
   "nbconvert_exporter": "python",
   "pygments_lexer": "ipython2",
   "version": "2.7.6"
  }
 },
 "nbformat": 4,
 "nbformat_minor": 0
}