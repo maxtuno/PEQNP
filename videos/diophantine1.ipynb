{
  "nbformat": 4,
  "nbformat_minor": 0,
  "metadata": {
    "colab": {
      "name": "diophantine1.ipynb",
      "provenance": [],
      "collapsed_sections": []
    },
    "kernelspec": {
      "name": "python3",
      "display_name": "Python 3"
    }
  },
  "cells": [
    {
      "cell_type": "markdown",
      "metadata": {
        "id": "jc8iZ5FVk9BP",
        "colab_type": "text"
      },
      "source": [
        "Solve $x^2 + y^6 = z^n$ with $n\\ge 3$\n",
        "\n",
        "video: https://youtu.be/914-WeyOYtY \n",
        "\n"
      ]
    },
    {
      "cell_type": "code",
      "metadata": {
        "id": "ALe3eE2SlViC",
        "colab_type": "code",
        "colab": {
          "base_uri": "https://localhost:8080/",
          "height": 34
        },
        "outputId": "afbba734-a78d-4857-c2bc-4015f3cfe1de"
      },
      "source": [
        "!pip install PEQNP"
      ],
      "execution_count": 1,
      "outputs": [
        {
          "output_type": "stream",
          "text": [
            "Requirement already satisfied: PEQNP in /usr/local/lib/python3.6/dist-packages (0.1.29)\n"
          ],
          "name": "stdout"
        }
      ]
    },
    {
      "cell_type": "code",
      "metadata": {
        "id": "-8NFVedXeNxI",
        "colab_type": "code",
        "colab": {
          "base_uri": "https://localhost:8080/",
          "height": 34
        },
        "outputId": "35f96e68-4183-4660-bfec-fb53553cd63a"
      },
      "source": [
        "from peqnp import *\n",
        "\n",
        "# initialize the engine with 16 bits\n",
        "engine(16)\n",
        "\n",
        "# declare the integers variables\n",
        "n = integer()\n",
        "x = integer()\n",
        "y = integer()\n",
        "z = integer()\n",
        "\n",
        "# the main constraint\n",
        "assert x ** 2 + y ** 6 == z ** n\n",
        "\n",
        "# limit constraints\n",
        "assert n >= 3\n",
        "assert x != 0\n",
        "assert y != 0\n",
        "assert z != 0\n",
        "\n",
        "# satisfy? turbo is a destrutive algorithm is more fast but only can gen one solution.\n",
        "if satisfy(turbo=True):\n",
        "  print(x, y, z, n)\n",
        "else:\n",
        "  print('Infesiable on range.')"
      ],
      "execution_count": 4,
      "outputs": [
        {
          "output_type": "stream",
          "text": [
            "8 2 2 7\n"
          ],
          "name": "stdout"
        }
      ]
    },
    {
      "cell_type": "code",
      "metadata": {
        "id": "rq9lcBGal5ZS",
        "colab_type": "code",
        "colab": {
          "base_uri": "https://localhost:8080/",
          "height": 34
        },
        "outputId": "8f1a82b0-1366-437b-f695-c25b1b48e6b2"
      },
      "source": [
        "8 ** 2 + 2 ** 6, 2 ** 7"
      ],
      "execution_count": 6,
      "outputs": [
        {
          "output_type": "execute_result",
          "data": {
            "text/plain": [
              "(128, 128)"
            ]
          },
          "metadata": {
            "tags": []
          },
          "execution_count": 6
        }
      ]
    },
    {
      "cell_type": "code",
      "metadata": {
        "id": "2OlJX_a6mGcX",
        "colab_type": "code",
        "colab": {}
      },
      "source": [
        "pip install PEQNP - www.peqnp.science"
      ],
      "execution_count": 0,
      "outputs": []
    }
  ]
}