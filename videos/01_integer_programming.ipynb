{
  "nbformat": 4,
  "nbformat_minor": 0,
  "metadata": {
    "colab": {
      "name": "01-integer-programming.ipynb",
      "provenance": [],
      "collapsed_sections": []
    },
    "kernelspec": {
      "name": "python3",
      "display_name": "Python 3"
    }
  },
  "cells": [
    {
      "cell_type": "markdown",
      "metadata": {
        "id": "JQX7LeCyVKvH",
        "colab_type": "text"
      },
      "source": [
        "Given an integer matrix $C$ and integer vector $d$ exist 0-1 vector $x$ such that Cx=d?\n",
        "\n",
        "video:  https://youtu.be/6wQ1DwCNz2E "
      ]
    },
    {
      "cell_type": "code",
      "metadata": {
        "id": "Gu0BJoaZVXcs",
        "colab_type": "code",
        "colab": {}
      },
      "source": [
        "!pip install PEQNP"
      ],
      "execution_count": 0,
      "outputs": []
    },
    {
      "cell_type": "code",
      "metadata": {
        "id": "JEXzGy1KVpC7",
        "colab_type": "code",
        "colab": {}
      },
      "source": [
        "import numpy as np\n",
        "from peqnp import *"
      ],
      "execution_count": 0,
      "outputs": []
    },
    {
      "cell_type": "code",
      "metadata": {
        "id": "lqg_duY-V1io",
        "colab_type": "code",
        "colab": {
          "base_uri": "https://localhost:8080/",
          "height": 382
        },
        "outputId": "7a726477-e0dc-485e-dbee-3084b6e8e554"
      },
      "source": [
        "bits = 10\n",
        "n, m = 10, 20\n",
        "\n",
        "cc = np.random.randint(0, 2 ** bits, size=(n, m))\n",
        "d = np.dot(cc, np.random.randint(0, 2, size=(m,)))\n",
        "\n",
        "print(cc)\n",
        "print(d)"
      ],
      "execution_count": 9,
      "outputs": [
        {
          "output_type": "stream",
          "text": [
            "[[ 490  165  307  862  593  398  701 1014  616  151  718  659  150   30\n",
            "   603  833   45  290  453  370]\n",
            " [ 883  981  194  971  703  937  332  652  529  873  281  167   63  202\n",
            "   997  269   66  671  743 1009]\n",
            " [ 162  683  551  361   53  836  283  293 1015   32  350  231  727   28\n",
            "   784   68  219  505  704  976]\n",
            " [1004  766  744  714  225  886  895  531  620  756  669  125  804  323\n",
            "   522  483  308  319  517  397]\n",
            " [ 575  230  591  741   52  111  245  959  995  655  790  954  205  409\n",
            "   759   13  870  314  177  322]\n",
            " [ 369  646  409  877  446  298  371  215  273  880  684  427  715   35\n",
            "   201  160  452   14  620  821]\n",
            " [ 883  710  362  104    7  893  324    5  357  117  647  679  182  617\n",
            "   992  608   97  669   66  522]\n",
            " [ 125   74  659  313  504  696  310  919  356  535  900  310    7  638\n",
            "   928  560  925  154  506  909]\n",
            " [ 431  244  705  565  291  748  883  911  198  533  792  361  208 1009\n",
            "   532   62  302  102  412   88]\n",
            " [ 516  813  600  881  871  795  782  630  764  543  271  151  931  462\n",
            "   330  306  413  514   88  162]]\n",
            "[5201 6895 5649 6814 5044 4636 4574 4824 4672 6885]\n"
          ],
          "name": "stdout"
        }
      ]
    },
    {
      "cell_type": "code",
      "metadata": {
        "id": "4Gp7BqyCV7VV",
        "colab_type": "code",
        "colab": {
          "base_uri": "https://localhost:8080/",
          "height": 52
        },
        "outputId": "2b8ce5cb-98f8-4446-8072-73920658b088"
      },
      "source": [
        "# initialize the engine with suffient bits in this case the sum of all elements of the matrix.\n",
        "engine(bits=int(np.sum(cc)).bit_length())\n",
        "\n",
        "# declare a vector of size m\n",
        "xs = vector(size=m)\n",
        "\n",
        "# the all elements of the vector are binaries\n",
        "all_binaries(xs)\n",
        "\n",
        "# satisfy the constraint for the problem\n",
        "assert (np.dot(cc, xs) == d).all()\n",
        "\n",
        "# satisfy? use turbo for fast result, remember that with this option you can get only one solution.\n",
        "if satisfy(turbo=True):\n",
        "    print(xs)\n",
        "    print(np.dot(cc, xs))\n",
        "else:\n",
        "    print('Infeasible...')"
      ],
      "execution_count": 10,
      "outputs": [
        {
          "output_type": "stream",
          "text": [
            "[1, 0, 0, 1, 1, 1, 1, 0, 1, 0, 0, 0, 1, 0, 1, 0, 1, 1, 1, 0]\n",
            "[5201 6895 5649 6814 5044 4636 4574 4824 4672 6885]\n"
          ],
          "name": "stdout"
        }
      ]
    },
    {
      "cell_type": "code",
      "metadata": {
        "id": "m4jge2-AWqlG",
        "colab_type": "code",
        "colab": {}
      },
      "source": [
        "pip install PEQNP - www.peqnp.science"
      ],
      "execution_count": 0,
      "outputs": []
    }
  ]
}