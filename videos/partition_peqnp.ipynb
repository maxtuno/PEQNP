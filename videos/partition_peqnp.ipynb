{
  "nbformat": 4,
  "nbformat_minor": 0,
  "metadata": {
    "colab": {
      "name": "partition-peqnp.ipynb",
      "provenance": [],
      "collapsed_sections": []
    },
    "kernelspec": {
      "name": "python3",
      "display_name": "Python 3"
    }
  },
  "cells": [
    {
      "cell_type": "markdown",
      "metadata": {
        "id": "nEub5i4o9GwL",
        "colab_type": "text"
      },
      "source": [
        "# Partition Problem (NP-Complete)\n",
        "Lat be $S$ a multiset of integers, exist $A,B\\subseteq S$ such that $\\Sigma A = \\Sigma B$?\n",
        "\n",
        "video: https://youtu.be/Hn5Kv1rWYrA "
      ]
    },
    {
      "cell_type": "code",
      "metadata": {
        "id": "pxBIQ5iR97Ji",
        "colab_type": "code",
        "colab": {
          "base_uri": "https://localhost:8080/",
          "height": 34
        },
        "outputId": "6978fa47-2fe2-4703-c4e3-11269433b084"
      },
      "source": [
        "!pip install PEQNP --upgrade"
      ],
      "execution_count": 21,
      "outputs": [
        {
          "output_type": "stream",
          "text": [
            "Requirement already up-to-date: PEQNP in /usr/local/lib/python3.6/dist-packages (0.1.29)\n"
          ],
          "name": "stdout"
        }
      ]
    },
    {
      "cell_type": "code",
      "metadata": {
        "id": "uq6_HZCE-FkQ",
        "colab_type": "code",
        "colab": {}
      },
      "source": [
        "import random\n",
        "from peqnp import *"
      ],
      "execution_count": 0,
      "outputs": []
    },
    {
      "cell_type": "code",
      "metadata": {
        "id": "BPRuosA3-OHv",
        "colab_type": "code",
        "colab": {
          "base_uri": "https://localhost:8080/",
          "height": 573
        },
        "outputId": "c8988e1c-eac4-48ff-e418-1ecc744fe454"
      },
      "source": [
        "bits = 16\n",
        "size = 32\n",
        "S = [random.randint(1, 2 ** bits) for _ in range(size)]\n",
        "S"
      ],
      "execution_count": 25,
      "outputs": [
        {
          "output_type": "execute_result",
          "data": {
            "text/plain": [
              "[48963,\n",
              " 17542,\n",
              " 13116,\n",
              " 17171,\n",
              " 26396,\n",
              " 63858,\n",
              " 7034,\n",
              " 35353,\n",
              " 31380,\n",
              " 52304,\n",
              " 51171,\n",
              " 59718,\n",
              " 35672,\n",
              " 53938,\n",
              " 16237,\n",
              " 40186,\n",
              " 46358,\n",
              " 32029,\n",
              " 57494,\n",
              " 22851,\n",
              " 4724,\n",
              " 22839,\n",
              " 30472,\n",
              " 25595,\n",
              " 39173,\n",
              " 56965,\n",
              " 625,\n",
              " 37846,\n",
              " 46713,\n",
              " 29663,\n",
              " 23712,\n",
              " 10511]"
            ]
          },
          "metadata": {
            "tags": []
          },
          "execution_count": 25
        }
      ]
    },
    {
      "cell_type": "code",
      "metadata": {
        "id": "E8Vzlgp0-hyy",
        "colab_type": "code",
        "colab": {
          "base_uri": "https://localhost:8080/",
          "height": 454
        },
        "outputId": "717b848a-a62d-48f4-c965-db6a364e8e96"
      },
      "source": [
        "# initialize the engine with sufficients bits to reprent the problem.\n",
        "engine(bits=sum(S).bit_length())\n",
        "\n",
        "# ñet be A, and B subsets with slots_a and slots_b as binary reprentation relative to S.\n",
        "slots_a, A = subsets(S)\n",
        "slots_b, B = subsets(S)\n",
        "\n",
        "# sum the same\n",
        "assert sum(A) == sum(B)\n",
        "\n",
        "# are complementary\n",
        "assert slots_a & slots_b == 0\n",
        "\n",
        "# delete simetries (duplicates)\n",
        "assert slots_a < slots_b \n",
        "\n",
        "while satisfy():\n",
        "  # get the materialized subsets A, and B from their binary representation relative to S.\n",
        "  A_ = [S[i] for i in range(size) if slots_a.binary[i]]\n",
        "  B_ = [S[i] for i in range(size) if slots_b.binary[i]]\n",
        "  #show that is true\n",
        "  print(sum(A_), slots_a.binary, A_)\n",
        "  print(sum(B_), slots_b.binary, B_)\n",
        "  print()"
      ],
      "execution_count": 26,
      "outputs": [
        {
          "output_type": "stream",
          "text": [
            "470854 [True, True, False, True, False, True, True, True, False, True, False, True, True, True, False, False, False, False, False, False, True, False, False, True, False, False, True, True, False, False, False, True] [48963, 17542, 17171, 63858, 7034, 35353, 52304, 59718, 35672, 53938, 4724, 25595, 625, 37846, 10511]\n",
            "470854 [False, False, False, False, True, False, False, False, False, False, False, False, False, False, True, True, True, True, True, True, False, True, True, True, True, False, True, False, True, True, True, True] [26396, 16237, 40186, 46358, 32029, 57494, 22851, 22839, 30472, 25595, 39173, 625, 46713, 29663, 23712, 10511]\n",
            "\n",
            "460343 [True, True, False, True, False, True, True, True, False, True, False, True, True, True, False, False, False, False, False, False, True, False, False, True, False, False, True, True, False, False, False, False] [48963, 17542, 17171, 63858, 7034, 35353, 52304, 59718, 35672, 53938, 4724, 25595, 625, 37846]\n",
            "460343 [False, False, False, False, True, False, False, False, False, False, False, False, False, False, True, True, True, True, True, True, False, True, True, True, True, False, True, False, True, True, True, False] [26396, 16237, 40186, 46358, 32029, 57494, 22851, 22839, 30472, 25595, 39173, 625, 46713, 29663, 23712]\n",
            "\n",
            "459718 [True, True, False, True, False, True, True, True, False, True, False, True, True, True, False, False, False, False, False, False, True, False, False, True, False, False, False, True, False, False, False, False] [48963, 17542, 17171, 63858, 7034, 35353, 52304, 59718, 35672, 53938, 4724, 25595, 37846]\n",
            "459718 [False, False, False, False, True, False, False, False, False, False, False, False, False, False, True, True, True, True, True, True, False, True, True, True, True, False, False, False, True, True, True, False] [26396, 16237, 40186, 46358, 32029, 57494, 22851, 22839, 30472, 25595, 39173, 46713, 29663, 23712]\n",
            "\n",
            "470229 [True, True, False, True, False, True, True, True, False, True, False, True, True, True, False, False, False, False, False, False, True, False, False, True, False, False, False, True, False, False, False, True] [48963, 17542, 17171, 63858, 7034, 35353, 52304, 59718, 35672, 53938, 4724, 25595, 37846, 10511]\n",
            "470229 [False, False, False, False, True, False, False, False, False, False, False, False, False, False, True, True, True, True, True, True, False, True, True, True, True, False, False, False, True, True, True, True] [26396, 16237, 40186, 46358, 32029, 57494, 22851, 22839, 30472, 25595, 39173, 46713, 29663, 23712, 10511]\n",
            "\n",
            "466611 [False, False, True, True, True, True, True, False, False, False, False, True, False, False, True, False, False, False, False, True, True, False, True, False, True, True, True, True, True, False, True, False] [13116, 17171, 26396, 63858, 7034, 59718, 16237, 22851, 4724, 30472, 39173, 56965, 625, 37846, 46713, 23712]\n",
            "466611 [False, False, False, False, False, False, False, False, False, True, True, False, True, True, False, True, True, False, True, False, False, True, False, False, True, True, False, False, False, False, False, True] [52304, 51171, 35672, 53938, 40186, 46358, 57494, 22839, 39173, 56965, 10511]\n",
            "\n",
            "496274 [False, False, True, True, True, True, True, False, False, False, False, True, False, False, True, False, False, False, False, True, True, False, True, False, True, True, True, True, True, True, True, False] [13116, 17171, 26396, 63858, 7034, 59718, 16237, 22851, 4724, 30472, 39173, 56965, 625, 37846, 46713, 29663, 23712]\n",
            "496274 [False, False, False, False, False, False, False, False, False, True, True, False, True, True, False, True, True, False, True, False, False, True, False, False, True, True, False, False, False, True, False, True] [52304, 51171, 35672, 53938, 40186, 46358, 57494, 22839, 39173, 56965, 29663, 10511]\n",
            "\n",
            "492130 [False, False, True, False, True, False, True, False, False, False, False, True, False, True, False, True, False, False, True, True, True, True, True, False, True, True, False, False, True, False, False, True] [13116, 26396, 7034, 59718, 53938, 40186, 57494, 22851, 4724, 22839, 30472, 39173, 56965, 46713, 10511]\n",
            "492130 [True, True, False, True, False, True, False, True, True, False, True, False, True, False, True, False, False, False, False, False, False, False, False, False, True, True, True, True, False, True, False, True] [48963, 17542, 17171, 63858, 35353, 31380, 51171, 35672, 16237, 39173, 56965, 625, 37846, 29663, 10511]\n",
            "\n",
            "481619 [False, False, True, False, True, False, True, False, False, False, False, True, False, True, False, True, False, False, True, True, True, True, True, False, True, True, False, False, True, False, False, False] [13116, 26396, 7034, 59718, 53938, 40186, 57494, 22851, 4724, 22839, 30472, 39173, 56965, 46713]\n",
            "481619 [True, True, False, True, False, True, False, True, True, False, True, False, True, False, True, False, False, False, False, False, False, False, False, False, True, True, True, True, False, True, False, False] [48963, 17542, 17171, 63858, 35353, 31380, 51171, 35672, 16237, 39173, 56965, 625, 37846, 29663]\n",
            "\n"
          ],
          "name": "stdout"
        }
      ]
    },
    {
      "cell_type": "code",
      "metadata": {
        "id": "8E9WGF9YBHBm",
        "colab_type": "code",
        "colab": {}
      },
      "source": [
        "pip install PEQNP - www.peqnp.science"
      ],
      "execution_count": 0,
      "outputs": []
    }
  ]
}