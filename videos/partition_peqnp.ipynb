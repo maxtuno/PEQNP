{
  "nbformat": 4,
  "nbformat_minor": 0,
  "metadata": {
    "colab": {
      "name": "partition-peqnp.ipynb",
      "provenance": [],
      "collapsed_sections": []
    },
    "kernelspec": {
      "name": "python3",
      "display_name": "Python 3"
    }
  },
  "cells": [
    {
      "cell_type": "markdown",
      "metadata": {
        "id": "nEub5i4o9GwL",
        "colab_type": "text"
      },
      "source": [
        "# Partition Problem (NP-Complete)\n",
        "Lat be $S$ a multiset of integers, exist $A,B\\subseteq S$ such that $\\Sigma A = \\Sigma B$ with $A \\cap B = \\emptyset$ and $A \\cup B = S$?\n",
        "\n",
        "video: https://youtu.be/Hn5Kv1rWYrA "
      ]
    },
    {
      "cell_type": "code",
      "metadata": {
        "id": "pxBIQ5iR97Ji",
        "colab_type": "code",
        "outputId": "6978fa47-2fe2-4703-c4e3-11269433b084",
        "colab": {
          "base_uri": "https://localhost:8080/",
          "height": 34
        }
      },
      "source": [
        "!pip install PEQNP --upgrade"
      ],
      "execution_count": 0,
      "outputs": [
        {
          "output_type": "stream",
          "text": [
            "Requirement already up-to-date: PEQNP in /usr/local/lib/python3.6/dist-packages (0.1.29)\n"
          ],
          "name": "stdout"
        }
      ]
    },
    {
      "cell_type": "code",
      "metadata": {
        "id": "uq6_HZCE-FkQ",
        "colab_type": "code",
        "colab": {}
      },
      "source": [
        "import random\n",
        "from peqnp import *"
      ],
      "execution_count": 0,
      "outputs": []
    },
    {
      "cell_type": "code",
      "metadata": {
        "id": "BPRuosA3-OHv",
        "colab_type": "code",
        "outputId": "a0cd9973-9dc5-46bc-bd77-4afcb3e70a4d",
        "colab": {
          "base_uri": "https://localhost:8080/",
          "height": 34
        }
      },
      "source": [
        "bits = 10\n",
        "size = 16\n",
        "S = [random.randint(1, 2 ** bits) for _ in range(size)]\n",
        "S"
      ],
      "execution_count": 45,
      "outputs": [
        {
          "output_type": "execute_result",
          "data": {
            "text/plain": [
              "[61, 764, 475, 304, 730, 657, 801, 891, 739, 334, 55, 538, 522, 719, 962, 426]"
            ]
          },
          "metadata": {
            "tags": []
          },
          "execution_count": 45
        }
      ]
    },
    {
      "cell_type": "code",
      "metadata": {
        "id": "E8Vzlgp0-hyy",
        "colab_type": "code",
        "outputId": "4e709cc8-d3c9-463d-8781-5d440d04d430",
        "colab": {
          "base_uri": "https://localhost:8080/",
          "height": 382
        }
      },
      "source": [
        "# initialize the engine with sufficients bits to reprent the problem.\n",
        "engine(bits=sum(S).bit_length())\n",
        "\n",
        "# let be A, and B subsets with slots_a and slots_b as binary reprentation relative to S.\n",
        "slots_a, A = subsets(S)\n",
        "slots_b, B = subsets(S)\n",
        "\n",
        "# sum the same\n",
        "assert sum(A) == sum(B)\n",
        "\n",
        "# are complementary\n",
        "assert slots_a & slots_b == 0\n",
        "assert sum(A) + sum(B) == sum(S)\n",
        "\n",
        "# delete simetries (duplicates)\n",
        "assert slots_a < slots_b \n",
        "\n",
        "while satisfy():\n",
        "  # get the materialized subsets A, and B from their binary representation relative to S.\n",
        "  A_ = [S[i] for i in range(size) if slots_a.binary[i]]\n",
        "  B_ = [S[i] for i in range(size) if slots_b.binary[i]]\n",
        "  # show that is true\n",
        "  print(sum(A_), slots_a.binary, A_)\n",
        "  print(sum(B_), slots_b.binary, B_)\n",
        "  print()"
      ],
      "execution_count": 47,
      "outputs": [
        {
          "output_type": "stream",
          "text": [
            "4489 [False, False, False, False, True, False, True, False, True, False, False, True, False, True, True, False] [730, 801, 739, 538, 719, 962]\n",
            "4489 [True, True, True, True, False, True, False, True, False, True, True, False, True, False, False, True] [61, 764, 475, 304, 657, 891, 334, 55, 522, 426]\n",
            "\n",
            "4489 [False, True, True, False, False, True, True, False, True, True, False, False, False, True, False, False] [764, 475, 657, 801, 739, 334, 719]\n",
            "4489 [True, False, False, True, True, False, False, True, False, False, True, True, True, False, True, True] [61, 304, 730, 891, 55, 538, 522, 962, 426]\n",
            "\n",
            "4489 [False, False, True, False, True, True, False, True, False, False, True, False, False, True, True, False] [475, 730, 657, 891, 55, 719, 962]\n",
            "4489 [True, True, False, True, False, False, True, False, True, True, False, True, True, False, False, True] [61, 764, 304, 801, 739, 334, 538, 522, 426]\n",
            "\n",
            "4489 [False, True, False, True, False, True, False, True, False, True, True, False, True, False, True, False] [764, 304, 657, 891, 334, 55, 522, 962]\n",
            "4489 [False, False, False, False, True, False, True, False, True, False, False, True, False, True, True, False] [730, 801, 739, 538, 719, 962]\n",
            "\n",
            "4489 [False, True, False, True, False, True, False, True, False, True, True, False, True, False, True, False] [764, 304, 657, 891, 334, 55, 522, 962]\n",
            "4489 [True, False, True, False, True, False, True, False, True, False, False, True, False, True, False, True] [61, 475, 730, 801, 739, 538, 719, 426]\n",
            "\n",
            "4489 [True, True, True, False, True, True, False, True, False, True, True, False, True, False, False, False] [61, 764, 475, 730, 657, 891, 334, 55, 522]\n",
            "4489 [False, False, False, True, False, False, True, False, True, False, False, True, False, True, True, True] [304, 801, 739, 538, 719, 962, 426]\n",
            "\n",
            "4489 [True, True, False, False, True, False, True, False, True, True, False, True, True, False, False, False] [61, 764, 730, 801, 739, 334, 538, 522]\n",
            "4489 [False, False, True, True, False, True, False, True, False, False, True, False, False, True, True, True] [475, 304, 657, 891, 55, 719, 962, 426]\n",
            "\n"
          ],
          "name": "stdout"
        }
      ]
    },
    {
      "cell_type": "code",
      "metadata": {
        "id": "8E9WGF9YBHBm",
        "colab_type": "code",
        "colab": {}
      },
      "source": [
        "pip install PEQNP - www.peqnp.science"
      ],
      "execution_count": 0,
      "outputs": []
    }
  ]
}