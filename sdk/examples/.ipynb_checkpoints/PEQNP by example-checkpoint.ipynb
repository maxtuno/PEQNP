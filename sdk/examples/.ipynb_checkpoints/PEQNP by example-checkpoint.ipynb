{
 "cells": [
  {
   "cell_type": "code",
   "execution_count": 8,
   "metadata": {},
   "outputs": [],
   "source": [
    "# !pip install numpy matplotlib peqnp\n",
    "import peqnp as pn\n",
    "import numpy as np\n",
    "import matplotlib.pyplot as plt"
   ]
  },
  {
   "cell_type": "code",
   "execution_count": 18,
   "metadata": {},
   "outputs": [
    {
     "name": "stdout",
     "output_type": "stream",
     "text": [
      "PEQNP II Mathematical Programming Solver from http://www.peqnp.com v2.0.0\n"
     ]
    }
   ],
   "source": [
    "pn.version()"
   ]
  },
  {
   "cell_type": "code",
   "execution_count": 17,
   "metadata": {},
   "outputs": [
    {
     "name": "stdout",
     "output_type": "stream",
     "text": [
      "PEQNP II Mathematical Programming Solver from http://www.peqnp.com v2.0.0\n",
      "SAT : cadical-1.2.1\n",
      "MIP : PIXIE MIP Solver from http://www.peqnp.com\n"
     ]
    }
   ],
   "source": [
    "CaDiCaL = '../solvers/cadical/lib/libCaDiCaL.dylib'\n",
    "pn.engine(sat_solver_path=CaDiCaL, info=True)"
   ]
  },
  {
   "cell_type": "code",
   "execution_count": 19,
   "metadata": {},
   "outputs": [
    {
     "name": "stdout",
     "output_type": "stream",
     "text": [
      "PEQNP II Mathematical Programming Solver from http://www.peqnp.com v2.0.0\n",
      "SAT : SLIME SAT Solver from http://www.peqnp.com\n",
      "MIP : PIXIE MIP Solver from http://www.peqnp.com\n"
     ]
    }
   ],
   "source": [
    "pn.engine(info=True)"
   ]
  },
  {
   "cell_type": "markdown",
   "metadata": {},
   "source": [
    "# Integer factorization\n",
    "\n",
    "In number theory, integer factorization is the decomposition of a composite number into a product of smaller integers. If these factors are further restricted to prime numbers, the process is called prime factorization."
   ]
  },
  {
   "cell_type": "code",
   "execution_count": 12,
   "metadata": {},
   "outputs": [
    {
     "name": "stdout",
     "output_type": "stream",
     "text": [
      "3007 1\n",
      "31 97\n",
      "1 3007\n",
      "97 31\n"
     ]
    }
   ],
   "source": [
    "pq = 3007\n",
    "pn.engine(pq.bit_length())\n",
    "p = pn.integer()\n",
    "q = pn.integer()\n",
    "assert p * q == pq\n",
    "while pn.satisfy():\n",
    "    print(p, q)"
   ]
  },
  {
   "cell_type": "markdown",
   "metadata": {},
   "source": [
    "# Travelling salesman problem\n",
    "\n",
    "The travelling salesman problem asks the following question: \"Given a list of cities and the distances between each pair of cities, what is the shortest possible route that visits each city and returns to the origin city?\" It is an NP-hard problem in combinatorial optimization, important in operations research and theoretical computer science."
   ]
  },
  {
   "cell_type": "code",
   "execution_count": 13,
   "metadata": {},
   "outputs": [
    {
     "data": {
      "image/png": "[encoded data removed]",
      "text/plain": [
       "<Figure size 432x288 with 1 Axes>"
      ]
     },
     "metadata": {
      "needs_background": "light"
     },
     "output_type": "display_data"
    }
   ],
   "source": [
    "n = 100\n",
    "data = np.random.logistic(size=(n, 2))\n",
    "seq = pn.hess_sequence(n, oracle=lambda seq: sum(np.linalg.norm(data[seq[i - 1]] - data[seq[i]]) for i in range(n)), fast=False)\n",
    "x, y = zip(*[data[i] for i in seq + [seq[0]]])\n",
    "plt.plot(x, y, 'k-')\n",
    "plt.plot(x, y, 'r.')\n",
    "plt.show()"
   ]
  },
  {
   "cell_type": "markdown",
   "metadata": {},
   "source": [
    "# Knapsack problem\n",
    "\n",
    "The knapsack problem is a problem in combinatorial optimization: Given a set of items, each with a weight and a value, determine the number of each item to include in a collection so that the total weight is less than or equal to a given limit and the total value is as large as possible. It derives its name from the problem faced by someone who is constrained by a fixed-size knapsack and must fill it with the most valuable items."
   ]
  },
  {
   "cell_type": "code",
   "execution_count": 6,
   "metadata": {},
   "outputs": [
    {
     "name": "stdout",
     "output_type": "stream",
     "text": [
      "PROFIT  : 5.64188419673825 vs 5.64188419673825\n",
      "VALUES  : -1.6681586687898662 <= 0.42524167633180066\n",
      "SELECT  : [0, 0, 0, 0, 1, 1, 1, 1, 1, 1]\n"
     ]
    }
   ],
   "source": [
    "n = 10\n",
    "values = np.random.logistic(size=n)\n",
    "profit = np.random.logistic(size=n)\n",
    "capacity = np.random.sample()\n",
    "pn.engine()\n",
    "selects = pn.vector(size=n, is_mip=True)\n",
    "pn.apply_single(selects, lambda x: x <= 1)\n",
    "assert np.dot(values, selects) <= capacity\n",
    "opt = pn.maximize(np.dot(profit, selects))\n",
    "slots = list(map(int, selects))\n",
    "print('PROFIT  : {} vs {}'.format(np.dot(profit, slots), opt))\n",
    "print('VALUES  : {} <= {}'.format(np.dot(values, slots), capacity))\n",
    "print('SELECT  : {}'.format(slots))"
   ]
  },
  {
   "cell_type": "markdown",
   "metadata": {},
   "source": [
    "# Magic square\n",
    "\n",
    "\n",
    "In recreational mathematics and combinatorial design, a magic square is a $n\\times n$ square grid (where n is the number of cells on each side) filled with distinct positive integers in the range \n",
    "${1,2,...,n^{2}}$ such that each cell contains a different integer and the sum of the integers in each row, column and diagonal is equal."
   ]
  },
  {
   "cell_type": "code",
   "execution_count": 7,
   "metadata": {},
   "outputs": [
    {
     "name": "stdout",
     "output_type": "stream",
     "text": [
      "18\n",
      "[[ 4 11  3]\n",
      " [ 5  6  7]\n",
      " [ 9  1  8]]\n"
     ]
    }
   ],
   "source": [
    "n = 3\n",
    "pn.engine(5)\n",
    "c = pn.integer()\n",
    "xs = pn.matrix(dimensions=(n, n))\n",
    "pn.apply_single(pn.flatten(xs), lambda x: x > 0)\n",
    "pn.all_different(pn.flatten(xs))\n",
    "for i in range(n):\n",
    "    assert sum(xs[i][j] for j in range(n)) == c\n",
    "for j in range(n):\n",
    "    assert sum(xs[i][j] for i in range(n)) == c\n",
    "assert sum(xs[i][i] for i in range(n)) == c\n",
    "assert sum(xs[i][n - 1 - i] for i in range(n)) == c\n",
    "if pn.satisfy(turbo=True):\n",
    "    print(c)\n",
    "    print(np.vectorize(int)(xs))\n",
    "else:\n",
    "    print('Infeasible ...')"
   ]
  },
  {
   "cell_type": "markdown",
   "metadata": {},
   "source": [
    "# Schur Triples problem:\n",
    "\n",
    "Input: list of 3N distinct positive integers\n",
    "\n",
    "Question: Is there a partition of the list into N triples $(a_i, b_i, c_i)$ such that $a_i+b_i=c_i$\n",
    "\n",
    "The condition that all numbers must be distinct makes the problem very interesting and McDiarmid calls it a surprisingly troublesome ."
   ]
  },
  {
   "cell_type": "code",
   "execution_count": 8,
   "metadata": {},
   "outputs": [
    {
     "name": "stdout",
     "output_type": "stream",
     "text": [
      "[8, 22, 26, 30, 34, 43, 48, 52, 57, 61, 63, 79, 83, 86, 90, 92, 93, 105, 108, 114, 116, 118, 122, 124, 127, 141, 142, 149, 197, 226]\n",
      "141 == 93 + 48\n",
      "124 == 63 + 61\n",
      "149 == 92 + 57\n",
      "122 == 43 + 79\n",
      "127 == 22 + 105\n",
      "116 == 30 + 86\n",
      "34 == 8 + 26\n",
      "226 == 108 + 118\n",
      "197 == 83 + 114\n",
      "142 == 52 + 90\n"
     ]
    }
   ],
   "source": [
    "bits = 7\n",
    "size = 3 * 10\n",
    "triplets = []\n",
    "while len(triplets) < size:\n",
    "    a = np.random.randint(1, 2 ** bits)\n",
    "    b = np.random.randint(1, 2 ** bits)\n",
    "    if a != b and a not in triplets and b not in triplets and a + b not in triplets:\n",
    "        triplets += [a, b, a + b]\n",
    "triplets.sort()\n",
    "print(triplets)\n",
    "pn.engine(bits=max(triplets).bit_length())\n",
    "xs, ys = pn.permutations(triplets, size)\n",
    "for i in range(0, size, 3):\n",
    "    assert ys[i] + ys[i + 1] == ys[i + 2]\n",
    "if pn.satisfy(turbo=True, log=True):\n",
    "    for i in range(0, size, 3):\n",
    "        print('{} == {} + {}'.format(ys[i + 2], ys[i], ys[i + 1]))\n",
    "else:\n",
    "    print('Infeasible ...')"
   ]
  },
  {
   "cell_type": "markdown",
   "metadata": {},
   "source": [
    "# Subset sum problem\n",
    "\n",
    "In this problem, there is a given set with some integer elements. And another some value is also provided, we have to find a subset of the given set whose sum is the same as the given sum value."
   ]
  },
  {
   "cell_type": "code",
   "execution_count": 9,
   "metadata": {},
   "outputs": [
    {
     "name": "stdout",
     "output_type": "stream",
     "text": [
      "12582 [533 204 295 347 494 530 404 912 808 613  75 972 970 298  41 608 900 967\n",
      "  10 924  78 788 559 187 224 773 380 397 610 948 662 687]\n",
      "12582 [204, 295, 530, 404, 912, 808, 613, 75, 972, 970, 298, 41, 608, 900, 967, 10, 924, 78, 788, 559, 187, 380, 397, 662]\n",
      "\n"
     ]
    }
   ],
   "source": [
    "universe = np.random.randint(1, 1000, size=32)\n",
    "t = np.random.randint(min(universe), sum(universe))\n",
    "print(t, universe)\n",
    "pn.engine(t.bit_length())\n",
    "bits, subset = pn.subsets(universe)\n",
    "assert sum(subset) == t\n",
    "if pn.satisfy(turbo=True, log=True):\n",
    "    solution = [universe[i] for i in range(len(universe)) if bits.binary[i]]\n",
    "    print(sum(solution), solution)\n",
    "    print()\n",
    "else:\n",
    "    print('Infeasible ...')"
   ]
  },
  {
   "cell_type": "code",
   "execution_count": 10,
   "metadata": {},
   "outputs": [
    {
     "name": "stdout",
     "output_type": "stream",
     "text": [
      "6585 [641 960 168 261 439 161 725  22 536 317 300 135 201 640 118 839 816 950\n",
      " 430 979  22 309 597 150 825 142 726 831  34 696 847  45]\n",
      "6585 [960, 168, 439, 725, 317, 300, 201, 640, 839, 950, 825, 142, 34, 45]\n",
      "\n"
     ]
    }
   ],
   "source": [
    "universe = np.random.randint(1, 1000, size=32)\n",
    "t = np.random.randint(min(universe), sum(universe))\n",
    "print(t, universe)\n",
    "pn.engine(t.bit_length())\n",
    "T = pn.tensor(dimensions=(len(universe)))\n",
    "assert sum(T[[i]](0, universe[i]) for i in range(len(universe))) == t\n",
    "if pn.satisfy(turbo=True):\n",
    "    solution = [universe[i] for i in range(len(universe)) if T.binary[i]]\n",
    "    print(sum(solution), solution)\n",
    "    print()\n",
    "else:\n",
    "    print('Infeasible ...')"
   ]
  },
  {
   "cell_type": "markdown",
   "metadata": {},
   "source": [
    "# Latin Hyper Cubes"
   ]
  },
  {
   "cell_type": "code",
   "execution_count": 16,
   "metadata": {},
   "outputs": [
    {
     "name": "stdout",
     "output_type": "stream",
     "text": [
      "[[[4 2 3 5 0 1]\n",
      "  [3 4 0 1 2 5]\n",
      "  [2 1 4 3 5 0]\n",
      "  [1 5 2 0 4 3]\n",
      "  [0 3 5 4 1 2]\n",
      "  [5 0 1 2 3 4]]\n",
      "\n",
      " [[1 5 0 2 3 4]\n",
      "  [5 1 4 3 0 2]\n",
      "  [0 3 2 5 4 1]\n",
      "  [4 0 3 1 2 5]\n",
      "  [2 4 1 0 5 3]\n",
      "  [3 2 5 4 1 0]]\n",
      "\n",
      " [[0 4 5 3 1 2]\n",
      "  [4 0 1 2 5 3]\n",
      "  [1 5 3 0 2 4]\n",
      "  [5 2 0 4 3 1]\n",
      "  [3 1 2 5 4 0]\n",
      "  [2 3 4 1 0 5]]\n",
      "\n",
      " [[3 1 2 0 4 5]\n",
      "  [2 5 3 4 1 0]\n",
      "  [4 0 5 1 3 2]\n",
      "  [0 3 1 2 5 4]\n",
      "  [5 2 4 3 0 1]\n",
      "  [1 4 0 5 2 3]]\n",
      "\n",
      " [[2 3 1 4 5 0]\n",
      "  [1 2 5 0 3 4]\n",
      "  [5 4 0 2 1 3]\n",
      "  [3 1 4 5 0 2]\n",
      "  [4 0 3 1 2 5]\n",
      "  [0 5 2 3 4 1]]\n",
      "\n",
      " [[5 0 4 1 2 3]\n",
      "  [0 3 2 5 4 1]\n",
      "  [3 2 1 4 0 5]\n",
      "  [2 4 5 3 1 0]\n",
      "  [1 5 0 2 3 4]\n",
      "  [4 1 3 0 5 2]]]\n"
     ]
    }
   ],
   "source": [
    "n = 6\n",
    "m = 3\n",
    "pn.engine(n.bit_length() + 1)\n",
    "Y = pn.vector(size=n ** m)\n",
    "pn.apply_single(Y, lambda k: k < n)\n",
    "Y = np.reshape(Y, newshape=(m * [n]))\n",
    "for i in range(n):\n",
    "    pn.all_different(Y[i])\n",
    "    pn.all_different(Y.T[i])\n",
    "    for j in range(n):\n",
    "        pn.all_different(Y[i][j])\n",
    "        pn.all_different(Y.T[i][j])\n",
    "for idx in pn.hyper_loop(m - 1, n):\n",
    "    s = Y\n",
    "    for i in idx:\n",
    "        s = s[i]\n",
    "        pn.all_different(s)\n",
    "        pn.all_different(s.T)\n",
    "if pn.satisfy(turbo=True, log=True):\n",
    "    y = np.vectorize(int)(Y).reshape(m * [n])\n",
    "    print(y)\n",
    "else:\n",
    "    print('Infeasible ...')"
   ]
  },
  {
   "cell_type": "markdown",
   "metadata": {},
   "source": [
    "# Permutation Reconstruction from Differences\n",
    "https://arxiv.org/pdf/1410.6396.pdf"
   ]
  },
  {
   "cell_type": "code",
   "execution_count": 42,
   "metadata": {},
   "outputs": [],
   "source": [
    "def gen_instance(n):\n",
    "    import random\n",
    "    y = list(range(1, n + 1))\n",
    "    random.shuffle(y)\n",
    "    return [abs(y[i + 1] - y[i]) for i in range(n - 1)]"
   ]
  },
  {
   "cell_type": "code",
   "execution_count": 55,
   "metadata": {},
   "outputs": [],
   "source": [
    "def permutation_reconstruction_from_differences(slime=True):\n",
    "    import time\n",
    "    start = time.time()\n",
    "    times = []\n",
    "    sizes = []\n",
    "    for n in range(1, 30):\n",
    "        diffs = gen_instance(n)\n",
    "        ini = time.time()\n",
    "        if slime:\n",
    "            pn.engine(n.bit_length() + 1)\n",
    "        else:\n",
    "            pn.engine(n.bit_length() + 1, sat_solver_path=CaDiCaL)\n",
    "        x = pn.vector(size=n)\n",
    "        pn.all_different(x)\n",
    "        pn.apply_single(x, lambda a: 1 <= a <= n)\n",
    "        for i in range(n - 1):\n",
    "            assert pn.index(i, diffs) == pn.one_of([x[i + 1] - x[i], x[i] - x[i + 1]])\n",
    "        if pn.satisfy():\n",
    "            end = time.time() - ini\n",
    "            xx = [abs(x[i + 1] - x[i]) for i in range(n - 1)]\n",
    "            if xx == diffs:\n",
    "                sizes.append(n)\n",
    "                times.append(end)\n",
    "            else:\n",
    "                raise Exception('Error!')\n",
    "        else:\n",
    "            raise Exception('Error!')\n",
    "    end = time.time() - start\n",
    "    plt.title('TIME {}(s) - {}'.format(end, 'SLIME' if slime else 'CaDiCaL'))\n",
    "    plt.plot(sizes, times, 'k-')\n",
    "    plt.plot(sizes, times, 'r.')\n",
    "    plt.show()\n",
    "    plt.close()"
   ]
  },
  {
   "cell_type": "code",
   "execution_count": 56,
   "metadata": {},
   "outputs": [
    {
     "data": {
      "image/png": "[encoded data removed]",
      "text/plain": [
       "<Figure size 432x288 with 1 Axes>"
      ]
     },
     "metadata": {
      "needs_background": "light"
     },
     "output_type": "display_data"
    }
   ],
   "source": [
    "permutation_reconstruction_from_differences(slime=True)"
   ]
  },
  {
   "cell_type": "code",
   "execution_count": 57,
   "metadata": {},
   "outputs": [
    {
     "data": {
      "image/png": "[encoded data removed]",
      "text/plain": [
       "<Figure size 432x288 with 1 Axes>"
      ]
     },
     "metadata": {
      "needs_background": "light"
     },
     "output_type": "display_data"
    }
   ],
   "source": [
    "permutation_reconstruction_from_differences(slime=False)"
   ]
  },
  {
   "cell_type": "markdown",
   "metadata": {},
   "source": [
    "# Hamiltonian Cycle Problem"
   ]
  },
  {
   "cell_type": "code",
   "execution_count": 70,
   "metadata": {},
   "outputs": [
    {
     "name": "stdout",
     "output_type": "stream",
     "text": [
      "[[1 0 1 1 1 1 1 0 1 0]\n",
      " [0 0 1 1 1 0 1 0 0 0]\n",
      " [1 1 1 1 0 0 1 0 0 0]\n",
      " [1 1 1 0 0 0 0 0 1 1]\n",
      " [0 0 1 0 0 1 0 0 0 1]\n",
      " [1 1 1 1 0 0 0 0 0 0]\n",
      " [1 1 0 1 0 1 1 1 0 0]\n",
      " [0 0 1 0 1 0 1 0 1 0]\n",
      " [0 1 1 0 1 0 1 1 0 1]\n",
      " [1 0 1 0 0 0 0 1 0 1]]\n",
      "\n",
      "1 1 0 1 1 1 0 0 1 1 \n",
      "0 0 1 1 0 0 1 1 1 1 \n",
      "0 0 0 1 0 1 0 0 1 1 \n",
      "0 0 0 0 1 0 1 0 1 0 \n",
      "1 0 1 0 0 1 0 0 1 0 \n",
      "1 1 1 0 0 0 1 0 1 0 \n",
      "1 0 0 0 0 0 1 1 1 0 \n",
      "0 1 0 1 0 0 0 0 1 1 \n",
      "1 0 1 0 0 1 0 0 1 1 \n",
      "1 0 1 0 1 1 0 1 0 1 \n",
      "\n"
     ]
    }
   ],
   "source": [
    "import sys\n",
    "n = 10\n",
    "M = np.random.randint(0, 2, size=(n, n))\n",
    "print(M)\n",
    "print()\n",
    "pn.engine((n ** 2).bit_length())\n",
    "ids, elements = pn.matrix_permutation((1 - M).flatten(), n)\n",
    "assert sum(elements) == 0\n",
    "if pn.satisfy(turbo=True):\n",
    "    for i in ids:\n",
    "        for j in ids:\n",
    "            sys.stdout.write('{} '.format(M[i.value][j.value]))\n",
    "        sys.stdout.write('\\n') \n",
    "    sys.stdout.write('\\n')\n",
    "else:\n",
    "    print('Infeasible ...')"
   ]
  },
  {
   "cell_type": "markdown",
   "metadata": {},
   "source": [
    "# Bin packing problem\n",
    "\n",
    "In the bin packing problem, items of different volumes must be packed into a finite number of bins or containers each of a fixed given volume in a way that minimizes the number of bins used. In computational complexity theory, it is a combinatorial NP-hard problem. The decision problem (deciding if items will fit into a specified number of bins) is NP-complete."
   ]
  },
  {
   "cell_type": "code",
   "execution_count": 76,
   "metadata": {},
   "outputs": [
    {
     "name": "stdout",
     "output_type": "stream",
     "text": [
      "50\n",
      "[23, 22, 21, 20, 18, 17, 16, 16, 13, 13, 12, 10, 9, 9, 8, 7, 6, 4, 4, 4]\n",
      "Solution for 6 bins...\n",
      "\n",
      "#_______#____#____#_\n",
      "____#_##____________\n",
      "_#____________#__#_#\n",
      "___#______#____#____\n",
      "_____#______#_______\n",
      "__#______#_#____#___\n",
      "\n",
      "49 [23, 13, 9, 4]\n",
      "50 [18, 16, 16]\n",
      "38 [22, 8, 4, 4]\n",
      "39 [20, 12, 7]\n",
      "26 [17, 9]\n",
      "50 [21, 13, 10, 6]\n"
     ]
    }
   ],
   "source": [
    "capacity = 50\n",
    "size = 20\n",
    "elements = sorted([np.random.randint(1, capacity // 2 - 1) for _ in range(size)], reverse=True)\n",
    "print(capacity)\n",
    "print(elements)\n",
    "bins = int(np.ceil(sum(elements) / capacity))\n",
    "while True:\n",
    "    pn.engine(bits=capacity.bit_length() + 1)\n",
    "    slots = pn.vector(bits=len(elements), size=bins)\n",
    "    for i in range(len(elements)):\n",
    "        assert sum(pn.switch(slot, i) for slot in slots) == 1\n",
    "    for slot in slots:\n",
    "        assert sum(pn.switch(slot, i) * elements[i] for i in range(len(elements))) <= capacity\n",
    "    if pn.satisfy(turbo=True):\n",
    "        print('Solution for {} bins...'.format(bins))\n",
    "        print()\n",
    "        for slot in slots:\n",
    "            print(''.join(['_' if boolean else '#' for boolean in slot.binary]))\n",
    "        print()\n",
    "        for slot in slots:\n",
    "            sub = [item for i, item in enumerate(elements) if not slot.binary[i]]\n",
    "            print(sum(sub), sub)\n",
    "        break\n",
    "    else:\n",
    "        print('No solution for {} bins...'.format(bins))\n",
    "        bins += 1"
   ]
  },
  {
   "cell_type": "markdown",
   "metadata": {},
   "source": [
    "# Zero-One Integer Programming Definition\n",
    "\n",
    "Zero-one integer programming (which can also be written as 0-1 integer programming) is a mathematical method of using a series of binary, yes (1) and no (0) answers to arrive at a solution when there are two mutually exclusive options."
   ]
  },
  {
   "cell_type": "code",
   "execution_count": 78,
   "metadata": {},
   "outputs": [
    {
     "name": "stdout",
     "output_type": "stream",
     "text": [
      "[[700 227 600  43 971 163 812 746 154 272]\n",
      " [891 694 347 852 163 476 702 493 410 325]\n",
      " [295 374 373 706 927 935 377 117 346 337]\n",
      " [478 296  45 847 648 564 486 107 772 368]\n",
      " [230 450 686 442 399 274  25 489 676 764]]\n",
      "[ 975 1178 1312 1050  299]\n",
      "[0, 0, 0, 0, 0, 1, 1, 0, 0, 0]\n",
      "Proof:\n",
      "[975 1178 1312 1050 299]\n"
     ]
    }
   ],
   "source": [
    "n, m = 5, 10\n",
    "cc = np.random.randint(0, 1000, size=(n, m))\n",
    "d = np.dot(cc, np.random.randint(0, 2, size=(m,)))\n",
    "print(cc)\n",
    "print(d)\n",
    "pn.engine(bits=int(np.sum(cc)).bit_length())\n",
    "xs = pn.vector(size=m)\n",
    "pn.all_binaries(xs)\n",
    "assert (np.dot(cc, xs) == d).all()\n",
    "if pn.satisfy(turbo=True):\n",
    "    print(xs)\n",
    "    print('Proof:')\n",
    "    print(np.dot(cc, xs))\n",
    "else:\n",
    "    print('Infeasible...')"
   ]
  },
  {
   "cell_type": "markdown",
   "metadata": {},
   "source": [
    "# n-Quuens Completion Problem"
   ]
  },
  {
   "cell_type": "code",
   "execution_count": 95,
   "metadata": {},
   "outputs": [],
   "source": [
    "def completion(n, m, seed):\n",
    "    import random\n",
    "    \"\"\"\n",
    "    http://www.csplib.org/Problems/prob079/data/queens-gen-fast.py.html\n",
    "    \"\"\"\n",
    "    random.seed(seed)\n",
    "\n",
    "    d1 = [0 for _ in range(2 * n - 1)]\n",
    "    d2 = [0 for _ in range(2 * n - 1)]\n",
    "\n",
    "    valid_rows = [i for i in range(n)]\n",
    "    valid_cols = [j for j in range(n)]\n",
    "\n",
    "    def no_attack(r, c):\n",
    "        return d1[r + c] == 0 and d2[r - c + n - 1] == 0\n",
    "\n",
    "    pc = []\n",
    "    queens_left = n\n",
    "\n",
    "    for attempt in range(n * n):\n",
    "        i = random.randrange(queens_left)\n",
    "        j = random.randrange(queens_left)\n",
    "        r = valid_rows[i]\n",
    "        c = valid_cols[j]\n",
    "        if no_attack(r, c):\n",
    "            pc.append([r, c])\n",
    "            d1[r + c] = 1\n",
    "            d2[r - c + n - 1] = 1\n",
    "            valid_rows[i] = valid_rows[queens_left - 1]\n",
    "            valid_cols[j] = valid_cols[queens_left - 1]\n",
    "            queens_left -= 1\n",
    "            if len(pc) == m:\n",
    "                return [[x + 1, y + 1] for x, y in pc]\n",
    "\n",
    "def show(pc):\n",
    "    table = ''\n",
    "    for i in range(1, n + 1):\n",
    "        table += ''\n",
    "        for j in range(1, n + 1):\n",
    "            if [i, j] not in pc:\n",
    "                table += '. '\n",
    "            else:\n",
    "                table += 'Q '\n",
    "        table += '\\n'\n",
    "    print(table)\n",
    "    print('# seed = {}'.format(seed))"
   ]
  },
  {
   "cell_type": "code",
   "execution_count": 99,
   "metadata": {},
   "outputs": [
    {
     "name": "stdout",
     "output_type": "stream",
     "text": [
      ". . Q . . . . . \n",
      ". . . . . . . . \n",
      ". . . . . . . . \n",
      ". . . . . . . . \n",
      ". . . Q . . . . \n",
      ". . . . . . . . \n",
      ". . . . . . Q . \n",
      ". . . . . . . . \n",
      "\n",
      "# seed = 0\n",
      ". . Q . . . . . \n",
      ". . . . . Q . . \n",
      ". . . . . . . Q \n",
      ". Q . . . . . . \n",
      ". . . Q . . . . \n",
      "Q . . . . . . . \n",
      ". . . . . . Q . \n",
      ". . . . Q . . . \n",
      "\n"
     ]
    }
   ],
   "source": [
    "n, m, seed = 8, 3, 0\n",
    "placed_queens = completion(n, m, seed)\n",
    "show(placed_queens)\n",
    "pn.engine(bits=n.bit_length() + 1)\n",
    "qs = pn.vector(key='qs', size=n)\n",
    "for (a, b) in placed_queens:\n",
    "    assert qs[a - 1] == b - 1\n",
    "pn.apply_single(qs, lambda x: x < n)\n",
    "pn.apply_dual(qs, lambda x, y: x != y)\n",
    "pn.apply_dual([qs[i] + i for i in range(n)], lambda x, y: x != y)\n",
    "pn.apply_dual([qs[i] - i for i in range(n)], lambda x, y: x != y)\n",
    "if pn.satisfy(turbo=True):\n",
    "    for i in range(n):\n",
    "        print(''.join(['Q ' if qs[i] == j else '. ' for j in range(n)]))\n",
    "    print('')\n",
    "else:\n",
    "    print('Infeasible ...')"
   ]
  },
  {
   "cell_type": "code",
   "execution_count": null,
   "metadata": {},
   "outputs": [],
   "source": []
  },
  {
   "cell_type": "code",
   "execution_count": null,
   "metadata": {},
   "outputs": [],
   "source": []
  }
 ],
 "metadata": {
  "kernelspec": {
   "display_name": "Python 3",
   "language": "python",
   "name": "python3"
  },
  "language_info": {
   "codemirror_mode": {
    "name": "ipython",
    "version": 3
   },
   "file_extension": ".py",
   "mimetype": "text/x-python",
   "name": "python",
   "nbconvert_exporter": "python",
   "pygments_lexer": "ipython3",
   "version": "3.8.2"
  }
 },
 "nbformat": 4,
 "nbformat_minor": 4
}
