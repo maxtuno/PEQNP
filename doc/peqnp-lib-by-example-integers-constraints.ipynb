{
 "cells": [
  {
   "cell_type": "code",
   "execution_count": 1,
   "metadata": {},
   "outputs": [],
   "source": [
    "from peqnp import *"
   ]
  },
  {
   "cell_type": "code",
   "execution_count": 2,
   "metadata": {},
   "outputs": [
    {
     "name": "stdout",
     "output_type": "stream",
     "text": [
      "0 0 [False]\n",
      "4 0 [False]\n",
      "5 0 [False]\n",
      "1 0 [False]\n",
      "6 0 [False]\n",
      "2 0 [False]\n",
      "3 0 [False]\n"
     ]
    }
   ],
   "source": [
    "engine(3)\n",
    "x = integer()\n",
    "y = integer()\n",
    "bit = integer(bits=1)\n",
    "assert x.iff(bit[0], y) == 0\n",
    "while satisfy():\n",
    "    print(x, y, bit.binary)"
   ]
  },
  {
   "cell_type": "code",
   "execution_count": 3,
   "metadata": {},
   "outputs": [
    {
     "name": "stdout",
     "output_type": "stream",
     "text": [
      "0 0 [False]\n",
      "0 4 [False]\n",
      "0 5 [False]\n",
      "0 1 [False]\n",
      "0 6 [False]\n",
      "0 2 [False]\n",
      "0 3 [False]\n"
     ]
    }
   ],
   "source": [
    "engine(3)\n",
    "x = integer()\n",
    "y = integer()\n",
    "bit = integer(bits=1)\n",
    "assert x.iff(-bit[0], y) == 0\n",
    "while satisfy():\n",
    "    print(x, y, bit.binary)"
   ]
  },
  {
   "cell_type": "code",
   "execution_count": 4,
   "metadata": {},
   "outputs": [
    {
     "name": "stdout",
     "output_type": "stream",
     "text": [
      "1 0 [False]\n",
      "1 4 [False]\n",
      "1 5 [False]\n",
      "1 1 [False]\n",
      "1 6 [False]\n",
      "1 2 [False]\n",
      "1 3 [False]\n"
     ]
    }
   ],
   "source": [
    "engine(3)\n",
    "x = integer()\n",
    "y = integer()\n",
    "bit = integer(bits=1)\n",
    "assert x.iff(-bit[0], y) == 1\n",
    "while satisfy():\n",
    "    print(x, y, bit.binary)"
   ]
  },
  {
   "cell_type": "code",
   "execution_count": 5,
   "metadata": {},
   "outputs": [
    {
     "name": "stdout",
     "output_type": "stream",
     "text": [
      "0 1 [False]\n",
      "4 1 [False]\n",
      "5 1 [False]\n",
      "1 1 [False]\n",
      "6 1 [False]\n",
      "2 1 [False]\n",
      "3 1 [False]\n"
     ]
    }
   ],
   "source": [
    "engine(3)\n",
    "x = integer()\n",
    "y = integer()\n",
    "bit = integer(bits=1)\n",
    "assert x.iff(bit[0], y) == 1\n",
    "while satisfy():\n",
    "    print(x, y, bit.binary)"
   ]
  },
  {
   "cell_type": "code",
   "execution_count": 6,
   "metadata": {},
   "outputs": [
    {
     "name": "stdout",
     "output_type": "stream",
     "text": [
      "[True, True, False, True]\n",
      "[False, False, True, True]\n"
     ]
    }
   ],
   "source": [
    "data = [2, 3, 5, 7]\n",
    "engine(sum(data).bit_length())\n",
    "_0 = constant(value=0)\n",
    "bits = integer(bits=len(data))\n",
    "assert sum(_0.iff(bits[i], data[i]) for i in range(len(data))) == 12\n",
    "while satisfy():\n",
    "    print([not bit for bit in bits.binary])"
   ]
  },
  {
   "cell_type": "code",
   "execution_count": 7,
   "metadata": {},
   "outputs": [
    {
     "name": "stdout",
     "output_type": "stream",
     "text": [
      "[False, False, True, True]\n",
      "[True, True, False, True]\n"
     ]
    }
   ],
   "source": [
    "data = [2, 3, 5, 7]\n",
    "engine(sum(data).bit_length())\n",
    "_0 = constant(value=0)\n",
    "bits = integer(bits=len(data))\n",
    "assert sum(_0.iff(-bits[i], data[i]) for i in range(len(data))) == 12\n",
    "while satisfy():\n",
    "    print(bits.binary)"
   ]
  },
  {
   "cell_type": "code",
   "execution_count": 8,
   "metadata": {},
   "outputs": [
    {
     "name": "stdout",
     "output_type": "stream",
     "text": [
      "[False, False, True, True]\n",
      "[True, True, False, True]\n"
     ]
    }
   ],
   "source": [
    "data = [2, 3, 5, 7]\n",
    "engine(sum(data).bit_length())\n",
    "bits = integer(bits=len(data))\n",
    "assert sum(constant(value=data[i]).iff(bits[i], 0) for i in range(len(data))) == 12\n",
    "while satisfy():\n",
    "    print(bits.binary)"
   ]
  },
  {
   "cell_type": "code",
   "execution_count": 10,
   "metadata": {},
   "outputs": [
    {
     "name": "stdout",
     "output_type": "stream",
     "text": [
      "[False, False, True, True]\n",
      "[True, True, False, True]\n"
     ]
    }
   ],
   "source": [
    "data = [2, 3, 5, 7]\n",
    "engine(sum(data).bit_length())\n",
    "bits, subset = subsets(universe=data)\n",
    "assert sum(subset) == 12\n",
    "while satisfy():\n",
    "    print(bits.binary)"
   ]
  },
  {
   "cell_type": "code",
   "execution_count": 12,
   "metadata": {},
   "outputs": [
    {
     "name": "stdout",
     "output_type": "stream",
     "text": [
      "[]\n",
      "[5]\n",
      "[5, 7]\n",
      "[2, 5, 7]\n",
      "[2, 7]\n",
      "[2]\n",
      "[7]\n",
      "[3, 7]\n",
      "[3, 5, 7]\n",
      "[3, 5]\n",
      "[2, 3, 5]\n",
      "[2, 5]\n",
      "[2, 3]\n",
      "[2, 3, 7]\n",
      "[3]\n"
     ]
    }
   ],
   "source": [
    "data = [2, 3, 5, 7]\n",
    "engine(sum(data).bit_length())\n",
    "bits, subset = subsets(universe=data)\n",
    "while satisfy():\n",
    "    print([item for ith, item in enumerate(data) if bits.binary[ith]])"
   ]
  },
  {
   "cell_type": "code",
   "execution_count": 13,
   "metadata": {},
   "outputs": [
    {
     "name": "stdout",
     "output_type": "stream",
     "text": [
      "[0, 2, 1] [30, 80, 40]\n",
      "[2, 0, 1] [70, 20, 60]\n",
      "[0, 1, 2] [20, 60, 70]\n",
      "[1, 2, 0] [60, 70, 20]\n",
      "[1, 0, 2] [40, 30, 80]\n",
      "[2, 1, 0] [80, 40, 30]\n"
     ]
    }
   ],
   "source": [
    "data = [[10, 20, 30], [40, 50, 60], [70, 80, 90]]\n",
    "engine(10)\n",
    "indexes, items = permutations(data, 3)\n",
    "while satisfy():\n",
    "    print(indexes, items)"
   ]
  },
  {
   "cell_type": "code",
   "execution_count": 14,
   "metadata": {},
   "outputs": [
    {
     "name": "stdout",
     "output_type": "stream",
     "text": [
      "[0, 2, 1] [30, 80, 40]\n",
      "[2, 0, 1] [70, 20, 60]\n",
      "[0, 1, 2] [20, 60, 70]\n",
      "[1, 2, 0] [60, 70, 20]\n",
      "[1, 0, 2] [40, 30, 80]\n",
      "[2, 1, 0] [80, 40, 30]\n"
     ]
    }
   ],
   "source": [
    "data = [[10, 20, 30], [40, 50, 60], [70, 80, 90]]\n",
    "engine(10)\n",
    "indexes, items = permutations(data, 3)\n",
    "while satisfy():\n",
    "    print(indexes, items)"
   ]
  },
  {
   "cell_type": "code",
   "execution_count": 15,
   "metadata": {},
   "outputs": [
    {
     "name": "stdout",
     "output_type": "stream",
     "text": [
      "[0, 1, 2] [20, 6, 7] 33\n",
      "[1, 2, 0] [6, 7, 20] 33\n",
      "[2, 0, 1] [7, 20, 6] 33\n"
     ]
    }
   ],
   "source": [
    "data = [[1, 20, 3], [4, 50, 6], [7, 80, 9]]\n",
    "engine(10)\n",
    "indexes, items = permutations(data, 3) \n",
    "assert sum(items) <= 50\n",
    "while satisfy():\n",
    "    print(indexes, items, sum(items))"
   ]
  },
  {
   "cell_type": "code",
   "execution_count": 16,
   "metadata": {},
   "outputs": [
    {
     "name": "stdout",
     "output_type": "stream",
     "text": [
      "[0, 1, 2] [20, 6, 7] 33\n",
      "[2, 1, 0] [80, 4, 3] 87\n"
     ]
    }
   ],
   "source": [
    "data = [[1, 20, 3], [4, 50, 6], [7, 80, 9]]\n",
    "opt = 0\n",
    "while True:\n",
    "    engine(10)\n",
    "    indexes, items = permutations(data, 3) \n",
    "    assert sum(items) > opt\n",
    "    if satisfy():\n",
    "        opt = sum(items)\n",
    "        print(indexes, items, opt)\n",
    "    else:\n",
    "        break"
   ]
  },
  {
   "cell_type": "code",
   "execution_count": 17,
   "metadata": {},
   "outputs": [
    {
     "name": "stdout",
     "output_type": "stream",
     "text": [
      "[0, 0, 0, 0, 0]\n",
      "[0, 0, 1, 0, 0]\n",
      "[0, 0, 1, 1, 0]\n",
      "[0, 0, 1, 1, 1]\n",
      "[1, 0, 1, 1, 1]\n",
      "[1, 1, 1, 1, 1]\n",
      "[1, 1, 0, 1, 1]\n",
      "[1, 1, 0, 0, 1]\n",
      "[1, 1, 0, 0, 0]\n",
      "[0, 1, 0, 0, 0]\n",
      "[0, 1, 1, 0, 0]\n",
      "[0, 1, 1, 1, 0]\n",
      "[0, 1, 1, 1, 1]\n",
      "[1, 1, 1, 1, 0]\n",
      "[1, 0, 1, 1, 0]\n",
      "[1, 0, 0, 1, 0]\n",
      "[1, 0, 0, 0, 0]\n",
      "[1, 0, 0, 0, 1]\n",
      "[0, 0, 0, 0, 1]\n",
      "[0, 1, 0, 0, 1]\n",
      "[0, 1, 1, 0, 1]\n",
      "[0, 1, 0, 1, 1]\n",
      "[0, 1, 0, 1, 0]\n",
      "[1, 1, 0, 1, 0]\n",
      "[0, 0, 0, 1, 0]\n",
      "[0, 0, 1, 0, 1]\n",
      "[1, 1, 1, 0, 1]\n",
      "[1, 1, 1, 0, 0]\n",
      "[1, 0, 1, 0, 0]\n",
      "[1, 0, 1, 0, 1]\n",
      "[1, 0, 0, 1, 1]\n",
      "[0, 0, 0, 1, 1]\n"
     ]
    }
   ],
   "source": [
    "engine(4)\n",
    "xs = vector(size=5)\n",
    "all_binaries(xs)\n",
    "while satisfy():\n",
    "    print(xs)"
   ]
  },
  {
   "cell_type": "code",
   "execution_count": 18,
   "metadata": {},
   "outputs": [
    {
     "name": "stdout",
     "output_type": "stream",
     "text": [
      "[[0, 0, 0], [0, 0, 0]]\n",
      "[[0, 0, 1], [0, 0, 0]]\n",
      "[[0, 0, 1], [1, 0, 0]]\n",
      "[[0, 0, 1], [1, 1, 0]]\n",
      "[[0, 0, 1], [1, 1, 1]]\n",
      "[[1, 0, 1], [1, 1, 1]]\n",
      "[[1, 1, 1], [1, 1, 1]]\n",
      "[[1, 1, 0], [1, 1, 1]]\n",
      "[[1, 1, 0], [0, 1, 1]]\n",
      "[[1, 1, 0], [0, 0, 1]]\n",
      "[[1, 1, 0], [0, 0, 0]]\n",
      "[[0, 1, 0], [0, 0, 0]]\n",
      "[[0, 1, 1], [0, 0, 0]]\n",
      "[[0, 1, 1], [1, 0, 0]]\n",
      "[[0, 1, 1], [1, 1, 0]]\n",
      "[[0, 1, 1], [1, 1, 1]]\n",
      "[[1, 1, 1], [1, 1, 0]]\n",
      "[[1, 0, 1], [1, 1, 0]]\n",
      "[[1, 0, 0], [1, 1, 0]]\n",
      "[[1, 0, 0], [0, 1, 0]]\n",
      "[[1, 0, 0], [0, 0, 0]]\n",
      "[[1, 0, 0], [0, 0, 1]]\n",
      "[[0, 0, 0], [0, 0, 1]]\n",
      "[[0, 1, 0], [0, 0, 1]]\n",
      "[[0, 1, 1], [0, 0, 1]]\n",
      "[[0, 1, 1], [1, 0, 1]]\n",
      "[[0, 1, 1], [0, 1, 1]]\n",
      "[[0, 1, 1], [0, 1, 0]]\n",
      "[[1, 1, 1], [0, 1, 0]]\n",
      "[[1, 0, 1], [0, 1, 0]]\n",
      "[[1, 1, 0], [0, 1, 0]]\n",
      "[[1, 1, 0], [1, 1, 0]]\n",
      "[[1, 1, 0], [1, 0, 0]]\n",
      "[[1, 1, 0], [1, 0, 1]]\n",
      "[[0, 1, 0], [1, 0, 1]]\n",
      "[[0, 0, 0], [1, 0, 1]]\n",
      "[[0, 0, 1], [1, 0, 1]]\n",
      "[[0, 0, 1], [0, 0, 1]]\n",
      "[[0, 0, 1], [0, 1, 1]]\n",
      "[[0, 0, 1], [0, 1, 0]]\n",
      "[[1, 0, 1], [0, 1, 1]]\n",
      "[[1, 1, 1], [0, 1, 1]]\n",
      "[[1, 0, 0], [0, 1, 1]]\n",
      "[[1, 0, 0], [1, 1, 1]]\n",
      "[[1, 0, 0], [1, 0, 1]]\n",
      "[[1, 0, 0], [1, 0, 0]]\n",
      "[[0, 0, 0], [1, 0, 0]]\n",
      "[[0, 1, 0], [1, 0, 0]]\n",
      "[[0, 1, 0], [0, 1, 0]]\n",
      "[[0, 1, 0], [1, 1, 0]]\n",
      "[[0, 0, 0], [1, 1, 0]]\n",
      "[[0, 0, 0], [1, 1, 1]]\n",
      "[[0, 0, 0], [0, 1, 0]]\n",
      "[[0, 0, 0], [0, 1, 1]]\n",
      "[[0, 1, 0], [0, 1, 1]]\n",
      "[[0, 1, 0], [1, 1, 1]]\n",
      "[[1, 1, 1], [1, 0, 0]]\n",
      "[[1, 1, 1], [1, 0, 1]]\n",
      "[[1, 1, 1], [0, 0, 1]]\n",
      "[[1, 1, 1], [0, 0, 0]]\n",
      "[[1, 0, 1], [0, 0, 0]]\n",
      "[[1, 0, 1], [1, 0, 0]]\n",
      "[[1, 0, 1], [1, 0, 1]]\n",
      "[[1, 0, 1], [0, 0, 1]]\n"
     ]
    }
   ],
   "source": [
    "engine(4)\n",
    "xs = matrix(dimensions=(2, 3))\n",
    "all_binaries(xs)\n",
    "while satisfy():\n",
    "    print(xs)"
   ]
  },
  {
   "cell_type": "code",
   "execution_count": 20,
   "metadata": {},
   "outputs": [
    {
     "name": "stdout",
     "output_type": "stream",
     "text": [
      "0\n",
      "1\n"
     ]
    }
   ],
   "source": [
    "engine(4)\n",
    "x = integer()\n",
    "assert x == one_of(args=[0, 1])\n",
    "while satisfy():\n",
    "    print(x)"
   ]
  },
  {
   "cell_type": "code",
   "execution_count": 22,
   "metadata": {},
   "outputs": [
    {
     "name": "stdout",
     "output_type": "stream",
     "text": [
      "0 0\n",
      "0 1\n",
      "1 0\n"
     ]
    }
   ],
   "source": [
    "engine(4)\n",
    "x = integer()\n",
    "y = integer()\n",
    "assert x + y == one_of(args=[0, 1])\n",
    "while satisfy():\n",
    "    print(x, y)"
   ]
  },
  {
   "cell_type": "code",
   "execution_count": 25,
   "metadata": {},
   "outputs": [
    {
     "name": "stdout",
     "output_type": "stream",
     "text": [
      "0 0\n",
      "0 2\n",
      "0 6\n",
      "1 6\n",
      "1 4\n",
      "1 0\n",
      "1 0\n",
      "3 0\n",
      "2 0\n",
      "2 1\n",
      "0 1\n",
      "4 1\n",
      "4 0\n",
      "5 0\n",
      "6 0\n",
      "3 1\n",
      "1 1\n",
      "1 1\n",
      "1 3\n",
      "0 3\n",
      "1 2\n",
      "1 5\n",
      "0 5\n",
      "0 1\n",
      "0 4\n",
      "0 0\n",
      "6 1\n",
      "5 1\n"
     ]
    }
   ],
   "source": [
    "engine(3)\n",
    "x = integer()\n",
    "y = integer()\n",
    "assert one_of(args=[x, y]) == one_of(args=[0, 1])\n",
    "while satisfy():\n",
    "    print(x, y)"
   ]
  },
  {
   "cell_type": "code",
   "execution_count": 27,
   "metadata": {},
   "outputs": [
    {
     "name": "stdout",
     "output_type": "stream",
     "text": [
      "2 1 1\n",
      "4 3 3\n",
      "0 3 2\n",
      "1 1 2\n",
      "1 1 1\n",
      "4 4 5\n",
      "1 2 1\n",
      "3 0 2\n",
      "3 0 2\n",
      "3 2 0\n"
     ]
    }
   ],
   "source": [
    "engine(10)\n",
    "x = integer()\n",
    "y = integer()\n",
    "z = integer()\n",
    "assert one_of(args=[x ** 3 + y ** 3 + z ** 3, x ** 3 + y ** 3 - z ** 3, x ** 3 - y ** 3 - z ** 3]) == one_of(args=[3, 10, 19])\n",
    "while satisfy():\n",
    "    print(x, y, z)"
   ]
  },
  {
   "cell_type": "code",
   "execution_count": 28,
   "metadata": {},
   "outputs": [
    {
     "name": "stdout",
     "output_type": "stream",
     "text": [
      "0 1\n",
      "4 5\n",
      "5 11\n",
      "7 71\n"
     ]
    }
   ],
   "source": [
    "engine(16)\n",
    "n = integer()\n",
    "m = integer()\n",
    "assert factorial(n) + 1 == m ** 2\n",
    "while satisfy():\n",
    "    print(n, m)"
   ]
  },
  {
   "cell_type": "code",
   "execution_count": 29,
   "metadata": {},
   "outputs": [
    {
     "name": "stdout",
     "output_type": "stream",
     "text": [
      "0 0 0\n",
      "8 36 36\n",
      "10 55 55\n",
      "6 21 21\n",
      "12 78 78\n",
      "2 3 3\n",
      "14 105 105\n",
      "4 10 10\n",
      "13 91 91\n",
      "11 66 66\n",
      "1 1 1\n",
      "3 6 6\n",
      "5 15 15\n",
      "9 45 45\n",
      "7 28 28\n"
     ]
    }
   ],
   "source": [
    "engine(16)\n",
    "n = integer()\n",
    "m = integer()\n",
    "assert sigma(lambda i: i, 1, n) == m\n",
    "while satisfy():\n",
    "    print(n, m, n * (n + 1) // 2)"
   ]
  },
  {
   "cell_type": "code",
   "execution_count": 33,
   "metadata": {},
   "outputs": [
    {
     "name": "stdout",
     "output_type": "stream",
     "text": [
      "5 120 120\n",
      "7 944 5040\n",
      "8 384 40320\n",
      "6 720 720\n",
      "1 1 1\n",
      "3 6 6\n",
      "4 24 24\n",
      "0 1 1\n",
      "2 2 2\n"
     ]
    }
   ],
   "source": [
    "import math\n",
    "engine(10)\n",
    "n = integer()\n",
    "m = integer()\n",
    "assert pi(lambda i: i, 1, n) == m\n",
    "while satisfy():\n",
    "    print(n, m, math.factorial(int(n)))"
   ]
  },
  {
   "cell_type": "code",
   "execution_count": 34,
   "metadata": {},
   "outputs": [
    {
     "data": {
      "text/plain": [
       "(13, 16)"
      ]
     },
     "execution_count": 34,
     "metadata": {},
     "output_type": "execute_result"
    }
   ],
   "source": [
    "# 7 944 5040 \n",
    "# 8 384 40320\n",
    "a = 5040\n",
    "b = 40320\n",
    "a.bit_length(), b.bit_length()\n",
    "# engine has setup with 10 bits i.e. all integers from 0 < 2 ** 10"
   ]
  },
  {
   "cell_type": "code",
   "execution_count": 35,
   "metadata": {},
   "outputs": [
    {
     "name": "stdout",
     "output_type": "stream",
     "text": [
      "[0, 1, 3, 2]\n",
      "[2, 3, 1, 0]\n",
      "[0, 3, 1, 2]\n",
      "[1, 2, 0, 3]\n",
      "[0, 3, 2, 1]\n",
      "[1, 0, 2, 3]\n",
      "[1, 3, 2, 0]\n",
      "[1, 3, 0, 2]\n",
      "[0, 2, 1, 3]\n",
      "[2, 0, 1, 3]\n",
      "[2, 1, 0, 3]\n",
      "[2, 3, 0, 1]\n",
      "[0, 1, 2, 3]\n",
      "[1, 0, 3, 2]\n",
      "[3, 2, 1, 0]\n",
      "[3, 2, 0, 1]\n",
      "[3, 0, 1, 2]\n",
      "[1, 2, 3, 0]\n",
      "[3, 0, 2, 1]\n",
      "[2, 1, 3, 0]\n",
      "[3, 1, 0, 2]\n",
      "[0, 2, 3, 1]\n",
      "[3, 1, 2, 0]\n",
      "[2, 0, 3, 1]\n"
     ]
    }
   ],
   "source": [
    "n = 4\n",
    "engine(10)\n",
    "xs = vector(size=n)\n",
    "apply_single(xs, lambda x: x < n)\n",
    "all_different(xs)\n",
    "while satisfy():\n",
    "    print(xs)"
   ]
  },
  {
   "cell_type": "code",
   "execution_count": 36,
   "metadata": {},
   "outputs": [
    {
     "name": "stdout",
     "output_type": "stream",
     "text": [
      "[0, 1, 3, 2]\n",
      "[2, 3, 1, 0]\n",
      "[0, 3, 1, 2]\n",
      "[1, 2, 0, 3]\n",
      "[0, 3, 2, 1]\n",
      "[1, 0, 2, 3]\n",
      "[1, 3, 2, 0]\n",
      "[1, 3, 0, 2]\n",
      "[0, 2, 1, 3]\n",
      "[2, 0, 1, 3]\n",
      "[2, 1, 0, 3]\n",
      "[2, 3, 0, 1]\n",
      "[0, 1, 2, 3]\n",
      "[1, 0, 3, 2]\n",
      "[3, 2, 1, 0]\n",
      "[3, 2, 0, 1]\n",
      "[3, 0, 1, 2]\n",
      "[1, 2, 3, 0]\n",
      "[3, 0, 2, 1]\n",
      "[2, 1, 3, 0]\n",
      "[3, 1, 0, 2]\n",
      "[0, 2, 3, 1]\n",
      "[3, 1, 2, 0]\n",
      "[2, 0, 3, 1]\n"
     ]
    }
   ],
   "source": [
    "n = 4\n",
    "engine(10)\n",
    "xs = vector(size=n)\n",
    "apply_single(xs, lambda x: x < n)\n",
    "apply_dual(xs, lambda a, b: a != b)\n",
    "while satisfy():\n",
    "    print(xs)"
   ]
  },
  {
   "cell_type": "code",
   "execution_count": null,
   "metadata": {},
   "outputs": [],
   "source": []
  }
 ],
 "metadata": {
  "kernelspec": {
   "display_name": "Python 3",
   "language": "python",
   "name": "python3"
  },
  "language_info": {
   "codemirror_mode": {
    "name": "ipython",
    "version": 3
   },
   "file_extension": ".py",
   "mimetype": "text/x-python",
   "name": "python",
   "nbconvert_exporter": "python",
   "pygments_lexer": "ipython3",
   "version": "3.8.1"
  }
 },
 "nbformat": 4,
 "nbformat_minor": 4
}
