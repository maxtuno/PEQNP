{
 "cells": [
  {
   "cell_type": "code",
   "execution_count": 1,
   "metadata": {},
   "outputs": [],
   "source": [
    "from peqnp import *"
   ]
  },
  {
   "cell_type": "code",
   "execution_count": 2,
   "metadata": {},
   "outputs": [
    {
     "name": "stdout",
     "output_type": "stream",
     "text": [
      "1 [True, False, False, False]\n",
      "9 [True, False, False, True]\n",
      "11 [True, True, False, True]\n",
      "3 [True, True, False, False]\n",
      "13 [True, False, True, True]\n",
      "5 [True, False, True, False]\n",
      "7 [True, True, True, False]\n"
     ]
    }
   ],
   "source": [
    "engine(4)\n",
    "x = integer()\n",
    "assert switch(x, ith=0, neg=True) == 1\n",
    "while satisfy():\n",
    "    print(x, x.binary)"
   ]
  },
  {
   "cell_type": "code",
   "execution_count": 3,
   "metadata": {},
   "outputs": [
    {
     "name": "stdout",
     "output_type": "stream",
     "text": [
      "4 [False, False, True, False]\n",
      "5 [True, False, True, False]\n",
      "13 [True, False, True, True]\n",
      "12 [False, False, True, True]\n"
     ]
    }
   ],
   "source": [
    "engine(4)\n",
    "x = integer()\n",
    "assert switch(x, ith=1, neg=True) == 0\n",
    "assert switch(x, ith=2, neg=True) == 1\n",
    "while satisfy():\n",
    "    print(x, x.binary)"
   ]
  },
  {
   "cell_type": "code",
   "execution_count": 4,
   "metadata": {},
   "outputs": [
    {
     "name": "stdout",
     "output_type": "stream",
     "text": [
      "6 [False, True, True, False]\n",
      "7 [True, True, True, False]\n",
      "14 [False, True, True, True]\n"
     ]
    }
   ],
   "source": [
    "engine(4)\n",
    "x = integer()\n",
    "assert switch(x, ith=1, neg=False) == 0\n",
    "assert switch(x, ith=2, neg=True) == 1\n",
    "while satisfy():\n",
    "    print(x, x.binary)"
   ]
  },
  {
   "cell_type": "code",
   "execution_count": 5,
   "metadata": {},
   "outputs": [
    {
     "name": "stdout",
     "output_type": "stream",
     "text": [
      "4 [False, False, True, False]\n",
      "5 [True, False, True, False]\n",
      "13 [True, False, True, True]\n",
      "12 [False, False, True, True]\n"
     ]
    }
   ],
   "source": [
    "engine(4)\n",
    "x = integer()\n",
    "assert switch(x, ith=1, neg=True) == 0\n",
    "assert switch(x, ith=2, neg=True) == 1\n",
    "while satisfy():\n",
    "    print(x, x.binary)"
   ]
  },
  {
   "cell_type": "code",
   "execution_count": null,
   "metadata": {},
   "outputs": [],
   "source": []
  }
 ],
 "metadata": {
  "kernelspec": {
   "display_name": "Python 3",
   "language": "python",
   "name": "python3"
  },
  "language_info": {
   "codemirror_mode": {
    "name": "ipython",
    "version": 3
   },
   "file_extension": ".py",
   "mimetype": "text/x-python",
   "name": "python",
   "nbconvert_exporter": "python",
   "pygments_lexer": "ipython3",
   "version": "3.8.1"
  }
 },
 "nbformat": 4,
 "nbformat_minor": 4
}
