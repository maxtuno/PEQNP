{
 "cells": [
  {
   "cell_type": "code",
   "execution_count": 2,
   "metadata": {},
   "outputs": [],
   "source": [
    "from peqnp import *"
   ]
  },
  {
   "cell_type": "code",
   "execution_count": 19,
   "metadata": {},
   "outputs": [
    {
     "name": "stdout",
     "output_type": "stream",
     "text": [
      "8 6 True\n",
      "12 10 True\n",
      "10 8 True\n",
      "11 9 True\n",
      "3 1 True\n",
      "2 0 True\n",
      "6 4 True\n",
      "4 2 True\n",
      "5 3 True\n",
      "7 5 True\n",
      "9 7 True\n",
      "13 11 True\n",
      "14 12 True\n",
      "0 14 False\n"
     ]
    }
   ],
   "source": [
    "bits = 4\n",
    "engine(bits)\n",
    "x = integer()\n",
    "y = integer()\n",
    "assert x - y == 2\n",
    "while satisfy():\n",
    "    print(x, y, x - y == 2)"
   ]
  },
  {
   "cell_type": "code",
   "execution_count": 22,
   "metadata": {},
   "outputs": [
    {
     "data": {
      "text/plain": [
       "2"
      ]
     },
     "execution_count": 22,
     "metadata": {},
     "output_type": "execute_result"
    }
   ],
   "source": [
    "# Normalization\n",
    "# 0 14 => False\n",
    "2 ** bits - 14"
   ]
  },
  {
   "cell_type": "code",
   "execution_count": 26,
   "metadata": {},
   "outputs": [
    {
     "name": "stdout",
     "output_type": "stream",
     "text": [
      "2 0 True\n",
      "1 1 True\n",
      "0 2 True\n"
     ]
    }
   ],
   "source": [
    "bits = 10\n",
    "engine(bits)\n",
    "x = integer()\n",
    "y = integer()\n",
    "assert x + y == 2\n",
    "while satisfy():\n",
    "    print(x, y, x + y == 2)"
   ]
  },
  {
   "cell_type": "code",
   "execution_count": 27,
   "metadata": {},
   "outputs": [
    {
     "name": "stdout",
     "output_type": "stream",
     "text": [
      "1 3007\n",
      "97 31\n",
      "3007 1\n",
      "31 97\n"
     ]
    }
   ],
   "source": [
    "bits = 16\n",
    "engine(bits)\n",
    "x = integer()\n",
    "y = integer()\n",
    "assert x * y == 31 * 97\n",
    "while satisfy():\n",
    "    print(x, y)"
   ]
  },
  {
   "cell_type": "code",
   "execution_count": 30,
   "metadata": {},
   "outputs": [
    {
     "name": "stdout",
     "output_type": "stream",
     "text": [
      "10 27 True\n",
      "10 11 True\n",
      "10 13 True\n",
      "28 18 True\n",
      "10 17 True\n",
      "10 21 True\n",
      "10 19 True\n",
      "10 14 True\n",
      "10 30 True\n",
      "10 12 True\n",
      "10 28 True\n",
      "24 14 True\n",
      "22 12 True\n",
      "21 11 True\n",
      "10 15 True\n",
      "25 15 True\n",
      "10 23 True\n",
      "29 19 True\n",
      "27 17 True\n",
      "10 22 True\n",
      "26 16 True\n",
      "23 13 True\n",
      "10 24 True\n",
      "30 20 True\n",
      "10 29 True\n",
      "10 25 True\n",
      "10 16 True\n",
      "10 20 True\n",
      "10 18 True\n",
      "10 26 True\n"
     ]
    }
   ],
   "source": [
    "bits = 5\n",
    "engine(bits)\n",
    "x = integer()\n",
    "y = integer()\n",
    "assert x % y == 10\n",
    "while satisfy():\n",
    "    print(x, y, x % y == 10)"
   ]
  },
  {
   "cell_type": "code",
   "execution_count": 33,
   "metadata": {},
   "outputs": [
    {
     "name": "stdout",
     "output_type": "stream",
     "text": [
      "0 0 True\n",
      "4 0 True\n",
      "4 1 True\n",
      "4 3 True\n",
      "0 3 True\n",
      "0 2 True\n",
      "1 2 True\n",
      "1 0 True\n",
      "5 0 True\n",
      "1 4 True\n",
      "0 4 True\n",
      "0 5 True\n",
      "2 5 True\n",
      "2 1 True\n",
      "2 0 True\n",
      "3 0 True\n",
      "5 2 True\n",
      "1 6 True\n",
      "0 6 True\n",
      "2 4 True\n",
      "0 1 True\n",
      "6 1 True\n",
      "6 0 True\n",
      "4 2 True\n",
      "3 4 True\n"
     ]
    }
   ],
   "source": [
    "bits = 3\n",
    "engine(bits)\n",
    "x = integer()\n",
    "y = integer()\n",
    "assert x & y == 0\n",
    "while satisfy():\n",
    "    print(x, y, x & y == 0)"
   ]
  },
  {
   "cell_type": "code",
   "execution_count": 38,
   "metadata": {},
   "outputs": [
    {
     "name": "stdout",
     "output_type": "stream",
     "text": [
      "6 1 True\n",
      "6 3 True\n",
      "3 6 True\n",
      "1 6 True\n",
      "5 6 True\n",
      "6 5 True\n",
      "4 3 True\n",
      "5 3 True\n",
      "5 2 True\n",
      "2 5 True\n",
      "3 5 True\n",
      "3 4 True\n"
     ]
    }
   ],
   "source": [
    "bits = 3\n",
    "engine(bits)\n",
    "x = integer()\n",
    "y = integer()\n",
    "assert x | y == 7\n",
    "while satisfy():\n",
    "    print(x, y, x | y == 7)"
   ]
  },
  {
   "cell_type": "code",
   "execution_count": 39,
   "metadata": {},
   "outputs": [
    {
     "name": "stdout",
     "output_type": "stream",
     "text": [
      "6 1 True\n",
      "2 5 True\n",
      "3 4 True\n",
      "1 6 True\n",
      "5 2 True\n",
      "4 3 True\n"
     ]
    }
   ],
   "source": [
    "bits = 3\n",
    "engine(bits)\n",
    "x = integer()\n",
    "y = integer()\n",
    "assert x ^ y == 7\n",
    "while satisfy():\n",
    "    print(x, y, x ^ y == 7)"
   ]
  },
  {
   "cell_type": "code",
   "execution_count": 41,
   "metadata": {},
   "outputs": [
    {
     "name": "stdout",
     "output_type": "stream",
     "text": [
      "2 3 True\n",
      "2 0 True\n",
      "4 0 True\n",
      "0 0 True\n",
      "2 2 True\n",
      "4 1 True\n",
      "2 1 True\n",
      "0 4 True\n",
      "0 2 True\n",
      "0 3 True\n",
      "0 1 True\n",
      "1 0 True\n",
      "1 3 True\n",
      "1 2 True\n",
      "1 1 True\n",
      "5 0 True\n",
      "3 0 True\n",
      "1 4 True\n",
      "3 2 True\n",
      "3 1 True\n",
      "5 1 True\n"
     ]
    }
   ],
   "source": [
    "bits = 10\n",
    "engine(bits)\n",
    "x = integer()\n",
    "y = integer()\n",
    "assert x ** y < 10\n",
    "while satisfy():\n",
    "    print(x, y, x ** y < 10)"
   ]
  },
  {
   "cell_type": "code",
   "execution_count": 45,
   "metadata": {},
   "outputs": [
    {
     "name": "stdout",
     "output_type": "stream",
     "text": [
      "2 10 True\n",
      "26 7 True\n",
      "4 10 True\n",
      "1 10 True\n",
      "3 10 True\n",
      "17 9 True\n"
     ]
    }
   ],
   "source": [
    "bits = 10\n",
    "engine(bits)\n",
    "x = integer()\n",
    "y = integer()\n",
    "assert x ** 2 + y ** 3 >= 25\n",
    "while satisfy():\n",
    "    print(x, y, x ** 2 + y ** 3 >= 25)"
   ]
  },
  {
   "cell_type": "code",
   "execution_count": 49,
   "metadata": {},
   "outputs": [
    {
     "name": "stdout",
     "output_type": "stream",
     "text": [
      "7 5 True\n"
     ]
    }
   ],
   "source": [
    "bits = 10\n",
    "engine(bits)\n",
    "x = integer()\n",
    "y = integer()\n",
    "assert x ** 2 + y ** 3 == 7 ** 2 + 5 ** 3\n",
    "while satisfy():\n",
    "    print(x, y, x ** 2 + y ** 3 ==  7 ** 2 + 5 ** 3)"
   ]
  },
  {
   "cell_type": "code",
   "execution_count": null,
   "metadata": {},
   "outputs": [],
   "source": []
  }
 ],
 "metadata": {
  "kernelspec": {
   "display_name": "Python 3",
   "language": "python",
   "name": "python3"
  },
  "language_info": {
   "codemirror_mode": {
    "name": "ipython",
    "version": 3
   },
   "file_extension": ".py",
   "mimetype": "text/x-python",
   "name": "python",
   "nbconvert_exporter": "python",
   "pygments_lexer": "ipython3",
   "version": "3.7.5"
  }
 },
 "nbformat": 4,
 "nbformat_minor": 4
}
